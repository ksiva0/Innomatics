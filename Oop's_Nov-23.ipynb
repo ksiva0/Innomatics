{
 "cells": [
  {
   "cell_type": "markdown",
   "id": "87e6e87c",
   "metadata": {},
   "source": [
    "## class method"
   ]
  },
  {
   "cell_type": "markdown",
   "id": "2cead1e2",
   "metadata": {},
   "source": [
    "A class method in Python is a method that is bound to the class and not the object of the class. A class method can access or modify the class state, which is shared by all instances of the class. \n",
    "* A class method can also be used as a factory method, which creates and returns a new object of the class.\n",
    "* To define a class method in Python, you need to use the **@classmethod** decorator on the function definition, and pass the cls parameter as the first argument. \n",
    "* The cls parameter represents the class itself, and can be used to access the class attributes or call other class methods."
   ]
  },
  {
   "cell_type": "code",
   "execution_count": 1,
   "id": "61f25fe5",
   "metadata": {},
   "outputs": [],
   "source": [
    "class fooClass:\n",
    "    __passmark = 40 # private class attribute\n",
    "    def __init__(self, *marks):\n",
    "        self.marks = marks\n",
    "        \n",
    "    @classmethod\n",
    "    def passScore(cls):\n",
    "        return cls.__passmark\n",
    "    def result(self):\n",
    "        return 'fail' if min(self.marks) < self.__passmark else 'pass'"
   ]
  },
  {
   "cell_type": "code",
   "execution_count": 2,
   "id": "3e500c6a",
   "metadata": {},
   "outputs": [],
   "source": [
    "class foo:\n",
    "    __a = 10    # private\n",
    "    _b = 5     # protected"
   ]
  },
  {
   "cell_type": "code",
   "execution_count": 3,
   "id": "2fd1092d",
   "metadata": {},
   "outputs": [],
   "source": [
    "class foo1(foo):\n",
    "    pass"
   ]
  },
  {
   "cell_type": "code",
   "execution_count": 4,
   "id": "e6ab523b",
   "metadata": {},
   "outputs": [],
   "source": [
    "x = foo1"
   ]
  },
  {
   "cell_type": "code",
   "execution_count": 7,
   "id": "8248dd72",
   "metadata": {},
   "outputs": [
    {
     "ename": "AttributeError",
     "evalue": "type object 'foo1' has no attribute '__a'",
     "output_type": "error",
     "traceback": [
      "\u001b[1;31m---------------------------------------------------------------------------\u001b[0m",
      "\u001b[1;31mAttributeError\u001b[0m                            Traceback (most recent call last)",
      "Cell \u001b[1;32mIn[7], line 1\u001b[0m\n\u001b[1;32m----> 1\u001b[0m x\u001b[38;5;241m.\u001b[39m__a\n",
      "\u001b[1;31mAttributeError\u001b[0m: type object 'foo1' has no attribute '__a'"
     ]
    }
   ],
   "source": [
    "x.__a   # a is private"
   ]
  },
  {
   "cell_type": "code",
   "execution_count": 8,
   "id": "7a0d9e32",
   "metadata": {},
   "outputs": [
    {
     "data": {
      "text/plain": [
       "10"
      ]
     },
     "execution_count": 8,
     "metadata": {},
     "output_type": "execute_result"
    }
   ],
   "source": [
    "x._foo__a"
   ]
  },
  {
   "cell_type": "code",
   "execution_count": 9,
   "id": "2551b9e6",
   "metadata": {},
   "outputs": [
    {
     "data": {
      "text/plain": [
       "5"
      ]
     },
     "execution_count": 9,
     "metadata": {},
     "output_type": "execute_result"
    }
   ],
   "source": [
    "x._b"
   ]
  },
  {
   "cell_type": "code",
   "execution_count": 10,
   "id": "90bee4e5",
   "metadata": {},
   "outputs": [],
   "source": [
    "class fooClass:\n",
    "    __passmark = 40 # private class attribute\n",
    "    def __init__(self, *marks):\n",
    "        self.marks = marks\n",
    "        \n",
    "    @classmethod\n",
    "    def passScore(cls):\n",
    "        return cls.__passmark\n",
    "    \n",
    "    def result(self):\n",
    "        return 'fail' if min(self.marks) < self.passScore() else 'pass'"
   ]
  },
  {
   "cell_type": "code",
   "execution_count": 11,
   "id": "ddae03bf",
   "metadata": {},
   "outputs": [],
   "source": [
    "x = fooClass(*[45,65,63])"
   ]
  },
  {
   "cell_type": "code",
   "execution_count": 12,
   "id": "a150bc2e",
   "metadata": {},
   "outputs": [
    {
     "data": {
      "text/plain": [
       "'pass'"
      ]
     },
     "execution_count": 12,
     "metadata": {},
     "output_type": "execute_result"
    }
   ],
   "source": [
    "x.result()"
   ]
  },
  {
   "cell_type": "code",
   "execution_count": 13,
   "id": "ef16b2bb",
   "metadata": {},
   "outputs": [],
   "source": [
    "x._fooClass__passmark = 1"
   ]
  },
  {
   "cell_type": "code",
   "execution_count": 14,
   "id": "cf1e5131",
   "metadata": {},
   "outputs": [
    {
     "data": {
      "text/plain": [
       "1"
      ]
     },
     "execution_count": 14,
     "metadata": {},
     "output_type": "execute_result"
    }
   ],
   "source": [
    "x._fooClass__passmark    # instance class"
   ]
  },
  {
   "cell_type": "markdown",
   "id": "1bbe786a",
   "metadata": {},
   "source": [
    "## Static method"
   ]
  },
  {
   "cell_type": "markdown",
   "id": "a1b9485f",
   "metadata": {},
   "source": [
    "A static method in Python is a method that is bound to the class and not the object of the class. \n",
    "* It can’t access or modify the class state. \n",
    "* It is present in a class because it makes sense for the method to be present in class. \n",
    "* A static method does not receive an implicit first argument.\n",
    "* To create a static method in Python, you can use the **@staticmethod** decorator on the function definition, and pass the cls parameter as the first argument. \n",
    "* The cls parameter represents the class itself, and can be used to access the class attributes or call other class methods."
   ]
  },
  {
   "cell_type": "code",
   "execution_count": 15,
   "id": "c2e8eb5f",
   "metadata": {},
   "outputs": [],
   "source": [
    "class fooClass:\n",
    "    __passmark = 40 # private class attribute\n",
    "    def __init__(self, *marks):\n",
    "        self.marks = marks\n",
    "    \n",
    "    @staticmethod\n",
    "    def holla(x, y):\n",
    "        print('I\\' having fun')\n",
    "        print(x*y)"
   ]
  },
  {
   "cell_type": "code",
   "execution_count": 16,
   "id": "3951a0de",
   "metadata": {},
   "outputs": [],
   "source": [
    "x = fooClass()"
   ]
  },
  {
   "cell_type": "code",
   "execution_count": 17,
   "id": "e4a5f0d6",
   "metadata": {},
   "outputs": [
    {
     "name": "stdout",
     "output_type": "stream",
     "text": [
      "I' having fun\n",
      "35\n"
     ]
    }
   ],
   "source": [
    "x.holla(5,7)"
   ]
  },
  {
   "cell_type": "markdown",
   "id": "deefac03",
   "metadata": {},
   "source": [
    "## Property"
   ]
  },
  {
   "cell_type": "markdown",
   "id": "4f8a6be4",
   "metadata": {},
   "source": [
    "In Python, a property decorator is a built-in decorator that allows you to define a method as a property of a class. Properties are a way to provide controlled access to class attributes. The property decorator makes it possible to access a method like an attribute, without calling it as a method."
   ]
  },
  {
   "cell_type": "code",
   "execution_count": 18,
   "id": "63357375",
   "metadata": {},
   "outputs": [],
   "source": [
    "class fooClass:\n",
    "    __passmark = 40 # private class attribute\n",
    "    def __init__(self, *marks):\n",
    "        self.marks = marks\n",
    "        \n",
    "    @property\n",
    "    def foofoo(self):\n",
    "        return sum(self.marks)"
   ]
  },
  {
   "cell_type": "code",
   "execution_count": 21,
   "id": "b9e1bb36",
   "metadata": {},
   "outputs": [],
   "source": [
    "x = fooClass(*[78,68,86])"
   ]
  },
  {
   "cell_type": "code",
   "execution_count": 22,
   "id": "25aff41f",
   "metadata": {},
   "outputs": [
    {
     "data": {
      "text/plain": [
       "232"
      ]
     },
     "execution_count": 22,
     "metadata": {},
     "output_type": "execute_result"
    }
   ],
   "source": [
    "x.foofoo"
   ]
  },
  {
   "cell_type": "code",
   "execution_count": null,
   "id": "4b090746",
   "metadata": {},
   "outputs": [],
   "source": []
  }
 ],
 "metadata": {
  "kernelspec": {
   "display_name": "Python 3 (ipykernel)",
   "language": "python",
   "name": "python3"
  },
  "language_info": {
   "codemirror_mode": {
    "name": "ipython",
    "version": 3
   },
   "file_extension": ".py",
   "mimetype": "text/x-python",
   "name": "python",
   "nbconvert_exporter": "python",
   "pygments_lexer": "ipython3",
   "version": "3.11.5"
  }
 },
 "nbformat": 4,
 "nbformat_minor": 5
}
