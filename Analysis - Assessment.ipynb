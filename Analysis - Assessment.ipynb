{
 "cells": [
  {
   "cell_type": "code",
   "execution_count": 29,
   "id": "62ecc176",
   "metadata": {},
   "outputs": [],
   "source": [
    "import pandas as pd, numpy as np"
   ]
  },
  {
   "cell_type": "markdown",
   "id": "3caa5465",
   "metadata": {},
   "source": [
    "### 1. what will be the ouput of the following Python program ?"
   ]
  },
  {
   "cell_type": "code",
   "execution_count": 2,
   "id": "0de2ce48",
   "metadata": {},
   "outputs": [
    {
     "name": "stdout",
     "output_type": "stream",
     "text": [
      "True\n"
     ]
    }
   ],
   "source": [
    "def foo(x):\n",
    "    x[0] = ['def']\n",
    "    x[1] = ['abc']\n",
    "    return id(x)\n",
    "q =['abc', 'def']\n",
    "print(id(q) == foo(q))"
   ]
  },
  {
   "cell_type": "markdown",
   "id": "27723ba3",
   "metadata": {},
   "source": [
    "### 2. What will be the output of the following Python code ?"
   ]
  },
  {
   "cell_type": "code",
   "execution_count": 3,
   "id": "ae6f612c",
   "metadata": {},
   "outputs": [
    {
     "name": "stdout",
     "output_type": "stream",
     "text": [
      "2\n"
     ]
    }
   ],
   "source": [
    "def fun():\n",
    "    try:\n",
    "        return 1\n",
    "    finally:\n",
    "        return 2\n",
    "    \n",
    "k = fun()\n",
    "print(k)"
   ]
  },
  {
   "cell_type": "markdown",
   "id": "5df8727a",
   "metadata": {},
   "source": [
    "### 3. What will be the output of the following code snippet ?"
   ]
  },
  {
   "cell_type": "code",
   "execution_count": 4,
   "id": "33a2e824",
   "metadata": {},
   "outputs": [
    {
     "name": "stdout",
     "output_type": "stream",
     "text": [
      "Local\n"
     ]
    }
   ],
   "source": [
    "def func():\n",
    "    global value\n",
    "    value = \"Local\"\n",
    "    \n",
    "value = \"Global\"\n",
    "func()\n",
    "print(value)"
   ]
  },
  {
   "cell_type": "markdown",
   "id": "b9a3047f",
   "metadata": {},
   "source": [
    "### 4. . . . . . . . . exceptions are raised as a result of an error in opening a particular file.\n",
    "\n",
    "A. ValueError\n",
    "\n",
    "B. TypeError\n",
    "\n",
    "C. ImportError\n",
    "\n",
    "D. IOError"
   ]
  },
  {
   "cell_type": "markdown",
   "id": "028b0e09",
   "metadata": {},
   "source": [
    "**Explanation**\n",
    "\n",
    "A. ValueError: This exception is generally raised when a built-in operation or function receives an argument of the correct type but with an invalid value.\n",
    "\n",
    "B. TypeError: This exception occurs when an operation or function is applied to an object of an inappropriate type.\n",
    "\n",
    "C. ImportError: Raised when an import statement fails to find the module definition or when a from ... import fails to find a name.\n",
    "\n",
    "D. IOError: This exception is raised when an I/O operation (like opening a file) fails for an I/O-related reason.\n",
    "\n",
    "the correct answer for exceptions related to errors in opening a file would be D. IOError.\n",
    "\n",
    "<b>Ans</b> : IOError"
   ]
  },
  {
   "cell_type": "markdown",
   "id": "a711161e",
   "metadata": {},
   "source": [
    "### 5. In python we do not specify types, it is directly interpreted by the compiler, so consider the following operation to be performed.\n",
    "\n",
    "a) x = 13 // 2\n",
    "\n",
    "b) x = int(13/2)\n",
    "\n",
    "c) x = 13% 2\n",
    "\n",
    "d) All of the mentioned"
   ]
  },
  {
   "cell_type": "markdown",
   "id": "43e65fe4",
   "metadata": {},
   "source": [
    "**Ans**\n",
    "\n",
    "d) All of the mentioned"
   ]
  },
  {
   "cell_type": "markdown",
   "id": "298b3a7a",
   "metadata": {},
   "source": [
    "### 6. What will be the output of the following Python code?\n",
    "\n",
    "**t[5]**\n",
    "\n",
    "a) IndexError\n",
    "\n",
    "b) NameError\n",
    "\n",
    "c) TypeError\n",
    "\n",
    "d) SyntacticalError"
   ]
  },
  {
   "cell_type": "markdown",
   "id": "175525f6",
   "metadata": {},
   "source": [
    "**Explanation:**\n",
    "\n",
    "The code will raise a NameError because the variable 't' is not defined before trying to access its element at index 5. To fix this, you should define 't' as a list or tuple before attempting to access its elements"
   ]
  },
  {
   "cell_type": "markdown",
   "id": "71466b94",
   "metadata": {},
   "source": [
    "### 7. A while loop in Python is used for what type of iteration?\n",
    "\n",
    "a) indefinite\n",
    "\n",
    "b) discriminant\n",
    "\n",
    "c) definite\n",
    "\n",
    "d) indeterminate"
   ]
  },
  {
   "cell_type": "markdown",
   "id": "1355d30a",
   "metadata": {},
   "source": [
    "#### Explanation:\n",
    "\n",
    "The correct answer is:\n",
    "a) indefinite\n",
    "\n",
    "A while loop in Python is used for indefinite iteration, meaning the loop will continue as long as a certain condition is true. It is not based on a predetermined number of iterations, making it suitable for situations where the number of iterations is not known in advance.\n",
    "\n",
    "##### Conclusion:\n",
    "The while loop in Python provides a flexible way to repeatedly execute a block of code as long as a specified condition holds true."
   ]
  },
  {
   "cell_type": "markdown",
   "id": "d23954fc",
   "metadata": {},
   "source": [
    "### 8. What will be the output of the following Python code? \n",
    "\n",
    "    x = \"abcdef\"\n",
    "    while i in x:\n",
    "        print(i, end=\" \")\n",
    "\n",
    ".a) abcdef\n",
    "\n",
    "b) abcdef\n",
    "\n",
    "c)iiiiiii...\n",
    "\n",
    "d) Error"
   ]
  },
  {
   "cell_type": "code",
   "execution_count": 1,
   "id": "4020a240",
   "metadata": {
    "scrolled": true
   },
   "outputs": [
    {
     "ename": "NameError",
     "evalue": "name 'i' is not defined",
     "output_type": "error",
     "traceback": [
      "\u001b[1;31m---------------------------------------------------------------------------\u001b[0m",
      "\u001b[1;31mNameError\u001b[0m                                 Traceback (most recent call last)",
      "Cell \u001b[1;32mIn[1], line 2\u001b[0m\n\u001b[0;32m      1\u001b[0m x \u001b[38;5;241m=\u001b[39m \u001b[38;5;124m\"\u001b[39m\u001b[38;5;124mabcdef\u001b[39m\u001b[38;5;124m\"\u001b[39m\n\u001b[1;32m----> 2\u001b[0m \u001b[38;5;28;01mwhile\u001b[39;00m i \u001b[38;5;129;01min\u001b[39;00m x:\n\u001b[0;32m      3\u001b[0m     \u001b[38;5;28mprint\u001b[39m(i, end\u001b[38;5;241m=\u001b[39m\u001b[38;5;124m\"\u001b[39m\u001b[38;5;124m \u001b[39m\u001b[38;5;124m\"\u001b[39m)\n",
      "\u001b[1;31mNameError\u001b[0m: name 'i' is not defined"
     ]
    }
   ],
   "source": [
    "x = \"abcdef\"\n",
    "while i in x:\n",
    "    print(i, end=\" \")\n",
    "    "
   ]
  },
  {
   "cell_type": "markdown",
   "id": "2e6ee392",
   "metadata": {},
   "source": [
    "#### Explanation:\n",
    "\n",
    "The code is attempting to iterate over the variable i in the string x. However, there is no prior definition of i. This will result in a NameError as the loop tries to check if i is in the string x. To fix this, you need to define i before using it in the while loop."
   ]
  },
  {
   "cell_type": "markdown",
   "id": "1304ab51",
   "metadata": {},
   "source": [
    "### 9. What is the main advantage of using decorators in Python?\n",
    "\n",
    "a) They make the code more complex\n",
    "\n",
    "b) They simplify the syntax of the decorated functions\n",
    "\n",
    "c) They reduce the performance of the code\n",
    "\n",
    "d) They provide additional security features"
   ]
  },
  {
   "cell_type": "markdown",
   "id": "7c441380",
   "metadata": {},
   "source": [
    "#### Explanation:\n",
    "\n",
    "The correct answer is:\n",
    "b) They simplify the syntax of the decorated functions\n",
    "\n",
    "Decorators in Python are used to modify or extend the behavior of functions or methods. The main advantage is that they simplify the syntax of decorated functions by allowing you to apply additional functionality in a clean and reusable way.\n",
    "\n",
    "##### Conclusion:\n",
    "\n",
    "Decorators enhance code readability and maintainability by separating concerns and promoting the reuse of code for specific functionalities."
   ]
  },
  {
   "cell_type": "markdown",
   "id": "ce949926",
   "metadata": {},
   "source": [
    "### 10. If return statement is not used inside the function, the function will return:\n",
    "\n",
    "a) None\n",
    "\n",
    "b) 0\n",
    "\n",
    "c) Null\n",
    "\n",
    "d) Arbitrary value"
   ]
  },
  {
   "cell_type": "markdown",
   "id": "d3242dac",
   "metadata": {},
   "source": [
    "#### Explanation:\n",
    "\n",
    "The correct answer is: a) None\n",
    "\n",
    "In Python, if a function does not contain a return statement, it implicitly returns None. This is the default behavior when the function reaches the end without encountering a return statement."
   ]
  },
  {
   "cell_type": "markdown",
   "id": "9005a4ea",
   "metadata": {},
   "source": [
    "### 11. What is called when a function is defined inside a class?\n",
    "\n",
    "a) class\n",
    "\n",
    "b) function\n",
    "\n",
    "c) method\n",
    "\n",
    "d) module"
   ]
  },
  {
   "cell_type": "markdown",
   "id": "f99706bc",
   "metadata": {},
   "source": [
    "#### Explanation\n",
    "\n",
    "In Python, when a function is defined inside a class, it is referred to as a method. Therefore, the correct answer is:\n",
    "\n",
    "Answer: c) method"
   ]
  },
  {
   "cell_type": "markdown",
   "id": "661acf4f",
   "metadata": {},
   "source": [
    "### 12. Which operator is used in Python to import modules from packages?\n",
    "\n",
    "a).\n",
    "\n",
    "b)*\n",
    "\n",
    "c) ->\n",
    "\n",
    "d) &"
   ]
  },
  {
   "cell_type": "markdown",
   "id": "73988269",
   "metadata": {},
   "source": [
    "#### Explanation:\n",
    "\n",
    "In Python, the dot (.) operator is used to import modules from packages. Therefore, option 'a' is the correct answer.\n",
    "\n",
    "##### Conclusion:\n",
    "\n",
    "Using the dot operator in import statements helps organize code into hierarchical structures, facilitating the management of modules within packages."
   ]
  },
  {
   "cell_type": "markdown",
   "id": "ae15f8ed",
   "metadata": {},
   "source": [
    "### 13. \n",
    "\n",
    "    def getMonth (m):\n",
    "\n",
    "        if m<1 or m>12:\n",
    "\n",
    "            raise ValueError(\"Invalid\")\n",
    "\n",
    "        print(m)\n",
    "\n",
    "    getMonth (6)\n",
    "\n",
    "a) ValueError\n",
    "\n",
    "b) Invalid\n",
    "\n",
    "c) 6\n",
    "\n",
    "d) ValueError(\"Invalid\")"
   ]
  },
  {
   "cell_type": "code",
   "execution_count": 3,
   "id": "8aeb4d97",
   "metadata": {},
   "outputs": [
    {
     "name": "stdout",
     "output_type": "stream",
     "text": [
      "6\n"
     ]
    }
   ],
   "source": [
    "def getMonth (m):\n",
    "\n",
    "    if m<1 or m>12:\n",
    "        raise ValueError(\"Invalid\")\n",
    "\n",
    "    print(m)\n",
    "getMonth (6)"
   ]
  },
  {
   "cell_type": "markdown",
   "id": "17786e20",
   "metadata": {},
   "source": [
    "### 14. in the Python Programming Language, syntax error is detected by at\n",
    "\n",
    "a) Interpreter/Compile time\n",
    "\n",
    "b) Run time / Interpreter\n",
    "\n",
    "c) Interpreter / Run time\n",
    "\n",
    "d) Compile time / Run time"
   ]
  },
  {
   "cell_type": "markdown",
   "id": "714f767a",
   "metadata": {},
   "source": [
    "#### Explanation\n",
    "* a) Interpreter/Compile time: This suggests that syntax errors are detected by both the interpreter and the compiler.\n",
    "* b) Run time / Interpreter: This suggests that syntax errors are detected during runtime by the interpreter.\n",
    "* c) Interpreter / Run time: This suggests that syntax errors are detected by the interpreter during runtime.\n",
    "* d) Compile time / Run time: This suggests that syntax errors are detected by both the compiler and during runtime.\n",
    "\n",
    "Python is an interpreted language, and syntax errors are typically detected by the interpreter during compile time, so the correct option is:\n",
    "\n",
    "**Answer:** a) Interpreter/Compile time\n",
    "\n",
    "This means that Python checks for syntax errors when the code is being compiled or interpreted, not during runtime."
   ]
  },
  {
   "cell_type": "markdown",
   "id": "d4b1e44f",
   "metadata": {},
   "source": [
    "### 15. \n",
    "\n",
    "    class Book: \n",
    "        def_init__(self,author): \n",
    "            self.author-author \n",
    "            \n",
    "    book1=Book(\"V.M.Shah\")\n",
    "    book2=book1\n",
    "\n",
    "a) Both book1 and book2 will have reference to two different objects of class Book\n",
    "\n",
    "b) id(book1) and id(book2) will have same value\n",
    "\n",
    "c) It will throw error as multiple references to same object is not possible\n",
    "\n",
    "d) None of the above"
   ]
  },
  {
   "cell_type": "code",
   "execution_count": 13,
   "id": "98b2e248",
   "metadata": {},
   "outputs": [],
   "source": [
    "class Book:\n",
    "    def __init__(self,author):\n",
    "        self.author=author \n",
    "        \n",
    "book1=Book(\"V.M.Shah\")\n",
    "book2=book1"
   ]
  },
  {
   "cell_type": "code",
   "execution_count": 14,
   "id": "4aa0d8f9",
   "metadata": {},
   "outputs": [
    {
     "data": {
      "text/plain": [
       "(1997032501776, 1997032501776)"
      ]
     },
     "execution_count": 14,
     "metadata": {},
     "output_type": "execute_result"
    }
   ],
   "source": [
    "id(book1), id(book2)"
   ]
  },
  {
   "cell_type": "markdown",
   "id": "f6d69f58",
   "metadata": {},
   "source": [
    "### 16. How to create a new column 'Revenue', which has value equals to the Quantity* UnitPrice of the current row?\n",
    "\n",
    "a) df['Revenue'] = df['Quantity']* df['UnitPrice']\n",
    "\n",
    "b) df['Revenue'] = df.apply(lambda x: x['Quantity']* x['UnitPrice'], axis = 1)\n",
    "\n",
    "c) df['Revenue'] = df.apply(lambda x: x['Quantity']* x['UnitPrice'], axis = 0)\n",
    "\n",
    "d) df['Revenue'] = df['Quantity'] ** df['UnitPrice']"
   ]
  },
  {
   "cell_type": "markdown",
   "id": "3f781795",
   "metadata": {},
   "source": [
    "##### The correct option is:\n",
    "a) df['Revenue'] = df['Quantity']* df['UnitPrice']\n",
    "\n",
    "This means creating a new column 'Revenue' by multiplying 'Quantity' and 'UnitPrice' for each row."
   ]
  },
  {
   "cell_type": "markdown",
   "id": "05c771e2",
   "metadata": {},
   "source": [
    "### 17. What is the syntax to find Categorical wise revenue?\n",
    "\n",
    "a) df.groupby('Category')['Revenue'].mean()\n",
    "\n",
    "b) df.groupby('Category')['Revenue'].sum()\n",
    "\n",
    "c) df.groupby('Category')['Revenue'].agg(np.su m)\n",
    "\n",
    "d) df.groupby('Category')['Revenue'].agg('sum')"
   ]
  },
  {
   "cell_type": "markdown",
   "id": "b8d395dd",
   "metadata": {},
   "source": [
    "#### Explanation:\n",
    "Grouping the DataFrame 'df' by the 'Category' column and calculating the sum of the 'Revenue' column for each group.\n",
    "\n",
    "df.groupby('Category')['Revenue'].sum()"
   ]
  },
  {
   "cell_type": "markdown",
   "id": "e00bdaf7",
   "metadata": {},
   "source": [
    "### 18. To find the average quantity wrt to date and product, what is the correct syntax?\n",
    "\n",
    "a) df.groupby(['Date', 'Product'])['Quantity'].avg()\n",
    "\n",
    "b) df.groupby(['Date', 'Product'])['Quantity'].mean()\n",
    "\n",
    "c) df.groupby(['Product', 'Date'])['Quantity'].avg()\n",
    "\n",
    "d) df.groupby(['Product', 'Mean'])['Quantity'].mean()"
   ]
  },
  {
   "cell_type": "markdown",
   "id": "d51b8f62",
   "metadata": {},
   "source": [
    "#### Explanation:\n",
    "Grouping the DataFrame 'df' by both 'Date' and 'Product' columns and calculating the mean of the 'Quantity' column for each group."
   ]
  },
  {
   "cell_type": "markdown",
   "id": "03d17f30",
   "metadata": {},
   "source": [
    "### 19. Categorical wise revenue for Beverage and Food respectively are\n",
    "\n",
    "a) 28.5, 6.0\n",
    "\n",
    "b) 6.0, 27.5\n",
    "\n",
    "c) 28.5, 7.0\n",
    "\n",
    "d) 7.0, 28.5"
   ]
  },
  {
   "cell_type": "markdown",
   "id": "d42f0811",
   "metadata": {},
   "source": [
    "**Ans:** \n",
    "\n",
    "21.0, 6.5"
   ]
  },
  {
   "cell_type": "markdown",
   "id": "617804be",
   "metadata": {},
   "source": [
    "### 20. Using transform, what is the syntax to create a column which has a UnitPrice difference wrt its Category mean?\n",
    "\n",
    "a) df.groupby('Category')['UnitPrice'].transform(I ambda x: x - x.mean())\n",
    "\n",
    "b) df.groupby('Category') ('UnitPrice').transform(I ambda x: x - x.mean())\n",
    "\n",
    "c) df.groupby['Category']['UnitPrice'].transform(I ambda x: x - x.mean())\n",
    "\n",
    "d) df.groupby(['Category', 'UnitPrice']).transform(lambda x: x - x.mean())"
   ]
  },
  {
   "cell_type": "markdown",
   "id": "df81975b",
   "metadata": {},
   "source": [
    "#### Explanation:\n",
    "* Grouping the DataFrame 'df' by the 'Category' column and using the transform function to calculate the difference between each 'UnitPrice' and the mean 'UnitPrice' within its corresponding category.\n",
    "\n",
    "df['UnitPriceDifference'] = df.groupby('Category')['UnitPrice'].transform(lambda x: x - x.mean())"
   ]
  },
  {
   "cell_type": "markdown",
   "id": "2827fa56",
   "metadata": {},
   "source": [
    "### 21. What is the correct syntax to get data wrt 'Monday'?\n",
    "\n",
    "a) df.groupby(df.Date.dt.day_name()).get_grou p('Monday')\n",
    "\n",
    "b) df.groupby(df.Date.dt.dayname()).get_group( 'Monday')\n",
    "\n",
    "c) df.groupby(df.Date.dt.dayofweek()).get_grou p('Monday')\n",
    "\n",
    "d) df.groupby(df.Date.dt.day_of_week()).get_gr oup('Monday')"
   ]
  },
  {
   "cell_type": "markdown",
   "id": "a7c8bfd8",
   "metadata": {},
   "source": [
    "#### Explanation:\n",
    "\n",
    "* df.Date.dt.day_name(): This extracts the day name from the 'Date' column.\n",
    "* groupby(df.Date.dt.day_name()): Groups the DataFrame by the day names.\n",
    "* get_group('Monday'): Retrieves the data corresponding to the 'Monday' group.\n",
    "\n",
    "##### So, the correct syntax to get data for 'Monday' is option:\n",
    "\n",
    "a) df.groupby(df.Date.dt.day_name()).get_group('Monday')"
   ]
  },
  {
   "cell_type": "markdown",
   "id": "30e5ca1a",
   "metadata": {},
   "source": [
    "### 22. Which of the following statements is/are True?\n",
    "\n",
    "a) apply() can be applied on rows\n",
    "\n",
    "b) Apply function can't be applied on rows\n",
    "\n",
    "c) Apply applies the function on the entire series at a time.\n",
    "\n",
    "d) Apply applies the function one cell at a time"
   ]
  },
  {
   "cell_type": "markdown",
   "id": "705a98dc",
   "metadata": {},
   "source": [
    "#### output\n",
    "\n",
    "a) apply() can be applied on rows\n",
    "\n",
    "c) apply() applies the function on the entire series at a time\n",
    "\n",
    "##### Explanation\n",
    "The apply() function in pandas can be applied to both rows and columns, and by default, it operates on entire series (columns). If you want to apply a function to each element in a series, you might want to use map() or applymap() for DataFrames.\n"
   ]
  },
  {
   "cell_type": "markdown",
   "id": "b1aaaee4",
   "metadata": {},
   "source": [
    "### 23. Which of the following statements is/are True?\n",
    "\n",
    "a) Map applies the functionality on entire DataFrame\n",
    "\n",
    "b) Applymap applies the functionality on series be it row or a column\n",
    "\n",
    "c) Apply and Map are vectorized applications\n",
    "\n",
    "d) None of the above"
   ]
  },
  {
   "cell_type": "markdown",
   "id": "98d63d58",
   "metadata": {},
   "source": [
    "#### output\n",
    "c) apply and map are vectorized applications.\n",
    "\n",
    "**Explanation:**\n",
    "\n",
    "apply() is used for applying a function along the axis of a DataFrame (either rows or columns).\n",
    "map() is used for element-wise transformations in a Series.\n",
    "Both apply() and map() can be considered as vectorized operations when working with pandas objects like Series or DataFrame."
   ]
  },
  {
   "cell_type": "code",
   "execution_count": 34,
   "id": "ec5f5f06",
   "metadata": {},
   "outputs": [
    {
     "data": {
      "text/html": [
       "<div>\n",
       "<style scoped>\n",
       "    .dataframe tbody tr th:only-of-type {\n",
       "        vertical-align: middle;\n",
       "    }\n",
       "\n",
       "    .dataframe tbody tr th {\n",
       "        vertical-align: top;\n",
       "    }\n",
       "\n",
       "    .dataframe thead th {\n",
       "        text-align: right;\n",
       "    }\n",
       "</style>\n",
       "<table border=\"1\" class=\"dataframe\">\n",
       "  <thead>\n",
       "    <tr style=\"text-align: right;\">\n",
       "      <th></th>\n",
       "      <th>Date</th>\n",
       "      <th>Region</th>\n",
       "      <th>Salesperson</th>\n",
       "      <th>Product</th>\n",
       "      <th>Quantity</th>\n",
       "      <th>UnitPrice</th>\n",
       "    </tr>\n",
       "  </thead>\n",
       "  <tbody>\n",
       "    <tr>\n",
       "      <th>0</th>\n",
       "      <td>2024-01-10</td>\n",
       "      <td>North</td>\n",
       "      <td>Ajay</td>\n",
       "      <td>Notebook</td>\n",
       "      <td>5</td>\n",
       "      <td>12</td>\n",
       "    </tr>\n",
       "    <tr>\n",
       "      <th>1</th>\n",
       "      <td>2024-01-11</td>\n",
       "      <td>South</td>\n",
       "      <td>Balu</td>\n",
       "      <td>Pen</td>\n",
       "      <td>10</td>\n",
       "      <td>3</td>\n",
       "    </tr>\n",
       "    <tr>\n",
       "      <th>2</th>\n",
       "      <td>2024-01-10</td>\n",
       "      <td>East</td>\n",
       "      <td>Chirag</td>\n",
       "      <td>Notebook</td>\n",
       "      <td>7</td>\n",
       "      <td>12</td>\n",
       "    </tr>\n",
       "    <tr>\n",
       "      <th>3</th>\n",
       "      <td>2024-01-12</td>\n",
       "      <td>West</td>\n",
       "      <td>Ajay</td>\n",
       "      <td>Pen</td>\n",
       "      <td>15</td>\n",
       "      <td>3</td>\n",
       "    </tr>\n",
       "    <tr>\n",
       "      <th>4</th>\n",
       "      <td>2024-01-11</td>\n",
       "      <td>North</td>\n",
       "      <td>Balu</td>\n",
       "      <td>Binder</td>\n",
       "      <td>20</td>\n",
       "      <td>5</td>\n",
       "    </tr>\n",
       "    <tr>\n",
       "      <th>5</th>\n",
       "      <td>2024-01-12</td>\n",
       "      <td>East</td>\n",
       "      <td>Chiraj</td>\n",
       "      <td>Binder</td>\n",
       "      <td>10</td>\n",
       "      <td>5</td>\n",
       "    </tr>\n",
       "  </tbody>\n",
       "</table>\n",
       "</div>"
      ],
      "text/plain": [
       "         Date Region Salesperson   Product  Quantity  UnitPrice\n",
       "0  2024-01-10  North        Ajay  Notebook         5         12\n",
       "1  2024-01-11  South        Balu       Pen        10          3\n",
       "2  2024-01-10   East      Chirag  Notebook         7         12\n",
       "3  2024-01-12   West        Ajay       Pen        15          3\n",
       "4  2024-01-11  North        Balu    Binder        20          5\n",
       "5  2024-01-12   East      Chiraj    Binder        10          5"
      ]
     },
     "execution_count": 34,
     "metadata": {},
     "output_type": "execute_result"
    }
   ],
   "source": [
    "data = {\n",
    "    'Date': ['2024-01-10', '2024-01-11', '2024-01-10','2024-01-12','2024-01-11','2024-01-12'],\n",
    "    'Region': ['North', 'South', 'East','West','North','East'],\n",
    "    'Salesperson': ['Ajay', 'Balu', 'Chirag','Ajay','Balu','Chiraj'],\n",
    "    'Product': ['Notebook', 'Pen', 'Notebook','Pen','Binder','Binder'],\n",
    "    'Quantity': [5, 10, 7,15,20,10],\n",
    "    'UnitPrice': [12, 3, 12,3,5,5]\n",
    "}\n",
    "\n",
    "df1= pd.DataFrame(data)\n",
    "\n",
    "df1"
   ]
  },
  {
   "cell_type": "markdown",
   "id": "fc7a2095",
   "metadata": {},
   "source": [
    "### 24. What is the syntax to create a pivot table with index as North and South and columns as Product where values are sum of Quantities Sold?\n",
    "\n",
    "a) df1[df1['Region].isin(['North', 'South']).pivot_table(index = 'Product', columns = 'Product', values = 'Quantity', agg = 'sum')\n",
    "\n",
    "b) df1 [df1['Region].isin(['North', 'South']).pivot_table(index = 'Product', columns = 'Product', values = 'Quantity', aggfunc = 'sum')\n",
    "\n",
    "c) df1[(df1['Region] == 'North') | (df1['Region']=='South')]).pivot_table(index = 'Product', columns = 'Product', values = 'Quantity', agg = 'sum')\n",
    "\n",
    "d) df1[(df1['Region] == 'North') | (df1['Region']=='South')]).pivot_table(index = 'Product', columns = Product, values = 'Quantity', aggfunc = 'sum')"
   ]
  },
  {
   "cell_type": "markdown",
   "id": "d7cc150e",
   "metadata": {},
   "source": [
    "#### The correct syntax is option:\n",
    "b) df1[df1['Region'].isin(['North', 'South']).pivot_table(index='Product', columns='Product', values='Quantity', aggfunc='sum')\n",
    "\n",
    "#### Explanation:\n",
    "\n",
    "##### - df1['Region'].isin(['North', 'South']): Filters rows where the Region is either 'North' or 'South'.\n",
    "##### - .pivot_table(): Creates a pivot table from the filtered DataFrame.\n",
    "##### - index='Product': Sets the 'Product' column as the index of the pivot table.\n",
    "##### - columns='Product': Sets the 'Product' column as the columns of the pivot table.\n",
    "##### - values='Quantity': Specifies that the values of the pivot table should be taken from the 'Quantity' column.\n",
    "##### - aggfunc='sum': Specifies the aggregation function to be 'sum', meaning it calculates the sum of quantities sold."
   ]
  },
  {
   "cell_type": "markdown",
   "id": "7997789d",
   "metadata": {},
   "source": [
    "### 25. Which of the following statements is/are True?\n",
    "\n",
    "a) iloc method includes includes the last element when used for slicing\n",
    "\n",
    "b) loc method doesn't includes the last element when used for slicing\n",
    "\n",
    "c) We can use .loc method and pass default integer index of rows when slicing\n",
    "\n",
    "d) None of above"
   ]
  },
  {
   "cell_type": "markdown",
   "id": "762f0cb1",
   "metadata": {},
   "source": [
    "##### output\n",
    "The correct statements are:\n",
    "\n",
    "a) iloc method includes the last element when used for slicing.\n",
    "\n",
    "b) loc method doesn't include the last element when used for slicing.\n",
    "\n",
    "**Explanation:**\n",
    "\n",
    "a) iloc is integer-location based indexing, and when used for slicing, it includes the last element.\n",
    "\n",
    "b) loc is label-based indexing, and when used for slicing, it includes the start label but excludes the end label.\n",
    "\n",
    "c) It is not accurate. You cannot use .loc with default integer indices; it requires the labels of the rows."
   ]
  },
  {
   "cell_type": "markdown",
   "id": "69473f62",
   "metadata": {},
   "source": [
    "### 26. Using a pivot table is it possible to create a multi-index dataframe, if so what is the syntax to have a multi index of Date and Region, with total Product sold as values?\n",
    "\n",
    "a) No we can't create a multi-index table using pivot table\n",
    "\n",
    "b) df1.pivot_table(index=['Date', 'Region'], columns = 'Product', values = 'Quantity', aggfunc = 'sum')\n",
    "\n",
    "c) df1.pivot_table(index=['Date', 'Region'], columns = 'Product', values = 'Quantity', agg = 'sum')\n",
    "\n",
    "d) None of these"
   ]
  },
  {
   "cell_type": "markdown",
   "id": "7925130e",
   "metadata": {},
   "source": [
    "##### output\n",
    "b) df1.pivot_table(index=['Date', 'Region'], columns='Product', values='Quantity', aggfunc='sum')\n",
    "\n",
    "This syntax correctly specifies creating a pivot table with a multi-index of 'Date' and 'Region', where the values are the sum of 'Quantity' for each combination of 'Date' and 'Region' for each 'Product'."
   ]
  },
  {
   "cell_type": "markdown",
   "id": "8b27e5c8",
   "metadata": {},
   "source": [
    "### 27. What does the margins parameter in the pivot_table() function allow you to include in the pivot table?\n",
    "\n",
    "a) Additional margins and subtotals for rows and columns.\n",
    "\n",
    "b) A list of column names to exclude from the pivot table.\n",
    "\n",
    "c) The number of rows and columns to skip at the beginning of the pivot table.\n",
    "\n",
    "d) The maximum number of rows and columns to display in the pivot table"
   ]
  },
  {
   "cell_type": "markdown",
   "id": "4242c96a",
   "metadata": {},
   "source": [
    "##### output\n",
    "a) Additional margins and subtotals for rows and columns.\n",
    "\n",
    "##### Explanation\n",
    "The margins parameter in the pivot_table() function allows you to include additional margins and subtotals for rows and columns in the pivot table. Setting margins=True will include subtotals for each row and column, as well as an overall total. Setting margins='rows' will include subtotals for each row, and margins='columns' will include subtotals for each column. Setting margins=False (the default) will not include any additional margins or subtotals."
   ]
  },
  {
   "cell_type": "code",
   "execution_count": 30,
   "id": "e62280d9",
   "metadata": {},
   "outputs": [
    {
     "data": {
      "text/html": [
       "<div>\n",
       "<style scoped>\n",
       "    .dataframe tbody tr th:only-of-type {\n",
       "        vertical-align: middle;\n",
       "    }\n",
       "\n",
       "    .dataframe tbody tr th {\n",
       "        vertical-align: top;\n",
       "    }\n",
       "\n",
       "    .dataframe thead th {\n",
       "        text-align: right;\n",
       "    }\n",
       "</style>\n",
       "<table border=\"1\" class=\"dataframe\">\n",
       "  <thead>\n",
       "    <tr style=\"text-align: right;\">\n",
       "      <th></th>\n",
       "      <th>Fruits</th>\n",
       "      <th>Price</th>\n",
       "    </tr>\n",
       "  </thead>\n",
       "  <tbody>\n",
       "    <tr>\n",
       "      <th>0</th>\n",
       "      <td>apple</td>\n",
       "      <td>NaN</td>\n",
       "    </tr>\n",
       "    <tr>\n",
       "      <th>1</th>\n",
       "      <td>banana</td>\n",
       "      <td>NaN</td>\n",
       "    </tr>\n",
       "    <tr>\n",
       "      <th>2</th>\n",
       "      <td>apple</td>\n",
       "      <td>205.0</td>\n",
       "    </tr>\n",
       "    <tr>\n",
       "      <th>3</th>\n",
       "      <td>apple</td>\n",
       "      <td>200.0</td>\n",
       "    </tr>\n",
       "    <tr>\n",
       "      <th>4</th>\n",
       "      <td>banana</td>\n",
       "      <td>40.0</td>\n",
       "    </tr>\n",
       "    <tr>\n",
       "      <th>5</th>\n",
       "      <td>apple</td>\n",
       "      <td>210.0</td>\n",
       "    </tr>\n",
       "    <tr>\n",
       "      <th>6</th>\n",
       "      <td>kiwi</td>\n",
       "      <td>300.0</td>\n",
       "    </tr>\n",
       "    <tr>\n",
       "      <th>7</th>\n",
       "      <td>kiwi</td>\n",
       "      <td>320.0</td>\n",
       "    </tr>\n",
       "    <tr>\n",
       "      <th>8</th>\n",
       "      <td>banana</td>\n",
       "      <td>NaN</td>\n",
       "    </tr>\n",
       "    <tr>\n",
       "      <th>9</th>\n",
       "      <td>apple</td>\n",
       "      <td>180.0</td>\n",
       "    </tr>\n",
       "    <tr>\n",
       "      <th>10</th>\n",
       "      <td>kiwi</td>\n",
       "      <td>350.0</td>\n",
       "    </tr>\n",
       "    <tr>\n",
       "      <th>11</th>\n",
       "      <td>apple</td>\n",
       "      <td>NaN</td>\n",
       "    </tr>\n",
       "    <tr>\n",
       "      <th>12</th>\n",
       "      <td>banana</td>\n",
       "      <td>35.0</td>\n",
       "    </tr>\n",
       "    <tr>\n",
       "      <th>13</th>\n",
       "      <td>grape</td>\n",
       "      <td>NaN</td>\n",
       "    </tr>\n",
       "    <tr>\n",
       "      <th>14</th>\n",
       "      <td>apple</td>\n",
       "      <td>215.0</td>\n",
       "    </tr>\n",
       "    <tr>\n",
       "      <th>15</th>\n",
       "      <td>banana</td>\n",
       "      <td>40.0</td>\n",
       "    </tr>\n",
       "    <tr>\n",
       "      <th>16</th>\n",
       "      <td>apple</td>\n",
       "      <td>NaN</td>\n",
       "    </tr>\n",
       "    <tr>\n",
       "      <th>17</th>\n",
       "      <td>apple</td>\n",
       "      <td>NaN</td>\n",
       "    </tr>\n",
       "    <tr>\n",
       "      <th>18</th>\n",
       "      <td>apple</td>\n",
       "      <td>NaN</td>\n",
       "    </tr>\n",
       "  </tbody>\n",
       "</table>\n",
       "</div>"
      ],
      "text/plain": [
       "    Fruits  Price\n",
       "0    apple    NaN\n",
       "1   banana    NaN\n",
       "2    apple  205.0\n",
       "3    apple  200.0\n",
       "4   banana   40.0\n",
       "5    apple  210.0\n",
       "6     kiwi  300.0\n",
       "7     kiwi  320.0\n",
       "8   banana    NaN\n",
       "9    apple  180.0\n",
       "10    kiwi  350.0\n",
       "11   apple    NaN\n",
       "12  banana   35.0\n",
       "13   grape    NaN\n",
       "14   apple  215.0\n",
       "15  banana   40.0\n",
       "16   apple    NaN\n",
       "17   apple    NaN\n",
       "18   apple    NaN"
      ]
     },
     "execution_count": 30,
     "metadata": {},
     "output_type": "execute_result"
    }
   ],
   "source": [
    "data = {\n",
    "    'Fruits': ['apple', 'banana', 'apple', 'apple', 'banana', 'apple', 'kiwi',\n",
    "               'kiwi', 'banana', 'apple', 'kiwi', 'apple', 'banana', 'grape',\n",
    "               'apple', 'banana', 'apple', 'apple', 'apple'],\n",
    "    'Price': [np.nan, np.nan, 205, 200, 40, 210, 300, 320, np.nan, 180, 350,np.nan, 35, np.nan, 215, 40, np.nan, np.nan, np.nan]\n",
    "}\n",
    "\n",
    "df2 = pd.DataFrame(data)\n",
    "df2"
   ]
  },
  {
   "cell_type": "markdown",
   "id": "ab31d51a",
   "metadata": {},
   "source": [
    "### 28. If we choose to impute missing values in Price col by chaining ffill() and bfill() while limiting the imputation to 1, 1 respectively, how many missing values will be left post imputation?\n",
    "\n",
    "a) 2\n",
    "\n",
    "b) 0\n",
    "\n",
    "c) 1\n",
    "\n",
    "d) 3"
   ]
  },
  {
   "cell_type": "code",
   "execution_count": 31,
   "id": "09674afc",
   "metadata": {},
   "outputs": [
    {
     "data": {
      "text/plain": [
       "0       NaN\n",
       "1     205.0\n",
       "2     205.0\n",
       "3     200.0\n",
       "4      40.0\n",
       "5     210.0\n",
       "6     300.0\n",
       "7     320.0\n",
       "8     320.0\n",
       "9     180.0\n",
       "10    350.0\n",
       "11    350.0\n",
       "12     35.0\n",
       "13     35.0\n",
       "14    215.0\n",
       "15     40.0\n",
       "16     40.0\n",
       "17      NaN\n",
       "18      NaN\n",
       "Name: Price, dtype: float64"
      ]
     },
     "execution_count": 31,
     "metadata": {},
     "output_type": "execute_result"
    }
   ],
   "source": [
    "df2['Price'].ffill(limit=1).bfill(limit=1)"
   ]
  },
  {
   "cell_type": "markdown",
   "id": "05da28eb",
   "metadata": {},
   "source": [
    "**Ans**  \n",
    "d) 3"
   ]
  },
  {
   "cell_type": "markdown",
   "id": "64e2d390",
   "metadata": {},
   "source": [
    "### 29. What kind of missing values handling technique is appropriate for df2?\n",
    "\n",
    "a) Imputing Price col with Price's mean\n",
    "\n",
    "b) Imputing Price col with Price's median\n",
    "\n",
    "c) Imputing Price col with individual fruits' Price's median\n",
    "\n",
    "d) Dropping missing values"
   ]
  },
  {
   "cell_type": "markdown",
   "id": "620a9117",
   "metadata": {},
   "source": [
    "##### Explanation\n",
    "c) Imputing Price col with individual fruits' Price's median:\n",
    "\n",
    "The median is less sensitive to outliers compared to the mean, making it a robust choice, especially if the distribution of prices is skewed or has outliers. Imputing with the median provides a reasonable estimate of the central tendency of the data while being less influenced by extreme values."
   ]
  },
  {
   "cell_type": "markdown",
   "id": "ee027384",
   "metadata": {},
   "source": [
    "### 30. If we choose to impute missing values in Price col by with individual Fruits' Price's mean, how many missing values will be post imputation?\n",
    "\n",
    "a) 2\n",
    "\n",
    "b) 0\n",
    "\n",
    "c) 1\n",
    "\n",
    "d) 3"
   ]
  },
  {
   "cell_type": "code",
   "execution_count": 32,
   "id": "d0a0443e",
   "metadata": {},
   "outputs": [
    {
     "data": {
      "text/plain": [
       "1"
      ]
     },
     "execution_count": 32,
     "metadata": {},
     "output_type": "execute_result"
    }
   ],
   "source": [
    "df2['Price'] = df2.groupby('Fruits')['Price'].transform(lambda x: x.fillna(x.mean()))\n",
    "df2['Price'].isnull().sum()"
   ]
  },
  {
   "cell_type": "markdown",
   "id": "36635f4d",
   "metadata": {},
   "source": [
    "### 31. If a = pd.Series([np.nan, 1, 2, пр.п np.nan, np.nan, np.nan, 4, 5, 7])\n",
    "\n",
    "What will be the output of a.interpolate()\n",
    "\n",
    "a) (nan, 1.0, 2.0, 2.3, 2.7, 3.1, 3.5, 4.0, 5.0, 7.01\n",
    "\n",
    "b) (nan, 1.0, 2.0, 2.5, 2.9, 3.3, 3.8, 4.0, 5.0. 7.01\n",
    "\n",
    "c) (nan, 1.0, 2.0, 2.4, 2.8, 32, 36, 4.0, 5.0. 7.01\n",
    "\n",
    "d) Error"
   ]
  },
  {
   "cell_type": "code",
   "execution_count": 33,
   "id": "cea3c022",
   "metadata": {},
   "outputs": [
    {
     "ename": "NameError",
     "evalue": "name 'пр' is not defined",
     "output_type": "error",
     "traceback": [
      "\u001b[1;31m---------------------------------------------------------------------------\u001b[0m",
      "\u001b[1;31mNameError\u001b[0m                                 Traceback (most recent call last)",
      "Cell \u001b[1;32mIn[33], line 1\u001b[0m\n\u001b[1;32m----> 1\u001b[0m a \u001b[38;5;241m=\u001b[39m pd\u001b[38;5;241m.\u001b[39mSeries([np\u001b[38;5;241m.\u001b[39mnan, \u001b[38;5;241m1\u001b[39m, \u001b[38;5;241m2\u001b[39m, пр\u001b[38;5;241m.\u001b[39mпan, np\u001b[38;5;241m.\u001b[39mnan, np\u001b[38;5;241m.\u001b[39mnan, np\u001b[38;5;241m.\u001b[39mnan, \u001b[38;5;241m4\u001b[39m, \u001b[38;5;241m5\u001b[39m, \u001b[38;5;241m7\u001b[39m])\n\u001b[0;32m      2\u001b[0m a\n",
      "\u001b[1;31mNameError\u001b[0m: name 'пр' is not defined"
     ]
    }
   ],
   "source": [
    "a = pd.Series([np.nan, 1, 2, пр.пan, np.nan, np.nan, np.nan, 4, 5, 7])\n",
    "a"
   ]
  },
  {
   "cell_type": "markdown",
   "id": "02750fca",
   "metadata": {},
   "source": [
    "### 32. What is the use of the normalization parameter in the crosstab method of pandas?\n",
    "\n",
    "a) It used to normalize values by dividing them by the total count\n",
    "\n",
    "b) To add margins\n",
    "\n",
    "c) There is no parameter called as normalize in crosstab\n",
    "\n",
    "d) Both a & c"
   ]
  },
  {
   "cell_type": "markdown",
   "id": "6444cc1e",
   "metadata": {},
   "source": [
    "#### Answer\n",
    "a) It is used to normalize values by dividing them by the total count\n",
    "\n",
    "When normalize is set to True, the cross-tabulation table is a frequency table expressed as fractions, i.e., the cell value shows the fraction of the row/column/total count, depending on the value of normalize. This can be useful in understanding the proportion of occurrences in the data, rather than the absolute count. Please note that this parameter does not add margins; there is a separate parameter called margins in crosstab for that purpose."
   ]
  },
  {
   "cell_type": "code",
   "execution_count": null,
   "id": "4ae6da10",
   "metadata": {},
   "outputs": [],
   "source": []
  }
 ],
 "metadata": {
  "kernelspec": {
   "display_name": "Python 3 (ipykernel)",
   "language": "python",
   "name": "python3"
  },
  "language_info": {
   "codemirror_mode": {
    "name": "ipython",
    "version": 3
   },
   "file_extension": ".py",
   "mimetype": "text/x-python",
   "name": "python",
   "nbconvert_exporter": "python",
   "pygments_lexer": "ipython3",
   "version": "3.11.5"
  }
 },
 "nbformat": 4,
 "nbformat_minor": 5
}
