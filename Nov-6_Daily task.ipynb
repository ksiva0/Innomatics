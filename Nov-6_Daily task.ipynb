{
 "cells": [
  {
   "cell_type": "markdown",
   "id": "d9df7bbb",
   "metadata": {},
   "source": [
    "# Enumerate"
   ]
  },
  {
   "cell_type": "markdown",
   "id": "ab9bfca9",
   "metadata": {},
   "source": [
    "enumerate() is a built-in Python function that adds a counter to an iterable object and returns an enumerate object. \n",
    "\n",
    "<b>syntax</b>:  enumerate(iterable, start=0)\n",
    "\n",
    "\n",
    "* iterable is the object that I want to enumerate, and start is an optional parameter that specifies the starting value of the counter. \n",
    "\n",
    "The enumerate() function returns an enumerate object that contains pairs of the form (index, element) for each element in the iterable . \n",
    "\n",
    "The enumerate object can be used directly in a for loop or converted into a list of tuples using the list() function ."
   ]
  },
  {
   "cell_type": "code",
   "execution_count": 1,
   "id": "2e5cf915",
   "metadata": {},
   "outputs": [
    {
     "name": "stdout",
     "output_type": "stream",
     "text": [
      "0 apple\n",
      "1 banana\n",
      "2 cherry\n"
     ]
    }
   ],
   "source": [
    "fruits = ['apple', 'banana', 'cherry']\n",
    "for index, fruit in enumerate(fruits):\n",
    "    print(index, fruit)"
   ]
  },
  {
   "cell_type": "code",
   "execution_count": 2,
   "id": "458bdb93",
   "metadata": {},
   "outputs": [
    {
     "name": "stdout",
     "output_type": "stream",
     "text": [
      "0 s\n",
      "1 t\n",
      "2 r\n",
      "3 i\n",
      "4 n\n",
      "5 g\n"
     ]
    }
   ],
   "source": [
    "# enumerate\n",
    "\n",
    "x = 'string'\n",
    "\n",
    "for index,value in enumerate(x):\n",
    "    print(index, value)"
   ]
  },
  {
   "cell_type": "code",
   "execution_count": 3,
   "id": "2dd755bd",
   "metadata": {},
   "outputs": [
    {
     "name": "stdout",
     "output_type": "stream",
     "text": [
      "enter string: 5\n",
      "0 1\n",
      "1 2\n",
      "2 3\n",
      "3 4\n",
      "4 5\n",
      "value 5 entered is there in container at index 4\n"
     ]
    }
   ],
   "source": [
    "a = int(input(\"enter string: \"))\n",
    "l = [1,2,3,4,5,6,7]\n",
    "\n",
    "for i, ele in enumerate(l):\n",
    "    print(i, ele)\n",
    "    if ele == a:\n",
    "        print(f\"value {a} entered is there in container at index {i}\")\n",
    "        break\n",
    "        \n",
    "else:\n",
    "    print(\"not available\")"
   ]
  },
  {
   "cell_type": "markdown",
   "id": "51590c51",
   "metadata": {},
   "source": [
    "  "
   ]
  },
  {
   "cell_type": "markdown",
   "id": "1c7a37de",
   "metadata": {},
   "source": [
    "## List comprehension"
   ]
  },
  {
   "cell_type": "markdown",
   "id": "f2c8aa91",
   "metadata": {},
   "source": [
    "List comprehension is a concise and elegant way of creating a new list from an existing iterable object in Python.\n",
    "\n",
    "It is a syntactic construct that consists of brackets containing an expression, which is executed for each element along with the for loop to iterate over each element in the iterable. \n",
    "\n",
    "<b>Syntax</b>:  newList = [expression(element) for element in oldList if condition]\n",
    "\n",
    "* expression represents the operation I want to execute on every item within the iterable, element refers to each value taken from the iterable, and oldList specifies the sequence of elements I want to iterate. \n",
    "* The optional condition filter helps decide whether or not an element should be added to the new list. \n",
    "* The return value of a list comprehension is a new list containing the modified elements.\n"
   ]
  },
  {
   "cell_type": "code",
   "execution_count": 11,
   "id": "20e76d9e",
   "metadata": {},
   "outputs": [
    {
     "data": {
      "text/plain": [
       "[1, 4, 9, 16, 25]"
      ]
     },
     "execution_count": 11,
     "metadata": {},
     "output_type": "execute_result"
    }
   ],
   "source": [
    "numbers = [1, 2, 3, 4, 5]\n",
    "squared = [x ** 2 for x in numbers]\n",
    "squared"
   ]
  },
  {
   "cell_type": "code",
   "execution_count": 10,
   "id": "9cd239a6",
   "metadata": {},
   "outputs": [
    {
     "name": "stdout",
     "output_type": "stream",
     "text": [
      "[1, 2, 3]\n"
     ]
    }
   ],
   "source": [
    "List = [character for character in [1, 2, 3]]\n",
    "print(List)"
   ]
  },
  {
   "cell_type": "code",
   "execution_count": 12,
   "id": "aab2fd87",
   "metadata": {},
   "outputs": [
    {
     "name": "stdout",
     "output_type": "stream",
     "text": [
      "Enter string: STRings\n"
     ]
    },
    {
     "data": {
      "text/plain": [
       "['S', 'T', 'R']"
      ]
     },
     "execution_count": 12,
     "metadata": {},
     "output_type": "execute_result"
    }
   ],
   "source": [
    "a = input(\"Enter string: \")\n",
    "\n",
    "b = [var for var in a if var.isupper()]\n",
    "b"
   ]
  },
  {
   "cell_type": "markdown",
   "id": "9851457b",
   "metadata": {},
   "source": [
    "## Set comprehension"
   ]
  },
  {
   "cell_type": "markdown",
   "id": "73adc2ec",
   "metadata": {},
   "source": [
    "Set comprehension is a concise and elegant way of creating a new set from an existing iterable object in Python 12. It is a syntactic construct that consists of curly braces containing an expression, which is executed for each element along with the for loop to iterate over each element in the iterable.\n",
    "\n",
    "<b>Syntax</b>: newSet = {expression(element) for element in oldSet if condition}\n",
    "\n",
    "* expression represents the operation I want to execute on every item within the iterable, element refers to each value taken from the iterable, and oldSet specifies the sequence of elements I want to iterate. \n",
    "* The optional condition filter helps decide whether or not an element should be added to the new set. \n",
    "* The return value of a set comprehension is a new set containing the modified elements."
   ]
  },
  {
   "cell_type": "code",
   "execution_count": 14,
   "id": "a0b59a2e",
   "metadata": {},
   "outputs": [
    {
     "data": {
      "text/plain": [
       "{' ', 'd', 'e', 'h', 'l', 'o', 'r', 'w'}"
      ]
     },
     "execution_count": 14,
     "metadata": {},
     "output_type": "execute_result"
    }
   ],
   "source": [
    "string = \"hello world\"\n",
    "uniqueChars = {char for char in string}\n",
    "\n",
    "uniqueChars"
   ]
  },
  {
   "cell_type": "code",
   "execution_count": 15,
   "id": "9a783844",
   "metadata": {},
   "outputs": [
    {
     "name": "stdout",
     "output_type": "stream",
     "text": [
      "Enter string: STRings\n"
     ]
    },
    {
     "data": {
      "text/plain": [
       "{'R', 'S', 'T'}"
      ]
     },
     "execution_count": 15,
     "metadata": {},
     "output_type": "execute_result"
    }
   ],
   "source": [
    "a = input(\"Enter string: \")\n",
    "\n",
    "b = {var for var in a if var.isupper()}\n",
    "b"
   ]
  },
  {
   "cell_type": "code",
   "execution_count": 16,
   "id": "57dfbd0b",
   "metadata": {},
   "outputs": [
    {
     "data": {
      "text/plain": [
       "{4, 5}"
      ]
     },
     "execution_count": 16,
     "metadata": {},
     "output_type": "execute_result"
    }
   ],
   "source": [
    "set1 = {1, 2, 3, 4, 5}\n",
    "set2 = {4, 5, 6, 7, 8}\n",
    "commonElements = {element for element in set1 if element in set2}\n",
    "\n",
    "commonElements"
   ]
  },
  {
   "cell_type": "markdown",
   "id": "2619436b",
   "metadata": {},
   "source": [
    "## Zip"
   ]
  },
  {
   "cell_type": "markdown",
   "id": "b5d49683",
   "metadata": {},
   "source": [
    "zip() is a built-in Python function that takes two or more iterables and returns an iterator of tuples. \n",
    "\n",
    "<b>Syntax</b>: zip(*iterables)\n",
    "* iterables are the objects that I want to zip together. \n",
    "* The zip() function returns an iterator of tuples, where the i-th tuple contains the i-th element from each of the argument sequences or iterables\n",
    "\n",
    "The zip() function can be used directly in a for loop or converted into a list of tuples using the list() function."
   ]
  },
  {
   "cell_type": "code",
   "execution_count": 17,
   "id": "dae1cea8",
   "metadata": {},
   "outputs": [
    {
     "data": {
      "text/plain": [
       "<zip at 0x1e1f3925a80>"
      ]
     },
     "execution_count": 17,
     "metadata": {},
     "output_type": "execute_result"
    }
   ],
   "source": [
    "# zip\n",
    "\n",
    "zip([1,2,3], [11,22,33])"
   ]
  },
  {
   "cell_type": "code",
   "execution_count": 18,
   "id": "9b5a068e",
   "metadata": {},
   "outputs": [
    {
     "name": "stdout",
     "output_type": "stream",
     "text": [
      "(1, 11)\n",
      "(2, 22)\n",
      "(3, 33)\n"
     ]
    }
   ],
   "source": [
    "for ele in zip([1,2,3], [11,22,33]):\n",
    "    print(ele)"
   ]
  },
  {
   "cell_type": "code",
   "execution_count": 19,
   "id": "2485cd58",
   "metadata": {},
   "outputs": [
    {
     "name": "stdout",
     "output_type": "stream",
     "text": [
      "Enter string: STRINGS\n"
     ]
    },
    {
     "data": {
      "text/plain": [
       "{0: 'S', 1: 'T', 2: 'R', 3: 'I', 4: 'N', 5: 'G', 6: 'S'}"
      ]
     },
     "execution_count": 19,
     "metadata": {},
     "output_type": "execute_result"
    }
   ],
   "source": [
    "a = input(\"Enter string: \")\n",
    "{key : value for key, value in enumerate(a)}"
   ]
  },
  {
   "cell_type": "code",
   "execution_count": 20,
   "id": "246362d0",
   "metadata": {},
   "outputs": [
    {
     "data": {
      "text/plain": [
       "{1: 'a', 2: 'b', 3: 'c'}"
      ]
     },
     "execution_count": 20,
     "metadata": {},
     "output_type": "execute_result"
    }
   ],
   "source": [
    "{key : value for key, value in zip([1,2,3], ['a','b','c'])}"
   ]
  },
  {
   "cell_type": "code",
   "execution_count": 21,
   "id": "5bd14f9d",
   "metadata": {},
   "outputs": [
    {
     "name": "stdout",
     "output_type": "stream",
     "text": [
      "apple red\n",
      "banana yellow\n",
      "cherry pink\n"
     ]
    }
   ],
   "source": [
    "fruits = ['apple', 'banana', 'cherry']\n",
    "colors = ['red', 'yellow', 'pink']\n",
    "for fruit, color in zip(fruits, colors):\n",
    "    print(fruit, color)\n"
   ]
  },
  {
   "cell_type": "code",
   "execution_count": null,
   "id": "8b0988e2",
   "metadata": {},
   "outputs": [],
   "source": []
  }
 ],
 "metadata": {
  "kernelspec": {
   "display_name": "Python 3 (ipykernel)",
   "language": "python",
   "name": "python3"
  },
  "language_info": {
   "codemirror_mode": {
    "name": "ipython",
    "version": 3
   },
   "file_extension": ".py",
   "mimetype": "text/x-python",
   "name": "python",
   "nbconvert_exporter": "python",
   "pygments_lexer": "ipython3",
   "version": "3.11.5"
  }
 },
 "nbformat": 4,
 "nbformat_minor": 5
}
