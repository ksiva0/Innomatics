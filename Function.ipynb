{
 "cells": [
  {
   "cell_type": "markdown",
   "id": "40e5815e",
   "metadata": {},
   "source": [
    "# function"
   ]
  },
  {
   "cell_type": "markdown",
   "id": "c2e02c09",
   "metadata": {},
   "source": [
    "* It's a block of code, which executes a desired task. A function can be called n-number of times instead of writing the code required to execute the task.\n",
    "* There are two steps in creating a function, defining a function and calling the function.       "
   ]
  },
  {
   "cell_type": "markdown",
   "id": "87c9ce8f",
   "metadata": {},
   "source": [
    "<b>Syntax</b> of defining a function:\n",
    "            \n",
    "             def func_name(parameter/s):\n",
    "                  block of code\n",
    "                  \n",
    "* <u>def</u> is a keyword, which tells the interpretor that we are defining a function\n",
    "* <u>func_name</u> is name we give to the function we are defining, it acts as a variable name to the block of code we are writing\n",
    "* <u>parameter</u> these can be considered as the variables we use to write/define our function"
   ]
  },
  {
   "cell_type": "markdown",
   "id": "d83ac464",
   "metadata": {},
   "source": [
    "<b>Syntax</b> for calling a function:\n",
    "\n",
    "        fun_name(arg/s)\n",
    "        \n",
    "* arg/s are actual inputs for function"
   ]
  },
  {
   "cell_type": "code",
   "execution_count": 1,
   "id": "72dd6375",
   "metadata": {},
   "outputs": [],
   "source": [
    "def fooSum(a, b):\n",
    "    print(a+b)"
   ]
  },
  {
   "cell_type": "code",
   "execution_count": 2,
   "id": "296208a5",
   "metadata": {},
   "outputs": [
    {
     "name": "stdout",
     "output_type": "stream",
     "text": [
      "11\n"
     ]
    }
   ],
   "source": [
    "fooSum(3, 8)"
   ]
  },
  {
   "cell_type": "code",
   "execution_count": 3,
   "id": "9f7baad4",
   "metadata": {},
   "outputs": [
    {
     "name": "stdout",
     "output_type": "stream",
     "text": [
      "-23\n"
     ]
    }
   ],
   "source": [
    "fooSum(-4, -19)"
   ]
  },
  {
   "cell_type": "markdown",
   "id": "df595091",
   "metadata": {},
   "source": [
    "## Arguments"
   ]
  },
  {
   "cell_type": "markdown",
   "id": "79db59bf",
   "metadata": {},
   "source": [
    "* Information can be passed into functions as arguments.\n",
    "* Arguments are specified after the function name, inside the parentheses.\n",
    "* You can add as many arguments as you want, just separate them with a comma.\n",
    "\n",
    "* Python supports 3 types of arguments:\n",
    "    * 1.Positional Arguments.\n",
    "    * 2.Keyword Arguments.\n",
    "    * 3.Default Arguments."
   ]
  },
  {
   "cell_type": "markdown",
   "id": "5534d83f",
   "metadata": {},
   "source": [
    "## keyword arguments"
   ]
  },
  {
   "cell_type": "markdown",
   "id": "50aba85c",
   "metadata": {},
   "source": [
    "* At time of calling a function, if we pass the arguments by using the parameter name, these kind of arguments are called as keyword arguments\n",
    "* func_name(para1 = arg1, para2 = arg2)"
   ]
  },
  {
   "cell_type": "code",
   "execution_count": 8,
   "id": "a91faf01",
   "metadata": {},
   "outputs": [
    {
     "name": "stdout",
     "output_type": "stream",
     "text": [
      "3 4\n",
      "None 4\n"
     ]
    }
   ],
   "source": [
    "def my_function(arg1, arg2, *, kwarg1=None, kwarg2=None):\n",
    "    print(kwarg1, kwarg2)\n",
    "my_function(1, 2, kwarg1=3, kwarg2=4)\n",
    "my_function(1, 2, kwarg2=4)"
   ]
  },
  {
   "cell_type": "markdown",
   "id": "67e9788a",
   "metadata": {},
   "source": [
    "## positional arguments"
   ]
  },
  {
   "cell_type": "markdown",
   "id": "717638ed",
   "metadata": {},
   "source": [
    "* While passing the argument/s, the value/s of arg/s will be assigned to parameters based on the order of parameters at time of defining the function\n",
    "* While calling greet function, we interchanged the order of args passed and this resulted in a different o/p\n",
    "* These kind of passing arguments based on positions are called as positional arguments"
   ]
  },
  {
   "cell_type": "code",
   "execution_count": 9,
   "id": "f41462df",
   "metadata": {},
   "outputs": [
    {
     "name": "stdout",
     "output_type": "stream",
     "text": [
      "2.0\n"
     ]
    }
   ],
   "source": [
    "def fooDivision(d : float, n : float):\n",
    "    '''\n",
    "    d = denominator\n",
    "    n = numerator\n",
    "    '''\n",
    "    print(n/d)\n",
    "fooDivision(10, 20)"
   ]
  },
  {
   "cell_type": "code",
   "execution_count": 12,
   "id": "ee55e571",
   "metadata": {},
   "outputs": [
    {
     "name": "stdout",
     "output_type": "stream",
     "text": [
      "12 2.0\n"
     ]
    }
   ],
   "source": [
    "def foo(a, b, c):\n",
    "    x = a + b \n",
    "    y = a / c\n",
    "    print(x, y)\n",
    "\n",
    "foo(4, 8, 2)"
   ]
  },
  {
   "cell_type": "markdown",
   "id": "4e0fc697",
   "metadata": {},
   "source": [
    "## default arguments"
   ]
  },
  {
   "cell_type": "markdown",
   "id": "4647d252",
   "metadata": {},
   "source": [
    "In Python, you can define default values for function arguments. If a function is called without providing a value for an argument that has a default value, the default value is used instead. This can be useful when you want to make some arguments optional."
   ]
  },
  {
   "cell_type": "code",
   "execution_count": 16,
   "id": "3d7f8c4a",
   "metadata": {},
   "outputs": [
    {
     "name": "stdout",
     "output_type": "stream",
     "text": [
      "1 default_value\n",
      "1 new_value\n"
     ]
    }
   ],
   "source": [
    "def my_function(arg1, arg2='default_value'):\n",
    "    print(arg1,arg2)\n",
    "my_function(1)\n",
    "my_function(1, 'new_value')"
   ]
  },
  {
   "cell_type": "code",
   "execution_count": 17,
   "id": "dac02e29",
   "metadata": {},
   "outputs": [
    {
     "name": "stdout",
     "output_type": "stream",
     "text": [
      "[1]\n"
     ]
    }
   ],
   "source": [
    "def my_function(arg1, arg2=[]):\n",
    "    arg2.append(arg1)\n",
    "    return arg2\n",
    "\n",
    "print(my_function(1))"
   ]
  },
  {
   "cell_type": "markdown",
   "id": "d7244068",
   "metadata": {},
   "source": [
    "## Documentation strings"
   ]
  },
  {
   "cell_type": "markdown",
   "id": "be0d5038",
   "metadata": {},
   "source": [
    "* Documentation strings (or docstrings) provide a convenient way of associating documentation with Python modules, functions, classes, and methods.\n",
    "* It’s specified in source code that is used, like a comment, to document a specific segment of code. Unlike conventional source code comments, the docstring should describe what the function does, not how.\n",
    "\n",
    "* <b>Declaring Docstrings</b>:\n",
    "    * The docstrings are declared using ”’triple single quotes”’ or “”” triple double quotes “”” just below the class, method, or function declaration. All functions should have a docstring.\n",
    "* <b>Accessing Docstrings</b>:\n",
    "    * The docstrings can be accessed using the __ doc __ method of the object or using the help function."
   ]
  },
  {
   "cell_type": "code",
   "execution_count": 18,
   "id": "7f4ba8c0",
   "metadata": {},
   "outputs": [
    {
     "name": "stdout",
     "output_type": "stream",
     "text": [
      "2.0\n"
     ]
    }
   ],
   "source": [
    "def fooDivision(d : float, n : float):\n",
    "    '''\n",
    "    d = denominator\n",
    "    n = numerator\n",
    "    '''\n",
    "    print(n/d)\n",
    "fooDivision(10, 20)"
   ]
  },
  {
   "cell_type": "code",
   "execution_count": 19,
   "id": "33f7806c",
   "metadata": {},
   "outputs": [
    {
     "name": "stdout",
     "output_type": "stream",
     "text": [
      "\n",
      "    d = denominator\n",
      "    n = numerator\n",
      "    \n"
     ]
    }
   ],
   "source": [
    "print(fooDivision.__doc__)"
   ]
  },
  {
   "cell_type": "code",
   "execution_count": 20,
   "id": "467b9da1",
   "metadata": {},
   "outputs": [
    {
     "name": "stdout",
     "output_type": "stream",
     "text": [
      "hellohahahahellohahaha\n"
     ]
    }
   ],
   "source": [
    "def fooConcatinationOfString(s1 : str, s2='', n = 2):\n",
    "    print((s1+s2)*n)\n",
    "    \n",
    "fooConcatinationOfString('hello', s2 = 'hahaha')"
   ]
  },
  {
   "cell_type": "code",
   "execution_count": null,
   "id": "374b00b8",
   "metadata": {},
   "outputs": [],
   "source": []
  }
 ],
 "metadata": {
  "kernelspec": {
   "display_name": "Python 3 (ipykernel)",
   "language": "python",
   "name": "python3"
  },
  "language_info": {
   "codemirror_mode": {
    "name": "ipython",
    "version": 3
   },
   "file_extension": ".py",
   "mimetype": "text/x-python",
   "name": "python",
   "nbconvert_exporter": "python",
   "pygments_lexer": "ipython3",
   "version": "3.11.5"
  }
 },
 "nbformat": 4,
 "nbformat_minor": 5
}
