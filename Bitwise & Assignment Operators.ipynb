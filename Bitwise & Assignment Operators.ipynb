{
 "cells": [
  {
   "cell_type": "markdown",
   "id": "29abe7b4",
   "metadata": {},
   "source": [
    "# Bitwise Operators"
   ]
  },
  {
   "cell_type": "markdown",
   "id": "6ebd6c79",
   "metadata": {},
   "source": [
    "   Bitwise operators are used to perform bitwise calculations on integers. The integers are first converts into binary and then operations are performed on each bit or corresponding pair of bits."
   ]
  },
  {
   "cell_type": "markdown",
   "id": "e9a765f9",
   "metadata": {},
   "source": [
    "Note : Python bit or corresponding pair of bits"
   ]
  },
  {
   "cell_type": "markdown",
   "id": "43f6b98c",
   "metadata": {},
   "source": [
    "* and (&)\n",
    "* XOR (^)\n",
    "* OR (|)\n",
    "* NOT (~)\n",
    "* Right shift (>>)\n",
    "* Left shift (<<)"
   ]
  },
  {
   "cell_type": "markdown",
   "id": "a0b4c5ca",
   "metadata": {},
   "source": [
    "Bitwise <b>AND</b> operator: Returns 1 if both the bits are 1 else 0."
   ]
  },
  {
   "cell_type": "markdown",
   "id": "2a32fa08",
   "metadata": {},
   "source": [
    "Example:\n",
    "\n",
    "    a = 4 = 0100 (Binary)\n",
    "    b = 4 = 0100 (Binary)\n",
    "\n",
    "    a & b = 0100 & 0100\n",
    "          = 0100\n",
    "          = 4 (Decimal)"
   ]
  },
  {
   "cell_type": "markdown",
   "id": "b712790d",
   "metadata": {},
   "source": [
    "a = 4\n",
    "b = 4\n",
    "print(a & b)"
   ]
  },
  {
   "cell_type": "markdown",
   "id": "22b3bbe5",
   "metadata": {},
   "source": [
    "a = 8\n",
    "b = 4\n",
    "print(a & b)"
   ]
  },
  {
   "cell_type": "markdown",
   "id": "b8e26c1e",
   "metadata": {},
   "source": [
    "Bitwise <b>OR</b> operator: Returns 1 if either of the bit is 1 else 0."
   ]
  },
  {
   "cell_type": "markdown",
   "id": "b609d0bc",
   "metadata": {},
   "source": [
    "Example:\n",
    "\n",
    "    a = 4 = 0100 (Binary)\n",
    "    b = 4 = 0100 (Binary)\n",
    "\n",
    "    a & b = 0100 | 0100\n",
    "          = 0100\n",
    "          = 4 (Decimal)"
   ]
  },
  {
   "cell_type": "markdown",
   "id": "04e75401",
   "metadata": {},
   "source": [
    "a = 4\n",
    "b = 4\n",
    "print(a | b)"
   ]
  },
  {
   "cell_type": "markdown",
   "id": "12eaba56",
   "metadata": {},
   "source": [
    "a = 8\n",
    "b = 4\n",
    "print(a | b)"
   ]
  },
  {
   "cell_type": "markdown",
   "id": "86c66440",
   "metadata": {},
   "source": [
    "Bitwise <b>XOR</b> operator: Returns 1 if one of the bits is 1 and the other is 0 else returns false."
   ]
  },
  {
   "cell_type": "markdown",
   "id": "76d39838",
   "metadata": {},
   "source": [
    "Example:\n",
    "    \n",
    "    a = 4 = 0100\n",
    "    b = 4 = 0100\n",
    "    \n",
    "    a ^ b = 0100 ^ 0100\n",
    "          = 0000\n",
    "          = 0"
   ]
  },
  {
   "cell_type": "markdown",
   "id": "14fbeaf3",
   "metadata": {},
   "source": [
    "a = 4\n",
    "b = 4\n",
    "print(a ^ b)"
   ]
  },
  {
   "cell_type": "markdown",
   "id": "be792737",
   "metadata": {},
   "source": [
    "a = 8\n",
    "b = 5\n",
    "print(a ^ b)"
   ]
  },
  {
   "cell_type": "markdown",
   "id": "f587cdc9",
   "metadata": {},
   "source": [
    "Bitwise <b>NOT</b> operator: Returns one’s complement of the number."
   ]
  },
  {
   "cell_type": "markdown",
   "id": "5a6e753b",
   "metadata": {},
   "source": [
    "Example:\n",
    "\n",
    "    a = 10 = 1010 (Binary)"
   ]
  },
  {
   "cell_type": "markdown",
   "id": "86b8a23d",
   "metadata": {},
   "source": [
    "In computers we usually represent numbers using 32 bits,\n",
    "so binary representation of 10 is (....0000 1010)[32 bits]\n",
    "\n",
    "~a is basically 1's complement of a \n",
    "i.e ~a should be ~10 = ~(....0000 1010) = (....1111 0101) = intermediate-result\n",
    "\n",
    "Since bitwise negation inverts the sign bit,\n",
    "we now have a negative number. And we represent a negative number\n",
    "using 2's complement.\n",
    "\n",
    "2's complement of intermediate-result is:\n",
    "intermediate-res =  0101      //....1111 0101\n",
    "      \n",
    "                     1010      //....0000 1010 -(1's complement)\n",
    "                         +1    \n",
    "                 -----------\n",
    "                   =  1011      //....0000 1011\n",
    "                  -----------\n",
    "                   =   -11 (Decimal)\n",
    "                   \n",
    "thus ~a = -11"
   ]
  },
  {
   "cell_type": "markdown",
   "id": "db9aed41",
   "metadata": {},
   "source": [
    "a = 5\n",
    "\n",
    "print(~a)"
   ]
  },
  {
   "cell_type": "markdown",
   "id": "3aada149",
   "metadata": {},
   "source": [
    "## Shift Operators"
   ]
  },
  {
   "cell_type": "markdown",
   "id": "5d4e8122",
   "metadata": {},
   "source": [
    "These operators are used to shift the bits of a number left or right thereby multiplying or dividing the number by two respectively. They can be used when we have to multiply or divide a number by two. "
   ]
  },
  {
   "cell_type": "markdown",
   "id": "7ab39929",
   "metadata": {},
   "source": [
    "<b><u>Bitwise right shift</u></b>: Shifts the bits of the number to the right and fills 0 on voids left( fills 1 in the case of a negative number) as a result. Similar effect as of dividing the number with some power of two."
   ]
  },
  {
   "cell_type": "markdown",
   "id": "5477b74e",
   "metadata": {},
   "source": [
    "Example:\n",
    "      \n",
    "     a = 7 = 0000 0111 (Binary)\n",
    "     a >> 1 = 0000 0011"
   ]
  },
  {
   "cell_type": "markdown",
   "id": "37e52690",
   "metadata": {},
   "source": [
    "a = 7\n",
    "a >> 1"
   ]
  },
  {
   "cell_type": "markdown",
   "id": "b847356a",
   "metadata": {},
   "source": [
    "a = 10\n",
    "a>>1"
   ]
  },
  {
   "cell_type": "markdown",
   "id": "bc5cd489",
   "metadata": {},
   "source": [
    "<b><u>Bitwise left shift</u></b>: Shifts the bits of the number to the left and fills 0 on voids right as a result. Similar effect as of multiplying the number with some power of two."
   ]
  },
  {
   "cell_type": "markdown",
   "id": "6d78408a",
   "metadata": {},
   "source": [
    "Example:\n",
    "     \n",
    "     a = 5 = 0000 0101\n",
    "     a << 1 = 0000 1010\n",
    "            = 10\n",
    "     a << 2 = 0001 0100\n",
    "            = 20"
   ]
  },
  {
   "cell_type": "markdown",
   "id": "24e8eb0c",
   "metadata": {},
   "source": [
    "a = 7\n",
    "print(a << 1, a << 2)"
   ]
  },
  {
   "cell_type": "markdown",
   "id": "2caf4ff1",
   "metadata": {},
   "source": [
    "# Assignment Operators"
   ]
  },
  {
   "cell_type": "markdown",
   "id": "d9bf2828",
   "metadata": {},
   "source": [
    "Operators are used to perform operations on values and variables. These are the special symbols that carry out arithmetic, logical, bitwise computations. The value the operator operates on is known as Operand."
   ]
  },
  {
   "cell_type": "markdown",
   "id": "108d6ad1",
   "metadata": {},
   "source": [
    "<b><u>Assign</u></b>: This operator is used to assign the value of the right side of the expression to the left side operand.\n",
    "\n"
   ]
  },
  {
   "cell_type": "markdown",
   "id": "dd1b6b3a",
   "metadata": {},
   "source": [
    "Example:\n",
    "      \n",
    "      a = 4\n",
    "      b = 6\n",
    "      c = a + b\n",
    "      \n",
    "      print(c)"
   ]
  },
  {
   "cell_type": "markdown",
   "id": "39699fd1",
   "metadata": {},
   "source": [
    "a = 18\n",
    "b = 8\n",
    "c = a + b\n",
    "\n",
    "print(c)"
   ]
  },
  {
   "cell_type": "markdown",
   "id": "9c7794d6",
   "metadata": {},
   "source": [
    "<b><u>Add and Assign</u></b>: This operator is used to add the right side operand with the left side operand and then assigning the result to the left operand."
   ]
  },
  {
   "cell_type": "markdown",
   "id": "32da3b5e",
   "metadata": {},
   "source": [
    "Example:\n",
    "       \n",
    "     a = 4\n",
    "     b = 6\n",
    "     a = a + b\n",
    "     \n",
    "     print(a)\n",
    "     \n",
    " Ans: 10"
   ]
  },
  {
   "cell_type": "markdown",
   "id": "301f0fe0",
   "metadata": {},
   "source": [
    "a = 18\n",
    "b = 8\n",
    "a += b  # a = a + b\n",
    "\n",
    "print(a)"
   ]
  },
  {
   "cell_type": "markdown",
   "id": "b6662a4c",
   "metadata": {},
   "source": [
    "<b><u>Subtract and Assign</u></b>: This operator is used to subtract the right operand from the left operand and then assigning the result to the left operand."
   ]
  },
  {
   "cell_type": "markdown",
   "id": "24b61308",
   "metadata": {},
   "source": [
    "Example:\n",
    "\n",
    "    a = 4\n",
    "    b = 6\n",
    "    a = a - b\n",
    "    \n",
    "    print(a)\n",
    "    \n",
    "Ans: -2"
   ]
  },
  {
   "cell_type": "markdown",
   "id": "d891debf",
   "metadata": {},
   "source": [
    "a = 18\n",
    "b = 10\n",
    "a -= b # a = a - b\n",
    "\n",
    "print(a)"
   ]
  },
  {
   "cell_type": "markdown",
   "id": "e555b044",
   "metadata": {},
   "source": [
    "<b><u>Multiply and Assign</u></b>: This operator is used to multiply the right operand with the left operand and then assigning the result to the left operand."
   ]
  },
  {
   "cell_type": "markdown",
   "id": "a768ad9a",
   "metadata": {},
   "source": [
    "Example:\n",
    "\n",
    "     a = 4\n",
    "     b = 6\n",
    "     a = a * b\n",
    "     \n",
    "     print(a)\n",
    "     \n",
    "Ans: 24"
   ]
  },
  {
   "cell_type": "markdown",
   "id": "dc5452d9",
   "metadata": {},
   "source": [
    "a = 4\n",
    "b = 6\n",
    "a *= b  # a = a * b\n",
    "\n",
    "a"
   ]
  },
  {
   "cell_type": "markdown",
   "id": "cee1c24c",
   "metadata": {},
   "source": [
    "<b><u>Divide and Assign</u></b>: This operator is used to divide the left operand with the right operand and then assigning the result to the left operand."
   ]
  },
  {
   "cell_type": "markdown",
   "id": "f8f8d133",
   "metadata": {},
   "source": [
    "Example:\n",
    "\n",
    "    a = 7\n",
    "    b = 4\n",
    "    a = a / b\n",
    "   \n",
    "    print(a)\n",
    "    \n",
    "Ans: 1.75"
   ]
  },
  {
   "cell_type": "markdown",
   "id": "687d1510",
   "metadata": {},
   "source": [
    "a = 7\n",
    "b = 4 \n",
    "a /= b   # a = a / b\n",
    "\n",
    "print(a)"
   ]
  },
  {
   "cell_type": "markdown",
   "id": "704db34d",
   "metadata": {},
   "source": [
    "<b><u>Modulus and Assign</u></b>: This operator is used to take the modulus using the left and the right operands and then assigning the result to the left operand."
   ]
  },
  {
   "cell_type": "markdown",
   "id": "b27c3d63",
   "metadata": {},
   "source": [
    "Example:\n",
    "\n",
    "    a = 7\n",
    "    b = 4\n",
    "    a = a % b\n",
    "    \n",
    "    print(a)\n",
    "    \n",
    "Ans: 3"
   ]
  },
  {
   "cell_type": "markdown",
   "id": "c25d64f4",
   "metadata": {},
   "source": [
    "a = 7\n",
    "b = 4\n",
    "a %= b  # a = a % b\n",
    "\n",
    "print(a)"
   ]
  },
  {
   "cell_type": "markdown",
   "id": "b01e4290",
   "metadata": {},
   "source": [
    "<b><u>Divide (floor) and Assign</u></b>: This operator is used to divide the left operand with the right operand and then assigning the result(floor) to the left operand."
   ]
  },
  {
   "cell_type": "markdown",
   "id": "7ed9d90d",
   "metadata": {},
   "source": [
    "Example:\n",
    "\n",
    "    a = 3\n",
    "    b = 5\n",
    "    a //= b \n",
    "    \n",
    "    print(a)\n",
    "    \n",
    "Ans: 0"
   ]
  },
  {
   "cell_type": "markdown",
   "id": "f097e361",
   "metadata": {},
   "source": [
    "a = 3\n",
    "b = 5\n",
    "  \n",
    "a //= b  # a = a // b \n",
    "   \n",
    "print(a)"
   ]
  },
  {
   "cell_type": "markdown",
   "id": "bf793745",
   "metadata": {},
   "source": [
    "<b><u>Exponent and Assign</u></b>: This operator is used to calculate the exponent(raise power) value using operands and then assigning the result to the left operand."
   ]
  },
  {
   "cell_type": "markdown",
   "id": "e8e5998e",
   "metadata": {},
   "source": [
    "Example:\n",
    "\n",
    "    a = 3\n",
    "    b = 5\n",
    "    a = a ** b\n",
    "    \n",
    "    print(a)\n",
    "    \n",
    "Ans: 243"
   ]
  },
  {
   "cell_type": "markdown",
   "id": "1f761246",
   "metadata": {},
   "source": [
    "a = 3\n",
    "b = 5\n",
    "a = a ** b  # a = a ** b\n",
    "\n",
    "print(a)"
   ]
  },
  {
   "cell_type": "markdown",
   "id": "7630922a",
   "metadata": {},
   "source": [
    "<b><u>Bitwise AND and Assign</u></b>: This operator is used to perform Bitwise AND on both operands and then assigning the result to the left operand."
   ]
  },
  {
   "cell_type": "markdown",
   "id": "9572701a",
   "metadata": {},
   "source": [
    "Example:\n",
    "    \n",
    "    a = 3\n",
    "    b = 5\n",
    "    a = a & b\n",
    "    \n",
    "    print(a)\n",
    "    \n",
    "Ans: 1"
   ]
  },
  {
   "cell_type": "markdown",
   "id": "d7e27896",
   "metadata": {},
   "source": [
    "a = 3\n",
    "b = 5\n",
    "a &= b  # a = a & b\n",
    "\n",
    "print(a)"
   ]
  },
  {
   "cell_type": "markdown",
   "id": "8ee073d3",
   "metadata": {},
   "source": [
    "<b><u>Bitwise OR and Assign</u></b>: This operator is used to perform Bitwise OR on the operands and then assigning result to the left operand."
   ]
  },
  {
   "cell_type": "markdown",
   "id": "8a1da4e7",
   "metadata": {},
   "source": [
    "Example:\n",
    "    \n",
    "    \n",
    "    a = 3\n",
    "    b = 5\n",
    "    a = a | b\n",
    "    \n",
    "    print(a)\n",
    "    \n",
    "Ans: 7"
   ]
  },
  {
   "cell_type": "markdown",
   "id": "f696abd0",
   "metadata": {},
   "source": [
    "a = 3\n",
    "b = 5\n",
    "a |= b # a = a | b\n",
    "\n",
    "print(a)"
   ]
  },
  {
   "cell_type": "markdown",
   "id": "1d5b3f77",
   "metadata": {},
   "source": [
    "<b><u>Bitwise XOR and Assign</u></b>: This operator is used to perform Bitwise XOR on the operands and then assigning result to the left operand."
   ]
  },
  {
   "cell_type": "markdown",
   "id": "b8b5d8ae",
   "metadata": {},
   "source": [
    "Example:\n",
    "\n",
    "    a = 3\n",
    "    b = 5\n",
    "    a = a ^ b\n",
    "    \n",
    "    print(a)\n",
    "    \n",
    "Ans: 6"
   ]
  },
  {
   "cell_type": "markdown",
   "id": "1969a31d",
   "metadata": {},
   "source": [
    "a = 3\n",
    "b = 5\n",
    "a ^= b  # a = a ^ b\n",
    "\n",
    "print(a)"
   ]
  },
  {
   "cell_type": "markdown",
   "id": "e8c011e5",
   "metadata": {},
   "source": [
    "<b><u>Bitwise Right Shift and Assign</u></b>: This operator is used to perform Bitwise right shift on the operands and then assigning result to the left operand."
   ]
  },
  {
   "cell_type": "markdown",
   "id": "99fb39a2",
   "metadata": {},
   "source": [
    "Example:\n",
    "\n",
    "    a = 3\n",
    "    b = 5\n",
    "    a = a >> b\n",
    "    \n",
    "    print(a)\n",
    "    \n",
    "Ans: 0"
   ]
  },
  {
   "cell_type": "markdown",
   "id": "62dfd39f",
   "metadata": {},
   "source": [
    "a = 3\n",
    "b = 5\n",
    "a >>= b   # a = a >>b\n",
    "\n",
    "print(a)"
   ]
  },
  {
   "cell_type": "markdown",
   "id": "cf3b027b",
   "metadata": {},
   "source": [
    "<b><u>Bitwise Left Shift and Assign</u></b>: This operator is used to perform Bitwise left shift on the operands and then assigning result to the left operand."
   ]
  },
  {
   "cell_type": "markdown",
   "id": "3e019d13",
   "metadata": {},
   "source": [
    "Example:\n",
    "    \n",
    "    a = 3\n",
    "    b = 5\n",
    "    a = a << b\n",
    "    \n",
    "    print(a)\n",
    "    \n",
    "Ans: 96"
   ]
  },
  {
   "cell_type": "markdown",
   "id": "c9aa8d51",
   "metadata": {},
   "source": [
    "a = 3\n",
    "b = 5 \n",
    "a <<= b   # a = a << b\n",
    "\n",
    "print(a)"
   ]
  }
 ],
 "metadata": {
  "kernelspec": {
   "display_name": "Python 3 (ipykernel)",
   "language": "python",
   "name": "python3"
  },
  "language_info": {
   "codemirror_mode": {
    "name": "ipython",
    "version": 3
   },
   "file_extension": ".py",
   "mimetype": "text/x-python",
   "name": "python",
   "nbconvert_exporter": "python",
   "pygments_lexer": "ipython3",
   "version": "3.11.5"
  }
 },
 "nbformat": 4,
 "nbformat_minor": 5
}
