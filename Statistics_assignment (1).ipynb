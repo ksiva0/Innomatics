{
 "cells": [
  {
   "cell_type": "code",
   "execution_count": 1,
   "id": "f36df77b",
   "metadata": {},
   "outputs": [],
   "source": [
    "import pandas as pd, numpy as np"
   ]
  },
  {
   "cell_type": "code",
   "execution_count": 2,
   "id": "6226919b",
   "metadata": {},
   "outputs": [
    {
     "data": {
      "text/html": [
       "<div>\n",
       "<style scoped>\n",
       "    .dataframe tbody tr th:only-of-type {\n",
       "        vertical-align: middle;\n",
       "    }\n",
       "\n",
       "    .dataframe tbody tr th {\n",
       "        vertical-align: top;\n",
       "    }\n",
       "\n",
       "    .dataframe thead th {\n",
       "        text-align: right;\n",
       "    }\n",
       "</style>\n",
       "<table border=\"1\" class=\"dataframe\">\n",
       "  <thead>\n",
       "    <tr style=\"text-align: right;\">\n",
       "      <th></th>\n",
       "      <th>Id</th>\n",
       "      <th>SepalLengthCm</th>\n",
       "      <th>SepalWidthCm</th>\n",
       "      <th>PetalLengthCm</th>\n",
       "      <th>PetalWidthCm</th>\n",
       "      <th>Species</th>\n",
       "    </tr>\n",
       "  </thead>\n",
       "  <tbody>\n",
       "    <tr>\n",
       "      <th>0</th>\n",
       "      <td>1</td>\n",
       "      <td>5.1</td>\n",
       "      <td>3.5</td>\n",
       "      <td>1.4</td>\n",
       "      <td>0.2</td>\n",
       "      <td>Iris-setosa</td>\n",
       "    </tr>\n",
       "    <tr>\n",
       "      <th>1</th>\n",
       "      <td>2</td>\n",
       "      <td>4.9</td>\n",
       "      <td>3.0</td>\n",
       "      <td>1.4</td>\n",
       "      <td>0.2</td>\n",
       "      <td>Iris-setosa</td>\n",
       "    </tr>\n",
       "    <tr>\n",
       "      <th>2</th>\n",
       "      <td>3</td>\n",
       "      <td>4.7</td>\n",
       "      <td>3.2</td>\n",
       "      <td>1.3</td>\n",
       "      <td>0.2</td>\n",
       "      <td>Iris-setosa</td>\n",
       "    </tr>\n",
       "    <tr>\n",
       "      <th>3</th>\n",
       "      <td>4</td>\n",
       "      <td>4.6</td>\n",
       "      <td>3.1</td>\n",
       "      <td>1.5</td>\n",
       "      <td>0.2</td>\n",
       "      <td>Iris-setosa</td>\n",
       "    </tr>\n",
       "    <tr>\n",
       "      <th>4</th>\n",
       "      <td>5</td>\n",
       "      <td>5.0</td>\n",
       "      <td>3.6</td>\n",
       "      <td>1.4</td>\n",
       "      <td>0.2</td>\n",
       "      <td>Iris-setosa</td>\n",
       "    </tr>\n",
       "    <tr>\n",
       "      <th>...</th>\n",
       "      <td>...</td>\n",
       "      <td>...</td>\n",
       "      <td>...</td>\n",
       "      <td>...</td>\n",
       "      <td>...</td>\n",
       "      <td>...</td>\n",
       "    </tr>\n",
       "    <tr>\n",
       "      <th>145</th>\n",
       "      <td>146</td>\n",
       "      <td>6.7</td>\n",
       "      <td>3.0</td>\n",
       "      <td>5.2</td>\n",
       "      <td>2.3</td>\n",
       "      <td>Iris-virginica</td>\n",
       "    </tr>\n",
       "    <tr>\n",
       "      <th>146</th>\n",
       "      <td>147</td>\n",
       "      <td>6.3</td>\n",
       "      <td>2.5</td>\n",
       "      <td>5.0</td>\n",
       "      <td>1.9</td>\n",
       "      <td>Iris-virginica</td>\n",
       "    </tr>\n",
       "    <tr>\n",
       "      <th>147</th>\n",
       "      <td>148</td>\n",
       "      <td>6.5</td>\n",
       "      <td>3.0</td>\n",
       "      <td>5.2</td>\n",
       "      <td>2.0</td>\n",
       "      <td>Iris-virginica</td>\n",
       "    </tr>\n",
       "    <tr>\n",
       "      <th>148</th>\n",
       "      <td>149</td>\n",
       "      <td>6.2</td>\n",
       "      <td>3.4</td>\n",
       "      <td>5.4</td>\n",
       "      <td>2.3</td>\n",
       "      <td>Iris-virginica</td>\n",
       "    </tr>\n",
       "    <tr>\n",
       "      <th>149</th>\n",
       "      <td>150</td>\n",
       "      <td>5.9</td>\n",
       "      <td>3.0</td>\n",
       "      <td>5.1</td>\n",
       "      <td>1.8</td>\n",
       "      <td>Iris-virginica</td>\n",
       "    </tr>\n",
       "  </tbody>\n",
       "</table>\n",
       "<p>150 rows × 6 columns</p>\n",
       "</div>"
      ],
      "text/plain": [
       "      Id  SepalLengthCm  SepalWidthCm  PetalLengthCm  PetalWidthCm  \\\n",
       "0      1            5.1           3.5            1.4           0.2   \n",
       "1      2            4.9           3.0            1.4           0.2   \n",
       "2      3            4.7           3.2            1.3           0.2   \n",
       "3      4            4.6           3.1            1.5           0.2   \n",
       "4      5            5.0           3.6            1.4           0.2   \n",
       "..   ...            ...           ...            ...           ...   \n",
       "145  146            6.7           3.0            5.2           2.3   \n",
       "146  147            6.3           2.5            5.0           1.9   \n",
       "147  148            6.5           3.0            5.2           2.0   \n",
       "148  149            6.2           3.4            5.4           2.3   \n",
       "149  150            5.9           3.0            5.1           1.8   \n",
       "\n",
       "            Species  \n",
       "0       Iris-setosa  \n",
       "1       Iris-setosa  \n",
       "2       Iris-setosa  \n",
       "3       Iris-setosa  \n",
       "4       Iris-setosa  \n",
       "..              ...  \n",
       "145  Iris-virginica  \n",
       "146  Iris-virginica  \n",
       "147  Iris-virginica  \n",
       "148  Iris-virginica  \n",
       "149  Iris-virginica  \n",
       "\n",
       "[150 rows x 6 columns]"
      ]
     },
     "execution_count": 2,
     "metadata": {},
     "output_type": "execute_result"
    }
   ],
   "source": [
    "d = pd.read_csv(r\"C:\\Users\\master\\Downloads\\Iris.csv\")\n",
    "d"
   ]
  },
  {
   "cell_type": "code",
   "execution_count": 3,
   "id": "c098ab99",
   "metadata": {},
   "outputs": [
    {
     "name": "stdout",
     "output_type": "stream",
     "text": [
      "<class 'pandas.core.frame.DataFrame'>\n",
      "RangeIndex: 150 entries, 0 to 149\n",
      "Data columns (total 6 columns):\n",
      " #   Column         Non-Null Count  Dtype  \n",
      "---  ------         --------------  -----  \n",
      " 0   Id             150 non-null    int64  \n",
      " 1   SepalLengthCm  150 non-null    float64\n",
      " 2   SepalWidthCm   150 non-null    float64\n",
      " 3   PetalLengthCm  150 non-null    float64\n",
      " 4   PetalWidthCm   150 non-null    float64\n",
      " 5   Species        150 non-null    object \n",
      "dtypes: float64(4), int64(1), object(1)\n",
      "memory usage: 7.2+ KB\n"
     ]
    }
   ],
   "source": [
    "d.info()"
   ]
  },
  {
   "cell_type": "markdown",
   "id": "4b9a570a",
   "metadata": {},
   "source": [
    "### Write a class which takes the data set as argument and write methods for the following statistical measures without using built-in functions:"
   ]
  },
  {
   "cell_type": "code",
   "execution_count": 67,
   "id": "719cce21",
   "metadata": {},
   "outputs": [],
   "source": [
    "class Statistics:\n",
    "    def __init__(self, path):\n",
    "        self.df = pd.read_csv(path)\n",
    "\n",
    "        \n",
    "    def arithmetic_mean(self, column_name):\n",
    "        '''\n",
    "        sum of all the values in the specified column of the DataFrame.\n",
    "        number of elements (or rows) in the specified column of the DataFrame.\n",
    "        Calculation of Mean:\n",
    "        The sum of the values in the column is divided by the number of elements in the column to get the arithmetic mean\n",
    "        '''\n",
    "        \n",
    "        if column_name not in self.df.columns:\n",
    "            return None \n",
    "        else: \n",
    "            mean = sum(self.df['SepalLengthCm']) / len(self.df['SepalLengthCm'])\n",
    "            return mean\n",
    "    \n",
    "    \n",
    "    def geometric_mean(self, column_name):\n",
    "        product = 1\n",
    "        '''\n",
    "        Multiplies the current value of product by the current element (num) in the column. This is done iteratively for each element in the column\n",
    "        Calculates the geometric mean by raising the product to the power of the reciprocal of the number of elements in the column. The reciprocal is calculated\n",
    "        '''\n",
    "        for num in self.df[column_name]:\n",
    "            product *= num\n",
    "        return product ** (1.0 / len(self.df[column_name]))\n",
    "    \n",
    "    def harmonic_mean(self, column_name):\n",
    "        '''\n",
    "        The sum of all the reciprocal of each value (num) in the specified column (column_name) of the DataFrame\n",
    "        The number of elements in the specified column is divided by the sum of the reciprocals.\n",
    "        '''\n",
    "        return len(self.df[column_name]) / sum(1.0 / num for num in self.df[column_name])\n",
    "    \n",
    "    def mode(self, column_name):\n",
    "        '''\n",
    "        A for loop is used to iterate over each number (num) in the specified column of the DataFrame. \n",
    "        For each num, it checks if num is not already a key in the freq dictionary. If it’s not, it adds num as a key to the dictionary with a value of 1. \n",
    "        If num is already a key in the dictionary, it increments the value of that key by 1.\n",
    "        After the loop, the freq dictionary contains the frequency of each number in the column. \n",
    "        The mode is then calculated by finding the key with the maximum value in the freq dictionary.\n",
    "        '''\n",
    "        freq = {}\n",
    "        for num in self.df[column_name]:\n",
    "            if num not in freq:\n",
    "                freq[num] = 1\n",
    "            else:\n",
    "                freq[num] += 1\n",
    "        mode_value = max(freq, key=freq.get)\n",
    "        return mode_value\n",
    "    \n",
    "    def median(self, column_name):\n",
    "        ''' \n",
    "        midpoint (mid) of the length of the specified column (column_name).\n",
    "        the // operator performs integer division, ensuring that the result is an integer.\n",
    "        \n",
    "        median is computed as the average of these two middle values by adding them and dividing by 2.\n",
    "        '''\n",
    "        mid = len(self.df[column_name]) // 2\n",
    "        return (self.df[column_name].iloc[mid] + self.df[column_name].iloc[~mid]) / 2\n",
    "\n",
    "    def variance(self, column_name):\n",
    "        '''\n",
    "        The mean of the specified column is calculated using the arithmetic_mean method of the class. This method should return the average of the values in the column.\n",
    "        The variance is then calculated by summing the squared differences between each number (num) in the column and the mean, and then dividing by the number of elements in the column. \n",
    "        This is done using a generator expression inside the sum function.\n",
    "        '''\n",
    "        mean = self.arithmetic_mean(column_name)\n",
    "        variance = sum((num - mean) ** 2 for num in self.df[column_name]) / len(self.df[column_name])\n",
    "        return variance\n",
    "    \n",
    "    def standard_deviation(self, column_name):\n",
    "        '''\n",
    "        it’s being used here to take the square root of the variance. \n",
    "        The square root of the variance gives us the standard deviation.\n",
    "        '''\n",
    "        return self.variance(column_name) ** 0.5\n",
    "    \n",
    "    def max(self, column_name):\n",
    "        '''\n",
    "        find the maximum value in the specified column (column_name) of the DataFrame\n",
    "        '''\n",
    "        return max(self.df[column_name])\n",
    "\n",
    "    def min(self, column_name):\n",
    "        '''\n",
    "        find the minimum value in the specified column (column_name) of the DataFrame\n",
    "        '''\n",
    "        return min(self.df[column_name])\n",
    "    \n",
    "    def range(self, column_name):\n",
    "        '''\n",
    "        calculates the maximum & minimum value of the data in the specified column.\n",
    "        calculates the range by subtracting the minimum value from the maximum value.\n",
    "        '''\n",
    "        max_value = max(self.df[column_name])\n",
    "        min_value = min(self.df[column_name])\n",
    "\n",
    "        range_value = max_value - min_value\n",
    "        return range_value\n",
    "    \n",
    "    def iqr(self, column_name):\n",
    "        values = list(self.df[column_name])\n",
    "        n = len(values)\n",
    "        for i in range(n):\n",
    "            for j in range(0, n - i - 1):\n",
    "                if values[j] > values[j + 1]:\n",
    "                    values[j], values[j + 1] = values[j + 1], values[j]\n",
    "        '''\n",
    "        calculate the indices for the first quartile (Q1) and the third quartile (Q3). \n",
    "        In this case, it’s using the simplest method of quartile calculation, where Q1 is the value at 25% of the ordered data and Q3 is the value at 75% of the ordered data.\n",
    "        '''\n",
    "        q1_index = n // 4\n",
    "        q3_index = n * 3 // 4\n",
    "\n",
    "        q1 = values[q1_index]\n",
    "        q3 = values[q3_index]\n",
    "\n",
    "        return q3 - q1   # calculates the IQR by subtracting Q1 from Q3\n",
    "    \n",
    "    def quartiles(self, column_name):\n",
    "        '''\n",
    "        calculate the indices for the first quartile (Q1), the second quartile (Q2, also known as the median) and the third quartile (Q3). \n",
    "        The // operator performs integer (floor) division\n",
    "        '''\n",
    "        column = self.df[column_name]\n",
    "        q1_index = len(column) // 4\n",
    "        q2_index = len(column) // 2\n",
    "        q3_index = len(column) * 3 // 4\n",
    "        \n",
    "        q1 = column[q1_index]\n",
    "        q2 = column[q2_index]\n",
    "        q3 = column[q3_index]\n",
    "\n",
    "        return q1, q2, q3\n",
    "    \n",
    "    def coefficient_of_range(self, column_name):\n",
    "        '''\n",
    "        finds the maximum and minimum value in the column specified by column_name in the DataFrame\n",
    "        calculates the range of the column, which is the difference between the maximum and minimum values\n",
    "        calculates the coefficient of range, which is the ratio of the range to the sum of the maximum and minimum values. \n",
    "        The coefficient of range is a measure of relative dispersion in a distribution and it varies between 0 and 1.\n",
    "        '''\n",
    "        max_value = max(self.df[column_name])\n",
    "        min_value = min(self.df[column_name])\n",
    "        range_value = max_value - min_value\n",
    "        coefficient_of_range_value = range_value / (max_value + min_value)\n",
    "        return coefficient_of_range_value\n",
    "    \n",
    "    def coefficient_of_variation(self, column_name):\n",
    "        '''\n",
    "        calculates the coefficient of variation, which is the ratio of the standard deviation to the mean. \n",
    "        The coefficient of variation is a useful statistic for comparing the degree of variation from one data series to another\n",
    "        '''\n",
    "        return self.standard_deviation(column_name) / self.arithmetic_mean(column_name)\n",
    "    \n",
    "    def coefficient_of_standard_deviation(self, column_name):\n",
    "        '''\n",
    "        calculates the arithmetic mean (average) of the values in the column specified by column_name in the DataFrame\n",
    "        calculates the standard deviation of the same column. The standard deviation is a measure of the amount of variation or dispersion in a set of values. \n",
    "        It is calculated as the square root of the average of the squared differences from the mean\n",
    "        find the maximum and minimum values in the column and calculate the range by using min and max values\n",
    "        calculates the coefficient of standard deviation, which is the ratio of the standard deviation to the range. \n",
    "        The coefficient of standard deviation is a measure of relative variability in a distribution\n",
    "        '''\n",
    "        mean = sum(self.df[column_name]) / len(self.df[column_name])\n",
    "        std_dev = (sum((x - mean) ** 2 for x in self.df[column_name]) / len(self.df[column_name])) ** 0.5\n",
    "        max_value = max(self.df[column_name])\n",
    "        min_value = min(self.df[column_name])\n",
    "        range_value = max_value - min_value\n",
    "        coefficient_of_std_dev_value = std_dev / range_value\n",
    "        return coefficient_of_std_dev_value\n",
    "\n",
    "    \n",
    "    def covariance(self, column_name1, column_name2):\n",
    "        '''\n",
    "        Calculates the correlation between two columns in the DataFrame.\n",
    "\n",
    "        Parameters:\n",
    "        - column_name1 (str): The name of the first column.\n",
    "        - column_name2 (str): The name of the second column.\n",
    "\n",
    "        Returns:\n",
    "        - float: The correlation coefficient between the two columns.\n",
    "        '''\n",
    "        mean_x = self.df[column_name1].mean()\n",
    "        mean_y = self.df[column_name2].mean()\n",
    "\n",
    "        covariation = ((self.df[column_name1] - mean_x) * (self.df[column_name2] - mean_y)).sum() / (len(self.df) - 1)\n",
    "        return covariation\n",
    "    \n",
    "    def correlation(self, column_name1, column_name2):\n",
    "        '''\n",
    "        Calculate the correlation coefficient between two columns in the DataFrame.\n",
    "\n",
    "    Parameters:\n",
    "    - column_name1 (str): Name of the first column.\n",
    "    - column_name2 (str): Name of the second column.\n",
    "\n",
    "    Returns:\n",
    "    float: The correlation coefficient between the specified columns.\n",
    "\n",
    "    This method calculates the correlation coefficient between two columns using\n",
    "    the formula:\n",
    "\n",
    "    correlation = numerator / (denominator1**0.5 * denominator2**0.5)\n",
    "\n",
    "    where:\n",
    "    - numerator is the sum of the product of the differences between each value \n",
    "      and the mean of the respective columns,\n",
    "    - denominator1 is the sum of the squared differences between each value \n",
    "      and the mean of the first column,\n",
    "    - denominator2 is the sum of the squared differences between each value \n",
    "      and the mean of the second column.\n",
    "\n",
    "    Note:\n",
    "    The method assumes that the lengths of the two columns are the same.\n",
    "        '''\n",
    "        \n",
    "        mean1 = self.df[column_name1].mean()\n",
    "        mean2 = self.df[column_name2].mean()\n",
    "    \n",
    "        numerator = sum((self.df[column_name1][i] - mean1) * (self.df[column_name2][i] - mean2) for i in range(len(self.df)))\n",
    "        denominator1 = sum((self.df[column_name1][i] - mean1)**2 for i in range(len(self.df)))\n",
    "        denominator2 = sum((self.df[column_name2][i] - mean2)**2 for i in range(len(self.df)))\n",
    "    \n",
    "        correlation = numerator / (denominator1**0.5 * denominator2**0.5)\n",
    "    \n",
    "        return correlation"
   ]
  },
  {
   "cell_type": "code",
   "execution_count": 68,
   "id": "8d888aef",
   "metadata": {},
   "outputs": [],
   "source": [
    "path = r\"C:\\Users\\master\\Downloads\\Iris.csv\"\n",
    "iris = Statistics(path)"
   ]
  },
  {
   "cell_type": "code",
   "execution_count": 39,
   "id": "90f833d6",
   "metadata": {},
   "outputs": [
    {
     "data": {
      "text/plain": [
       "5.843333333333335"
      ]
     },
     "execution_count": 39,
     "metadata": {},
     "output_type": "execute_result"
    }
   ],
   "source": [
    "a_mean = iris.arithmetic_mean('SepalLengthCm')\n",
    "a_mean"
   ]
  },
  {
   "cell_type": "code",
   "execution_count": 40,
   "id": "8ae57f1d",
   "metadata": {},
   "outputs": [
    {
     "data": {
      "text/plain": [
       "5.785720390427729"
      ]
     },
     "execution_count": 40,
     "metadata": {},
     "output_type": "execute_result"
    }
   ],
   "source": [
    "iris.geometric_mean('SepalLengthCm')"
   ]
  },
  {
   "cell_type": "code",
   "execution_count": 41,
   "id": "2a3098a0",
   "metadata": {},
   "outputs": [
    {
     "data": {
      "text/plain": [
       "5.728905057850834"
      ]
     },
     "execution_count": 41,
     "metadata": {},
     "output_type": "execute_result"
    }
   ],
   "source": [
    "iris.harmonic_mean('SepalLengthCm')"
   ]
  },
  {
   "cell_type": "code",
   "execution_count": 42,
   "id": "fc6c0683",
   "metadata": {},
   "outputs": [
    {
     "data": {
      "text/plain": [
       "5.0"
      ]
     },
     "execution_count": 42,
     "metadata": {},
     "output_type": "execute_result"
    }
   ],
   "source": [
    "iris.mode('SepalLengthCm')"
   ]
  },
  {
   "cell_type": "code",
   "execution_count": 43,
   "id": "dfb6df8b",
   "metadata": {},
   "outputs": [
    {
     "data": {
      "text/plain": [
       "6.5"
      ]
     },
     "execution_count": 43,
     "metadata": {},
     "output_type": "execute_result"
    }
   ],
   "source": [
    "iris.median('SepalLengthCm')"
   ]
  },
  {
   "cell_type": "code",
   "execution_count": 44,
   "id": "371afbdc",
   "metadata": {},
   "outputs": [
    {
     "data": {
      "text/plain": [
       "0.6811222222222222"
      ]
     },
     "execution_count": 44,
     "metadata": {},
     "output_type": "execute_result"
    }
   ],
   "source": [
    "iris.variance('SepalLengthCm')"
   ]
  },
  {
   "cell_type": "code",
   "execution_count": 45,
   "id": "20f60d8e",
   "metadata": {},
   "outputs": [
    {
     "data": {
      "text/plain": [
       "0.8253012917851409"
      ]
     },
     "execution_count": 45,
     "metadata": {},
     "output_type": "execute_result"
    }
   ],
   "source": [
    "iris.standard_deviation('SepalLengthCm')"
   ]
  },
  {
   "cell_type": "code",
   "execution_count": 46,
   "id": "4c45c87a",
   "metadata": {},
   "outputs": [
    {
     "data": {
      "text/plain": [
       "7.9"
      ]
     },
     "execution_count": 46,
     "metadata": {},
     "output_type": "execute_result"
    }
   ],
   "source": [
    "iris.max('SepalLengthCm')"
   ]
  },
  {
   "cell_type": "code",
   "execution_count": 47,
   "id": "0ce0ea93",
   "metadata": {},
   "outputs": [
    {
     "data": {
      "text/plain": [
       "4.3"
      ]
     },
     "execution_count": 47,
     "metadata": {},
     "output_type": "execute_result"
    }
   ],
   "source": [
    "iris.min('SepalLengthCm')"
   ]
  },
  {
   "cell_type": "code",
   "execution_count": 48,
   "id": "0cd80fd4",
   "metadata": {},
   "outputs": [
    {
     "data": {
      "text/plain": [
       "3.6000000000000005"
      ]
     },
     "execution_count": 48,
     "metadata": {},
     "output_type": "execute_result"
    }
   ],
   "source": [
    "iris.range('SepalLengthCm')"
   ]
  },
  {
   "cell_type": "code",
   "execution_count": 49,
   "id": "7cf63749",
   "metadata": {},
   "outputs": [
    {
     "data": {
      "text/plain": [
       "1.3000000000000007"
      ]
     },
     "execution_count": 49,
     "metadata": {},
     "output_type": "execute_result"
    }
   ],
   "source": [
    "iris.iqr('SepalLengthCm')"
   ]
  },
  {
   "cell_type": "code",
   "execution_count": 50,
   "id": "a221ba76",
   "metadata": {},
   "outputs": [
    {
     "data": {
      "text/plain": [
       "(4.9, 6.6, 6.8)"
      ]
     },
     "execution_count": 50,
     "metadata": {},
     "output_type": "execute_result"
    }
   ],
   "source": [
    "iris.quartiles('SepalLengthCm')"
   ]
  },
  {
   "cell_type": "code",
   "execution_count": 51,
   "id": "f78d07a3",
   "metadata": {},
   "outputs": [
    {
     "data": {
      "text/plain": [
       "0.2950819672131148"
      ]
     },
     "execution_count": 51,
     "metadata": {},
     "output_type": "execute_result"
    }
   ],
   "source": [
    "iris.coefficient_of_range('SepalLengthCm')"
   ]
  },
  {
   "cell_type": "code",
   "execution_count": 52,
   "id": "6d595aa1",
   "metadata": {},
   "outputs": [
    {
     "data": {
      "text/plain": [
       "0.1412380989934639"
      ]
     },
     "execution_count": 52,
     "metadata": {},
     "output_type": "execute_result"
    }
   ],
   "source": [
    "iris.coefficient_of_variation('SepalLengthCm')"
   ]
  },
  {
   "cell_type": "code",
   "execution_count": 53,
   "id": "80ed6299",
   "metadata": {},
   "outputs": [
    {
     "data": {
      "text/plain": [
       "0.22925035882920577"
      ]
     },
     "execution_count": 53,
     "metadata": {},
     "output_type": "execute_result"
    }
   ],
   "source": [
    "iris.coefficient_of_standard_deviation('SepalLengthCm')"
   ]
  },
  {
   "cell_type": "code",
   "execution_count": 69,
   "id": "8422b3c7",
   "metadata": {},
   "outputs": [
    {
     "data": {
      "text/plain": [
       "1.273682326621924"
      ]
     },
     "execution_count": 69,
     "metadata": {},
     "output_type": "execute_result"
    }
   ],
   "source": [
    "iris.covariance('SepalLengthCm', 'PetalLengthCm')"
   ]
  },
  {
   "cell_type": "code",
   "execution_count": 70,
   "id": "b2e8a682",
   "metadata": {},
   "outputs": [
    {
     "data": {
      "text/plain": [
       "-0.10936924995064931"
      ]
     },
     "execution_count": 70,
     "metadata": {},
     "output_type": "execute_result"
    }
   ],
   "source": [
    "iris.correlation('SepalLengthCm', 'SepalWidthCm')"
   ]
  },
  {
   "cell_type": "code",
   "execution_count": null,
   "id": "ae82ce69",
   "metadata": {},
   "outputs": [],
   "source": []
  },
  {
   "cell_type": "code",
   "execution_count": null,
   "id": "d5ffe80c",
   "metadata": {},
   "outputs": [],
   "source": []
  }
 ],
 "metadata": {
  "kernelspec": {
   "display_name": "Python 3 (ipykernel)",
   "language": "python",
   "name": "python3"
  },
  "language_info": {
   "codemirror_mode": {
    "name": "ipython",
    "version": 3
   },
   "file_extension": ".py",
   "mimetype": "text/x-python",
   "name": "python",
   "nbconvert_exporter": "python",
   "pygments_lexer": "ipython3",
   "version": "3.11.5"
  }
 },
 "nbformat": 4,
 "nbformat_minor": 5
}
