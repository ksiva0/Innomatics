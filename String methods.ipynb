{
 "cells": [
  {
   "cell_type": "markdown",
   "id": "d9672ee6",
   "metadata": {},
   "source": [
    "## <u>String methods</u>"
   ]
  },
  {
   "cell_type": "markdown",
   "id": "c06e40de",
   "metadata": {},
   "source": [
    "### find()"
   ]
  },
  {
   "cell_type": "markdown",
   "id": "9561e997",
   "metadata": {},
   "source": [
    "find() method returns the lowest index or first occurrence of the substring if it is found in a given string. If it is not found, then it returns -1.\n",
    "\n",
    "<b>Syntax</b>: str_obj.find(sub, start, end)"
   ]
  },
  {
   "cell_type": "code",
   "execution_count": 1,
   "id": "2b94deab",
   "metadata": {},
   "outputs": [
    {
     "name": "stdout",
     "output_type": "stream",
     "text": [
      "25\n"
     ]
    }
   ],
   "source": [
    "x = 'Believe in yourself. You are braver than you think, more talented than you know, and capable of more than you imagine'\n",
    "\n",
    "print(x.find('a'))"
   ]
  },
  {
   "cell_type": "markdown",
   "id": "c35ce2fa",
   "metadata": {},
   "source": [
    "<b>Note</b>:-\n",
    "\n",
    "* If the start and end indexes are not provided then by default it takes 0 and length-1 as starting and ending indexes where ending indexes are not included in our search.\n",
    "* The find() method is similar to index(). The only difference is find() returns -1 if the searched string is not found and index() throws an exception in this case."
   ]
  },
  {
   "cell_type": "markdown",
   "id": "331a4e74",
   "metadata": {},
   "source": [
    "### rfind()"
   ]
  },
  {
   "cell_type": "markdown",
   "id": "a63043f4",
   "metadata": {},
   "source": [
    "rfind() method returns the rightmost index of the substring if found in the given string. If not found then it returns -1."
   ]
  },
  {
   "cell_type": "markdown",
   "id": "3ca93bb2",
   "metadata": {},
   "source": [
    "<b>Syntax</b>:-   str.rfind(sub, start, end)"
   ]
  },
  {
   "cell_type": "markdown",
   "id": "24698325",
   "metadata": {},
   "source": [
    "<b>Note</b>: \n",
    "\n",
    "    If start and end indexes are not provided then, by default it takes 0 and length-1 as starting and ending indexes where ending indexes are not included in our search."
   ]
  },
  {
   "cell_type": "code",
   "execution_count": 16,
   "id": "45c9c94a",
   "metadata": {},
   "outputs": [
    {
     "data": {
      "text/plain": [
       "75"
      ]
     },
     "execution_count": 16,
     "metadata": {},
     "output_type": "execute_result"
    }
   ],
   "source": [
    "x = 'Believe in yourself. You are braver than you think, more talented than you know, and capable of more than you imagine'\n",
    "x.rfind('know')"
   ]
  },
  {
   "cell_type": "code",
   "execution_count": 21,
   "id": "0b00ff1d",
   "metadata": {},
   "outputs": [
    {
     "data": {
      "text/plain": [
       "96"
      ]
     },
     "execution_count": 21,
     "metadata": {},
     "output_type": "execute_result"
    }
   ],
   "source": [
    "x = 'Believe in yourself. You are braver than you think, more talented than you know, and capable of more than you imagine'\n",
    "x.rfind('more',50)"
   ]
  },
  {
   "cell_type": "code",
   "execution_count": 24,
   "id": "20fd578d",
   "metadata": {},
   "outputs": [
    {
     "data": {
      "text/plain": [
       "-1"
      ]
     },
     "execution_count": 24,
     "metadata": {},
     "output_type": "execute_result"
    }
   ],
   "source": [
    "x = 'Believe in yourself. You are braver than you think, more talented than you know, and capable of more than you imagine'\n",
    "x.rfind('more',60,50)"
   ]
  },
  {
   "cell_type": "markdown",
   "id": "d457982c",
   "metadata": {},
   "source": [
    "### count()"
   ]
  },
  {
   "cell_type": "markdown",
   "id": "81804dc1",
   "metadata": {},
   "source": [
    "count() function is an inbuilt function in Python programming language that returns the number of occurrences of a substring in the given string."
   ]
  },
  {
   "cell_type": "markdown",
   "id": "89d34118",
   "metadata": {},
   "source": [
    "<b>Syntax</b>: string. Count(substring, start= …., end= ….)"
   ]
  },
  {
   "cell_type": "code",
   "execution_count": 25,
   "id": "cf67bc9e",
   "metadata": {},
   "outputs": [
    {
     "name": "stdout",
     "output_type": "stream",
     "text": [
      "4\n"
     ]
    }
   ],
   "source": [
    "x = 'Believe in yourself. You are braver than you think, more talented than you know, and capable of more than you imagine'\n",
    "print(x.count('you'))"
   ]
  },
  {
   "cell_type": "code",
   "execution_count": 26,
   "id": "2d904ce7",
   "metadata": {},
   "outputs": [
    {
     "name": "stdout",
     "output_type": "stream",
     "text": [
      "3\n"
     ]
    }
   ],
   "source": [
    "x = 'Believe in yourself. You are braver than you think, more talented than you know, and capable of more than you imagine'\n",
    "print(x.count('than'))"
   ]
  },
  {
   "cell_type": "markdown",
   "id": "cc1cd245",
   "metadata": {},
   "source": [
    "* count() will count the occurrences of single character in the string using <b>Regular Expression</b>"
   ]
  },
  {
   "cell_type": "code",
   "execution_count": 29,
   "id": "1d622d19",
   "metadata": {},
   "outputs": [
    {
     "name": "stdout",
     "output_type": "stream",
     "text": [
      "4\n"
     ]
    }
   ],
   "source": [
    "import re\n",
    "\n",
    "x = 'Believe in yourself. You are braver than you think, more talented than you know, and capable of more than you imagine'\n",
    "y = 'you'\n",
    "z = len(re.findall(y,x))\n",
    "print(z)"
   ]
  },
  {
   "cell_type": "markdown",
   "id": "96d29d2b",
   "metadata": {},
   "source": [
    "* count() will count the occurrences of a given string using Start and end parameters and pass all three arguments to find the occurrence of a substring."
   ]
  },
  {
   "cell_type": "code",
   "execution_count": 30,
   "id": "f4566a0c",
   "metadata": {},
   "outputs": [
    {
     "data": {
      "text/plain": [
       "2"
      ]
     },
     "execution_count": 30,
     "metadata": {},
     "output_type": "execute_result"
    }
   ],
   "source": [
    "x = 'Believe in yourself. You are braver than you think, more talented than you know, and capable of more than you imagine'\n",
    "\n",
    "x.count('you',4,50)"
   ]
  },
  {
   "cell_type": "markdown",
   "id": "9e429646",
   "metadata": {},
   "source": [
    "### index()"
   ]
  },
  {
   "cell_type": "markdown",
   "id": "143af60e",
   "metadata": {},
   "source": [
    "index() Method allows a user to find the index of the first occurrence of an existing substring."
   ]
  },
  {
   "cell_type": "markdown",
   "id": "d44981c1",
   "metadata": {},
   "source": [
    "<b>Syntax</b>:- string_obj.index(substring, start, end)"
   ]
  },
  {
   "cell_type": "code",
   "execution_count": 31,
   "id": "9ceadeae",
   "metadata": {},
   "outputs": [
    {
     "data": {
      "text/plain": [
       "29"
      ]
     },
     "execution_count": 31,
     "metadata": {},
     "output_type": "execute_result"
    }
   ],
   "source": [
    "x = 'Believe in yourself. You are braver than you think, more talented than you know, and capable of more than you imagine'\n",
    "\n",
    "x.index('braver')"
   ]
  },
  {
   "cell_type": "markdown",
   "id": "7d88edf1",
   "metadata": {},
   "source": [
    "<b>Note</b>:-\n",
    "\n",
    "    Raises ValueError if the argument string is not found or the index is out of range."
   ]
  },
  {
   "cell_type": "code",
   "execution_count": 36,
   "id": "2ffb2243",
   "metadata": {},
   "outputs": [
    {
     "ename": "ValueError",
     "evalue": "substring not found",
     "output_type": "error",
     "traceback": [
      "\u001b[1;31m---------------------------------------------------------------------------\u001b[0m",
      "\u001b[1;31mValueError\u001b[0m                                Traceback (most recent call last)",
      "Cell \u001b[1;32mIn[36], line 3\u001b[0m\n\u001b[0;32m      1\u001b[0m x \u001b[38;5;241m=\u001b[39m \u001b[38;5;124m'\u001b[39m\u001b[38;5;124mBelieve in yourself. You are braver than you think, more talented than you know, and capable of more than you imagine\u001b[39m\u001b[38;5;124m'\u001b[39m\n\u001b[1;32m----> 3\u001b[0m x\u001b[38;5;241m.\u001b[39mindex(\u001b[38;5;124m'\u001b[39m\u001b[38;5;124mdream\u001b[39m\u001b[38;5;124m'\u001b[39m)\n",
      "\u001b[1;31mValueError\u001b[0m: substring not found"
     ]
    }
   ],
   "source": [
    "x = 'Believe in yourself. You are braver than you think, more talented than you know, and capable of more than you imagine'\n",
    "\n",
    "x.index('dream')"
   ]
  },
  {
   "cell_type": "markdown",
   "id": "35003f99",
   "metadata": {},
   "source": [
    "### rindex()"
   ]
  },
  {
   "cell_type": "markdown",
   "id": "21f53f8c",
   "metadata": {},
   "source": [
    "rindex() method returns the highest index of the substring inside the string if the substring is found. Otherwise, it raises ValueError.\n"
   ]
  },
  {
   "cell_type": "markdown",
   "id": "0c9dca21",
   "metadata": {},
   "source": [
    "<b>Syntax</b>:-  str.rindex(sub, start, end)"
   ]
  },
  {
   "cell_type": "code",
   "execution_count": 34,
   "id": "7f0bc19c",
   "metadata": {},
   "outputs": [
    {
     "data": {
      "text/plain": [
       "81"
      ]
     },
     "execution_count": 34,
     "metadata": {},
     "output_type": "execute_result"
    }
   ],
   "source": [
    "x = 'Believe in yourself. You are braver than you think, more talented than you know, and capable of more than you imagine'\n",
    "x.rindex('and')"
   ]
  },
  {
   "cell_type": "code",
   "execution_count": 35,
   "id": "1fa22efb",
   "metadata": {},
   "outputs": [
    {
     "data": {
      "text/plain": [
       "45"
      ]
     },
     "execution_count": 35,
     "metadata": {},
     "output_type": "execute_result"
    }
   ],
   "source": [
    "x.rindex('think')"
   ]
  },
  {
   "cell_type": "markdown",
   "id": "1594228a",
   "metadata": {},
   "source": [
    "<b>Note</b>: \n",
    "\n",
    "    If start and end indexes are not provided then by default Python String rindex() Method takes 0 and length-1 as starting and ending indexes where ending indexes is not included in our search."
   ]
  },
  {
   "cell_type": "code",
   "execution_count": 37,
   "id": "5973194c",
   "metadata": {},
   "outputs": [
    {
     "ename": "ValueError",
     "evalue": "substring not found",
     "output_type": "error",
     "traceback": [
      "\u001b[1;31m---------------------------------------------------------------------------\u001b[0m",
      "\u001b[1;31mValueError\u001b[0m                                Traceback (most recent call last)",
      "Cell \u001b[1;32mIn[37], line 3\u001b[0m\n\u001b[0;32m      1\u001b[0m x \u001b[38;5;241m=\u001b[39m \u001b[38;5;124m'\u001b[39m\u001b[38;5;124mBelieve in yourself. You are braver than you think, more talented than you know, and capable of more than you imagine\u001b[39m\u001b[38;5;124m'\u001b[39m\n\u001b[1;32m----> 3\u001b[0m x\u001b[38;5;241m.\u001b[39mindex(\u001b[38;5;124m'\u001b[39m\u001b[38;5;124mdream\u001b[39m\u001b[38;5;124m'\u001b[39m)\n",
      "\u001b[1;31mValueError\u001b[0m: substring not found"
     ]
    }
   ],
   "source": [
    "x = 'Believe in yourself. You are braver than you think, more talented than you know, and capable of more than you imagine'\n",
    "\n",
    "x.index('dream')"
   ]
  },
  {
   "cell_type": "markdown",
   "id": "4246aa27",
   "metadata": {},
   "source": [
    "### replace()"
   ]
  },
  {
   "cell_type": "markdown",
   "id": "9ac0f938",
   "metadata": {},
   "source": [
    "replace() in Python returns a copy of the string where occurrences of a substring are replaced with another substring.\n"
   ]
  },
  {
   "cell_type": "markdown",
   "id": "fc51f0f3",
   "metadata": {},
   "source": [
    "<b>Syntax</b>: string.replace(old, new, count)"
   ]
  },
  {
   "cell_type": "code",
   "execution_count": 41,
   "id": "02efbd0e",
   "metadata": {},
   "outputs": [
    {
     "data": {
      "text/plain": [
       "'Believe IN yourself. You are braver than you thINk, more talented than you know, and capable of more than you imagINe'"
      ]
     },
     "execution_count": 41,
     "metadata": {},
     "output_type": "execute_result"
    }
   ],
   "source": [
    "x = 'Believe in yourself. You are braver than you think, more talented than you know, and capable of more than you imagine'\n",
    "\n",
    "x.replace('in','IN')"
   ]
  },
  {
   "cell_type": "code",
   "execution_count": 45,
   "id": "24b8189c",
   "metadata": {},
   "outputs": [
    {
     "data": {
      "text/plain": [
       "'Believe IN yourself. You are braver than you think, more talented than you know, and capable of more than you imagine'"
      ]
     },
     "execution_count": 45,
     "metadata": {},
     "output_type": "execute_result"
    }
   ],
   "source": [
    "x = 'Believe in yourself. You are braver than you think, more talented than you know, and capable of more than you imagine'\n",
    "\n",
    "x.replace('in','IN',1)"
   ]
  },
  {
   "cell_type": "markdown",
   "id": "e43d7603",
   "metadata": {},
   "source": [
    "### split()"
   ]
  },
  {
   "cell_type": "markdown",
   "id": "a39211d5",
   "metadata": {},
   "source": [
    " split() method in Python split a string into a list of strings after breaking the given string by the specified separator."
   ]
  },
  {
   "cell_type": "markdown",
   "id": "142c8518",
   "metadata": {},
   "source": [
    "<b>Syntax</b>:- str.split(separator, maxsplit)"
   ]
  },
  {
   "cell_type": "code",
   "execution_count": 46,
   "id": "e029f9ec",
   "metadata": {},
   "outputs": [
    {
     "data": {
      "text/plain": [
       "['Believe',\n",
       " 'in',\n",
       " 'yourself.',\n",
       " 'You',\n",
       " 'are',\n",
       " 'braver',\n",
       " 'than',\n",
       " 'you',\n",
       " 'think,',\n",
       " 'more',\n",
       " 'talented',\n",
       " 'than',\n",
       " 'you',\n",
       " 'know,',\n",
       " 'and',\n",
       " 'capable',\n",
       " 'of',\n",
       " 'more',\n",
       " 'than',\n",
       " 'you',\n",
       " 'imagine']"
      ]
     },
     "execution_count": 46,
     "metadata": {},
     "output_type": "execute_result"
    }
   ],
   "source": [
    "x = 'Believe in yourself. You are braver than you think, more talented than you know, and capable of more than you imagine'\n",
    "\n",
    "x.split()"
   ]
  },
  {
   "cell_type": "code",
   "execution_count": 48,
   "id": "123e020c",
   "metadata": {},
   "outputs": [
    {
     "data": {
      "text/plain": [
       "['Believe',\n",
       " 'in',\n",
       " 'yourself.',\n",
       " 'You',\n",
       " 'are',\n",
       " 'braver than you think, more talented than you know, and capable of more than you imagine']"
      ]
     },
     "execution_count": 48,
     "metadata": {},
     "output_type": "execute_result"
    }
   ],
   "source": [
    "x = 'Believe in yourself. You are braver than you think, more talented than you know, and capable of more than you imagine'\n",
    "\n",
    "x.split(' ', maxsplit = 5)"
   ]
  },
  {
   "cell_type": "code",
   "execution_count": 61,
   "id": "914477f8",
   "metadata": {},
   "outputs": [
    {
     "data": {
      "text/plain": [
       "['Believe in yourself. You are braver than you think, more talented than you know, and capable of more than you imagine']"
      ]
     },
     "execution_count": 61,
     "metadata": {},
     "output_type": "execute_result"
    }
   ],
   "source": [
    "x = 'Believe in yourself. You are braver than you think, more talented than you know, and capable of more than you imagine'\n",
    "\n",
    "x.split('\\n')"
   ]
  },
  {
   "cell_type": "markdown",
   "id": "1a51c1e3",
   "metadata": {},
   "source": [
    "### rsplit()"
   ]
  },
  {
   "cell_type": "markdown",
   "id": "289578d5",
   "metadata": {},
   "source": [
    "rsplit() method returns a list of strings after breaking the given string from the right side by the specified separator."
   ]
  },
  {
   "cell_type": "markdown",
   "id": "1a3c0712",
   "metadata": {},
   "source": [
    "<b>note</b>:- \n",
    "\n",
    "    We will not get any error even if we are not passing any argument."
   ]
  },
  {
   "cell_type": "markdown",
   "id": "cfb9a45e",
   "metadata": {},
   "source": [
    "<b>Syntax</b>:  str.rsplit(separator, maxsplit)"
   ]
  },
  {
   "cell_type": "code",
   "execution_count": 51,
   "id": "ae47c9e2",
   "metadata": {},
   "outputs": [
    {
     "data": {
      "text/plain": [
       "['Believe',\n",
       " 'in',\n",
       " 'yourself.',\n",
       " 'You',\n",
       " 'are',\n",
       " 'braver',\n",
       " 'than',\n",
       " 'you',\n",
       " 'think,',\n",
       " 'more',\n",
       " 'talented',\n",
       " 'than',\n",
       " 'you',\n",
       " 'know,',\n",
       " 'and',\n",
       " 'capable',\n",
       " 'of',\n",
       " 'more',\n",
       " 'than',\n",
       " 'you',\n",
       " 'imagine']"
      ]
     },
     "execution_count": 51,
     "metadata": {},
     "output_type": "execute_result"
    }
   ],
   "source": [
    "x = 'Believe in yourself. You are braver than you think, more talented than you know, and capable of more than you imagine'\n",
    "\n",
    "x.rsplit()"
   ]
  },
  {
   "cell_type": "code",
   "execution_count": 53,
   "id": "21097891",
   "metadata": {},
   "outputs": [
    {
     "data": {
      "text/plain": [
       "['Believe in yourself. You are braver than you think, more talented than you know, and capable of more',\n",
       " 'than',\n",
       " 'you',\n",
       " 'imagine']"
      ]
     },
     "execution_count": 53,
     "metadata": {},
     "output_type": "execute_result"
    }
   ],
   "source": [
    "x = 'Believe in yourself. You are braver than you think, more talented than you know, and capable of more than you imagine'\n",
    "\n",
    "x.rsplit(' ',maxsplit = 3)"
   ]
  },
  {
   "cell_type": "markdown",
   "id": "f6d75d2e",
   "metadata": {},
   "source": [
    "### partition()"
   ]
  },
  {
   "cell_type": "markdown",
   "id": "d8369603",
   "metadata": {},
   "source": [
    "partition() method splits the string at the first occurrence of the separator and returns a tuple containing the part before the separator, the separator, and the part after the separator."
   ]
  },
  {
   "cell_type": "markdown",
   "id": "f31beb38",
   "metadata": {},
   "source": [
    "<b>Syntax</b>: string.partition(separator)"
   ]
  },
  {
   "cell_type": "code",
   "execution_count": 59,
   "id": "afdf751e",
   "metadata": {},
   "outputs": [
    {
     "data": {
      "text/plain": [
       "('Believe in yourself. You are braver than you think, ',\n",
       " 'more talented',\n",
       " ' than you know, and capable of more than you imagine')"
      ]
     },
     "execution_count": 59,
     "metadata": {},
     "output_type": "execute_result"
    }
   ],
   "source": [
    "x = 'Believe in yourself. You are braver than you think, more talented than you know, and capable of more than you imagine'\n",
    "\n",
    "x.partition('more talented')"
   ]
  },
  {
   "cell_type": "code",
   "execution_count": 62,
   "id": "3b252244",
   "metadata": {},
   "outputs": [
    {
     "data": {
      "text/plain": [
       "('Believe',\n",
       " ' ',\n",
       " 'in yourself. You are braver than you think, more talented than you know, and capable of more than you imagine')"
      ]
     },
     "execution_count": 62,
     "metadata": {},
     "output_type": "execute_result"
    }
   ],
   "source": [
    "x = 'Believe in yourself. You are braver than you think, more talented than you know, and capable of more than you imagine'\n",
    "\n",
    "x.partition(' ')"
   ]
  },
  {
   "cell_type": "markdown",
   "id": "735832e0",
   "metadata": {},
   "source": [
    "### rpartition()"
   ]
  },
  {
   "cell_type": "markdown",
   "id": "65959315",
   "metadata": {},
   "source": [
    "rpartition() Method split the given string into three parts. rpartition() starts looking for separator from the right side, till the separator is found and return a tuple which contains part of the string before separator, the separator and the part after the separator."
   ]
  },
  {
   "cell_type": "markdown",
   "id": "d0282c05",
   "metadata": {},
   "source": [
    "<b>Syntax</b>:-  string.rpartition(separator)"
   ]
  },
  {
   "cell_type": "code",
   "execution_count": 63,
   "id": "279372d2",
   "metadata": {},
   "outputs": [
    {
     "data": {
      "text/plain": [
       "('Believe in yourself. You are braver than you think, more talented than you know, and capable of more than you',\n",
       " ' ',\n",
       " 'imagine')"
      ]
     },
     "execution_count": 63,
     "metadata": {},
     "output_type": "execute_result"
    }
   ],
   "source": [
    "x = 'Believe in yourself. You are braver than you think, more talented than you know, and capable of more than you imagine'\n",
    "\n",
    "x.rpartition(' ')"
   ]
  },
  {
   "cell_type": "code",
   "execution_count": 64,
   "id": "e9aeef5c",
   "metadata": {},
   "outputs": [
    {
     "data": {
      "text/plain": [
       "('Believe in yourself. You are braver than you think, ',\n",
       " 'more talented than you know',\n",
       " ', and capable of more than you imagine')"
      ]
     },
     "execution_count": 64,
     "metadata": {},
     "output_type": "execute_result"
    }
   ],
   "source": [
    "x = 'Believe in yourself. You are braver than you think, more talented than you know, and capable of more than you imagine'\n",
    "\n",
    "x.rpartition('more talented than you know')"
   ]
  },
  {
   "cell_type": "code",
   "execution_count": 65,
   "id": "15c59aed",
   "metadata": {},
   "outputs": [
    {
     "data": {
      "text/plain": [
       "('',\n",
       " '',\n",
       " 'Believe in yourself. You are braver than you think, more talented than you know, and capable of more than you imagine')"
      ]
     },
     "execution_count": 65,
     "metadata": {},
     "output_type": "execute_result"
    }
   ],
   "source": [
    "x = 'Believe in yourself. You are braver than you think, more talented than you know, and capable of more than you imagine'\n",
    "\n",
    "x.rpartition('not')"
   ]
  }
 ],
 "metadata": {
  "kernelspec": {
   "display_name": "Python 3 (ipykernel)",
   "language": "python",
   "name": "python3"
  },
  "language_info": {
   "codemirror_mode": {
    "name": "ipython",
    "version": 3
   },
   "file_extension": ".py",
   "mimetype": "text/x-python",
   "name": "python",
   "nbconvert_exporter": "python",
   "pygments_lexer": "ipython3",
   "version": "3.11.5"
  }
 },
 "nbformat": 4,
 "nbformat_minor": 5
}
