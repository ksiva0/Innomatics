{
 "cells": [
  {
   "cell_type": "markdown",
   "id": "b9e90518",
   "metadata": {},
   "source": [
    "# Special Methods in Python"
   ]
  },
  {
   "cell_type": "markdown",
   "id": "5b03aa4a",
   "metadata": {},
   "source": [
    "Special methods, also known as magic or dunder methods, are predefined methods in Python that allow us to add functionality to our classes. These methods are usually surrounded by double underscores (`__`) and have specific names.\n",
    "* Special methods allow you to customize the behavior of your custom classes, making them more Pythonic and intuitive to work with. These methods can be defined in your classes to make your objects behave like built-in Python types in various contexts"
   ]
  },
  {
   "cell_type": "markdown",
   "id": "d133a214",
   "metadata": {},
   "source": [
    "## `dir()`"
   ]
  },
  {
   "cell_type": "markdown",
   "id": "76df4502",
   "metadata": {},
   "source": [
    "dir() is a powerful inbuilt function in Python3, which returns list of the attributes and methods of any object (say functions , modules, strings, lists, dictionaries etc.)"
   ]
  },
  {
   "cell_type": "code",
   "execution_count": 1,
   "id": "ca3dda5a",
   "metadata": {},
   "outputs": [
    {
     "data": {
      "text/plain": [
       "['__abs__',\n",
       " '__add__',\n",
       " '__and__',\n",
       " '__bool__',\n",
       " '__ceil__',\n",
       " '__class__',\n",
       " '__delattr__',\n",
       " '__dir__',\n",
       " '__divmod__',\n",
       " '__doc__',\n",
       " '__eq__',\n",
       " '__float__',\n",
       " '__floor__',\n",
       " '__floordiv__',\n",
       " '__format__',\n",
       " '__ge__',\n",
       " '__getattribute__',\n",
       " '__getnewargs__',\n",
       " '__getstate__',\n",
       " '__gt__',\n",
       " '__hash__',\n",
       " '__index__',\n",
       " '__init__',\n",
       " '__init_subclass__',\n",
       " '__int__',\n",
       " '__invert__',\n",
       " '__le__',\n",
       " '__lshift__',\n",
       " '__lt__',\n",
       " '__mod__',\n",
       " '__mul__',\n",
       " '__ne__',\n",
       " '__neg__',\n",
       " '__new__',\n",
       " '__or__',\n",
       " '__pos__',\n",
       " '__pow__',\n",
       " '__radd__',\n",
       " '__rand__',\n",
       " '__rdivmod__',\n",
       " '__reduce__',\n",
       " '__reduce_ex__',\n",
       " '__repr__',\n",
       " '__rfloordiv__',\n",
       " '__rlshift__',\n",
       " '__rmod__',\n",
       " '__rmul__',\n",
       " '__ror__',\n",
       " '__round__',\n",
       " '__rpow__',\n",
       " '__rrshift__',\n",
       " '__rshift__',\n",
       " '__rsub__',\n",
       " '__rtruediv__',\n",
       " '__rxor__',\n",
       " '__setattr__',\n",
       " '__sizeof__',\n",
       " '__str__',\n",
       " '__sub__',\n",
       " '__subclasshook__',\n",
       " '__truediv__',\n",
       " '__trunc__',\n",
       " '__xor__',\n",
       " 'as_integer_ratio',\n",
       " 'bit_count',\n",
       " 'bit_length',\n",
       " 'conjugate',\n",
       " 'denominator',\n",
       " 'from_bytes',\n",
       " 'imag',\n",
       " 'numerator',\n",
       " 'real',\n",
       " 'to_bytes']"
      ]
     },
     "execution_count": 1,
     "metadata": {},
     "output_type": "execute_result"
    }
   ],
   "source": [
    "dir(int)"
   ]
  },
  {
   "cell_type": "markdown",
   "id": "d782d40d",
   "metadata": {},
   "source": [
    "## `__init__`"
   ]
  },
  {
   "cell_type": "markdown",
   "id": "afa3f211",
   "metadata": {},
   "source": [
    "The `__init__` method is the constructor method for a class. It is called automatically when an object is created from the class and is used to initialize the attributes of the object."
   ]
  },
  {
   "cell_type": "code",
   "execution_count": 13,
   "id": "17b373a2",
   "metadata": {},
   "outputs": [],
   "source": [
    "class Rectangle:\n",
    "    def __init__(self, width, height):\n",
    "        self.width = width\n",
    "        self.height = height\n",
    "\n",
    "rect = Rectangle(5, 10)"
   ]
  },
  {
   "cell_type": "markdown",
   "id": "99f54650",
   "metadata": {},
   "source": [
    "## `__str__`"
   ]
  },
  {
   "cell_type": "markdown",
   "id": "49bd9a60",
   "metadata": {},
   "source": [
    "The `__str__` method is used to define how an object should be represented as a string. It is called by the built-in `str()` function and can be useful for debugging and displaying information about the object."
   ]
  },
  {
   "cell_type": "code",
   "execution_count": 9,
   "id": "266e082e",
   "metadata": {},
   "outputs": [
    {
     "name": "stdout",
     "output_type": "stream",
     "text": [
      "Rectangle(width=5, height=10)\n"
     ]
    }
   ],
   "source": [
    "class Rectangle:\n",
    "    def __init__(self, width, height):\n",
    "        self.width = width\n",
    "        self.height = height\n",
    "\n",
    "    def __str__(self):\n",
    "        return f\"Rectangle(width={self.width}, height={self.height})\"\n",
    "\n",
    "rect = Rectangle(5, 10)\n",
    "print(rect)"
   ]
  },
  {
   "cell_type": "markdown",
   "id": "1b4d4334",
   "metadata": {},
   "source": [
    "## `__len__`"
   ]
  },
  {
   "cell_type": "markdown",
   "id": "659b4e2e",
   "metadata": {},
   "source": [
    "The `__len__` method returns the length of an object. It is called by the built-in `len()` function and can be implemented in user-defined classes to give objects a length."
   ]
  },
  {
   "cell_type": "code",
   "execution_count": 15,
   "id": "25337712",
   "metadata": {},
   "outputs": [
    {
     "name": "stdout",
     "output_type": "stream",
     "text": [
      "5\n"
     ]
    }
   ],
   "source": [
    "class MyList:\n",
    "    def __init__(self, *args):\n",
    "        self.items = list(args)\n",
    "\n",
    "    def __len__(self):\n",
    "        return len(self.items)\n",
    "\n",
    "my_list = MyList(1, 2, 3, 4, 5)\n",
    "print(len(my_list))"
   ]
  },
  {
   "cell_type": "markdown",
   "id": "866bf3b1",
   "metadata": {},
   "source": [
    "## `__add__`"
   ]
  },
  {
   "cell_type": "markdown",
   "id": "6688d44c",
   "metadata": {},
   "source": [
    "The `__add__` method is used to define the behavior of the addition operation (`+`) for objects of a class. It allows us to add two objects together in a customized way."
   ]
  },
  {
   "cell_type": "code",
   "execution_count": 18,
   "id": "a7d49a1e",
   "metadata": {},
   "outputs": [
    {
     "name": "stdout",
     "output_type": "stream",
     "text": [
      "6 8\n"
     ]
    }
   ],
   "source": [
    "class Point:\n",
    "    def __init__(self, x, y):\n",
    "        self.x = x\n",
    "        self.y = y\n",
    "\n",
    "    def __add__(self, other):\n",
    "        if isinstance(other, Point):\n",
    "            return Point(self.x + other.x, self.y + other.y)\n",
    "        else:\n",
    "            raise TypeError(\"Unsupported operand type\")\n",
    "\n",
    "point1 = Point(2, 3)\n",
    "point2 = Point(4, 5)\n",
    "result = point1 + point2\n",
    "print(result.x, result.y)"
   ]
  },
  {
   "cell_type": "markdown",
   "id": "d7b5c5e4",
   "metadata": {},
   "source": [
    "## `__eq__`"
   ]
  },
  {
   "cell_type": "markdown",
   "id": "8c73e970",
   "metadata": {},
   "source": [
    "This special method is used to compare objects for equality. It's called when using the == operator. "
   ]
  },
  {
   "cell_type": "code",
   "execution_count": 1,
   "id": "05ded5c7",
   "metadata": {},
   "outputs": [
    {
     "name": "stdout",
     "output_type": "stream",
     "text": [
      "True\n"
     ]
    }
   ],
   "source": [
    "class Point:\n",
    "    def __init__(self, x, y):\n",
    "        self.x = x\n",
    "        self.y = y\n",
    "    \n",
    "    def __eq__(self, other):\n",
    "        return self.x == other.x and self.y == other.y\n",
    "\n",
    "point1 = Point(2, 3)\n",
    "point2 = Point(2, 3)\n",
    "\n",
    "print(point1 == point2)"
   ]
  },
  {
   "cell_type": "markdown",
   "id": "62c356f4",
   "metadata": {},
   "source": [
    "## `__ne__`"
   ]
  },
  {
   "cell_type": "markdown",
   "id": "b4db31d6",
   "metadata": {},
   "source": [
    "The `__ne__` method is used to compare objects for inequality with using the != operator"
   ]
  },
  {
   "cell_type": "code",
   "execution_count": 3,
   "id": "c2a6a9e9",
   "metadata": {},
   "outputs": [
    {
     "name": "stdout",
     "output_type": "stream",
     "text": [
      "True\n"
     ]
    }
   ],
   "source": [
    "class Point:\n",
    "    def __init__(self, x, y):\n",
    "        self.x = x\n",
    "        self.y = y\n",
    "    \n",
    "    def __eq__(self, other):\n",
    "        return self.x == other.x and self.y == other.y\n",
    "\n",
    "point1 = Point(2, 3)\n",
    "point2 = Point(3, 3)\n",
    "\n",
    "print(point1 != point2)"
   ]
  },
  {
   "cell_type": "markdown",
   "id": "6197ebb2",
   "metadata": {},
   "source": [
    "## `__new__`"
   ]
  },
  {
   "cell_type": "markdown",
   "id": "00689d3b",
   "metadata": {},
   "source": [
    "In Python the `__new__()` magic method is implicitly called before the `__init__()` method. The `__new__()` method returns a new object, which is then initialized by `__init__()`."
   ]
  },
  {
   "cell_type": "code",
   "execution_count": 14,
   "id": "a59e4aae",
   "metadata": {},
   "outputs": [
    {
     "name": "stdout",
     "output_type": "stream",
     "text": [
      "I'm new employee\n",
      "employee\n"
     ]
    },
    {
     "data": {
      "text/plain": [
       "'Satya'"
      ]
     },
     "execution_count": 14,
     "metadata": {},
     "output_type": "execute_result"
    }
   ],
   "source": [
    "class Employee:\n",
    "    def __new__(cls):\n",
    "        print (\"I'm new employee\")\n",
    "        inst = object.__new__(cls)\n",
    "        return inst\n",
    "    def __init__(self):\n",
    "        print (\"employee\")\n",
    "        self.name='Satya'\n",
    "        \n",
    "emp = Employee()\n",
    "emp.name"
   ]
  },
  {
   "cell_type": "markdown",
   "id": "fa24e2fb",
   "metadata": {},
   "source": [
    "## `__ge__`"
   ]
  },
  {
   "cell_type": "markdown",
   "id": "f1da81ae",
   "metadata": {},
   "source": [
    "The `__ge__` method in Python is a magic method that defines the behavior for the greater than or equal to operator, >=."
   ]
  },
  {
   "cell_type": "code",
   "execution_count": 24,
   "id": "565a37de",
   "metadata": {},
   "outputs": [
    {
     "name": "stdout",
     "output_type": "stream",
     "text": [
      "False\n"
     ]
    }
   ],
   "source": [
    "class Point:\n",
    "    def __init__(self, x, y):\n",
    "        self.x = x\n",
    "        self.y = y\n",
    "    \n",
    "    def __ge__(self, x):\n",
    "        return self.x >= x.x and self.y >= x.y\n",
    "\n",
    "p1 = Point(2, 3)\n",
    "p2 = Point(5, 8)\n",
    "\n",
    "print(p1 >= p2)"
   ]
  },
  {
   "cell_type": "markdown",
   "id": "4d95a352",
   "metadata": {},
   "source": [
    "## `__repr__`"
   ]
  },
  {
   "cell_type": "markdown",
   "id": "f2128534",
   "metadata": {},
   "source": [
    "`__repr__`() is one of the magic methods that returns a printable representation of an object in Python that can be customized or predefined, i.e. we can also create the string representation of the object according to our needs.\n",
    "\n",
    "**Syntax:-** `object.__repr__()`"
   ]
  },
  {
   "cell_type": "code",
   "execution_count": 36,
   "id": "8e07cf2f",
   "metadata": {},
   "outputs": [
    {
     "name": "stdout",
     "output_type": "stream",
     "text": [
      "('Siva', 'Ram', 'Prasad')\n"
     ]
    }
   ],
   "source": [
    "class GFG:\n",
    "   \n",
    "    def __init__(self, f_name, m_name, l_name):\n",
    "        self.f_name = f_name\n",
    "        self.m_name = m_name\n",
    "        self.l_name = l_name\n",
    " \n",
    "    def __repr__(self):\n",
    "        return f\"{self.f_name,self.m_name,self.l_name}\"\n",
    " \n",
    "gfg = GFG(\"Siva\", \"Ram\", \"Prasad\")\n",
    "print(repr(gfg))"
   ]
  },
  {
   "cell_type": "markdown",
   "id": "d5f39003",
   "metadata": {},
   "source": [
    "## `__del__`"
   ]
  },
  {
   "cell_type": "markdown",
   "id": "be9c4731",
   "metadata": {},
   "source": [
    "`__del__` is a destructor method which is called as soon as all references of the object are deleted i.e when an object is garbage collected.\n",
    "\n",
    "**Syntax:-**\n",
    "\n",
    "        def __del__(self):\n",
    "            body of destructor"
   ]
  },
  {
   "cell_type": "code",
   "execution_count": 39,
   "id": "93ad26d4",
   "metadata": {},
   "outputs": [
    {
     "name": "stdout",
     "output_type": "stream",
     "text": [
      "Hello\n",
      "deleted\n"
     ]
    }
   ],
   "source": [
    "# __del__ \n",
    "    \n",
    "class Hii:  \n",
    "    \n",
    "    # Initializing \n",
    "    def __init__(self):  \n",
    "        print(\"Hello\") \n",
    "  \n",
    "    # Calling destructor \n",
    "    def __del__(self):  \n",
    "        print(\"deleted\")  \n",
    "    \n",
    "a = Hii()  \n",
    "del a  "
   ]
  },
  {
   "cell_type": "markdown",
   "id": "2ac03c2e",
   "metadata": {},
   "source": [
    "## `__delete__`"
   ]
  },
  {
   "cell_type": "markdown",
   "id": "62de0070",
   "metadata": {},
   "source": [
    "__delete__ is used to delete the attribute of an instance i.e removing the value of attribute present in the owner class for an instance.\n",
    "\n",
    "Note: This method only deletes the attribute which is a descriptor.\n",
    "\n",
    "**Syntax:-**\n",
    "\n",
    "    def __delete__(self, instance):\n",
    "        body of delete\n",
    "        ."
   ]
  },
  {
   "cell_type": "code",
   "execution_count": 41,
   "id": "7484be79",
   "metadata": {},
   "outputs": [
    {
     "name": "stdout",
     "output_type": "stream",
     "text": [
      "Hello\n",
      "Deleted in Hii object.\n"
     ]
    }
   ],
   "source": [
    "# __delete__ \n",
    "  \n",
    "class Hii(object): \n",
    "  \n",
    "    # Initializing \n",
    "    def __init__(self): \n",
    "        print(\"Hello\") \n",
    "  \n",
    "    # Calling __delete__ \n",
    "    def __delete__(self, instance): \n",
    "        print (\"Deleted in Hii object.\") \n",
    "  \n",
    "  \n",
    "# Creating object of Example \n",
    "# class as an descriptor attribute \n",
    "# of this class \n",
    "class Foo(object): \n",
    "    a = Hii() \n",
    "  \n",
    "# Driver's code \n",
    "f = Foo() \n",
    "del f.a "
   ]
  },
  {
   "attachments": {
    "gfg2d1-2.jpg": {
     "image/jpeg": "[encoded data removed]"
    }
   },
   "cell_type": "markdown",
   "id": "ed5cf439",
   "metadata": {},
   "source": [
    "Difference between `__delete__` & `__del__`\n",
    "![gfg2d1-2.jpg](attachment:gfg2d1-2.jpg)"
   ]
  },
  {
   "cell_type": "markdown",
   "id": "36fe568a",
   "metadata": {},
   "source": [
    "## `__lt__`"
   ]
  },
  {
   "cell_type": "markdown",
   "id": "c8a957ad",
   "metadata": {},
   "source": [
    "`__lt__` magic method is one magic method that is used to define or implement the functionality of the less than operator “<” , it returns a boolean value according to the condition i.e. \n",
    "* it returns true if a < b where a and b are the objects of the class.\n",
    "\n",
    "**Syntax:-** \n",
    "    \n",
    "    __lt__(self, obj)\n",
    "\n",
    "   * self: Reference of the object.\n",
    "   * obj: It is a object that will be compared further with the other object. \n",
    "   \n",
    "**Returns:** Returns True or False depending on the comparison."
   ]
  },
  {
   "cell_type": "code",
   "execution_count": 2,
   "id": "fd1aebdf",
   "metadata": {
    "scrolled": true
   },
   "outputs": [
    {
     "name": "stdout",
     "output_type": "stream",
     "text": [
      "YES\n",
      "<class 'str'>\n"
     ]
    }
   ],
   "source": [
    "class GFG: \n",
    "    def __lt__(self, other): \n",
    "        return \"YES\"\n",
    "obj1 = GFG() \n",
    "obj2 = GFG() \n",
    "  \n",
    "print(obj1 < obj2)  \n",
    "print(type(obj1 < obj2))"
   ]
  },
  {
   "cell_type": "markdown",
   "id": "e2174342",
   "metadata": {},
   "source": [
    "## `__abs__`"
   ]
  },
  {
   "cell_type": "markdown",
   "id": "a4ce2b6a",
   "metadata": {},
   "source": [
    "This method calculates the magnitude of the vector using the math.hypot function, making it easier to compute the magnitude of a vector object using the Python `abs()` function."
   ]
  },
  {
   "cell_type": "code",
   "execution_count": 5,
   "id": "9d8fda84",
   "metadata": {},
   "outputs": [],
   "source": [
    "import math\n",
    "\n",
    "class Vector:\n",
    "    def __init__(self,x,y):\n",
    "        self._x = x\n",
    "        self._y = y\n",
    "    def __abs__(self):\n",
    "        return math.hypot(self._x, self._y)"
   ]
  },
  {
   "cell_type": "code",
   "execution_count": 8,
   "id": "e0924e63",
   "metadata": {},
   "outputs": [
    {
     "name": "stdout",
     "output_type": "stream",
     "text": [
      "5.830951894845301\n"
     ]
    }
   ],
   "source": [
    "a = Vector(3.0,5.0)\n",
    "print(abs(a))"
   ]
  },
  {
   "cell_type": "markdown",
   "id": "3237236b",
   "metadata": {},
   "source": [
    "## `__bool__`"
   ]
  },
  {
   "cell_type": "markdown",
   "id": "09bd4ef3",
   "metadata": {},
   "source": [
    "This method uses the vector’s magnitude to establish whether the created object is non-zero. Returns True if the vector is non-zero or False."
   ]
  },
  {
   "cell_type": "code",
   "execution_count": 17,
   "id": "c0b42690",
   "metadata": {},
   "outputs": [
    {
     "name": "stdout",
     "output_type": "stream",
     "text": [
      "True\n"
     ]
    }
   ],
   "source": [
    "def __bool__(self,x,y):\n",
    "    return bool(abs(self))\n",
    "\n",
    "a = Vector(3.0,5.0)\n",
    "print(bool(a))"
   ]
  },
  {
   "cell_type": "markdown",
   "id": "8107f59c",
   "metadata": {},
   "source": [
    "## `__mul__`"
   ]
  },
  {
   "cell_type": "markdown",
   "id": "54cadc79",
   "metadata": {},
   "source": [
    "To perform the __mul__ method, the operator looks into the class of left operand for the present of __mul__ i.e., operator(*) will check the class for the presence of ‘__mul__’ method in it. If it has __mul__ method, it calls operands. Otherwise, it throws the ‘TypeError: unsupported operands’ error message."
   ]
  },
  {
   "cell_type": "code",
   "execution_count": null,
   "id": "348f0b71",
   "metadata": {},
   "outputs": [],
   "source": [
    "import math\n",
    "\n",
    "class Vector:\n",
    "    def __init__(self,x,y):\n",
    "        self.x = x\n",
    "        self.y = y\n",
    "    def __mul__(self,scalar):\n",
    "        x = self._x * scalar\n",
    "        y = self._y * scalar\n",
    "        return Vector(x,y)\n",
    "\n",
    "c = Vector(3,6)\n",
    "print(c)"
   ]
  },
  {
   "cell_type": "markdown",
   "id": "6758974f",
   "metadata": {},
   "source": [
    "## `__rmul__`"
   ]
  },
  {
   "cell_type": "markdown",
   "id": "e2201abc",
   "metadata": {},
   "source": [
    "A slight difference between __mul__ and __rmul__ is, Operator looks for __mul__ in left operand and looks for __rmul__ in right operand.\n",
    "*  If it finds the __rmul__ method, it will show up with the result, otherwise throws the TypeError error message"
   ]
  },
  {
   "cell_type": "code",
   "execution_count": 42,
   "id": "5202b198",
   "metadata": {},
   "outputs": [
    {
     "name": "stdout",
     "output_type": "stream",
     "text": [
      "<__main__.Vector object at 0x0000018060E1C150>\n"
     ]
    }
   ],
   "source": [
    "import math\n",
    "\n",
    "class Vector:\n",
    "    def __init__(self,x,y):\n",
    "        self.x = x\n",
    "        self.y = y\n",
    "    def __rmul__(self,scalar):\n",
    "        x = self._x * scalar\n",
    "        y = self._y * scalar\n",
    "        return Vector(x,y)\n",
    "\n",
    "c = Vector(3,6)\n",
    "print(c)"
   ]
  },
  {
   "cell_type": "markdown",
   "id": "74264f82",
   "metadata": {},
   "source": [
    "## `__sizeof__`"
   ]
  },
  {
   "cell_type": "markdown",
   "id": "254851a0",
   "metadata": {},
   "source": [
    "`__sizeof__()` is a built-in method in Python that returns the size of an object in bytes. It is used to calculate the memory usage of an object. The method returns the size of the object without any overhead for garbage collection"
   ]
  },
  {
   "cell_type": "code",
   "execution_count": 43,
   "id": "091489ac",
   "metadata": {},
   "outputs": [
    {
     "name": "stdout",
     "output_type": "stream",
     "text": [
      "104\n"
     ]
    }
   ],
   "source": [
    "y =[2, 8, 6, 56, 45, 89, 88]\n",
    "print(y.__sizeof__())"
   ]
  }
 ],
 "metadata": {
  "kernelspec": {
   "display_name": "Python 3 (ipykernel)",
   "language": "python",
   "name": "python3"
  },
  "language_info": {
   "codemirror_mode": {
    "name": "ipython",
    "version": 3
   },
   "file_extension": ".py",
   "mimetype": "text/x-python",
   "name": "python",
   "nbconvert_exporter": "python",
   "pygments_lexer": "ipython3",
   "version": "3.11.5"
  }
 },
 "nbformat": 4,
 "nbformat_minor": 5
}
