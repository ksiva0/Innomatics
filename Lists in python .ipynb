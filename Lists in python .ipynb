{
 "cells": [
  {
   "cell_type": "markdown",
   "id": "20bbb98f",
   "metadata": {},
   "source": [
    "# Lists"
   ]
  },
  {
   "cell_type": "markdown",
   "id": "baee3ea6",
   "metadata": {},
   "source": [
    "* Lists are just like dynamically sized arrays, a list is a collection of things, enclosed in [ ] and separated by commas. List items are ordered, changeable, and allow duplicate values.\n",
    "* The list is a sequence data type which is used to store the collection of data. Tuples and String are other types of sequence data types."
   ]
  },
  {
   "cell_type": "code",
   "execution_count": 2,
   "id": "adf56330",
   "metadata": {},
   "outputs": [
    {
     "name": "stdout",
     "output_type": "stream",
     "text": [
      "['laptop', 'mobile', 'telephone']\n"
     ]
    }
   ],
   "source": [
    "list = ['laptop', 'mobile', 'telephone']\n",
    "print(list)"
   ]
  },
  {
   "cell_type": "markdown",
   "id": "bfb77dce",
   "metadata": {},
   "source": [
    "### Positive slicing:"
   ]
  },
  {
   "cell_type": "markdown",
   "id": "3f47646d",
   "metadata": {},
   "source": [
    "<b>syntax</b>: string [start :end :step]\n",
    "* start : it starts with 0. end : n+1(length of datatype) step(default): +1"
   ]
  },
  {
   "cell_type": "code",
   "execution_count": 4,
   "id": "e1e599f8",
   "metadata": {},
   "outputs": [
    {
     "name": "stdout",
     "output_type": "stream",
     "text": [
      "['laptop', 'mobile', 'telephone'] <class 'list'> 3\n"
     ]
    }
   ],
   "source": [
    "list = ['laptop', 'mobile', 'telephone']\n",
    "print(list, type(list), len(list))"
   ]
  },
  {
   "cell_type": "markdown",
   "id": "7fbaf4f2",
   "metadata": {},
   "source": [
    "### Negative slicing:"
   ]
  },
  {
   "cell_type": "markdown",
   "id": "86c9a07e",
   "metadata": {},
   "source": [
    "Negative slicing in Python is a way to extract a portion of a sequence (such as a list, tuple, or string) by using negative indices. Negative indices count from the end of the sequence, with -1 representing the last element, -2 representing the second to last element, and so on."
   ]
  },
  {
   "cell_type": "markdown",
   "id": "24bc50f3",
   "metadata": {},
   "source": [
    "<b>Syntax</b>: sequence[-stop:-start]"
   ]
  },
  {
   "cell_type": "code",
   "execution_count": 5,
   "id": "86c0cd66",
   "metadata": {},
   "outputs": [
    {
     "data": {
      "text/plain": [
       "[5, 6]"
      ]
     },
     "execution_count": 5,
     "metadata": {},
     "output_type": "execute_result"
    }
   ],
   "source": [
    "my_list = [1,2,3,4,5,6]\n",
    "my_list[-2:]"
   ]
  },
  {
   "cell_type": "code",
   "execution_count": 6,
   "id": "80c0eb31",
   "metadata": {},
   "outputs": [
    {
     "name": "stdout",
     "output_type": "stream",
     "text": [
      "[1, 2, 3, 4, 5, 6] <class 'list'> 6\n"
     ]
    }
   ],
   "source": [
    "print(my_list, type(my_list), len(my_list))"
   ]
  },
  {
   "cell_type": "code",
   "execution_count": 22,
   "id": "fbab4ab3",
   "metadata": {},
   "outputs": [
    {
     "name": "stdout",
     "output_type": "stream",
     "text": [
      "['string']\n",
      "<class 'list'>\n",
      "1\n",
      "0x1776e1c2280\n"
     ]
    }
   ],
   "source": [
    "print(list, type(list), len(list), hex(id(list)), sep='\\n')"
   ]
  },
  {
   "cell_type": "markdown",
   "id": "c2c86229",
   "metadata": {},
   "source": [
    "### Nested list:"
   ]
  },
  {
   "cell_type": "markdown",
   "id": "bd731157",
   "metadata": {},
   "source": [
    "* a nested list is a list that contains other lists as its elements. It is created by enclosing a comma-separated sequence of sublists in square brackets []"
   ]
  },
  {
   "cell_type": "code",
   "execution_count": 37,
   "id": "51ca1a5a",
   "metadata": {},
   "outputs": [
    {
     "name": "stdout",
     "output_type": "stream",
     "text": [
      "[3, 4, [5, 6]]\n"
     ]
    }
   ],
   "source": [
    "num=[1,2,[3,4,[5,6]],7,8]\n",
    "print(num[2])"
   ]
  },
  {
   "cell_type": "markdown",
   "id": "c3b43630",
   "metadata": {},
   "source": [
    "### Range():"
   ]
  },
  {
   "cell_type": "markdown",
   "id": "26bd5374",
   "metadata": {},
   "source": [
    "* range() is a built-in function that returns a sequence of numbers. The most common use of range() is to iterate over a sequence of numbers using Python loops."
   ]
  },
  {
   "cell_type": "markdown",
   "id": "888718d2",
   "metadata": {},
   "source": [
    "<b>Syntax</b>:\n",
    "* range(start, stop, step)"
   ]
  },
  {
   "cell_type": "code",
   "execution_count": 45,
   "id": "e53fb34b",
   "metadata": {},
   "outputs": [
    {
     "name": "stdout",
     "output_type": "stream",
     "text": [
      "0\n",
      "2\n",
      "4\n",
      "6\n",
      "8\n"
     ]
    }
   ],
   "source": [
    "i=2\n",
    "for i in range(0, 10, 2):\n",
    "    print(i)"
   ]
  },
  {
   "cell_type": "markdown",
   "id": "6af221cb",
   "metadata": {},
   "source": [
    "## Methods"
   ]
  },
  {
   "cell_type": "markdown",
   "id": "f3cc98b5",
   "metadata": {},
   "source": [
    "A method is a function that is associated with an object and can manipulate it's data"
   ]
  },
  {
   "cell_type": "code",
   "execution_count": 48,
   "id": "8f55e25c",
   "metadata": {},
   "outputs": [
    {
     "data": {
      "text/plain": [
       "['__add__',\n",
       " '__class__',\n",
       " '__class_getitem__',\n",
       " '__contains__',\n",
       " '__delattr__',\n",
       " '__delitem__',\n",
       " '__dir__',\n",
       " '__doc__',\n",
       " '__eq__',\n",
       " '__format__',\n",
       " '__ge__',\n",
       " '__getattribute__',\n",
       " '__getitem__',\n",
       " '__getstate__',\n",
       " '__gt__',\n",
       " '__hash__',\n",
       " '__iadd__',\n",
       " '__imul__',\n",
       " '__init__',\n",
       " '__init_subclass__',\n",
       " '__iter__',\n",
       " '__le__',\n",
       " '__len__',\n",
       " '__lt__',\n",
       " '__mul__',\n",
       " '__ne__',\n",
       " '__new__',\n",
       " '__reduce__',\n",
       " '__reduce_ex__',\n",
       " '__repr__',\n",
       " '__reversed__',\n",
       " '__rmul__',\n",
       " '__setattr__',\n",
       " '__setitem__',\n",
       " '__sizeof__',\n",
       " '__str__',\n",
       " '__subclasshook__',\n",
       " 'append',\n",
       " 'clear',\n",
       " 'copy',\n",
       " 'count',\n",
       " 'extend',\n",
       " 'index',\n",
       " 'insert',\n",
       " 'pop',\n",
       " 'remove',\n",
       " 'reverse',\n",
       " 'sort']"
      ]
     },
     "execution_count": 48,
     "metadata": {},
     "output_type": "execute_result"
    }
   ],
   "source": [
    " dir(list)"
   ]
  },
  {
   "cell_type": "markdown",
   "id": "77c8eeac",
   "metadata": {},
   "source": [
    "### 1) append():"
   ]
  },
  {
   "cell_type": "markdown",
   "id": "bb7828e1",
   "metadata": {},
   "source": [
    "append() is a built-in method for lists that adds an element to the end of the list."
   ]
  },
  {
   "cell_type": "markdown",
   "id": "39096eed",
   "metadata": {},
   "source": [
    "<b>Syntax</b>:\n",
    "* list.append(element)"
   ]
  },
  {
   "cell_type": "code",
   "execution_count": 52,
   "id": "13b57f8a",
   "metadata": {},
   "outputs": [
    {
     "name": "stdout",
     "output_type": "stream",
     "text": [
      "['apple', 'mango', 'guava', ['carrot', 'potato', 'tomato']]\n"
     ]
    }
   ],
   "source": [
    "a = ['apple', 'mango', 'guava']\n",
    "b = ['carrot', 'potato', 'tomato']\n",
    "a.append(b)\n",
    "print(a)"
   ]
  },
  {
   "cell_type": "markdown",
   "id": "0fe70ae1",
   "metadata": {},
   "source": [
    "### 2) extend():"
   ]
  },
  {
   "cell_type": "markdown",
   "id": "80dbddd8",
   "metadata": {},
   "source": [
    "extend() is a built-in method for lists that adds the elements of an iterable (such as a list, tuple, or string) to the end of the list. "
   ]
  },
  {
   "cell_type": "markdown",
   "id": "5a47a68c",
   "metadata": {},
   "source": [
    "<b>Syntax</b>:\n",
    "    list.extend(iterable)"
   ]
  },
  {
   "cell_type": "code",
   "execution_count": 55,
   "id": "a370e162",
   "metadata": {},
   "outputs": [
    {
     "name": "stdout",
     "output_type": "stream",
     "text": [
      "['apple', 'mango', 'guava', 1, 3, 6, 9]\n"
     ]
    }
   ],
   "source": [
    "fruits = ['apple', 'mango', 'guava']\n",
    "points = (1,3,6,9)\n",
    "fruits.extend(points)\n",
    "print(fruits)"
   ]
  },
  {
   "cell_type": "markdown",
   "id": "a1b09227",
   "metadata": {},
   "source": [
    "### 3) insert():"
   ]
  },
  {
   "cell_type": "markdown",
   "id": "5f0b524a",
   "metadata": {},
   "source": [
    "insert() is a built-in method for lists that adds an element to a specific position in the list."
   ]
  },
  {
   "cell_type": "markdown",
   "id": "49f75933",
   "metadata": {},
   "source": [
    "<b>Syntax</b>:  list.insert(index, element)"
   ]
  },
  {
   "cell_type": "code",
   "execution_count": 60,
   "id": "4bec6ecf",
   "metadata": {},
   "outputs": [
    {
     "name": "stdout",
     "output_type": "stream",
     "text": [
      "[12, 22, 32, 'xyz']\n"
     ]
    }
   ],
   "source": [
    "x = [12, 22, 32]\n",
    "x.insert(3, 'xyz')\n",
    "print(x)"
   ]
  },
  {
   "cell_type": "markdown",
   "id": "121935f7",
   "metadata": {},
   "source": [
    "### 3) remove():"
   ]
  },
  {
   "cell_type": "markdown",
   "id": "869bbbc1",
   "metadata": {},
   "source": [
    "remove() is a built-in method for lists that removes the first occurrence of a specified element from the list."
   ]
  },
  {
   "cell_type": "markdown",
   "id": "55c39766",
   "metadata": {},
   "source": [
    "<b>Syntax</b>:  list.remove(element)"
   ]
  },
  {
   "cell_type": "code",
   "execution_count": 62,
   "id": "8d0c4482",
   "metadata": {},
   "outputs": [
    {
     "name": "stdout",
     "output_type": "stream",
     "text": [
      "['apple', 'banana', 'mango', 'orange']\n"
     ]
    }
   ],
   "source": [
    "z = ['apple', 'banana', 'guava', 'mango', 'orange']\n",
    "z.remove('guava')\n",
    "print(z)"
   ]
  },
  {
   "cell_type": "markdown",
   "id": "1bff304f",
   "metadata": {},
   "source": [
    "### 4) pop():"
   ]
  },
  {
   "cell_type": "markdown",
   "id": "67257d1a",
   "metadata": {},
   "source": [
    "pop() is a built-in method for lists that removes and returns the last element of the list."
   ]
  },
  {
   "cell_type": "markdown",
   "id": "0af6a2be",
   "metadata": {},
   "source": [
    "<b>Syntax</b>:  list.pop(position)"
   ]
  },
  {
   "cell_type": "code",
   "execution_count": 67,
   "id": "b9b72ac7",
   "metadata": {},
   "outputs": [
    {
     "name": "stdout",
     "output_type": "stream",
     "text": [
      "[1, 5, 7]\n"
     ]
    }
   ],
   "source": [
    "a = [1, 3, 5, 7]\n",
    "a.pop(1)\n",
    "print(a)"
   ]
  }
 ],
 "metadata": {
  "kernelspec": {
   "display_name": "Python 3 (ipykernel)",
   "language": "python",
   "name": "python3"
  },
  "language_info": {
   "codemirror_mode": {
    "name": "ipython",
    "version": 3
   },
   "file_extension": ".py",
   "mimetype": "text/x-python",
   "name": "python",
   "nbconvert_exporter": "python",
   "pygments_lexer": "ipython3",
   "version": "3.11.5"
  }
 },
 "nbformat": 4,
 "nbformat_minor": 5
}
