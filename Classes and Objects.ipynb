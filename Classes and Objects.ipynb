{
 "cells": [
  {
   "cell_type": "markdown",
   "id": "429330cd",
   "metadata": {},
   "source": [
    "# Attributes"
   ]
  },
  {
   "cell_type": "markdown",
   "id": "a555f59b",
   "metadata": {},
   "source": [
    "Attributes are values associated with an abject that can be referenced by name using dotted expressions.\n",
    "\n",
    "There are two types of attributes\n",
    "    \n",
    "    1. Instance attributes\n",
    "    2. Class attributes"
   ]
  },
  {
   "cell_type": "markdown",
   "id": "28c767b6",
   "metadata": {},
   "source": [
    "1. <b>Instance Attributes</b>:\n",
    "\n",
    "* Instance attribute is a variable stored in an instance.\n",
    "* They are defined inside the constructor method '__init__' using 'self' keyword."
   ]
  },
  {
   "cell_type": "code",
   "execution_count": 13,
   "id": "7fd3ef75",
   "metadata": {},
   "outputs": [
    {
     "data": {
      "text/plain": [
       "('Siva Lucky', '10-07-2001')"
      ]
     },
     "execution_count": 13,
     "metadata": {},
     "output_type": "execute_result"
    }
   ],
   "source": [
    "class Student:\n",
    "    def __init__(self, fname, lname, DoB, gender):\n",
    "        \n",
    "        # Instance attributes\n",
    "        self.fname = fname\n",
    "        self.lname = lname\n",
    "        self.name = fname+\" \"+lname  #full name\n",
    "        self.DoB = DoB\n",
    "        self.gender = gender\n",
    "        self.gmail = fname+lname[:1]+DoB[-4:]+'gmail.com'\n",
    "\n",
    "# Creating an instance of the Student class\n",
    "stu1 = Student('Siva','Lucky','10-07-2001','male')\n",
    "stu1.name, stu1.DoB"
   ]
  },
  {
   "cell_type": "code",
   "execution_count": 14,
   "id": "00572566",
   "metadata": {},
   "outputs": [
    {
     "data": {
      "text/plain": [
       "'SivaL2001gmail.com'"
      ]
     },
     "execution_count": 14,
     "metadata": {},
     "output_type": "execute_result"
    }
   ],
   "source": [
    "stu1.gmail"
   ]
  },
  {
   "cell_type": "markdown",
   "id": "cd6c523a",
   "metadata": {},
   "source": [
    "    "
   ]
  },
  {
   "cell_type": "markdown",
   "id": "2aa562ee",
   "metadata": {},
   "source": [
    "    "
   ]
  },
  {
   "cell_type": "markdown",
   "id": "1be751ec",
   "metadata": {},
   "source": [
    "2. <b>Class Attributes</b>:\n",
    "\n",
    "* A class attribute is a variable stored in class.\n",
    "* They are defined outside the constructor, typically at the class level.\n",
    "* They represent characteristics that are common to all objects of the class."
   ]
  },
  {
   "cell_type": "code",
   "execution_count": 6,
   "id": "98a0cadf",
   "metadata": {},
   "outputs": [
    {
     "data": {
      "text/plain": [
       "'pass'"
      ]
     },
     "execution_count": 6,
     "metadata": {},
     "output_type": "execute_result"
    }
   ],
   "source": [
    "class FooClass:\n",
    "    passmark = 40 # static attribute\n",
    "    def __init__(self,passMarks,*marks):\n",
    "        self.marks = marks\n",
    "        self.passmarks = 40\n",
    "    def result(self):\n",
    "        return 'fail' if min(self.marks) < self.passmarks else 'pass'\n",
    "    \n",
    "x = FooClass(*[53,56])\n",
    "x.result()"
   ]
  },
  {
   "cell_type": "code",
   "execution_count": null,
   "id": "49722824",
   "metadata": {},
   "outputs": [],
   "source": []
  }
 ],
 "metadata": {
  "kernelspec": {
   "display_name": "Python 3 (ipykernel)",
   "language": "python",
   "name": "python3"
  },
  "language_info": {
   "codemirror_mode": {
    "name": "ipython",
    "version": 3
   },
   "file_extension": ".py",
   "mimetype": "text/x-python",
   "name": "python",
   "nbconvert_exporter": "python",
   "pygments_lexer": "ipython3",
   "version": "3.11.5"
  }
 },
 "nbformat": 4,
 "nbformat_minor": 5
}
