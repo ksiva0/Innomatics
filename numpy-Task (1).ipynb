{
 "cells": [
  {
   "cell_type": "markdown",
   "id": "9c6d9907",
   "metadata": {},
   "source": [
    "#### 1. Write a function, foo_1, that takes a NumPy array `arr` and returns the indices of the elements that are closest to a given target. If target is not in the given array, it should return ‘no item found’"
   ]
  },
  {
   "cell_type": "code",
   "execution_count": 2,
   "id": "f547daa5",
   "metadata": {},
   "outputs": [],
   "source": [
    "import numpy as np"
   ]
  },
  {
   "cell_type": "code",
   "execution_count": 57,
   "id": "13924f4c",
   "metadata": {},
   "outputs": [
    {
     "name": "stdout",
     "output_type": "stream",
     "text": [
      "[2 3 4 5 6 8 1 7 9 0]\n"
     ]
    }
   ],
   "source": [
    "def foo_1(arr, target):\n",
    "    if target not in arr:\n",
    "        return 'no item found'\n",
    "    else:\n",
    "        return np.argsort(np.abs(arr - target))\n",
    "\n",
    "arr = np.array([3, 8, 7, 7, 7, 7, 7, 8, 7, 10])\n",
    "target = 7\n",
    "\n",
    "r = foo_1(arr, target)\n",
    "print(r)"
   ]
  },
  {
   "cell_type": "markdown",
   "id": "00d300de",
   "metadata": {},
   "source": [
    "   "
   ]
  },
  {
   "cell_type": "code",
   "execution_count": 61,
   "id": "59a8a4d0",
   "metadata": {},
   "outputs": [
    {
     "data": {
      "text/plain": [
       "'no item found'"
      ]
     },
     "execution_count": 61,
     "metadata": {},
     "output_type": "execute_result"
    }
   ],
   "source": [
    "target = 11\n",
    "\n",
    "foo_1(arr, target)"
   ]
  },
  {
   "cell_type": "markdown",
   "id": "bf52c1a8",
   "metadata": {},
   "source": [
    "#### 2. Write a user defined function foo_2 that takes a 1 or 2 dim NumPy array arr and returns a new n-1 dim array, where each element is replaced by the without using count of non-zero elements wrt axis.\n"
   ]
  },
  {
   "cell_type": "code",
   "execution_count": 3,
   "id": "047f20e2",
   "metadata": {},
   "outputs": [
    {
     "name": "stdout",
     "output_type": "stream",
     "text": [
      "[2 2 2 1]\n"
     ]
    }
   ],
   "source": [
    "def foo_2(arr, axis=0):\n",
    " \n",
    "    if arr.ndim not in [2,3]:\n",
    "        raise ValueError(\"Input array must be 2 or 3 dimensional.\")\n",
    "\n",
    "    return np.count_nonzero(arr, axis=axis)\n",
    "\n",
    "arr = np.array([[1, 2, 3, 4],\n",
    "                [0, 5, 0, 0],\n",
    "                [2, 0, 1, 0]])\n",
    "\n",
    "r = foo_2(arr, axis = 0)\n",
    "print(r)"
   ]
  },
  {
   "cell_type": "code",
   "execution_count": 4,
   "id": "d7b6ee81",
   "metadata": {
    "scrolled": true
   },
   "outputs": [
    {
     "name": "stdout",
     "output_type": "stream",
     "text": [
      "[4 1 2]\n"
     ]
    }
   ],
   "source": [
    "r = foo_2(arr, axis = 1)\n",
    "print(r)"
   ]
  },
  {
   "cell_type": "code",
   "execution_count": 5,
   "id": "1c516c58",
   "metadata": {},
   "outputs": [],
   "source": [
    "def foo_3(arr, axis=0):\n",
    " \n",
    "    if arr.ndim not in [2,3]:\n",
    "        raise ValueError(\"Input array must be 2 or 3 dimensional.\")\n",
    "\n",
    "    return np.count_nonzero(arr, axis=axis)\n"
   ]
  },
  {
   "cell_type": "code",
   "execution_count": 6,
   "id": "ff7333ea",
   "metadata": {},
   "outputs": [
    {
     "name": "stdout",
     "output_type": "stream",
     "text": [
      "[[2 1 2 1]\n",
      " [0 2 0 0]\n",
      " [2 1 2 1]]\n"
     ]
    }
   ],
   "source": [
    "arr = np.array([[[1, 2, 3, 4],[0, 5, 0, 0],[2, 0, 1, 0]],\n",
    "                [[2, 0, 1, 0],[0, 5, 0, 0],[1, 2, 3, 4]]])\n",
    "r = foo_3(arr , axis = 0)\n",
    "print(r)"
   ]
  },
  {
   "cell_type": "code",
   "execution_count": 7,
   "id": "f3885126",
   "metadata": {},
   "outputs": [
    {
     "name": "stdout",
     "output_type": "stream",
     "text": [
      "[[2 2 2 1]\n",
      " [2 2 2 1]]\n"
     ]
    }
   ],
   "source": [
    "r = foo_3(arr , axis = 1)\n",
    "print(r)"
   ]
  },
  {
   "cell_type": "code",
   "execution_count": 8,
   "id": "d3307fa1",
   "metadata": {},
   "outputs": [
    {
     "name": "stdout",
     "output_type": "stream",
     "text": [
      "[[4 1 2]\n",
      " [2 1 4]]\n"
     ]
    }
   ],
   "source": [
    "r = foo_3(arr , axis = 2)\n",
    "print(r)"
   ]
  },
  {
   "cell_type": "markdown",
   "id": "16f95aaf",
   "metadata": {},
   "source": [
    "#### 3) \n",
    "#### 3.1 You are given a 2D NumPy array of data representing student scores. Each row represents a student, and each column represents a subject. Extract the scores of all students who scored above 90 in at least one subject. Provide the resulting array.\n"
   ]
  },
  {
   "cell_type": "code",
   "execution_count": 12,
   "id": "2c88fbbc",
   "metadata": {},
   "outputs": [
    {
     "name": "stdout",
     "output_type": "stream",
     "text": [
      "Students scored above 90 : \n",
      "[[78 89 94]\n",
      " [91 87 90]\n",
      " [87 95 84]]\n"
     ]
    }
   ],
   "source": [
    "data = np.array([[85, 89, 88],\n",
    "                 [78, 89, 94],\n",
    "                 [91, 87, 90],\n",
    "                 [87, 95, 84]])\n",
    "\n",
    "marks = np.any(data > 90, axis=1)\n",
    "result = data[ marks]\n",
    "\n",
    "print(\"Students scored above 90 : \", result, sep='\\n')"
   ]
  },
  {
   "cell_type": "markdown",
   "id": "44f6c402",
   "metadata": {},
   "source": [
    "#### 3.2 You are provided with a 2D NumPy array of data representing sales data for different products. Each row corresponds to a product, and each column represents the monthly sales for a specific month. Calculate the following statistics for each product: mean, median, standard deviation, and the month with the highest sales."
   ]
  },
  {
   "cell_type": "code",
   "execution_count": 14,
   "id": "27f972a4",
   "metadata": {},
   "outputs": [],
   "source": [
    "data = np.array([[120,150,130,110],\n",
    "                 [200,180,220,250],\n",
    "                 [90,100,95,110],\n",
    "                 [300,280,320,340]])"
   ]
  },
  {
   "cell_type": "code",
   "execution_count": 15,
   "id": "bc287461",
   "metadata": {},
   "outputs": [
    {
     "name": "stdout",
     "output_type": "stream",
     "text": [
      "Product 1:\n",
      "Mean: 127.5\n",
      "Median: 125.0\n",
      "Standard Deviation: 14.79019945774904\n",
      "Month with Highest Sales: Month 151\n",
      "\n",
      "Product 2:\n",
      "Mean: 212.5\n",
      "Median: 210.0\n",
      "Standard Deviation: 25.8602010819715\n",
      "Month with Highest Sales: Month 251\n",
      "\n",
      "Product 3:\n",
      "Mean: 98.75\n",
      "Median: 97.5\n",
      "Standard Deviation: 7.39509972887452\n",
      "Month with Highest Sales: Month 111\n",
      "\n",
      "Product 4:\n",
      "Mean: 310.0\n",
      "Median: 310.0\n",
      "Standard Deviation: 22.360679774997898\n",
      "Month with Highest Sales: Month 341\n",
      "\n"
     ]
    }
   ],
   "source": [
    "def foo(data):\n",
    "    mean_values = np.mean(data, axis=1)\n",
    "    median_values = np.median(data, axis=1)\n",
    "    std_dev_values = np.std(data, axis=1)\n",
    "    highest_sales_monthly = np.max(data, axis=1)\n",
    "    \n",
    "    for i in range(len(data)):\n",
    "        print(f\"Product {i + 1}:\")\n",
    "        print(f\"Mean: {mean_values[i]}\")\n",
    "        print(f\"Median: {median_values[i]}\")\n",
    "        print(f\"Standard Deviation: {std_dev_values[i]}\")\n",
    "        print(f\"Month with Highest Sales: Month {highest_sales_monthly[i] + 1}\")\n",
    "        print()\n",
    "        \n",
    "foo(data)"
   ]
  },
  {
   "cell_type": "markdown",
   "id": "9efee992",
   "metadata": {},
   "source": [
    "#### 3.3 Create a NumPy array of size 1000 with random integers between 1 and 100. Then, use NumPy functions to find the top 10 most frequently occurring values in the array.\n",
    "\n"
   ]
  },
  {
   "cell_type": "code",
   "execution_count": 63,
   "id": "23e48eb4",
   "metadata": {},
   "outputs": [
    {
     "name": "stdout",
     "output_type": "stream",
     "text": [
      " 33    18\n",
      " 31    17\n",
      " 91    16\n",
      " 53    15\n",
      " 92    15\n",
      " 79    15\n",
      " 41    14\n",
      " 84    14\n",
      " 63    14\n",
      " 76    14\n"
     ]
    }
   ],
   "source": [
    "a = np.random.randint(1,100,1000)\n",
    "\n",
    "unique_values, value_counts = np.unique(a, return_counts=True)\n",
    "indices = np.argsort(value_counts)[::-1][:10]\n",
    "\n",
    "values = unique_values[indices]\n",
    "counts = value_counts[indices]\n",
    "\n",
    "for value, count in zip(values, counts):\n",
    "    print(f\"{value: }   {count: }\")"
   ]
  },
  {
   "cell_type": "code",
   "execution_count": null,
   "id": "d504ad73",
   "metadata": {},
   "outputs": [],
   "source": []
  }
 ],
 "metadata": {
  "kernelspec": {
   "display_name": "Python 3 (ipykernel)",
   "language": "python",
   "name": "python3"
  },
  "language_info": {
   "codemirror_mode": {
    "name": "ipython",
    "version": 3
   },
   "file_extension": ".py",
   "mimetype": "text/x-python",
   "name": "python",
   "nbconvert_exporter": "python",
   "pygments_lexer": "ipython3",
   "version": "3.11.5"
  }
 },
 "nbformat": 4,
 "nbformat_minor": 5
}
