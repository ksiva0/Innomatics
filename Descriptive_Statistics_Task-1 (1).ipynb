{
 "cells": [
  {
   "cell_type": "code",
   "execution_count": 19,
   "id": "37aedc5b",
   "metadata": {},
   "outputs": [],
   "source": [
    "import pandas as pd, numpy as np"
   ]
  },
  {
   "cell_type": "code",
   "execution_count": 2,
   "id": "4b38be0d",
   "metadata": {},
   "outputs": [
    {
     "data": {
      "text/html": [
       "<div>\n",
       "<style scoped>\n",
       "    .dataframe tbody tr th:only-of-type {\n",
       "        vertical-align: middle;\n",
       "    }\n",
       "\n",
       "    .dataframe tbody tr th {\n",
       "        vertical-align: top;\n",
       "    }\n",
       "\n",
       "    .dataframe thead th {\n",
       "        text-align: right;\n",
       "    }\n",
       "</style>\n",
       "<table border=\"1\" class=\"dataframe\">\n",
       "  <thead>\n",
       "    <tr style=\"text-align: right;\">\n",
       "      <th></th>\n",
       "      <th>ProductA</th>\n",
       "      <th>ProductB</th>\n",
       "    </tr>\n",
       "  </thead>\n",
       "  <tbody>\n",
       "    <tr>\n",
       "      <th>0</th>\n",
       "      <td>25</td>\n",
       "      <td>40</td>\n",
       "    </tr>\n",
       "    <tr>\n",
       "      <th>1</th>\n",
       "      <td>30</td>\n",
       "      <td>35</td>\n",
       "    </tr>\n",
       "    <tr>\n",
       "      <th>2</th>\n",
       "      <td>28</td>\n",
       "      <td>38</td>\n",
       "    </tr>\n",
       "    <tr>\n",
       "      <th>3</th>\n",
       "      <td>32</td>\n",
       "      <td>41</td>\n",
       "    </tr>\n",
       "    <tr>\n",
       "      <th>4</th>\n",
       "      <td>26</td>\n",
       "      <td>37</td>\n",
       "    </tr>\n",
       "    <tr>\n",
       "      <th>5</th>\n",
       "      <td>29</td>\n",
       "      <td>36</td>\n",
       "    </tr>\n",
       "    <tr>\n",
       "      <th>6</th>\n",
       "      <td>27</td>\n",
       "      <td>39</td>\n",
       "    </tr>\n",
       "    <tr>\n",
       "      <th>7</th>\n",
       "      <td>33</td>\n",
       "      <td>42</td>\n",
       "    </tr>\n",
       "    <tr>\n",
       "      <th>8</th>\n",
       "      <td>31</td>\n",
       "      <td>38</td>\n",
       "    </tr>\n",
       "    <tr>\n",
       "      <th>9</th>\n",
       "      <td>28</td>\n",
       "      <td>37</td>\n",
       "    </tr>\n",
       "    <tr>\n",
       "      <th>10</th>\n",
       "      <td>30</td>\n",
       "      <td>40</td>\n",
       "    </tr>\n",
       "    <tr>\n",
       "      <th>11</th>\n",
       "      <td>29</td>\n",
       "      <td>36</td>\n",
       "    </tr>\n",
       "  </tbody>\n",
       "</table>\n",
       "</div>"
      ],
      "text/plain": [
       "    ProductA  ProductB\n",
       "0         25        40\n",
       "1         30        35\n",
       "2         28        38\n",
       "3         32        41\n",
       "4         26        37\n",
       "5         29        36\n",
       "6         27        39\n",
       "7         33        42\n",
       "8         31        38\n",
       "9         28        37\n",
       "10        30        40\n",
       "11        29        36"
      ]
     },
     "execution_count": 2,
     "metadata": {},
     "output_type": "execute_result"
    }
   ],
   "source": [
    "\n",
    "a=({'ProductA':(25,30,28,32,26,29,27,33,31,28,30,29),'ProductB':(40,35,38,41,37,36,39,42,38,37,40,36)})\n",
    "\n",
    "x = pd.DataFrame(a)\n",
    "x"
   ]
  },
  {
   "cell_type": "markdown",
   "id": "7c9daa48",
   "metadata": {},
   "source": [
    "## Measures of Central Tendency:"
   ]
  },
  {
   "cell_type": "markdown",
   "id": "2796c9ae",
   "metadata": {},
   "source": [
    "#### 1. Calculate the mean sales for Product A and Product B. Compare the average monthly sales for the two products and discuss any observed trends."
   ]
  },
  {
   "cell_type": "code",
   "execution_count": 3,
   "id": "9506431b",
   "metadata": {},
   "outputs": [
    {
     "data": {
      "text/plain": [
       "ProductA    29.00\n",
       "ProductB    38.25\n",
       "dtype: float64"
      ]
     },
     "execution_count": 3,
     "metadata": {},
     "output_type": "execute_result"
    }
   ],
   "source": [
    "x.mean()"
   ]
  },
  {
   "cell_type": "markdown",
   "id": "0fa4dfbb",
   "metadata": {},
   "source": [
    "#### 2.Find the median sales for each product and discuss how it reflects the central tendency of the sales distribution."
   ]
  },
  {
   "cell_type": "code",
   "execution_count": 4,
   "id": "207865b9",
   "metadata": {},
   "outputs": [
    {
     "data": {
      "text/plain": [
       "ProductA    29.0\n",
       "ProductB    38.0\n",
       "dtype: float64"
      ]
     },
     "execution_count": 4,
     "metadata": {},
     "output_type": "execute_result"
    }
   ],
   "source": [
    "x.median()"
   ]
  },
  {
   "cell_type": "markdown",
   "id": "7213f686",
   "metadata": {},
   "source": [
    "#### 3.Identify the mode of the sales data for both Product A and Product B. Discuss the significance of the mode in the context of these products."
   ]
  },
  {
   "cell_type": "code",
   "execution_count": 5,
   "id": "a2e33cdf",
   "metadata": {
    "scrolled": true
   },
   "outputs": [
    {
     "data": {
      "text/html": [
       "<div>\n",
       "<style scoped>\n",
       "    .dataframe tbody tr th:only-of-type {\n",
       "        vertical-align: middle;\n",
       "    }\n",
       "\n",
       "    .dataframe tbody tr th {\n",
       "        vertical-align: top;\n",
       "    }\n",
       "\n",
       "    .dataframe thead th {\n",
       "        text-align: right;\n",
       "    }\n",
       "</style>\n",
       "<table border=\"1\" class=\"dataframe\">\n",
       "  <thead>\n",
       "    <tr style=\"text-align: right;\">\n",
       "      <th></th>\n",
       "      <th>ProductA</th>\n",
       "      <th>ProductB</th>\n",
       "    </tr>\n",
       "  </thead>\n",
       "  <tbody>\n",
       "    <tr>\n",
       "      <th>0</th>\n",
       "      <td>28.0</td>\n",
       "      <td>36</td>\n",
       "    </tr>\n",
       "    <tr>\n",
       "      <th>1</th>\n",
       "      <td>29.0</td>\n",
       "      <td>37</td>\n",
       "    </tr>\n",
       "    <tr>\n",
       "      <th>2</th>\n",
       "      <td>30.0</td>\n",
       "      <td>38</td>\n",
       "    </tr>\n",
       "    <tr>\n",
       "      <th>3</th>\n",
       "      <td>NaN</td>\n",
       "      <td>40</td>\n",
       "    </tr>\n",
       "  </tbody>\n",
       "</table>\n",
       "</div>"
      ],
      "text/plain": [
       "   ProductA  ProductB\n",
       "0      28.0        36\n",
       "1      29.0        37\n",
       "2      30.0        38\n",
       "3       NaN        40"
      ]
     },
     "execution_count": 5,
     "metadata": {},
     "output_type": "execute_result"
    }
   ],
   "source": [
    "x.mode()"
   ]
  },
  {
   "cell_type": "markdown",
   "id": "ba2bcd50",
   "metadata": {},
   "source": [
    "#### 4.Calculate the weighted mean of the sales data, assuming each month has an equal weight. Discuss any implications of using weighted mean in this context."
   ]
  },
  {
   "cell_type": "code",
   "execution_count": 16,
   "id": "8ef94e9b",
   "metadata": {
    "scrolled": false
   },
   "outputs": [
    {
     "name": "stdout",
     "output_type": "stream",
     "text": [
      "Weighted mean for ProductA : \n",
      "29.0\n",
      "Weighted mean for ProductB : \n",
      "38.25\n"
     ]
    }
   ],
   "source": [
    "print(\"Weighted mean for ProductA : \",x['ProductA'].sum()/len(x['ProductA']), \n",
    "      \"Weighted mean for ProductB : \",x['ProductB'].sum()/len(x['ProductB']), sep='\\n')"
   ]
  },
  {
   "cell_type": "code",
   "execution_count": 22,
   "id": "6e08c609",
   "metadata": {},
   "outputs": [
    {
     "data": {
      "text/plain": [
       "ProductA    29.00\n",
       "ProductB    38.25\n",
       "dtype: float64"
      ]
     },
     "execution_count": 22,
     "metadata": {},
     "output_type": "execute_result"
    }
   ],
   "source": [
    "avg_A, avg_B=np.average(x['ProductA']),np.average(x['ProductB'])\n",
    "\n",
    "pd.Series({'ProductA':avg_A, \n",
    "           'ProductB':avg_B})"
   ]
  },
  {
   "cell_type": "code",
   "execution_count": 26,
   "id": "57ce7a58",
   "metadata": {},
   "outputs": [
    {
     "data": {
      "text/plain": [
       "ProductA    29.00\n",
       "ProductB    38.25\n",
       "dtype: float64"
      ]
     },
     "execution_count": 26,
     "metadata": {},
     "output_type": "execute_result"
    }
   ],
   "source": [
    "pd.Series({'ProductA':np.average(x['ProductA']), \n",
    "           'ProductB':np.average(x['ProductB'])})"
   ]
  },
  {
   "cell_type": "markdown",
   "id": "bf651c73",
   "metadata": {},
   "source": [
    "    "
   ]
  },
  {
   "cell_type": "markdown",
   "id": "ccee3cbc",
   "metadata": {},
   "source": [
    "## Measures of Dispersion:"
   ]
  },
  {
   "cell_type": "markdown",
   "id": "33c35462",
   "metadata": {},
   "source": [
    "#### 1.Compute the range of monthly sales for both Product A and Product B. Discuss how the range provides insights into the variability of sales."
   ]
  },
  {
   "cell_type": "code",
   "execution_count": 23,
   "id": "28c90b49",
   "metadata": {},
   "outputs": [
    {
     "data": {
      "text/plain": [
       "ProductA    8\n",
       "ProductB    7\n",
       "dtype: int64"
      ]
     },
     "execution_count": 23,
     "metadata": {},
     "output_type": "execute_result"
    }
   ],
   "source": [
    "x.max()-x.min()"
   ]
  },
  {
   "cell_type": "markdown",
   "id": "2e94eab8",
   "metadata": {},
   "source": [
    "#### 2.Calculate the variance of the sales data for both products. Discuss what the variance reveals about the spread of sales for each product."
   ]
  },
  {
   "cell_type": "code",
   "execution_count": 24,
   "id": "d35eca9b",
   "metadata": {},
   "outputs": [
    {
     "data": {
      "text/plain": [
       "ProductA    5.636364\n",
       "ProductB    4.750000\n",
       "dtype: float64"
      ]
     },
     "execution_count": 24,
     "metadata": {},
     "output_type": "execute_result"
    }
   ],
   "source": [
    "x.var()"
   ]
  },
  {
   "cell_type": "markdown",
   "id": "bf0ed7c3",
   "metadata": {},
   "source": [
    "#### 3.Determine the standard deviation of the sales for Product A and Product B. Discuss the significance of standard deviation in understanding the variability in sales."
   ]
  },
  {
   "cell_type": "code",
   "execution_count": 25,
   "id": "43a5a7c5",
   "metadata": {},
   "outputs": [
    {
     "data": {
      "text/plain": [
       "ProductA    2.374103\n",
       "ProductB    2.179449\n",
       "dtype: float64"
      ]
     },
     "execution_count": 25,
     "metadata": {},
     "output_type": "execute_result"
    }
   ],
   "source": [
    "x.std()"
   ]
  },
  {
   "cell_type": "markdown",
   "id": "49faec09",
   "metadata": {},
   "source": [
    "## Relative Measures of Dispersion:"
   ]
  },
  {
   "cell_type": "markdown",
   "id": "b4e30dbd",
   "metadata": {},
   "source": [
    "#### 1.Calculate the coefficient of variation for the sales data of Product A. Discuss how this relative measure of dispersion helps in comparing the variability of products with different average sales."
   ]
  },
  {
   "cell_type": "code",
   "execution_count": 43,
   "id": "8d687db6",
   "metadata": {},
   "outputs": [
    {
     "data": {
      "text/plain": [
       "ProductA    7.838035\n",
       "dtype: float64"
      ]
     },
     "execution_count": 43,
     "metadata": {},
     "output_type": "execute_result"
    }
   ],
   "source": [
    "pd.Series({'ProductA':np.std(x['ProductA'])/np.mean(x['ProductA']) *100})"
   ]
  },
  {
   "cell_type": "markdown",
   "id": "186b28d1",
   "metadata": {},
   "source": [
    "#### 2.Compute the relative range for Product B. Discuss how the relative range accounts for the scale of the sales data."
   ]
  },
  {
   "cell_type": "code",
   "execution_count": 46,
   "id": "6d6b6c94",
   "metadata": {},
   "outputs": [
    {
     "data": {
      "text/plain": [
       "0    18.300654\n",
       "dtype: float64"
      ]
     },
     "execution_count": 46,
     "metadata": {},
     "output_type": "execute_result"
    }
   ],
   "source": [
    "pd.Series(x['ProductB'].max() - x['ProductB'].min()) / np.mean(x['ProductB']) * 100"
   ]
  },
  {
   "cell_type": "markdown",
   "id": "4d3edfb8",
   "metadata": {},
   "source": [
    "#### 3.Determine the relative standard deviation for Product A. Interpret the result and discuss its implications for understanding the variability relative to the mean."
   ]
  },
  {
   "cell_type": "code",
   "execution_count": 45,
   "id": "c7a6a48e",
   "metadata": {},
   "outputs": [
    {
     "data": {
      "text/plain": [
       "0    8.186561\n",
       "dtype: float64"
      ]
     },
     "execution_count": 45,
     "metadata": {},
     "output_type": "execute_result"
    }
   ],
   "source": [
    "pd.Series((x['ProductA'].std())/ np.mean(x['ProductA']) * 100)"
   ]
  }
 ],
 "metadata": {
  "kernelspec": {
   "display_name": "Python 3 (ipykernel)",
   "language": "python",
   "name": "python3"
  },
  "language_info": {
   "codemirror_mode": {
    "name": "ipython",
    "version": 3
   },
   "file_extension": ".py",
   "mimetype": "text/x-python",
   "name": "python",
   "nbconvert_exporter": "python",
   "pygments_lexer": "ipython3",
   "version": "3.11.5"
  }
 },
 "nbformat": 4,
 "nbformat_minor": 5
}
