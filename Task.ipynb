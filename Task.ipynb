{
 "cells": [
  {
   "cell_type": "markdown",
   "id": "e624350d",
   "metadata": {},
   "source": [
    "1. Write a Python program that asks the user for their age and prints \"You are an adult\" if the age is 18 or older, otherwise prints \"You are a minor'."
   ]
  },
  {
   "cell_type": "code",
   "execution_count": 3,
   "id": "7943b843",
   "metadata": {},
   "outputs": [
    {
     "name": "stdout",
     "output_type": "stream",
     "text": [
      "Enter age: 20\n",
      "You are an adult\n"
     ]
    }
   ],
   "source": [
    "age = int(input('Enter age: '))\n",
    "\n",
    "if age >=18:\n",
    "    print('You are an adult')\n",
    "else:\n",
    "    print('you are minor')"
   ]
  },
  {
   "cell_type": "code",
   "execution_count": 4,
   "id": "b3e9e519",
   "metadata": {},
   "outputs": [
    {
     "name": "stdout",
     "output_type": "stream",
     "text": [
      "Enter age: 12\n",
      "you are minor\n"
     ]
    }
   ],
   "source": [
    "age = int(input('Enter age: '))\n",
    "\n",
    "if age >=18:\n",
    "    print('You are an adult')\n",
    "else:\n",
    "    print('you are minor')"
   ]
  },
  {
   "cell_type": "markdown",
   "id": "231e0b7b",
   "metadata": {},
   "source": [
    "2. Write a program that takes a numerical grade (out of 100) as input and prints the corresponding letter grade according to the following scale:\n",
    " * 90-100: A\n",
    " * 80-89: B\n",
    " * 70-79: C\n",
    " * 60-69: D\n",
    " * Below 60: F\n"
   ]
  },
  {
   "cell_type": "code",
   "execution_count": 9,
   "id": "87d626ce",
   "metadata": {},
   "outputs": [
    {
     "name": "stdout",
     "output_type": "stream",
     "text": [
      "Enter numerical grade: 85\n",
      "B\n"
     ]
    }
   ],
   "source": [
    "grade = int(input('Enter numerical grade: '))\n",
    "\n",
    "if grade in range(90, 100):\n",
    "    print('A')\n",
    "elif grade in range(80, 89):\n",
    "    print('B')\n",
    "elif grade in range(70, 79):\n",
    "    print('C')\n",
    "elif grade in range(60, 69):\n",
    "    print('D')\n",
    "else:\n",
    "    print('F')"
   ]
  },
  {
   "cell_type": "code",
   "execution_count": 10,
   "id": "c2fadc45",
   "metadata": {},
   "outputs": [
    {
     "name": "stdout",
     "output_type": "stream",
     "text": [
      "Enter numerical grade: 40\n",
      "F\n"
     ]
    }
   ],
   "source": [
    "grade = int(input('Enter numerical grade: '))\n",
    "\n",
    "if grade in range(90, 100):\n",
    "    print('A')\n",
    "elif grade in range(80, 89):\n",
    "    print('B')\n",
    "elif grade in range(70, 79):\n",
    "    print('C')\n",
    "elif grade in range(60, 69):\n",
    "    print('D')\n",
    "else:\n",
    "    print('F')"
   ]
  },
  {
   "cell_type": "markdown",
   "id": "782f3f13",
   "metadata": {},
   "source": [
    "3. Write a program that calculates the Body Mass Index (BMI) of a person. The user should input their weight in kilograms and height in meters. The program should then print whether the person is underweight, normal weight, overweight, or obese\n"
   ]
  },
  {
   "cell_type": "code",
   "execution_count": 7,
   "id": "abca30a7",
   "metadata": {},
   "outputs": [
    {
     "name": "stdout",
     "output_type": "stream",
     "text": [
      "Enter weight: 55\n",
      "Enter height: 1.5\n",
      "Your bmi is: 24.44\n",
      "Normal weight\n"
     ]
    }
   ],
   "source": [
    "weight = int(input('Enter weight: '))\n",
    "height = float(input('Enter height: '))\n",
    "\n",
    "bmi = weight/(height**2)\n",
    "print(\"Your bmi is:\", round(bmi, 2))\n",
    "\n",
    "if bmi < 20:\n",
    "    print('Under weight')\n",
    "elif bmi < 25:\n",
    "    print('Normal weight')\n",
    "elif bmi < 30:\n",
    "    print('Over weight')\n",
    "else:\n",
    "    print('obese')"
   ]
  },
  {
   "cell_type": "markdown",
   "id": "b2d0922b",
   "metadata": {},
   "source": [
    "4. Write a program that asks the user for three numbers and prints the maximum of the three."
   ]
  },
  {
   "cell_type": "code",
   "execution_count": 2,
   "id": "433ca721",
   "metadata": {},
   "outputs": [
    {
     "name": "stdout",
     "output_type": "stream",
     "text": [
      "Enter value1: 44\n",
      "Enter value2: 54\n",
      "Enter value3: 39\n",
      "54\n"
     ]
    }
   ],
   "source": [
    "v1 = int(input('Enter value1: '))\n",
    "v2 = int(input('Enter value2: '))\n",
    "v3 = int(input('Enter value3: '))\n",
    "\n",
    "if v1>=v2 and v1>=v3:\n",
    "    print(v1)\n",
    "elif v2>=v1 and v2>=v3:\n",
    "    print(v2)\n",
    "else:\n",
    "    print(v3)"
   ]
  },
  {
   "cell_type": "markdown",
   "id": "624cbd8f",
   "metadata": {},
   "source": [
    "5. Write a program that asks the user for a temperature (in Celsius) and prints \"It's freezing\" if the temperature is below 0, \"It's cool\" if it's between 0 and 10, \"It's warm\" if it's between 10 and 20, and \"It's hot\" if it's above 20\n"
   ]
  },
  {
   "cell_type": "code",
   "execution_count": 11,
   "id": "c7aa054e",
   "metadata": {},
   "outputs": [
    {
     "name": "stdout",
     "output_type": "stream",
     "text": [
      "Enter temparature(in Celsius): 22\n",
      "It's hot\n"
     ]
    }
   ],
   "source": [
    "temp = int(input('Enter temparature(in Celsius): '))\n",
    "\n",
    "if temp <= 0:\n",
    "    print(\"It's freezing\")\n",
    "elif temp in range(0, 10):\n",
    "    print(\"It's cool\")\n",
    "elif temp in range(10, 20):\n",
    "    print(\"It's warm\")\n",
    "else:\n",
    "    print(\"It's hot\")"
   ]
  },
  {
   "cell_type": "code",
   "execution_count": 10,
   "id": "297b9b72",
   "metadata": {},
   "outputs": [
    {
     "name": "stdout",
     "output_type": "stream",
     "text": [
      "Enter temparature(in Celsius): 8\n",
      "It's cool\n"
     ]
    }
   ],
   "source": [
    "temp = int(input('Enter temparature(in Celsius): '))\n",
    "\n",
    "if temp <= 0:\n",
    "    print(\"It's freezing\")\n",
    "elif temp in range(0, 10):\n",
    "    print(\"It's cool\")\n",
    "elif temp in range(10, 20):\n",
    "    print(\"It's warm\")\n",
    "else:\n",
    "    print(\"It's hot\")"
   ]
  },
  {
   "cell_type": "markdown",
   "id": "275b76b5",
   "metadata": {},
   "source": [
    "6. Write a program that asks the user for a number (1-7) and prints the corresponding day of the week."
   ]
  },
  {
   "cell_type": "code",
   "execution_count": 26,
   "id": "5e15764d",
   "metadata": {},
   "outputs": [
    {
     "name": "stdout",
     "output_type": "stream",
     "text": [
      "Enter a number(1-7): 5\n",
      "Friday\n"
     ]
    }
   ],
   "source": [
    "num = int(input('Enter a number(1-7): '))\n",
    "\n",
    "if num==1:\n",
    "    print('Monday')\n",
    "elif num==2:\n",
    "    print('Tuesday')\n",
    "elif num==3:\n",
    "    print('Wednesday')\n",
    "elif num==4:\n",
    "    print('Thursday')\n",
    "elif num==5:\n",
    "    print('Friday')\n",
    "elif num==6:\n",
    "    print('Saturday')\n",
    "elif num==7:\n",
    "    print('Sunday')\n",
    "else:\n",
    "    print('invalid number')"
   ]
  },
  {
   "cell_type": "markdown",
   "id": "f2d047f7",
   "metadata": {},
   "source": [
    "7. Write a program that asks the user for a number and prints \"In range\" if the number is between 10 and 20 (inclusive), and \"Out of range\" otherwise."
   ]
  },
  {
   "cell_type": "code",
   "execution_count": 2,
   "id": "d5c37599",
   "metadata": {},
   "outputs": [
    {
     "name": "stdout",
     "output_type": "stream",
     "text": [
      "Enter number: 11\n",
      "In range\n"
     ]
    }
   ],
   "source": [
    "num = int(input('Enter number: '))\n",
    "\n",
    "if num in range(10, 20):\n",
    "    print(\"In range\")\n",
    "else:\n",
    "    print(\"Out of range\")"
   ]
  },
  {
   "cell_type": "markdown",
   "id": "77392c06",
   "metadata": {},
   "source": [
    "8. Write a program that asks the user for an integer and prints whether it's even or odd."
   ]
  },
  {
   "cell_type": "code",
   "execution_count": 4,
   "id": "e9383405",
   "metadata": {},
   "outputs": [
    {
     "name": "stdout",
     "output_type": "stream",
     "text": [
      "Enter number: 6\n",
      "Even\n"
     ]
    }
   ],
   "source": [
    "num = int(input('Enter number: '))\n",
    "\n",
    "if num%2 == 0:\n",
    "    print('Even')\n",
    "else:\n",
    "    print('Odd')"
   ]
  },
  {
   "cell_type": "markdown",
   "id": "69fc3e0b",
   "metadata": {},
   "source": [
    "9. Write a program to check whether a person is eligible for voting or not  (voting age>=18)."
   ]
  },
  {
   "cell_type": "code",
   "execution_count": 7,
   "id": "a4627a48",
   "metadata": {},
   "outputs": [
    {
     "name": "stdout",
     "output_type": "stream",
     "text": [
      "Enter value: 23\n",
      "Eligible for voting\n"
     ]
    }
   ],
   "source": [
    "age = int(input('Enter value: '))\n",
    "\n",
    "if age >= 18:\n",
    "    print('Eligible for voting')\n",
    "else:\n",
    "    print('Not eligible')"
   ]
  },
  {
   "cell_type": "code",
   "execution_count": null,
   "id": "f0330874",
   "metadata": {},
   "outputs": [],
   "source": []
  }
 ],
 "metadata": {
  "kernelspec": {
   "display_name": "Python 3 (ipykernel)",
   "language": "python",
   "name": "python3"
  },
  "language_info": {
   "codemirror_mode": {
    "name": "ipython",
    "version": 3
   },
   "file_extension": ".py",
   "mimetype": "text/x-python",
   "name": "python",
   "nbconvert_exporter": "python",
   "pygments_lexer": "ipython3",
   "version": "3.11.5"
  }
 },
 "nbformat": 4,
 "nbformat_minor": 5
}
