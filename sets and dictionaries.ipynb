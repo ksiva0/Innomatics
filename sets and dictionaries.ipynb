{
 "cells": [
  {
   "cell_type": "markdown",
   "id": "06e52ad4",
   "metadata": {},
   "source": [
    "# sets and Dictionaries"
   ]
  },
  {
   "cell_type": "markdown",
   "id": "ebdb1503",
   "metadata": {},
   "source": [
    "# sets"
   ]
  },
  {
   "cell_type": "markdown",
   "id": "5277508b",
   "metadata": {},
   "source": [
    "* are a cluster of hetrogeneous data values, they aren't ordered\n",
    "* we declare sets by using {}\n",
    "* sets don't have duplicate value\n",
    "* we can use set class to perform type-casting\n",
    "* sets have methods that are unique"
   ]
  },
  {
   "cell_type": "code",
   "execution_count": 3,
   "id": "5914f38d",
   "metadata": {},
   "outputs": [
    {
     "name": "stdout",
     "output_type": "stream",
     "text": [
      "set()\n",
      "<class 'set'>\n",
      "0\n",
      "0x296d0595ee0\n"
     ]
    }
   ],
   "source": [
    "# Empty set\n",
    "\n",
    "a = set()\n",
    "print(a, type(a), len(a), hex(id(a)), sep='\\n')"
   ]
  },
  {
   "cell_type": "code",
   "execution_count": 4,
   "id": "9fba5f2c",
   "metadata": {},
   "outputs": [
    {
     "name": "stdout",
     "output_type": "stream",
     "text": [
      "{1, 2.2, 'four', <built-in function print>, (3+3j), <class 'range'>}\n",
      "<class 'set'>\n",
      "6\n",
      "0x296d0596260\n",
      "{1, 2.2, 'four', <built-in function print>, (3+3j), <class 'range'>}\n",
      "<class 'set'>\n",
      "6\n",
      "0x296d0596500\n"
     ]
    }
   ],
   "source": [
    "x , y = {1, 2.2, 3+3j, 'four', print, range, True}, set([1, 2.2, 3+3j, 'four', print, range, True])\n",
    "print(x, type(x), len(x), hex(id(x)), sep='\\n')\n",
    "print(y, type(y), len(y), hex(id(y)), sep='\\n')"
   ]
  },
  {
   "cell_type": "code",
   "execution_count": 5,
   "id": "c15fb520",
   "metadata": {},
   "outputs": [
    {
     "data": {
      "text/plain": [
       "{2, 5, 8}"
      ]
     },
     "execution_count": 5,
     "metadata": {},
     "output_type": "execute_result"
    }
   ],
   "source": [
    "x = {2,2,2,5,5,5,8,8,8,8}\n",
    "x"
   ]
  },
  {
   "cell_type": "markdown",
   "id": "0a6f6a1f",
   "metadata": {},
   "source": [
    "## methods of sets"
   ]
  },
  {
   "cell_type": "code",
   "execution_count": 7,
   "id": "0482b181",
   "metadata": {},
   "outputs": [
    {
     "data": {
      "text/plain": [
       "['__and__',\n",
       " '__class__',\n",
       " '__class_getitem__',\n",
       " '__contains__',\n",
       " '__delattr__',\n",
       " '__dir__',\n",
       " '__doc__',\n",
       " '__eq__',\n",
       " '__format__',\n",
       " '__ge__',\n",
       " '__getattribute__',\n",
       " '__getstate__',\n",
       " '__gt__',\n",
       " '__hash__',\n",
       " '__iand__',\n",
       " '__init__',\n",
       " '__init_subclass__',\n",
       " '__ior__',\n",
       " '__isub__',\n",
       " '__iter__',\n",
       " '__ixor__',\n",
       " '__le__',\n",
       " '__len__',\n",
       " '__lt__',\n",
       " '__ne__',\n",
       " '__new__',\n",
       " '__or__',\n",
       " '__rand__',\n",
       " '__reduce__',\n",
       " '__reduce_ex__',\n",
       " '__repr__',\n",
       " '__ror__',\n",
       " '__rsub__',\n",
       " '__rxor__',\n",
       " '__setattr__',\n",
       " '__sizeof__',\n",
       " '__str__',\n",
       " '__sub__',\n",
       " '__subclasshook__',\n",
       " '__xor__',\n",
       " 'add',\n",
       " 'clear',\n",
       " 'copy',\n",
       " 'difference',\n",
       " 'difference_update',\n",
       " 'discard',\n",
       " 'intersection',\n",
       " 'intersection_update',\n",
       " 'isdisjoint',\n",
       " 'issubset',\n",
       " 'issuperset',\n",
       " 'pop',\n",
       " 'remove',\n",
       " 'symmetric_difference',\n",
       " 'symmetric_difference_update',\n",
       " 'union',\n",
       " 'update']"
      ]
     },
     "execution_count": 7,
     "metadata": {},
     "output_type": "execute_result"
    }
   ],
   "source": [
    "dir(set)"
   ]
  },
  {
   "cell_type": "markdown",
   "id": "c38d1330",
   "metadata": {},
   "source": [
    "### add()"
   ]
  },
  {
   "cell_type": "markdown",
   "id": "16cdd6c0",
   "metadata": {},
   "source": [
    "add() method is used to add an element to a set. If the element is already present in the set, it will not be added again.\n",
    "* <b>Syntax</b>: set.add(element)"
   ]
  },
  {
   "cell_type": "code",
   "execution_count": 8,
   "id": "d9eb60b8",
   "metadata": {},
   "outputs": [
    {
     "data": {
      "text/plain": [
       "{'banana', 'guava', 'mango'}"
      ]
     },
     "execution_count": 8,
     "metadata": {},
     "output_type": "execute_result"
    }
   ],
   "source": [
    "fruits = {'mango', 'guava', 'banana'}\n",
    "fruits"
   ]
  },
  {
   "cell_type": "code",
   "execution_count": 12,
   "id": "5fa81c09",
   "metadata": {},
   "outputs": [
    {
     "name": "stdout",
     "output_type": "stream",
     "text": [
      "{'apple', 'banana', 'guava', 'mango'}\n"
     ]
    }
   ],
   "source": [
    "fruits.add('apple')\n",
    "print(fruits)"
   ]
  },
  {
   "cell_type": "markdown",
   "id": "31f5520f",
   "metadata": {},
   "source": [
    "### update()"
   ]
  },
  {
   "cell_type": "markdown",
   "id": "0d7d2c8a",
   "metadata": {},
   "source": [
    "update() method is used to add multiple elements to a set. The elements can be passed as an iterable such as a list, tuple, or another set. If the element is already present in the set, it will not be added again.\n",
    "* <b>Syntax</b>: set.update(iterable)"
   ]
  },
  {
   "cell_type": "code",
   "execution_count": 18,
   "id": "061be75f",
   "metadata": {},
   "outputs": [
    {
     "name": "stdout",
     "output_type": "stream",
     "text": [
      "{'banana', 'mango', 'apple', 'orange', 'grapes', 'cherry'}\n"
     ]
    }
   ],
   "source": [
    "fruits = {\"apple\", \"banana\", \"cherry\"}\n",
    "fruits.update([\"orange\", \"mango\", \"grapes\"])\n",
    "\n",
    "print(fruits)"
   ]
  },
  {
   "cell_type": "code",
   "execution_count": 22,
   "id": "b618974d",
   "metadata": {},
   "outputs": [
    {
     "name": "stdout",
     "output_type": "stream",
     "text": [
      "{1, 2, 3, 9, 44}\n"
     ]
    }
   ],
   "source": [
    "z = {1,2,3}\n",
    "z.update((9,44))\n",
    "print(z)"
   ]
  },
  {
   "cell_type": "markdown",
   "id": "d13082d4",
   "metadata": {},
   "source": [
    "### remove()"
   ]
  },
  {
   "cell_type": "markdown",
   "id": "ef65ed0c",
   "metadata": {},
   "source": [
    "remove() method is used to remove an element from a set. If the element is not present in the set, it will raise a KeyError.\n",
    "* <b>Syntax</b>: set.remove(element)"
   ]
  },
  {
   "cell_type": "code",
   "execution_count": 23,
   "id": "ac4565f9",
   "metadata": {},
   "outputs": [
    {
     "data": {
      "text/plain": [
       "{'cabage', 'carrot', 'ginger'}"
      ]
     },
     "execution_count": 23,
     "metadata": {},
     "output_type": "execute_result"
    }
   ],
   "source": [
    "veg = {'carrot', 'ginger', 'mirchi', 'cabage'}\n",
    "veg.remove('mirchi')\n",
    "veg"
   ]
  },
  {
   "cell_type": "markdown",
   "id": "63489b0b",
   "metadata": {},
   "source": [
    "### discard()\n"
   ]
  },
  {
   "cell_type": "markdown",
   "id": "b8c026d0",
   "metadata": {},
   "source": [
    "discard() method is used to remove an element from a set. If the element is not present in the set, it will not raise a KeyError.\n",
    "* <b>Syntax</b>: set.discard(element)"
   ]
  },
  {
   "cell_type": "code",
   "execution_count": 24,
   "id": "14ce7106",
   "metadata": {},
   "outputs": [
    {
     "data": {
      "text/plain": [
       "{'cabage', 'carrot', 'ginger'}"
      ]
     },
     "execution_count": 24,
     "metadata": {},
     "output_type": "execute_result"
    }
   ],
   "source": [
    "veg = {'carrot', 'ginger', 'mirchi', 'cabage'}\n",
    "veg.discard('mirchi')\n",
    "veg"
   ]
  },
  {
   "cell_type": "markdown",
   "id": "8e4b7cec",
   "metadata": {},
   "source": [
    "### pop()"
   ]
  },
  {
   "cell_type": "markdown",
   "id": "bec59d12",
   "metadata": {},
   "source": [
    "pop() method is used to remove and return an arbitrary element from a set. If the set is empty, it will raise a KeyError.\n",
    "* <b>Syntax</b>: set.pop()"
   ]
  },
  {
   "cell_type": "code",
   "execution_count": 29,
   "id": "1c38ff21",
   "metadata": {},
   "outputs": [
    {
     "name": "stdout",
     "output_type": "stream",
     "text": [
      "{'apple', 'banana', 'mango'}\n"
     ]
    },
    {
     "data": {
      "text/plain": [
       "('apple', {'banana', 'mango'})"
      ]
     },
     "execution_count": 29,
     "metadata": {},
     "output_type": "execute_result"
    }
   ],
   "source": [
    "fruits = {\"apple\", \"banana\", \"mango\"}\n",
    "print(fruits)\n",
    "x = fruits.pop()\n",
    "x,fruits"
   ]
  },
  {
   "cell_type": "markdown",
   "id": "5d292c2b",
   "metadata": {},
   "source": [
    "### clear()"
   ]
  },
  {
   "cell_type": "markdown",
   "id": "4b00e0e6",
   "metadata": {},
   "source": [
    "clear() method is used to remove all elements from a set.\n",
    "* <b>Syntax</b>: set.clear()"
   ]
  },
  {
   "cell_type": "code",
   "execution_count": 30,
   "id": "fe4cfa76",
   "metadata": {},
   "outputs": [
    {
     "name": "stdout",
     "output_type": "stream",
     "text": [
      "set()\n"
     ]
    }
   ],
   "source": [
    "fruits = {\"apple\", \"banana\", \"mango\"}\n",
    "fruits.clear()\n",
    "print(fruits)"
   ]
  },
  {
   "cell_type": "markdown",
   "id": "3d84cf9e",
   "metadata": {},
   "source": [
    " ### copy()"
   ]
  },
  {
   "cell_type": "markdown",
   "id": "2657f345",
   "metadata": {},
   "source": [
    "copy() method is used to create a shallow copy of a set. A shallow copy is a new set that contains the same elements as the original set.\n",
    "* <b>Syntax</b>: new_set = set.copy()"
   ]
  },
  {
   "cell_type": "code",
   "execution_count": 31,
   "id": "0f97b00d",
   "metadata": {},
   "outputs": [
    {
     "name": "stdout",
     "output_type": "stream",
     "text": [
      "{'apple', 'banana', 'mango'} {'apple', 'banana', 'mango'}\n"
     ]
    }
   ],
   "source": [
    "fruits = {\"apple\", \"banana\", \"mango\"}\n",
    "f = fruits.copy()\n",
    "print(fruits, f)"
   ]
  },
  {
   "cell_type": "markdown",
   "id": "6f8c94ea",
   "metadata": {},
   "source": [
    "### isdisjoint()"
   ]
  },
  {
   "cell_type": "markdown",
   "id": "78f76c2e",
   "metadata": {},
   "source": [
    "isdisjoint() method is used to check whether two sets are disjoint or not. Two sets are said to be disjoint if their intersection is null. The method returns True if the two sets are disjoint, otherwise it returns False.\n",
    "* <b>Syntax</b>: set1.isdisjoint(set2)"
   ]
  },
  {
   "cell_type": "code",
   "execution_count": 32,
   "id": "7b3287a5",
   "metadata": {},
   "outputs": [
    {
     "data": {
      "text/plain": [
       "True"
      ]
     },
     "execution_count": 32,
     "metadata": {},
     "output_type": "execute_result"
    }
   ],
   "source": [
    "set1 = {1, 2, 3}\n",
    "set2 = {4, 5, 6}\n",
    "\n",
    "set1.isdisjoint(set2)"
   ]
  },
  {
   "cell_type": "markdown",
   "id": "ee818c9a",
   "metadata": {},
   "source": [
    "### issuperset()"
   ]
  },
  {
   "cell_type": "markdown",
   "id": "026e000c",
   "metadata": {},
   "source": [
    "issuperset() method is used to check if a set is a superset of another set. The method returns True if all elements of the second set are present in the first set, otherwise it returns False.\n",
    "* <b>Syntax</b>: set1.issuperset(set2)"
   ]
  },
  {
   "cell_type": "code",
   "execution_count": 33,
   "id": "a928419b",
   "metadata": {},
   "outputs": [
    {
     "data": {
      "text/plain": [
       "False"
      ]
     },
     "execution_count": 33,
     "metadata": {},
     "output_type": "execute_result"
    }
   ],
   "source": [
    "x = {1,2,3,4}\n",
    "y = {4,5,6}\n",
    "\n",
    "x.issuperset(y)"
   ]
  },
  {
   "cell_type": "code",
   "execution_count": 34,
   "id": "723e3626",
   "metadata": {},
   "outputs": [
    {
     "data": {
      "text/plain": [
       "True"
      ]
     },
     "execution_count": 34,
     "metadata": {},
     "output_type": "execute_result"
    }
   ],
   "source": [
    "x = {1,2,3,4}\n",
    "y = {4}\n",
    "\n",
    "x.issuperset(y)"
   ]
  },
  {
   "cell_type": "markdown",
   "id": "676750da",
   "metadata": {},
   "source": [
    "### issubset()"
   ]
  },
  {
   "cell_type": "markdown",
   "id": "05ff1260",
   "metadata": {},
   "source": [
    "issubset() method is used to check if a set is a subset of another set. The method returns True if all elements of the first set are present in the second set, otherwise it returns False.\n",
    "* <b>Syntax</b>: set1.issubset(set2)"
   ]
  },
  {
   "cell_type": "code",
   "execution_count": 36,
   "id": "9615ed1d",
   "metadata": {},
   "outputs": [
    {
     "data": {
      "text/plain": [
       "True"
      ]
     },
     "execution_count": 36,
     "metadata": {},
     "output_type": "execute_result"
    }
   ],
   "source": [
    "x = {4,5}\n",
    "y = {4,5,6}\n",
    "\n",
    "x.issubset(y)"
   ]
  },
  {
   "cell_type": "markdown",
   "id": "b224bed6",
   "metadata": {},
   "source": [
    "### union()"
   ]
  },
  {
   "cell_type": "markdown",
   "id": "594f45e8",
   "metadata": {},
   "source": [
    "union() method is used to return a new set containing all the elements from the original set and all the elements from the specified set(s). The method can take any number of sets as arguments.\n",
    "* <b>Syntax</b>: set1.union(set2, set3, ..)"
   ]
  },
  {
   "cell_type": "code",
   "execution_count": 37,
   "id": "478c9ecf",
   "metadata": {},
   "outputs": [
    {
     "data": {
      "text/plain": [
       "{1, 2, 3, 4, 5}"
      ]
     },
     "execution_count": 37,
     "metadata": {},
     "output_type": "execute_result"
    }
   ],
   "source": [
    "set1 = {1, 2, 3}\n",
    "set2 = {3, 4, 5}\n",
    "\n",
    "set1.union(set2)"
   ]
  },
  {
   "cell_type": "markdown",
   "id": "ab0bdaa8",
   "metadata": {},
   "source": [
    "### intersection()"
   ]
  },
  {
   "cell_type": "markdown",
   "id": "9fa090fe",
   "metadata": {},
   "source": [
    "intersection() method is used to return a new set containing only the elements that are common to two or more sets. The method can take any number of sets as arguments. \n",
    "* <b>Syntax</b>: set1.intersection(set2, set3,..)"
   ]
  },
  {
   "cell_type": "code",
   "execution_count": 38,
   "id": "fe5a1c09",
   "metadata": {},
   "outputs": [
    {
     "data": {
      "text/plain": [
       "{3, 7}"
      ]
     },
     "execution_count": 38,
     "metadata": {},
     "output_type": "execute_result"
    }
   ],
   "source": [
    "a = {1,3,5,7}\n",
    "b = {2,3,7}\n",
    "\n",
    "a.intersection(b)"
   ]
  },
  {
   "cell_type": "markdown",
   "id": "e2296a05",
   "metadata": {},
   "source": [
    "### intersection_update()"
   ]
  },
  {
   "cell_type": "markdown",
   "id": "a4e6df0b",
   "metadata": {},
   "source": [
    "intersection_update() method is used to update a set with common elements only of all the sets passed in parameter of intersection_update() method. The method can take any number of sets as arguments.\n",
    "* <b>Syntax</b>: set1.intersection_update(set2, set3, ..., setn)"
   ]
  },
  {
   "cell_type": "code",
   "execution_count": 40,
   "id": "a634f2eb",
   "metadata": {},
   "outputs": [
    {
     "data": {
      "text/plain": [
       "{3}"
      ]
     },
     "execution_count": 40,
     "metadata": {},
     "output_type": "execute_result"
    }
   ],
   "source": [
    "a = {1,3,5,7}\n",
    "b = {2,3,7}\n",
    "c = {5,9,3}\n",
    "a.intersection_update(b, c)\n",
    "a"
   ]
  },
  {
   "cell_type": "markdown",
   "id": "a94c496a",
   "metadata": {},
   "source": [
    "### difference()"
   ]
  },
  {
   "cell_type": "markdown",
   "id": "1c6707ce",
   "metadata": {},
   "source": [
    "difference() method is used to return a new set containing only the elements that are present in one set but not in another. The method takes one argument, which is the set to be compared.\n",
    "* <b>Syntax</b>: set1.difference(set2)"
   ]
  },
  {
   "cell_type": "code",
   "execution_count": 41,
   "id": "8f299063",
   "metadata": {},
   "outputs": [
    {
     "data": {
      "text/plain": [
       "{1, 5}"
      ]
     },
     "execution_count": 41,
     "metadata": {},
     "output_type": "execute_result"
    }
   ],
   "source": [
    "a = {1,3,5,7}\n",
    "b = {2,3,7}\n",
    "\n",
    "a.difference(b)"
   ]
  },
  {
   "cell_type": "markdown",
   "id": "ea179fff",
   "metadata": {},
   "source": [
    "### difference_update()"
   ]
  },
  {
   "cell_type": "markdown",
   "id": "53c0cd45",
   "metadata": {},
   "source": [
    "difference_update() method is used to remove the elements from a set that are also present in another set. The method modifies the original set and returns none.\n",
    "* <b>Syntax</b>: set1.difference_update(set2)"
   ]
  },
  {
   "cell_type": "code",
   "execution_count": 45,
   "id": "cd99c56d",
   "metadata": {},
   "outputs": [
    {
     "data": {
      "text/plain": [
       "{1, 5}"
      ]
     },
     "execution_count": 45,
     "metadata": {},
     "output_type": "execute_result"
    }
   ],
   "source": [
    "a = {1,3,5,7}\n",
    "b = {2,3,7}\n",
    "\n",
    "a.difference_update(b)\n",
    "a"
   ]
  },
  {
   "cell_type": "markdown",
   "id": "c7a2e7ba",
   "metadata": {},
   "source": [
    "### symmetric_difference()"
   ]
  },
  {
   "cell_type": "markdown",
   "id": "ffb11d46",
   "metadata": {},
   "source": [
    "symmetric_difference() method is used to return a new set containing only the elements that are present in either of the two sets, but not in both. The method takes one argument, which is the set to be compared.\n",
    "* <b>Syntax</b>: set1.symmetric_difference(set2)"
   ]
  },
  {
   "cell_type": "code",
   "execution_count": 46,
   "id": "ca7e5b19",
   "metadata": {},
   "outputs": [
    {
     "data": {
      "text/plain": [
       "{1, 4}"
      ]
     },
     "execution_count": 46,
     "metadata": {},
     "output_type": "execute_result"
    }
   ],
   "source": [
    "set1 = {1, 2, 3}\n",
    "set2 = {2, 3, 4}\n",
    "\n",
    "set1.symmetric_difference(set2)"
   ]
  },
  {
   "cell_type": "markdown",
   "id": "a2d223e0",
   "metadata": {},
   "source": [
    "### symmetric_difference_update()"
   ]
  },
  {
   "cell_type": "markdown",
   "id": "ec0b0c69",
   "metadata": {},
   "source": [
    "symmetric_difference_update() method is used to update a set with the symmetric difference of two or more sets. The symmetric difference of two sets is the set of elements that are in either of the sets but not in both. The method can take any number of sets as arguments.\n",
    "* <b>Syntax</b>: set1.symmetric_difference_update(set2, set3, ...)"
   ]
  },
  {
   "cell_type": "code",
   "execution_count": 52,
   "id": "be67220a",
   "metadata": {},
   "outputs": [
    {
     "name": "stdout",
     "output_type": "stream",
     "text": [
      "{1, 4}\n"
     ]
    }
   ],
   "source": [
    "set1 = {1, 2, 3}\n",
    "set2 = {2, 3, 4}\n",
    "\n",
    "set1.symmetric_difference_update(set2)\n",
    "print(set1)"
   ]
  },
  {
   "cell_type": "markdown",
   "id": "f5b3702f",
   "metadata": {},
   "source": [
    "  "
   ]
  },
  {
   "cell_type": "markdown",
   "id": "98096eb3",
   "metadata": {},
   "source": [
    "   "
   ]
  },
  {
   "cell_type": "markdown",
   "id": "a0f31529",
   "metadata": {},
   "source": [
    "# Dictionaries"
   ]
  },
  {
   "cell_type": "markdown",
   "id": "c5ed53aa",
   "metadata": {},
   "source": [
    "* A dictionary is a collection of key-value pairs. \n",
    "* Each key-value pair maps the key to its associated value. * Dictionaries are unordered, changeable, and do not allow duplicates. \n",
    "* You can define a dictionary by enclosing a comma-separated list of key-value pairs in curly braces {}. "
   ]
  },
  {
   "cell_type": "code",
   "execution_count": 65,
   "id": "e3d810c2",
   "metadata": {},
   "outputs": [
    {
     "name": "stdout",
     "output_type": "stream",
     "text": [
      "{} <class 'dict'>\n"
     ]
    }
   ],
   "source": [
    "x=dict()\n",
    "print(x,type(x))"
   ]
  },
  {
   "cell_type": "code",
   "execution_count": 63,
   "id": "0f8b166c",
   "metadata": {},
   "outputs": [
    {
     "data": {
      "text/plain": [
       "{1: [1, 2, 3], 'hello': ['hi']}"
      ]
     },
     "execution_count": 63,
     "metadata": {},
     "output_type": "execute_result"
    }
   ],
   "source": [
    "x = {1:[1,2,3],\n",
    "    'hello':(4,5,6),\n",
    "    'hello':['hi']}\n",
    "\n",
    "x"
   ]
  },
  {
   "cell_type": "code",
   "execution_count": 64,
   "id": "85e5d46a",
   "metadata": {},
   "outputs": [
    {
     "data": {
      "text/plain": [
       "'i'"
      ]
     },
     "execution_count": 64,
     "metadata": {},
     "output_type": "execute_result"
    }
   ],
   "source": [
    "x['hello'][0][1]"
   ]
  },
  {
   "cell_type": "code",
   "execution_count": 14,
   "id": "d3429ab4",
   "metadata": {},
   "outputs": [
    {
     "name": "stdout",
     "output_type": "stream",
     "text": [
      "['hi']\n"
     ]
    }
   ],
   "source": [
    "x = {1:[1,2,3],\n",
    "    'hello':(4,5,6),\n",
    "    'hello':['hi']}\n",
    "\n",
    "print(x['hello'])"
   ]
  },
  {
   "cell_type": "code",
   "execution_count": 1,
   "id": "14a88678",
   "metadata": {},
   "outputs": [
    {
     "data": {
      "text/plain": [
       "['__class__',\n",
       " '__class_getitem__',\n",
       " '__contains__',\n",
       " '__delattr__',\n",
       " '__delitem__',\n",
       " '__dir__',\n",
       " '__doc__',\n",
       " '__eq__',\n",
       " '__format__',\n",
       " '__ge__',\n",
       " '__getattribute__',\n",
       " '__getitem__',\n",
       " '__getstate__',\n",
       " '__gt__',\n",
       " '__hash__',\n",
       " '__init__',\n",
       " '__init_subclass__',\n",
       " '__ior__',\n",
       " '__iter__',\n",
       " '__le__',\n",
       " '__len__',\n",
       " '__lt__',\n",
       " '__ne__',\n",
       " '__new__',\n",
       " '__or__',\n",
       " '__reduce__',\n",
       " '__reduce_ex__',\n",
       " '__repr__',\n",
       " '__reversed__',\n",
       " '__ror__',\n",
       " '__setattr__',\n",
       " '__setitem__',\n",
       " '__sizeof__',\n",
       " '__str__',\n",
       " '__subclasshook__',\n",
       " 'clear',\n",
       " 'copy',\n",
       " 'fromkeys',\n",
       " 'get',\n",
       " 'items',\n",
       " 'keys',\n",
       " 'pop',\n",
       " 'popitem',\n",
       " 'setdefault',\n",
       " 'update',\n",
       " 'values']"
      ]
     },
     "execution_count": 1,
     "metadata": {},
     "output_type": "execute_result"
    }
   ],
   "source": [
    "dir(dict)"
   ]
  },
  {
   "cell_type": "markdown",
   "id": "5775e02f",
   "metadata": {},
   "source": [
    "### clear()"
   ]
  },
  {
   "cell_type": "markdown",
   "id": "d576f961",
   "metadata": {},
   "source": [
    "clear() method is a built-in method that removes all the items from a dictionary.\n",
    "* <b>Syntax</b>: dictionary.clear()"
   ]
  },
  {
   "cell_type": "code",
   "execution_count": 2,
   "id": "0a6634d2",
   "metadata": {},
   "outputs": [
    {
     "data": {
      "text/plain": [
       "{'name': 'Siva', 'age': 23, 'city': 'Hyd'}"
      ]
     },
     "execution_count": 2,
     "metadata": {},
     "output_type": "execute_result"
    }
   ],
   "source": [
    "a = {'name': 'Siva', 'age': 23, 'city': 'Hyd'}\n",
    "a"
   ]
  },
  {
   "cell_type": "code",
   "execution_count": 4,
   "id": "fd6cc55d",
   "metadata": {},
   "outputs": [
    {
     "data": {
      "text/plain": [
       "{}"
      ]
     },
     "execution_count": 4,
     "metadata": {},
     "output_type": "execute_result"
    }
   ],
   "source": [
    "a.clear()\n",
    "a"
   ]
  },
  {
   "cell_type": "markdown",
   "id": "6a5aa2ea",
   "metadata": {},
   "source": [
    "### copy()"
   ]
  },
  {
   "cell_type": "markdown",
   "id": "7fcb0c60",
   "metadata": {},
   "source": [
    "copy() method is a built-in method that returns a shallow copy of the dictionary.\n",
    "* <b>Syntax</b>: new_dict = dictionary.copy()"
   ]
  },
  {
   "cell_type": "code",
   "execution_count": 10,
   "id": "2eb9bbce",
   "metadata": {},
   "outputs": [
    {
     "name": "stdout",
     "output_type": "stream",
     "text": [
      "{'name': 'Siva', 'age': 23, 'city': 'Hyd'}\n",
      "<class 'dict'>\n",
      "0x24ffaac9380\n",
      "{'name': 'Siva', 'age': 23, 'city': 'Hyd'}\n",
      "<class 'dict'>\n",
      "0x24ffaac9640\n"
     ]
    }
   ],
   "source": [
    "a = {'name': 'Siva', 'age': 23, 'city': 'Hyd'}\n",
    "b = a.copy()\n",
    "print(a, type(a), hex(id(a)), sep='\\n')\n",
    "print(b, type(b), hex(id(b)), sep='\\n')"
   ]
  },
  {
   "cell_type": "markdown",
   "id": "82ce438a",
   "metadata": {},
   "source": [
    "### pop()"
   ]
  },
  {
   "cell_type": "markdown",
   "id": "dfb6baa4",
   "metadata": {},
   "source": [
    "The pop() method removes the specified item from the dictionary.\n",
    "* <b>Syntax</b>: dictionary.pop(keyname, defaultvalue)"
   ]
  },
  {
   "cell_type": "code",
   "execution_count": 11,
   "id": "31f9bbe5",
   "metadata": {},
   "outputs": [
    {
     "name": "stdout",
     "output_type": "stream",
     "text": [
      "{'brand': 'Ford', 'year': 1964}\n"
     ]
    }
   ],
   "source": [
    "car = {\n",
    "  \"brand\": \"Ford\",\n",
    "  \"model\": \"Mustang\",\n",
    "  \"year\": 1964}\n",
    "\n",
    "car.pop(\"model\")\n",
    "\n",
    "print(car)"
   ]
  },
  {
   "cell_type": "code",
   "execution_count": null,
   "id": "6a4393d6",
   "metadata": {},
   "outputs": [],
   "source": []
  }
 ],
 "metadata": {
  "kernelspec": {
   "display_name": "Python 3 (ipykernel)",
   "language": "python",
   "name": "python3"
  },
  "language_info": {
   "codemirror_mode": {
    "name": "ipython",
    "version": 3
   },
   "file_extension": ".py",
   "mimetype": "text/x-python",
   "name": "python",
   "nbconvert_exporter": "python",
   "pygments_lexer": "ipython3",
   "version": "3.11.5"
  }
 },
 "nbformat": 4,
 "nbformat_minor": 5
}
