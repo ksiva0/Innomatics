{
 "cells": [
  {
   "cell_type": "markdown",
   "id": "38786ec5",
   "metadata": {},
   "source": [
    "# <center><u>String methods</u></center>"
   ]
  },
  {
   "cell_type": "markdown",
   "id": "56565a2a",
   "metadata": {},
   "source": [
    "   Python string is a sequence of Unicode characters that is enclosed in quotation marks. In this article, we will discuss the in-built function i.e. the functions provided by Python to operate on strings"
   ]
  },
  {
   "cell_type": "markdown",
   "id": "5f1d3062",
   "metadata": {},
   "source": [
    "<b>Note</b>: Every string method does not change the original string instead returns a new string with the changed attributes. "
   ]
  },
  {
   "cell_type": "markdown",
   "id": "81553bd4",
   "metadata": {},
   "source": [
    "### capitalize()"
   ]
  },
  {
   "cell_type": "markdown",
   "id": "b3b4b943",
   "metadata": {},
   "source": [
    "capitalize() method returns a copy of the original string and converts the first character of the string to a capital (uppercase) letter, while making all other characters in the string lowercase letters.\n",
    "\n",
    "<b>Syntax</b>: string_name.capitalize()"
   ]
  },
  {
   "cell_type": "markdown",
   "id": "3944eab4",
   "metadata": {},
   "source": [
    "<b>Parameter</b>: The capitalize() function does not takes any parameter. "
   ]
  },
  {
   "cell_type": "markdown",
   "id": "54c6ad0e",
   "metadata": {},
   "source": [
    "<b>Note</b>: Python String capitalize() method doesn’t modify the original string"
   ]
  },
  {
   "cell_type": "code",
   "execution_count": 8,
   "id": "2a211b49",
   "metadata": {},
   "outputs": [],
   "source": [
    "a = ' roses are red'"
   ]
  },
  {
   "cell_type": "code",
   "execution_count": 7,
   "id": "943c10fd",
   "metadata": {},
   "outputs": [
    {
     "name": "stdout",
     "output_type": "stream",
     "text": [
      "Help on built-in function capitalize:\n",
      "\n",
      "capitalize() method of builtins.str instance\n",
      "    Return a capitalized version of the string.\n",
      "    \n",
      "    More specifically, make the first character have upper case and the rest lower\n",
      "    case.\n",
      "\n"
     ]
    }
   ],
   "source": [
    "help(a.capitalize)"
   ]
  },
  {
   "cell_type": "code",
   "execution_count": 1,
   "id": "bfd8aac2",
   "metadata": {},
   "outputs": [
    {
     "data": {
      "text/plain": [
       "'Roses are red'"
      ]
     },
     "execution_count": 1,
     "metadata": {},
     "output_type": "execute_result"
    }
   ],
   "source": [
    "a = 'roses are red'\n",
    "a.capitalize()"
   ]
  },
  {
   "cell_type": "markdown",
   "id": "69620e33",
   "metadata": {},
   "source": [
    "### casefold()"
   ]
  },
  {
   "cell_type": "markdown",
   "id": "be6964d3",
   "metadata": {},
   "source": [
    "casefold() method is used to convert string to lowercase. It is similar to the Python lower() string method, but the case removes all the case distinctions present in a string.\n",
    "\n",
    "<b>Syntax</b>:  string.casefold()"
   ]
  },
  {
   "cell_type": "markdown",
   "id": "86b45871",
   "metadata": {},
   "source": [
    "<b>Parameters</b>: The casefold() method doesn’t take any parameters."
   ]
  },
  {
   "cell_type": "code",
   "execution_count": 15,
   "id": "69abe650",
   "metadata": {},
   "outputs": [],
   "source": [
    "x = 'German ss is Starße'"
   ]
  },
  {
   "cell_type": "code",
   "execution_count": 16,
   "id": "f863f86c",
   "metadata": {
    "scrolled": true
   },
   "outputs": [
    {
     "name": "stdout",
     "output_type": "stream",
     "text": [
      "Help on built-in function casefold:\n",
      "\n",
      "casefold() method of builtins.str instance\n",
      "    Return a version of the string suitable for caseless comparisons.\n",
      "\n"
     ]
    }
   ],
   "source": [
    "help(x.casefold)"
   ]
  },
  {
   "cell_type": "code",
   "execution_count": 17,
   "id": "8d17cee5",
   "metadata": {},
   "outputs": [
    {
     "data": {
      "text/plain": [
       "'german ss is starsse'"
      ]
     },
     "execution_count": 17,
     "metadata": {},
     "output_type": "execute_result"
    }
   ],
   "source": [
    "x.casefold()"
   ]
  },
  {
   "cell_type": "markdown",
   "id": "18c28627",
   "metadata": {},
   "source": [
    "### center()"
   ]
  },
  {
   "cell_type": "markdown",
   "id": "da7abf0a",
   "metadata": {},
   "source": [
    "center() method creates and returns a new string that is padded with the specified character.\n",
    "\n",
    "<b>Syntax</b>:  string.center(length[, fillchar])"
   ]
  },
  {
   "cell_type": "markdown",
   "id": "32dbdf6a",
   "metadata": {},
   "source": [
    "<b>Parameters</b>: \n",
    "* length: length of the string after padding with the characters.\n",
    "* fillchar: (optional) characters which need to be padded. If it’s not provided, space is taken as the default argument."
   ]
  },
  {
   "cell_type": "markdown",
   "id": "22524b59",
   "metadata": {},
   "source": [
    "<b>Note</b>:\n",
    "* center() Method tries to keep the new string length equal to the given length value and fills the extra characters using the default character (space in this case)."
   ]
  },
  {
   "cell_type": "code",
   "execution_count": 18,
   "id": "d4067fef",
   "metadata": {},
   "outputs": [],
   "source": [
    "c = 'Hello World!'"
   ]
  },
  {
   "cell_type": "code",
   "execution_count": 19,
   "id": "3798f328",
   "metadata": {},
   "outputs": [
    {
     "name": "stdout",
     "output_type": "stream",
     "text": [
      "Help on built-in function center:\n",
      "\n",
      "center(width, fillchar=' ', /) method of builtins.str instance\n",
      "    Return a centered string of length width.\n",
      "    \n",
      "    Padding is done using the specified fill character (default is a space).\n",
      "\n"
     ]
    }
   ],
   "source": [
    "help(c.center)"
   ]
  },
  {
   "cell_type": "code",
   "execution_count": 21,
   "id": "a6655bd1",
   "metadata": {},
   "outputs": [
    {
     "data": {
      "text/plain": [
       "'    Hello World!    '"
      ]
     },
     "execution_count": 21,
     "metadata": {},
     "output_type": "execute_result"
    }
   ],
   "source": [
    "c.center(20)"
   ]
  },
  {
   "cell_type": "code",
   "execution_count": 22,
   "id": "18db835f",
   "metadata": {},
   "outputs": [
    {
     "data": {
      "text/plain": [
       "'****Hello World!****'"
      ]
     },
     "execution_count": 22,
     "metadata": {},
     "output_type": "execute_result"
    }
   ],
   "source": [
    "c.center(20,'*')"
   ]
  },
  {
   "cell_type": "markdown",
   "id": "3eb04ff0",
   "metadata": {},
   "source": [
    "### encode()"
   ]
  },
  {
   "cell_type": "markdown",
   "id": "69895a02",
   "metadata": {},
   "source": [
    "encode() converts a string value into a collection of bytes, using an encoding scheme specified by the user.\n",
    "\n",
    "<b>Syntax</b>: encode(encoding, errors)"
   ]
  },
  {
   "cell_type": "markdown",
   "id": "1c7155de",
   "metadata": {},
   "source": [
    "<b>Parameter</b>:\n",
    "* encoding: Specifies the encoding on the basis of which encoding has to be performed. \n",
    "* errors: Decides how to handle the errors if they occur, e.g ‘strict’ raises Unicode error in case of exception and ‘ignore’ ignores the errors that occurred. There are six types of error response\n",
    "   * strict – default response which raises a UnicodeDecodeError exception on failure\n",
    "   * ignore – ignores the unencodable unicode from the result\n",
    "   * replace – replaces the unencodable unicode to a question mark ?\n",
    "   * xmlcharrefreplace – inserts XML character reference instead of unencodable unicode\n",
    "   * backslashreplace – inserts a \\uNNNN escape sequence instead of unencodable unicode\n",
    "   * namereplace – inserts a \\N{…} escape sequence instead of unencodable unicode"
   ]
  },
  {
   "cell_type": "code",
   "execution_count": 28,
   "id": "8f4fd9e0",
   "metadata": {},
   "outputs": [
    {
     "name": "stdout",
     "output_type": "stream",
     "text": [
      "b'\\xc2\\xb6'\n"
     ]
    }
   ],
   "source": [
    "x = '¶'\n",
    "print(\"¶\".encode('utf-8'))"
   ]
  },
  {
   "cell_type": "code",
   "execution_count": 30,
   "id": "c7a30f52",
   "metadata": {},
   "outputs": [
    {
     "name": "stdout",
     "output_type": "stream",
     "text": [
      "Help on built-in function encode:\n",
      "\n",
      "encode(encoding='utf-8', errors='strict') method of builtins.str instance\n",
      "    Encode the string using the codec registered for encoding.\n",
      "    \n",
      "    encoding\n",
      "      The encoding in which to encode the string.\n",
      "    errors\n",
      "      The error handling scheme to use for encoding errors.\n",
      "      The default is 'strict' meaning that encoding errors raise a\n",
      "      UnicodeEncodeError.  Other possible values are 'ignore', 'replace' and\n",
      "      'xmlcharrefreplace' as well as any other name registered with\n",
      "      codecs.register_error that can handle UnicodeEncodeErrors.\n",
      "\n"
     ]
    }
   ],
   "source": [
    "help(x.encode)"
   ]
  },
  {
   "cell_type": "code",
   "execution_count": 32,
   "id": "61f1126a",
   "metadata": {},
   "outputs": [
    {
     "data": {
      "text/plain": [
       "b'A'"
      ]
     },
     "execution_count": 32,
     "metadata": {},
     "output_type": "execute_result"
    }
   ],
   "source": [
    "y = 'A'\n",
    "y.encode('utf-8')"
   ]
  },
  {
   "cell_type": "markdown",
   "id": "09a52034",
   "metadata": {},
   "source": [
    "### endswith()"
   ]
  },
  {
   "cell_type": "markdown",
   "id": "e62440c2",
   "metadata": {},
   "source": [
    "endswith() method returns True if a string ends with the given suffix, otherwise returns False.\n",
    "\n",
    "<b>Syntax</b>: str.endswith(suffix, start, end)"
   ]
  },
  {
   "cell_type": "markdown",
   "id": "daa8bf5a",
   "metadata": {},
   "source": [
    "<b>Parameters</b>:\n",
    "* suffix: Suffix is nothing but a string that needs to be checked. \n",
    "* start: Starting position from where suffix is needed to be checked within the string. \n",
    "* end: Ending position + 1 from where suffix is needed to be checked within the string."
   ]
  },
  {
   "cell_type": "code",
   "execution_count": 1,
   "id": "107fad11",
   "metadata": {},
   "outputs": [],
   "source": [
    "a = 'we love our nation'"
   ]
  },
  {
   "cell_type": "code",
   "execution_count": 2,
   "id": "7a01e671",
   "metadata": {},
   "outputs": [
    {
     "name": "stdout",
     "output_type": "stream",
     "text": [
      "Help on built-in function endswith:\n",
      "\n",
      "endswith(...) method of builtins.str instance\n",
      "    S.endswith(suffix[, start[, end]]) -> bool\n",
      "    \n",
      "    Return True if S ends with the specified suffix, False otherwise.\n",
      "    With optional start, test S beginning at that position.\n",
      "    With optional end, stop comparing S at that position.\n",
      "    suffix can also be a tuple of strings to try.\n",
      "\n"
     ]
    }
   ],
   "source": [
    "help(a.endswith)"
   ]
  },
  {
   "cell_type": "code",
   "execution_count": 3,
   "id": "9b176c5a",
   "metadata": {},
   "outputs": [
    {
     "data": {
      "text/plain": [
       "True"
      ]
     },
     "execution_count": 3,
     "metadata": {},
     "output_type": "execute_result"
    }
   ],
   "source": [
    "a.endswith('nation')"
   ]
  },
  {
   "cell_type": "code",
   "execution_count": 4,
   "id": "d1e4bf79",
   "metadata": {},
   "outputs": [
    {
     "data": {
      "text/plain": [
       "False"
      ]
     },
     "execution_count": 4,
     "metadata": {},
     "output_type": "execute_result"
    }
   ],
   "source": [
    "a.endswith('we')"
   ]
  },
  {
   "cell_type": "markdown",
   "id": "cdb2aedc",
   "metadata": {},
   "source": [
    "### format()"
   ]
  },
  {
   "cell_type": "markdown",
   "id": "2cf9004b",
   "metadata": {},
   "source": [
    "The format() method is a powerful tool that allows developers to create formatted strings by embedding variables and values into placeholders within a template string. This method offers a flexible and versatile way to construct textual output for a wide range of applications.\n",
    "\n",
    "<b>Syntax</b>: { }.format(value)"
   ]
  },
  {
   "cell_type": "markdown",
   "id": "72166465",
   "metadata": {},
   "source": [
    "<b>Parameters</b>: \n",
    "\n",
    "* value : Can be an integer, floating point numeric constant, string, characters or even variables.\n",
    "\n",
    "<b>Returntype</b>: Returns a formatted string with the value passed as parameter in the placeholder position. \n",
    "\n"
   ]
  },
  {
   "cell_type": "code",
   "execution_count": 5,
   "id": "9dd27e3f",
   "metadata": {},
   "outputs": [
    {
     "name": "stdout",
     "output_type": "stream",
     "text": [
      "Help on built-in function format in module builtins:\n",
      "\n",
      "format(value, format_spec='', /)\n",
      "    Return value.__format__(format_spec)\n",
      "    \n",
      "    format_spec defaults to the empty string.\n",
      "    See the Format Specification Mini-Language section of help('FORMATTING') for\n",
      "    details.\n",
      "\n"
     ]
    }
   ],
   "source": [
    "help(format)"
   ]
  },
  {
   "cell_type": "code",
   "execution_count": 9,
   "id": "a124640f",
   "metadata": {},
   "outputs": [
    {
     "data": {
      "text/plain": [
       "'My name is Ram and I am 22 years old.'"
      ]
     },
     "execution_count": 9,
     "metadata": {},
     "output_type": "execute_result"
    }
   ],
   "source": [
    "name = \"Ram\"\n",
    "age = 22\n",
    "\n",
    "\"My name is {0} and I am {1} years old.\".format(name, age)"
   ]
  },
  {
   "cell_type": "markdown",
   "id": "32481576",
   "metadata": {},
   "source": [
    "### format_map()"
   ]
  },
  {
   "cell_type": "markdown",
   "id": "6fbce37d",
   "metadata": {},
   "source": [
    "format_map() method is an inbuilt function in Python, which is used to return a dictionary key’s value.\n",
    "\n",
    "<b>Syntax</b>: string.format_map(z)"
   ]
  },
  {
   "cell_type": "markdown",
   "id": "5a10269f",
   "metadata": {},
   "source": [
    "<b>Parameter</b>\n",
    "* z is a variable in which the input dictionary is stored and string is the key of the input dictionary. input_dict: Takes a single parameter which is the input dictionary."
   ]
  },
  {
   "cell_type": "code",
   "execution_count": 12,
   "id": "dbc38228",
   "metadata": {},
   "outputs": [],
   "source": [
    "a = {'x':'Siva', 'y':'Master'}"
   ]
  },
  {
   "cell_type": "code",
   "execution_count": 11,
   "id": "6e1d6538",
   "metadata": {
    "scrolled": true
   },
   "outputs": [
    {
     "name": "stdout",
     "output_type": "stream",
     "text": [
      "Help on built-in function format_map:\n",
      "\n",
      "format_map(...) method of builtins.str instance\n",
      "    S.format_map(mapping) -> str\n",
      "    \n",
      "    Return a formatted version of S, using substitutions from mapping.\n",
      "    The substitutions are identified by braces ('{' and '}').\n",
      "\n"
     ]
    }
   ],
   "source": [
    "help(a.format_map)"
   ]
  },
  {
   "cell_type": "code",
   "execution_count": 13,
   "id": "e9686d48",
   "metadata": {},
   "outputs": [
    {
     "data": {
      "text/plain": [
       "\"Siva's nick name is Master\""
      ]
     },
     "execution_count": 13,
     "metadata": {},
     "output_type": "execute_result"
    }
   ],
   "source": [
    "\"{x}'s nick name is {y}\".format_map(a)"
   ]
  },
  {
   "cell_type": "markdown",
   "id": "7ceede58",
   "metadata": {},
   "source": [
    "### isalnum()"
   ]
  },
  {
   "cell_type": "markdown",
   "id": "79f049c2",
   "metadata": {},
   "source": [
    "isalnum() method checks whether all the characters in a given string are either alphabet or numeric (alphanumeric) characters.\n",
    "\n",
    "<b>Syntax</b>: string_name.isalnum()"
   ]
  },
  {
   "cell_type": "markdown",
   "id": "48055a5b",
   "metadata": {},
   "source": [
    "<b>Parameter</b>:  isalnum() method takes no parameters \n",
    "\n",
    "<b>Return</b>: \n",
    "\n",
    "* True: If all the characters are alphanumeric \n",
    "* False: If one or more characters are not alphanumeric \n",
    "\n",
    "Time Complexity: O(1)\n",
    "\n",
    "Auxiliary Space: O(1)"
   ]
  },
  {
   "cell_type": "code",
   "execution_count": 25,
   "id": "e952530e",
   "metadata": {},
   "outputs": [
    {
     "data": {
      "text/plain": [
       "True"
      ]
     },
     "execution_count": 25,
     "metadata": {},
     "output_type": "execute_result"
    }
   ],
   "source": [
    "a = \"17263sddg28\"\n",
    "a.isalnum()"
   ]
  },
  {
   "cell_type": "code",
   "execution_count": 30,
   "id": "4c120d59",
   "metadata": {},
   "outputs": [
    {
     "data": {
      "text/plain": [
       "False"
      ]
     },
     "execution_count": 30,
     "metadata": {},
     "output_type": "execute_result"
    }
   ],
   "source": [
    "z = \"1_abc\"\n",
    "z.isalnum()"
   ]
  },
  {
   "cell_type": "markdown",
   "id": "50c56e04",
   "metadata": {},
   "source": [
    "### isalpha()"
   ]
  },
  {
   "cell_type": "markdown",
   "id": "8080f69a",
   "metadata": {},
   "source": [
    "isalpha() method is used to check whether all characters in the String are an alphabet.\n",
    "\n",
    "<b>Syntax</b>: string.isalpha()"
   ]
  },
  {
   "cell_type": "markdown",
   "id": "ad0422f7",
   "metadata": {},
   "source": [
    "<b>Parameters</b>: isalpha() does not take any parameters\n",
    "\n",
    "<b>Returns</b>:\n",
    "\n",
    "* True: If all characters in the string are alphabet.\n",
    "* False: If the string contains 1 or more non-alphabets.\n",
    "\n",
    "<b>Errors and Exceptions</b>:\n",
    "\n",
    "1. It contains no arguments, therefore an error occurs if a parameter is passed\n",
    "2. Both uppercase and lowercase alphabets return “True”\n",
    "3. Space is not considered to be the alphabet, therefore it returns “False”\n"
   ]
  },
  {
   "cell_type": "code",
   "execution_count": 31,
   "id": "5bcfa4e6",
   "metadata": {},
   "outputs": [],
   "source": [
    "a = \"Master\""
   ]
  },
  {
   "cell_type": "code",
   "execution_count": 32,
   "id": "c4c52dc4",
   "metadata": {},
   "outputs": [
    {
     "name": "stdout",
     "output_type": "stream",
     "text": [
      "Help on built-in function isalpha:\n",
      "\n",
      "isalpha() method of builtins.str instance\n",
      "    Return True if the string is an alphabetic string, False otherwise.\n",
      "    \n",
      "    A string is alphabetic if all characters in the string are alphabetic and there\n",
      "    is at least one character in the string.\n",
      "\n"
     ]
    }
   ],
   "source": [
    "help(a.isalpha)"
   ]
  },
  {
   "cell_type": "code",
   "execution_count": 34,
   "id": "9e5c19d3",
   "metadata": {
    "scrolled": true
   },
   "outputs": [
    {
     "data": {
      "text/plain": [
       "True"
      ]
     },
     "execution_count": 34,
     "metadata": {},
     "output_type": "execute_result"
    }
   ],
   "source": [
    "a.isalpha()"
   ]
  },
  {
   "cell_type": "code",
   "execution_count": 35,
   "id": "c5b2efd0",
   "metadata": {},
   "outputs": [
    {
     "data": {
      "text/plain": [
       "False"
      ]
     },
     "execution_count": 35,
     "metadata": {},
     "output_type": "execute_result"
    }
   ],
   "source": [
    "x = \"hello@123\"\n",
    "x.isalpha()"
   ]
  },
  {
   "cell_type": "markdown",
   "id": "838802d1",
   "metadata": {},
   "source": [
    "### isdecimal()"
   ]
  },
  {
   "cell_type": "markdown",
   "id": "5d188c9c",
   "metadata": {},
   "source": [
    "isdecimal() function returns true if all characters in a string are decimal, else it returns False.\n",
    "\n",
    "<b>Syntax</b>:  string_name.isdecimal()\n",
    "* string_name is the string whose characters are to be checked"
   ]
  },
  {
   "cell_type": "markdown",
   "id": "2151bb4a",
   "metadata": {},
   "source": [
    "<b>Return</b>: boolean value. True – all characters are decimal, False – one or more than one character is not decimal."
   ]
  },
  {
   "cell_type": "code",
   "execution_count": null,
   "id": "4d7fdb57",
   "metadata": {},
   "outputs": [],
   "source": [
    "a = \"100\""
   ]
  },
  {
   "cell_type": "code",
   "execution_count": 39,
   "id": "93bdb133",
   "metadata": {
    "scrolled": true
   },
   "outputs": [
    {
     "name": "stdout",
     "output_type": "stream",
     "text": [
      "Help on built-in function isdecimal:\n",
      "\n",
      "isdecimal() method of builtins.str instance\n",
      "    Return True if the string is a decimal string, False otherwise.\n",
      "    \n",
      "    A string is a decimal string if all characters in the string are decimal and\n",
      "    there is at least one character in the string.\n",
      "\n"
     ]
    }
   ],
   "source": [
    "help(a.isdecimal)"
   ]
  },
  {
   "cell_type": "code",
   "execution_count": 43,
   "id": "6e9e5b26",
   "metadata": {},
   "outputs": [
    {
     "data": {
      "text/plain": [
       "False"
      ]
     },
     "execution_count": 43,
     "metadata": {},
     "output_type": "execute_result"
    }
   ],
   "source": [
    "a.isdecimal()"
   ]
  },
  {
   "cell_type": "code",
   "execution_count": 44,
   "id": "2dfbd7b9",
   "metadata": {},
   "outputs": [
    {
     "data": {
      "text/plain": [
       "True"
      ]
     },
     "execution_count": 44,
     "metadata": {},
     "output_type": "execute_result"
    }
   ],
   "source": [
    "\"200\".isdecimal()"
   ]
  },
  {
   "cell_type": "markdown",
   "id": "5854a963",
   "metadata": {},
   "source": [
    "### isdigit()"
   ]
  },
  {
   "cell_type": "markdown",
   "id": "60424678",
   "metadata": {},
   "source": [
    "isdigit() method returns “True” if all characters in the string are digits, Otherwise, It returns “False”. \n",
    "\n",
    "<b>Syntax</b>: string.isdigit()"
   ]
  },
  {
   "cell_type": "markdown",
   "id": "ce92f974",
   "metadata": {},
   "source": [
    "<b>Parameters</b>: isdigit() does not take any parameters\n",
    "\n",
    "<b>Returns</b>:\n",
    "\n",
    "* True – If all characters in the string are digits.\n",
    "* False – If the string contains 1 or more non-digits.\n",
    "\n",
    "Time Complexity: O(1)\n",
    "\n",
    "Auxiliary Space: O(1)"
   ]
  },
  {
   "cell_type": "code",
   "execution_count": 45,
   "id": "cf67b466",
   "metadata": {},
   "outputs": [
    {
     "name": "stdout",
     "output_type": "stream",
     "text": [
      "Help on built-in function isdigit:\n",
      "\n",
      "isdigit() method of builtins.str instance\n",
      "    Return True if the string is a digit string, False otherwise.\n",
      "    \n",
      "    A string is a digit string if all characters in the string are digits and there\n",
      "    is at least one character in the string.\n",
      "\n"
     ]
    }
   ],
   "source": [
    "help(a.isdigit)"
   ]
  },
  {
   "cell_type": "code",
   "execution_count": 46,
   "id": "68350dc2",
   "metadata": {},
   "outputs": [
    {
     "data": {
      "text/plain": [
       "True"
      ]
     },
     "execution_count": 46,
     "metadata": {},
     "output_type": "execute_result"
    }
   ],
   "source": [
    "\"100\".isdigit()"
   ]
  },
  {
   "cell_type": "code",
   "execution_count": 47,
   "id": "b5557283",
   "metadata": {},
   "outputs": [
    {
     "data": {
      "text/plain": [
       "False"
      ]
     },
     "execution_count": 47,
     "metadata": {},
     "output_type": "execute_result"
    }
   ],
   "source": [
    "\"q728\".isdigit()"
   ]
  },
  {
   "cell_type": "markdown",
   "id": "431a2387",
   "metadata": {},
   "source": [
    "### isidentifier()"
   ]
  },
  {
   "cell_type": "markdown",
   "id": "f953783f",
   "metadata": {},
   "source": [
    "isidentifier() method is used to check whether a string is a valid identifier or not. The method returns True if the string is a valid identifier, else returns False.\n",
    "\n",
    "<b>Syntax</b>: string.isidentifier()"
   ]
  },
  {
   "cell_type": "markdown",
   "id": "430c8640",
   "metadata": {},
   "source": [
    "<b>Return Value</b>:  The method can return one of the two values: \n",
    "\n",
    "* True: When the string is a valid identifier.\n",
    "* False: When the string is not a valid identifier."
   ]
  },
  {
   "cell_type": "markdown",
   "id": "55bff854",
   "metadata": {},
   "source": [
    "<b>Note</b>: A string is considered as a valid identifier if:\n",
    "\n",
    "* It only consists of alphanumeric characters and underscore (_)\n",
    "* Doesn’t start with a space or a number"
   ]
  },
  {
   "cell_type": "code",
   "execution_count": 48,
   "id": "b3938e62",
   "metadata": {},
   "outputs": [],
   "source": [
    "a = \"Hello_World!\""
   ]
  },
  {
   "cell_type": "code",
   "execution_count": 49,
   "id": "8b0812fe",
   "metadata": {},
   "outputs": [
    {
     "name": "stdout",
     "output_type": "stream",
     "text": [
      "Help on built-in function isidentifier:\n",
      "\n",
      "isidentifier() method of builtins.str instance\n",
      "    Return True if the string is a valid Python identifier, False otherwise.\n",
      "    \n",
      "    Call keyword.iskeyword(s) to test whether string s is a reserved identifier,\n",
      "    such as \"def\" or \"class\".\n",
      "\n"
     ]
    }
   ],
   "source": [
    "help(a.isidentifier)"
   ]
  },
  {
   "cell_type": "code",
   "execution_count": 50,
   "id": "bb095f8f",
   "metadata": {},
   "outputs": [
    {
     "data": {
      "text/plain": [
       "False"
      ]
     },
     "execution_count": 50,
     "metadata": {},
     "output_type": "execute_result"
    }
   ],
   "source": [
    "a.isidentifier()"
   ]
  },
  {
   "cell_type": "code",
   "execution_count": 51,
   "id": "93d57fcf",
   "metadata": {},
   "outputs": [
    {
     "data": {
      "text/plain": [
       "True"
      ]
     },
     "execution_count": 51,
     "metadata": {},
     "output_type": "execute_result"
    }
   ],
   "source": [
    "z = \"Hello_World\"\n",
    "z.isidentifier()"
   ]
  },
  {
   "cell_type": "markdown",
   "id": "90f5641c",
   "metadata": {},
   "source": [
    "### islower()"
   ]
  },
  {
   "cell_type": "markdown",
   "id": "92697324",
   "metadata": {},
   "source": [
    "islower() method checks if all characters in the string are lowercase.\n",
    "\n",
    "This method returns True if all alphabets in a string are lowercase alphabets. If the string contains at least one uppercase alphabet, it returns False.\n",
    "\n",
    "<b>Syntax</b>: string.islower()"
   ]
  },
  {
   "cell_type": "markdown",
   "id": "89ab0693",
   "metadata": {},
   "source": [
    "<b>Returns</b>: \n",
    "\n",
    "True: If all the letters in the string are in lower case and\n",
    "False: If even one of them is in upper case."
   ]
  },
  {
   "cell_type": "code",
   "execution_count": 52,
   "id": "6df4c01f",
   "metadata": {},
   "outputs": [],
   "source": [
    "a = \"HELLO\""
   ]
  },
  {
   "cell_type": "code",
   "execution_count": 53,
   "id": "9c3cc66f",
   "metadata": {},
   "outputs": [
    {
     "name": "stdout",
     "output_type": "stream",
     "text": [
      "Help on built-in function islower:\n",
      "\n",
      "islower() method of builtins.str instance\n",
      "    Return True if the string is a lowercase string, False otherwise.\n",
      "    \n",
      "    A string is lowercase if all cased characters in the string are lowercase and\n",
      "    there is at least one cased character in the string.\n",
      "\n"
     ]
    }
   ],
   "source": [
    "help(a.islower)"
   ]
  },
  {
   "cell_type": "code",
   "execution_count": 54,
   "id": "38519ebd",
   "metadata": {},
   "outputs": [
    {
     "data": {
      "text/plain": [
       "False"
      ]
     },
     "execution_count": 54,
     "metadata": {},
     "output_type": "execute_result"
    }
   ],
   "source": [
    "a.islower()"
   ]
  },
  {
   "cell_type": "code",
   "execution_count": 55,
   "id": "9a369b5f",
   "metadata": {},
   "outputs": [
    {
     "data": {
      "text/plain": [
       "True"
      ]
     },
     "execution_count": 55,
     "metadata": {},
     "output_type": "execute_result"
    }
   ],
   "source": [
    "y = \"hello\"\n",
    "y.islower()"
   ]
  },
  {
   "cell_type": "markdown",
   "id": "15943620",
   "metadata": {},
   "source": [
    "### isnumeric()"
   ]
  },
  {
   "cell_type": "markdown",
   "id": "0a18738a",
   "metadata": {},
   "source": [
    "The isnumeric() method is a built-in method in Python that belongs to the string class. It is used to determine whether the string consists of numeric characters or not. It returns a Boolean value. If all characters in the string are numeric and it is not empty, it returns “True” If all characters in the string are numeric characters, otherwise returns “False”."
   ]
  },
  {
   "cell_type": "markdown",
   "id": "b2845c82",
   "metadata": {},
   "source": [
    "<b>Syntax</b>:  string.isnumeric()\n",
    "\n",
    "<b>Parameters</b>: isnumeric() does not take any parameters\n",
    "\n",
    "<b>Returns</b> :\n",
    "\n",
    "* True – If all characters in the string are numeric characters.\n",
    "* False – If the string contains 1 or more non-numeric characters."
   ]
  },
  {
   "cell_type": "code",
   "execution_count": 56,
   "id": "925dc885",
   "metadata": {},
   "outputs": [
    {
     "data": {
      "text/plain": [
       "True"
      ]
     },
     "execution_count": 56,
     "metadata": {},
     "output_type": "execute_result"
    }
   ],
   "source": [
    "a = \"642563729\"\n",
    "\n",
    "a.isnumeric()"
   ]
  },
  {
   "cell_type": "code",
   "execution_count": 57,
   "id": "5d0e6916",
   "metadata": {},
   "outputs": [
    {
     "name": "stdout",
     "output_type": "stream",
     "text": [
      "Help on built-in function isnumeric:\n",
      "\n",
      "isnumeric() method of builtins.str instance\n",
      "    Return True if the string is a numeric string, False otherwise.\n",
      "    \n",
      "    A string is numeric if all characters in the string are numeric and there is at\n",
      "    least one character in the string.\n",
      "\n"
     ]
    }
   ],
   "source": [
    "help(a.isnumeric)"
   ]
  },
  {
   "cell_type": "code",
   "execution_count": 58,
   "id": "8e8263c7",
   "metadata": {},
   "outputs": [
    {
     "data": {
      "text/plain": [
       "False"
      ]
     },
     "execution_count": 58,
     "metadata": {},
     "output_type": "execute_result"
    }
   ],
   "source": [
    "z = \"uqy34802\"\n",
    "\n",
    "z.isnumeric()"
   ]
  },
  {
   "cell_type": "markdown",
   "id": "0db5f10c",
   "metadata": {},
   "source": [
    "### isprintable()"
   ]
  },
  {
   "cell_type": "markdown",
   "id": "3cdc8621",
   "metadata": {},
   "source": [
    "isprintable() is a built-in method used for string handling. The isprintable() method returns “True” if all characters in the string are printable or the string is empty, Otherwise, It returns “False”. \n",
    "\n",
    "This function is used to check if the argument contains any printable characters such as:\n",
    "\n",
    "* Digits ( 0123456789 )\n",
    "* Uppercase letters ( ABCDEFGHIJKLMNOPQRSTUVWXYZ )\n",
    "* Lowercase letters ( abcdefghijklmnopqrstuvwxyz )\n",
    "* Punctuation characters ( !”#$%&'()*+, -./:;?@[\\]^_`{ | }~ )\n",
    "* Space ( )"
   ]
  },
  {
   "cell_type": "markdown",
   "id": "1558c01e",
   "metadata": {},
   "source": [
    "<b>Syntax</b>:  string.isprintable()\n",
    "\n",
    "<b>Parameters</b>:  isprintable() does not take any parameters\n",
    "\n",
    "<b>Returns</b>:\n",
    "\n",
    "* True – If all characters in the string are printable or the string is empty.\n",
    "* False – If the string contains 1 or more nonprintable characters.\n",
    "\n",
    "<b>Errors Or Exceptions</b>:\n",
    "\n",
    "1. The function does not take any arguments, therefore no parameters should be passed, otherwise, it returns an error.\n",
    "2. The only whitespace character which is printable is space or ” “, otherwise every whitespace character is non-printable and the function returns “False”.\n",
    "3. The empty string is considered printable and it returns “True”."
   ]
  },
  {
   "cell_type": "code",
   "execution_count": 59,
   "id": "5b82e3a9",
   "metadata": {},
   "outputs": [
    {
     "data": {
      "text/plain": [
       "True"
      ]
     },
     "execution_count": 59,
     "metadata": {},
     "output_type": "execute_result"
    }
   ],
   "source": [
    "a = \"My name is Siva\"\n",
    "\n",
    "a.isprintable()"
   ]
  },
  {
   "cell_type": "code",
   "execution_count": 60,
   "id": "b08b44ff",
   "metadata": {},
   "outputs": [
    {
     "name": "stdout",
     "output_type": "stream",
     "text": [
      "Help on built-in function isprintable:\n",
      "\n",
      "isprintable() method of builtins.str instance\n",
      "    Return True if the string is printable, False otherwise.\n",
      "    \n",
      "    A string is printable if all of its characters are considered printable in\n",
      "    repr() or if it is empty.\n",
      "\n"
     ]
    }
   ],
   "source": [
    "help(a.isprintable)"
   ]
  },
  {
   "cell_type": "code",
   "execution_count": 63,
   "id": "6b740391",
   "metadata": {},
   "outputs": [
    {
     "data": {
      "text/plain": [
       "False"
      ]
     },
     "execution_count": 63,
     "metadata": {},
     "output_type": "execute_result"
    }
   ],
   "source": [
    "x = \"My name is \\n Siva\"\n",
    "\n",
    "x.isprintable()"
   ]
  },
  {
   "cell_type": "markdown",
   "id": "cb342314",
   "metadata": {},
   "source": [
    "### isspace()"
   ]
  },
  {
   "cell_type": "markdown",
   "id": "2c8cd484",
   "metadata": {},
   "source": [
    "isspace() method returns “True” if all characters in the string are whitespace characters, Otherwise, It returns “False”. \n",
    "\n",
    "This function is used to check if the argument contains all whitespace characters, such as:\n",
    "\n",
    "* ‘ ‘ – Space\n",
    "* ‘\\t’ – Horizontal tab\n",
    "* ‘\\n’ – Newline\n",
    "* ‘\\v’ – Vertical tab\n",
    "* ‘\\f’ – Feed\n",
    "* ‘\\r’ – Carriage return"
   ]
  },
  {
   "cell_type": "markdown",
   "id": "dc76aedd",
   "metadata": {},
   "source": [
    "<b>Syntax</b>: string.isspace()\n",
    "\n",
    "<b>Returns</b>:\n",
    "\n",
    "* True – If all characters in the string are whitespace characters.\n",
    "* False – If the string contains 1 or more non-whitespace characters."
   ]
  },
  {
   "cell_type": "code",
   "execution_count": 64,
   "id": "c023b1f8",
   "metadata": {},
   "outputs": [
    {
     "data": {
      "text/plain": [
       "True"
      ]
     },
     "execution_count": 64,
     "metadata": {},
     "output_type": "execute_result"
    }
   ],
   "source": [
    "a = \" \"\n",
    "a.isspace()"
   ]
  },
  {
   "cell_type": "code",
   "execution_count": 65,
   "id": "1f06e640",
   "metadata": {},
   "outputs": [
    {
     "name": "stdout",
     "output_type": "stream",
     "text": [
      "Help on built-in function isspace:\n",
      "\n",
      "isspace() method of builtins.str instance\n",
      "    Return True if the string is a whitespace string, False otherwise.\n",
      "    \n",
      "    A string is whitespace if all characters in the string are whitespace and there\n",
      "    is at least one character in the string.\n",
      "\n"
     ]
    }
   ],
   "source": [
    "help(a.isspace)"
   ]
  },
  {
   "cell_type": "code",
   "execution_count": 67,
   "id": "a8413989",
   "metadata": {},
   "outputs": [
    {
     "data": {
      "text/plain": [
       "False"
      ]
     },
     "execution_count": 67,
     "metadata": {},
     "output_type": "execute_result"
    }
   ],
   "source": [
    "x = \"I am \\n Siva\"\n",
    "\n",
    "x.isspace()"
   ]
  },
  {
   "cell_type": "markdown",
   "id": "f18938a8",
   "metadata": {},
   "source": [
    "### title()"
   ]
  },
  {
   "cell_type": "markdown",
   "id": "69d6d7a3",
   "metadata": {},
   "source": [
    "title() method in Python is used to convert the first character in each word to uppercase and the remaining characters to lowercase in the string and returns a new string."
   ]
  },
  {
   "cell_type": "markdown",
   "id": "256d68d6",
   "metadata": {},
   "source": [
    "<b>Syntax</b>: str.title()\n",
    "\n",
    "<b>parameters</b>: title() doesn’t accept any parameter.\n",
    "\n",
    "<b>Return</b>: str, converted to title case"
   ]
  },
  {
   "cell_type": "code",
   "execution_count": 69,
   "id": "27c7ede1",
   "metadata": {},
   "outputs": [],
   "source": [
    "a = \"Keep smile and be healthy\""
   ]
  },
  {
   "cell_type": "code",
   "execution_count": 70,
   "id": "089da4f6",
   "metadata": {},
   "outputs": [
    {
     "name": "stdout",
     "output_type": "stream",
     "text": [
      "Help on built-in function title:\n",
      "\n",
      "title() method of builtins.str instance\n",
      "    Return a version of the string where each word is titlecased.\n",
      "    \n",
      "    More specifically, words start with uppercased characters and all remaining\n",
      "    cased characters have lower case.\n",
      "\n"
     ]
    }
   ],
   "source": [
    "help(a.title)"
   ]
  },
  {
   "cell_type": "code",
   "execution_count": 71,
   "id": "79f46944",
   "metadata": {},
   "outputs": [
    {
     "data": {
      "text/plain": [
       "'Keep Smile And Be Healthy'"
      ]
     },
     "execution_count": 71,
     "metadata": {},
     "output_type": "execute_result"
    }
   ],
   "source": [
    "a.title()"
   ]
  },
  {
   "cell_type": "code",
   "execution_count": 72,
   "id": "2c5d009b",
   "metadata": {},
   "outputs": [
    {
     "data": {
      "text/plain": [
       "'Innomatics Institute'"
      ]
     },
     "execution_count": 72,
     "metadata": {},
     "output_type": "execute_result"
    }
   ],
   "source": [
    "x = \"innomatics institute\"\n",
    "\n",
    "x.title()"
   ]
  },
  {
   "cell_type": "markdown",
   "id": "201413f6",
   "metadata": {},
   "source": [
    "### istitle()"
   ]
  },
  {
   "cell_type": "markdown",
   "id": "32a571c0",
   "metadata": {},
   "source": [
    "istitle() Method is a built-in string function that returns True if all the words in the string are title cased, otherwise returns False."
   ]
  },
  {
   "cell_type": "markdown",
   "id": "fec5acd7",
   "metadata": {},
   "source": [
    "<b>Syntax</b>:  string.istitle()\n",
    "\n",
    "<b>Returns</b>:  True if the string is a title-cased string otherwise returns False."
   ]
  },
  {
   "cell_type": "code",
   "execution_count": 73,
   "id": "b1a4f4c0",
   "metadata": {},
   "outputs": [],
   "source": [
    "a = \"Be smart\""
   ]
  },
  {
   "cell_type": "code",
   "execution_count": 74,
   "id": "cfe923dc",
   "metadata": {},
   "outputs": [
    {
     "name": "stdout",
     "output_type": "stream",
     "text": [
      "Help on built-in function istitle:\n",
      "\n",
      "istitle() method of builtins.str instance\n",
      "    Return True if the string is a title-cased string, False otherwise.\n",
      "    \n",
      "    In a title-cased string, upper- and title-case characters may only\n",
      "    follow uncased characters and lowercase characters only cased ones.\n",
      "\n"
     ]
    }
   ],
   "source": [
    "help(a.istitle)"
   ]
  },
  {
   "cell_type": "code",
   "execution_count": 75,
   "id": "49d17e98",
   "metadata": {},
   "outputs": [
    {
     "data": {
      "text/plain": [
       "False"
      ]
     },
     "execution_count": 75,
     "metadata": {},
     "output_type": "execute_result"
    }
   ],
   "source": [
    "a.istitle()"
   ]
  },
  {
   "cell_type": "code",
   "execution_count": 76,
   "id": "d6143fb1",
   "metadata": {},
   "outputs": [
    {
     "data": {
      "text/plain": [
       "True"
      ]
     },
     "execution_count": 76,
     "metadata": {},
     "output_type": "execute_result"
    }
   ],
   "source": [
    "x = \"Siva\"\n",
    "\n",
    "x.istitle()"
   ]
  },
  {
   "cell_type": "markdown",
   "id": "138ffbb9",
   "metadata": {},
   "source": [
    "### join()"
   ]
  },
  {
   "cell_type": "markdown",
   "id": "70bda7f8",
   "metadata": {},
   "source": [
    "join() is an inbuilt string function in Python used to join elements of the sequence separated by a string separator. This function joins elements of a sequence and makes it a string"
   ]
  },
  {
   "cell_type": "markdown",
   "id": "861e4e74",
   "metadata": {},
   "source": [
    "<b>Syntax</b>: string_name.join(iterable) \n",
    "\n",
    "<b>Parameters</b>: \n",
    "\n",
    "* Iterable – objects capable of returning their members one at a time. Some examples are List, Tuple, String, Dictionary, and Set\n",
    "\n",
    "<b>Return Value</b>: The join() method returns a string concatenated with the elements of iterable. \n",
    "\n",
    "<b>Type Error</b>: If the iterable contains any non-string values, it raises a TypeError exception."
   ]
  },
  {
   "cell_type": "code",
   "execution_count": 77,
   "id": "44ac47e2",
   "metadata": {},
   "outputs": [],
   "source": [
    "a = \"Hello World!\""
   ]
  },
  {
   "cell_type": "code",
   "execution_count": 78,
   "id": "5ff5b9b1",
   "metadata": {},
   "outputs": [
    {
     "name": "stdout",
     "output_type": "stream",
     "text": [
      "Help on built-in function join:\n",
      "\n",
      "join(iterable, /) method of builtins.str instance\n",
      "    Concatenate any number of strings.\n",
      "    \n",
      "    The string whose method is called is inserted in between each given string.\n",
      "    The result is returned as a new string.\n",
      "    \n",
      "    Example: '.'.join(['ab', 'pq', 'rs']) -> 'ab.pq.rs'\n",
      "\n"
     ]
    }
   ],
   "source": [
    "help(a.join)"
   ]
  },
  {
   "cell_type": "code",
   "execution_count": 79,
   "id": "b16bafb8",
   "metadata": {},
   "outputs": [
    {
     "data": {
      "text/plain": [
       "'H$e$l$l$o$ $W$o$r$l$d$!'"
      ]
     },
     "execution_count": 79,
     "metadata": {},
     "output_type": "execute_result"
    }
   ],
   "source": [
    "\"$\".join(a)"
   ]
  },
  {
   "cell_type": "code",
   "execution_count": 80,
   "id": "f8061962",
   "metadata": {},
   "outputs": [
    {
     "data": {
      "text/plain": [
       "'S*I*V*A'"
      ]
     },
     "execution_count": 80,
     "metadata": {},
     "output_type": "execute_result"
    }
   ],
   "source": [
    "x = ['S','I','V','A']\n",
    "\n",
    "\"*\".join(x)"
   ]
  },
  {
   "cell_type": "markdown",
   "id": "df1726e7",
   "metadata": {},
   "source": [
    "### ljust()"
   ]
  },
  {
   "cell_type": "markdown",
   "id": "ca56d6f5",
   "metadata": {},
   "source": [
    "ljust() method returns a new string of given length after substituting a given character in right side of original string."
   ]
  },
  {
   "cell_type": "markdown",
   "id": "13089296",
   "metadata": {},
   "source": [
    "<b>Syntax</b>:  string.ljust(length, fillchar)\n",
    "\n",
    "<b>Parameters</b>:\n",
    "\n",
    "* length: length of the modified string. If length is less than or equal to the length of the original string then original string is returned.\n",
    "* fillchar: (optional) characters which needs to be padded. If it’s not provided, space is taken as a default argument.\n",
    "\n",
    "<b>Returns</b>:\n",
    "\n",
    "* Returns a new string of given length after substituting a given character in right side of original string."
   ]
  },
  {
   "cell_type": "code",
   "execution_count": 81,
   "id": "89a6400a",
   "metadata": {},
   "outputs": [],
   "source": [
    "a = 'Innomatics'"
   ]
  },
  {
   "cell_type": "code",
   "execution_count": 82,
   "id": "d94d9f3c",
   "metadata": {},
   "outputs": [
    {
     "name": "stdout",
     "output_type": "stream",
     "text": [
      "Help on built-in function ljust:\n",
      "\n",
      "ljust(width, fillchar=' ', /) method of builtins.str instance\n",
      "    Return a left-justified string of length width.\n",
      "    \n",
      "    Padding is done using the specified fill character (default is a space).\n",
      "\n"
     ]
    }
   ],
   "source": [
    "help(a.ljust)"
   ]
  },
  {
   "cell_type": "code",
   "execution_count": 84,
   "id": "ebf44453",
   "metadata": {},
   "outputs": [
    {
     "data": {
      "text/plain": [
       "'Innomatics          '"
      ]
     },
     "execution_count": 84,
     "metadata": {},
     "output_type": "execute_result"
    }
   ],
   "source": [
    "a.ljust(20,' ')"
   ]
  },
  {
   "cell_type": "code",
   "execution_count": 85,
   "id": "5812bcae",
   "metadata": {},
   "outputs": [
    {
     "data": {
      "text/plain": [
       "'Sweet***'"
      ]
     },
     "execution_count": 85,
     "metadata": {},
     "output_type": "execute_result"
    }
   ],
   "source": [
    "x = 'Sweet'\n",
    "\n",
    "x.ljust(8,'*')"
   ]
  },
  {
   "cell_type": "markdown",
   "id": "65deacf7",
   "metadata": {},
   "source": [
    "### rjust()"
   ]
  },
  {
   "cell_type": "markdown",
   "id": "7e225347",
   "metadata": {},
   "source": [
    "rjust() method returns a new string of given length after substituting a given character in left side of original string."
   ]
  },
  {
   "cell_type": "markdown",
   "id": "3ad3d0d9",
   "metadata": {},
   "source": [
    "<b>Syntax</b>: string.rjust(length, fillchar)\n",
    "\n",
    "<b>Parameters</b>:\n",
    "\n",
    "* length: length of the modified string. If length is less than or equal to the length of the original string then original string is returned.\n",
    "* fillchar: (optional) characters which needs to be padded. If it’s not provided, space is taken as a default argument.\n",
    "\n",
    "<b>Returns</b>:\n",
    "\n",
    "* Returns a new string of given length after substituting a given character in left side of original string."
   ]
  },
  {
   "cell_type": "code",
   "execution_count": 87,
   "id": "b3d4df2e",
   "metadata": {},
   "outputs": [],
   "source": [
    "a = \"Siva\""
   ]
  },
  {
   "cell_type": "code",
   "execution_count": 88,
   "id": "9a365ba2",
   "metadata": {},
   "outputs": [
    {
     "name": "stdout",
     "output_type": "stream",
     "text": [
      "Help on built-in function rjust:\n",
      "\n",
      "rjust(width, fillchar=' ', /) method of builtins.str instance\n",
      "    Return a right-justified string of length width.\n",
      "    \n",
      "    Padding is done using the specified fill character (default is a space).\n",
      "\n"
     ]
    }
   ],
   "source": [
    "help(a.rjust)"
   ]
  },
  {
   "cell_type": "code",
   "execution_count": 89,
   "id": "5a555fac",
   "metadata": {},
   "outputs": [
    {
     "data": {
      "text/plain": [
       "'      Siva'"
      ]
     },
     "execution_count": 89,
     "metadata": {},
     "output_type": "execute_result"
    }
   ],
   "source": [
    "a.rjust(10)"
   ]
  },
  {
   "cell_type": "code",
   "execution_count": 91,
   "id": "ea629e71",
   "metadata": {},
   "outputs": [
    {
     "data": {
      "text/plain": [
       "'@@@Welcome'"
      ]
     },
     "execution_count": 91,
     "metadata": {},
     "output_type": "execute_result"
    }
   ],
   "source": [
    "x = 'Welcome'\n",
    "\n",
    "x.rjust(10,'@')"
   ]
  },
  {
   "cell_type": "markdown",
   "id": "a83e6d4b",
   "metadata": {},
   "source": [
    "### lower()"
   ]
  },
  {
   "cell_type": "markdown",
   "id": "e6c38b51",
   "metadata": {},
   "source": [
    "lower() method converts all uppercase characters in a string into lowercase characters and returns it."
   ]
  },
  {
   "cell_type": "markdown",
   "id": "75af45f8",
   "metadata": {},
   "source": [
    "<b>Syntax</b>: string.lower()\n",
    "\n",
    "<b>Parameters</b>: The lower() method doesn’t take any parameters. \n",
    "\n",
    "<b>Returns</b>: Returns a lowercase string of the given string"
   ]
  },
  {
   "cell_type": "code",
   "execution_count": 92,
   "id": "3eca8b97",
   "metadata": {},
   "outputs": [],
   "source": [
    "a = \"SIVA\""
   ]
  },
  {
   "cell_type": "code",
   "execution_count": 93,
   "id": "da00e832",
   "metadata": {},
   "outputs": [
    {
     "name": "stdout",
     "output_type": "stream",
     "text": [
      "Help on built-in function lower:\n",
      "\n",
      "lower() method of builtins.str instance\n",
      "    Return a copy of the string converted to lowercase.\n",
      "\n"
     ]
    }
   ],
   "source": [
    "help(a.lower)"
   ]
  },
  {
   "cell_type": "code",
   "execution_count": 94,
   "id": "63172787",
   "metadata": {},
   "outputs": [
    {
     "data": {
      "text/plain": [
       "'siva'"
      ]
     },
     "execution_count": 94,
     "metadata": {},
     "output_type": "execute_result"
    }
   ],
   "source": [
    "a.lower()"
   ]
  },
  {
   "cell_type": "code",
   "execution_count": 96,
   "id": "bec865f5",
   "metadata": {},
   "outputs": [
    {
     "data": {
      "text/plain": [
       "'hello'"
      ]
     },
     "execution_count": 96,
     "metadata": {},
     "output_type": "execute_result"
    }
   ],
   "source": [
    "x = 'HELLO'\n",
    "\n",
    "x.lower()"
   ]
  },
  {
   "cell_type": "markdown",
   "id": "ab4297cd",
   "metadata": {},
   "source": [
    "### upper()"
   ]
  },
  {
   "cell_type": "markdown",
   "id": "f182bc15",
   "metadata": {},
   "source": [
    "upper() method converts all lowercase characters in a string into uppercase characters and returns it."
   ]
  },
  {
   "cell_type": "markdown",
   "id": "40945d0f",
   "metadata": {},
   "source": [
    "<b>Syntax</b>: string.upper()\n",
    "\n",
    "<b>Parameters</b>: The upper() method doesn’t take any parameters. \n",
    "\n",
    "<b>Returns</b>: returns an uppercased string of the given string"
   ]
  },
  {
   "cell_type": "code",
   "execution_count": 112,
   "id": "a591d364",
   "metadata": {},
   "outputs": [],
   "source": [
    "a = \"hello everyone\""
   ]
  },
  {
   "cell_type": "code",
   "execution_count": 113,
   "id": "562f65f3",
   "metadata": {},
   "outputs": [
    {
     "name": "stdout",
     "output_type": "stream",
     "text": [
      "Help on built-in function upper:\n",
      "\n",
      "upper() method of builtins.str instance\n",
      "    Return a copy of the string converted to uppercase.\n",
      "\n"
     ]
    }
   ],
   "source": [
    "help(a.upper)"
   ]
  },
  {
   "cell_type": "code",
   "execution_count": 114,
   "id": "e6b7090f",
   "metadata": {},
   "outputs": [
    {
     "data": {
      "text/plain": [
       "'HELLO EVERYONE'"
      ]
     },
     "execution_count": 114,
     "metadata": {},
     "output_type": "execute_result"
    }
   ],
   "source": [
    "a.upper()"
   ]
  },
  {
   "cell_type": "code",
   "execution_count": 120,
   "id": "1160cc46",
   "metadata": {},
   "outputs": [
    {
     "data": {
      "text/plain": [
       "('I SCREAM, YOU SCREAM, WE ALL SCREAM FOR ICE CREAM', 1353185552944)"
      ]
     },
     "execution_count": 120,
     "metadata": {},
     "output_type": "execute_result"
    }
   ],
   "source": [
    "a = \"I scream, you scream, we all scream for ice cream\"\n",
    "\n",
    "a.upper(), id(a)"
   ]
  },
  {
   "cell_type": "markdown",
   "id": "ed8a9535",
   "metadata": {},
   "source": [
    "### strip()"
   ]
  },
  {
   "cell_type": "markdown",
   "id": "d1310d8b",
   "metadata": {},
   "source": [
    "strip() is an inbuilt function in the Python programming language that returns a copy of the string with both leading and trailing characters removed (based on the string argument passed)."
   ]
  },
  {
   "cell_type": "markdown",
   "id": "58d0da88",
   "metadata": {},
   "source": [
    "<b>Syntax</b>: string.strip([chars])\n",
    "\n",
    "<b>Parameter</b>: There is only one optional parameter in it. chars – a string specifying the set of characters to be removed. If the optional chars parameter is not given, all leading and trailing whitespaces are removed from the string.\n",
    "\n",
    "<b>Return Value</b>: Returns a copy of the string with both leading and trailing characters removed."
   ]
  },
  {
   "cell_type": "code",
   "execution_count": 108,
   "id": "6d1886c1",
   "metadata": {},
   "outputs": [],
   "source": [
    "a = \"    Morning beauty    \""
   ]
  },
  {
   "cell_type": "code",
   "execution_count": 109,
   "id": "2181bf43",
   "metadata": {},
   "outputs": [
    {
     "name": "stdout",
     "output_type": "stream",
     "text": [
      "Help on built-in function strip:\n",
      "\n",
      "strip(chars=None, /) method of builtins.str instance\n",
      "    Return a copy of the string with leading and trailing whitespace removed.\n",
      "    \n",
      "    If chars is given and not None, remove characters in chars instead.\n",
      "\n"
     ]
    }
   ],
   "source": [
    "help(a.strip)"
   ]
  },
  {
   "cell_type": "code",
   "execution_count": 110,
   "id": "95771513",
   "metadata": {},
   "outputs": [
    {
     "data": {
      "text/plain": [
       "'Morning beauty'"
      ]
     },
     "execution_count": 110,
     "metadata": {},
     "output_type": "execute_result"
    }
   ],
   "source": [
    "a.strip()"
   ]
  },
  {
   "cell_type": "code",
   "execution_count": 111,
   "id": "46a2fe08",
   "metadata": {},
   "outputs": [
    {
     "data": {
      "text/plain": [
       "'Good Morning'"
      ]
     },
     "execution_count": 111,
     "metadata": {},
     "output_type": "execute_result"
    }
   ],
   "source": [
    "x = \"***Good Morning***\"\n",
    "\n",
    "x.strip(\"*\")"
   ]
  },
  {
   "cell_type": "markdown",
   "id": "d270ae09",
   "metadata": {},
   "source": [
    "### lstrip()"
   ]
  },
  {
   "cell_type": "markdown",
   "id": "496ba306",
   "metadata": {},
   "source": [
    "lstrip() method returns a copy of the string with leading characters removed (based on the string argument passed). If no argument is passed, it removes leading spaces."
   ]
  },
  {
   "cell_type": "markdown",
   "id": "2091a6b3",
   "metadata": {},
   "source": [
    "<b>Syntax</b>:  string.lstrip(characters)\n",
    "\n",
    "<b>Parameters</b>: \n",
    "\n",
    "* characters [optional]: A set of characters to remove as leading characters. By default, it uses space as the character to remove.\n",
    "\n",
    "<b>Return</b>:  Returns a copy of the string with leading characters stripped.\n",
    "\n"
   ]
  },
  {
   "cell_type": "code",
   "execution_count": 98,
   "id": "906cb593",
   "metadata": {},
   "outputs": [],
   "source": [
    "a = \"     Hello\""
   ]
  },
  {
   "cell_type": "code",
   "execution_count": 99,
   "id": "a3a368de",
   "metadata": {},
   "outputs": [
    {
     "name": "stdout",
     "output_type": "stream",
     "text": [
      "Help on built-in function lstrip:\n",
      "\n",
      "lstrip(chars=None, /) method of builtins.str instance\n",
      "    Return a copy of the string with leading whitespace removed.\n",
      "    \n",
      "    If chars is given and not None, remove characters in chars instead.\n",
      "\n"
     ]
    }
   ],
   "source": [
    "help(a.lstrip)"
   ]
  },
  {
   "cell_type": "code",
   "execution_count": 100,
   "id": "bc0859c6",
   "metadata": {},
   "outputs": [
    {
     "data": {
      "text/plain": [
       "'Hello'"
      ]
     },
     "execution_count": 100,
     "metadata": {},
     "output_type": "execute_result"
    }
   ],
   "source": [
    "a.lstrip()"
   ]
  },
  {
   "cell_type": "code",
   "execution_count": 103,
   "id": "a54d5617",
   "metadata": {},
   "outputs": [
    {
     "data": {
      "text/plain": [
       "'SIVA'"
      ]
     },
     "execution_count": 103,
     "metadata": {},
     "output_type": "execute_result"
    }
   ],
   "source": [
    "x = \"******SIVA\"\n",
    "\n",
    "x.lstrip('*')"
   ]
  },
  {
   "cell_type": "markdown",
   "id": "8be36c5f",
   "metadata": {},
   "source": [
    "### rstrip()"
   ]
  },
  {
   "cell_type": "markdown",
   "id": "047cc6bf",
   "metadata": {},
   "source": [
    "rstrip() method returns a copy of the string with trailing characters removed (based on the string argument passed). If no argument is passed, it removes trailing spaces."
   ]
  },
  {
   "cell_type": "markdown",
   "id": "6df95967",
   "metadata": {},
   "source": [
    "<b>Syntax</b>:  string.rstrip([chars])\n",
    "\n",
    "<b>Parameters</b>: chars (optional) – a string specifying the set of characters to be removed.\n",
    "\n",
    "<b>Return</b>: Returns a copy of the string with trailing characters stripped"
   ]
  },
  {
   "cell_type": "code",
   "execution_count": 6,
   "id": "9d1d215b",
   "metadata": {},
   "outputs": [],
   "source": [
    "a = \"jahfwouwofk\""
   ]
  },
  {
   "cell_type": "code",
   "execution_count": 7,
   "id": "ced1cfb0",
   "metadata": {},
   "outputs": [
    {
     "name": "stdout",
     "output_type": "stream",
     "text": [
      "Help on built-in function rstrip:\n",
      "\n",
      "rstrip(chars=None, /) method of builtins.str instance\n",
      "    Return a copy of the string with trailing whitespace removed.\n",
      "    \n",
      "    If chars is given and not None, remove characters in chars instead.\n",
      "\n"
     ]
    }
   ],
   "source": [
    "help(a.rstrip)"
   ]
  },
  {
   "cell_type": "code",
   "execution_count": 9,
   "id": "a8093fb9",
   "metadata": {},
   "outputs": [
    {
     "data": {
      "text/plain": [
       "'jahfwouwo'"
      ]
     },
     "execution_count": 9,
     "metadata": {},
     "output_type": "execute_result"
    }
   ],
   "source": [
    "a = \"jahfwouwofk\"\n",
    "\n",
    "a.rstrip('fk')"
   ]
  },
  {
   "cell_type": "markdown",
   "id": "9ca68145",
   "metadata": {},
   "source": [
    "### find()"
   ]
  },
  {
   "cell_type": "markdown",
   "id": "703637ec",
   "metadata": {},
   "source": [
    "find() method returns the lowest index or first occurrence of the substring if it is found in a given string. If it is not found, then it returns -1.\n",
    "\n",
    "<b>Syntax</b>: str_obj.find(sub, start, end)"
   ]
  },
  {
   "cell_type": "markdown",
   "id": "27dcd4eb",
   "metadata": {},
   "source": [
    "##### Parameters:"
   ]
  },
  {
   "cell_type": "markdown",
   "id": "a2032b6c",
   "metadata": {},
   "source": [
    "* sub: Substring that needs to be searched in the given string. \n",
    "* start (optional): Starting position where the substring needs to be checked within the string. \n",
    "* end (optional): End position is the index of the last value for the specified range. It is excluded while checking. "
   ]
  },
  {
   "cell_type": "markdown",
   "id": "62bd647d",
   "metadata": {},
   "source": [
    "<b>Note</b>:-\n",
    "\n",
    "* If the start and end indexes are not provided then by default it takes 0 and length-1 as starting and ending indexes where ending indexes are not included in our search.\n",
    "* The find() method is similar to index(). The only difference is find() returns -1 if the searched string is not found and index() throws an exception in this case."
   ]
  },
  {
   "cell_type": "code",
   "execution_count": 1,
   "id": "662c6bba",
   "metadata": {
    "scrolled": false
   },
   "outputs": [
    {
     "name": "stdout",
     "output_type": "stream",
     "text": [
      "25\n"
     ]
    }
   ],
   "source": [
    "x = 'Believe in yourself. You are braver than you think, more talented than you know, and capable of more than you imagine'\n",
    "\n",
    "print(x.find('a'))"
   ]
  },
  {
   "cell_type": "code",
   "execution_count": 23,
   "id": "9479afc8",
   "metadata": {},
   "outputs": [
    {
     "name": "stdout",
     "output_type": "stream",
     "text": [
      "Help on built-in function find:\n",
      "\n",
      "find(...) method of builtins.str instance\n",
      "    S.find(sub[, start[, end]]) -> int\n",
      "    \n",
      "    Return the lowest index in S where substring sub is found,\n",
      "    such that sub is contained within S[start:end].  Optional\n",
      "    arguments start and end are interpreted as in slice notation.\n",
      "    \n",
      "    Return -1 on failure.\n",
      "\n"
     ]
    }
   ],
   "source": [
    "help(x.find)"
   ]
  },
  {
   "cell_type": "markdown",
   "id": "6da0a19a",
   "metadata": {},
   "source": [
    "### rfind()"
   ]
  },
  {
   "cell_type": "markdown",
   "id": "d220404b",
   "metadata": {},
   "source": [
    "rfind() method returns the rightmost index of the substring if found in the given string. If not found then it returns -1."
   ]
  },
  {
   "cell_type": "markdown",
   "id": "9b271e7f",
   "metadata": {},
   "source": [
    "<b>Syntax</b>:-   str.rfind(sub, start, end)"
   ]
  },
  {
   "cell_type": "markdown",
   "id": "888dbefd",
   "metadata": {},
   "source": [
    "##### Parameters:"
   ]
  },
  {
   "cell_type": "markdown",
   "id": "c4f8c810",
   "metadata": {},
   "source": [
    "* sub: It’s the substring that needs to be searched in the given string. \n",
    "* start: Starting position where the sub needs to be checked within the string. \n",
    "* end: Ending position where suffix needs to be checked within the string. "
   ]
  },
  {
   "cell_type": "markdown",
   "id": "1805127f",
   "metadata": {},
   "source": [
    "<b>Note</b>: \n",
    "\n",
    "    If start and end indexes are not provided then, by default it takes 0 and length-1 as starting and ending indexes where ending indexes are not included in our search."
   ]
  },
  {
   "cell_type": "code",
   "execution_count": 24,
   "id": "3e5246da",
   "metadata": {},
   "outputs": [
    {
     "name": "stdout",
     "output_type": "stream",
     "text": [
      "Help on built-in function rfind:\n",
      "\n",
      "rfind(...) method of builtins.str instance\n",
      "    S.rfind(sub[, start[, end]]) -> int\n",
      "    \n",
      "    Return the highest index in S where substring sub is found,\n",
      "    such that sub is contained within S[start:end].  Optional\n",
      "    arguments start and end are interpreted as in slice notation.\n",
      "    \n",
      "    Return -1 on failure.\n",
      "\n"
     ]
    }
   ],
   "source": [
    "help(x.rfind)"
   ]
  },
  {
   "cell_type": "code",
   "execution_count": 66,
   "id": "47871d1e",
   "metadata": {
    "scrolled": true
   },
   "outputs": [
    {
     "data": {
      "text/plain": [
       "75"
      ]
     },
     "execution_count": 66,
     "metadata": {},
     "output_type": "execute_result"
    }
   ],
   "source": [
    "x = 'Believe in yourself. You are braver than you think, more talented than you know, and capable of more than you imagine'\n",
    "x.rfind('know')"
   ]
  },
  {
   "cell_type": "code",
   "execution_count": 68,
   "id": "c8be2c10",
   "metadata": {},
   "outputs": [
    {
     "data": {
      "text/plain": [
       "96"
      ]
     },
     "execution_count": 68,
     "metadata": {},
     "output_type": "execute_result"
    }
   ],
   "source": [
    "x = 'Believe in yourself. You are braver than you think, more talented than you know, and capable of more than you imagine'\n",
    "x.rfind('more',50)"
   ]
  },
  {
   "cell_type": "code",
   "execution_count": 69,
   "id": "01f144c0",
   "metadata": {},
   "outputs": [
    {
     "data": {
      "text/plain": [
       "-1"
      ]
     },
     "execution_count": 69,
     "metadata": {},
     "output_type": "execute_result"
    }
   ],
   "source": [
    "x = 'Believe in yourself. You are braver than you think, more talented than you know, and capable of more than you imagine'\n",
    "x.rfind('more',60,50)"
   ]
  },
  {
   "cell_type": "markdown",
   "id": "83607065",
   "metadata": {},
   "source": [
    "### count()"
   ]
  },
  {
   "cell_type": "markdown",
   "id": "f3a476c3",
   "metadata": {},
   "source": [
    "count() function is an inbuilt function in Python programming language that returns the number of occurrences of a substring in the given string."
   ]
  },
  {
   "cell_type": "markdown",
   "id": "2fd818e1",
   "metadata": {},
   "source": [
    "<b>Syntax</b>: string. Count(substring, start= …., end= ….)"
   ]
  },
  {
   "cell_type": "markdown",
   "id": "305b23ec",
   "metadata": {},
   "source": [
    "##### Parameters:"
   ]
  },
  {
   "cell_type": "markdown",
   "id": "6a13a40b",
   "metadata": {},
   "source": [
    "* The count() function has one compulsory and two optional parameters. \n",
    "  * Mandatory parameter: \n",
    "     * substring – string whose count is to be found.\n",
    "  * Optional Parameters: \n",
    "     * start (Optional) – starting index within the string where the search starts. \n",
    "     * end (Optional) – ending index within the string where the search ends."
   ]
  },
  {
   "cell_type": "code",
   "execution_count": 25,
   "id": "c3989663",
   "metadata": {},
   "outputs": [
    {
     "name": "stdout",
     "output_type": "stream",
     "text": [
      "4\n"
     ]
    }
   ],
   "source": [
    "x = 'Believe in yourself. You are braver than you think, more talented than you know, and capable of more than you imagine'\n",
    "print(x.count('you'))"
   ]
  },
  {
   "cell_type": "code",
   "execution_count": 25,
   "id": "4dedc86f",
   "metadata": {},
   "outputs": [
    {
     "name": "stdout",
     "output_type": "stream",
     "text": [
      "Help on built-in function count:\n",
      "\n",
      "count(...) method of builtins.str instance\n",
      "    S.count(sub[, start[, end]]) -> int\n",
      "    \n",
      "    Return the number of non-overlapping occurrences of substring sub in\n",
      "    string S[start:end].  Optional arguments start and end are\n",
      "    interpreted as in slice notation.\n",
      "\n"
     ]
    }
   ],
   "source": [
    "help(x.count)"
   ]
  },
  {
   "cell_type": "code",
   "execution_count": 26,
   "id": "02455953",
   "metadata": {},
   "outputs": [
    {
     "name": "stdout",
     "output_type": "stream",
     "text": [
      "3\n"
     ]
    }
   ],
   "source": [
    "x = 'Believe in yourself. You are braver than you think, more talented than you know, and capable of more than you imagine'\n",
    "print(x.count('than'))"
   ]
  },
  {
   "cell_type": "markdown",
   "id": "71214b93",
   "metadata": {},
   "source": [
    "* count() will count the occurrences of single character in the string using <b>Regular Expression</b>"
   ]
  },
  {
   "cell_type": "code",
   "execution_count": 29,
   "id": "e5e0c9b1",
   "metadata": {},
   "outputs": [
    {
     "name": "stdout",
     "output_type": "stream",
     "text": [
      "4\n"
     ]
    }
   ],
   "source": [
    "import re\n",
    "\n",
    "x = 'Believe in yourself. You are braver than you think, more talented than you know, and capable of more than you imagine'\n",
    "y = 'you'\n",
    "z = len(re.findall(y,x))\n",
    "print(z)"
   ]
  },
  {
   "cell_type": "markdown",
   "id": "56671974",
   "metadata": {},
   "source": [
    "* count() will count the occurrences of a given string using Start and end parameters and pass all three arguments to find the occurrence of a substring."
   ]
  },
  {
   "cell_type": "code",
   "execution_count": 30,
   "id": "3489d7e9",
   "metadata": {},
   "outputs": [
    {
     "data": {
      "text/plain": [
       "2"
      ]
     },
     "execution_count": 30,
     "metadata": {},
     "output_type": "execute_result"
    }
   ],
   "source": [
    "x = 'Believe in yourself. You are braver than you think, more talented than you know, and capable of more than you imagine'\n",
    "\n",
    "x.count('you',4,50)"
   ]
  },
  {
   "cell_type": "markdown",
   "id": "8d60c0df",
   "metadata": {},
   "source": [
    "### index()"
   ]
  },
  {
   "cell_type": "markdown",
   "id": "fe6c7854",
   "metadata": {},
   "source": [
    "index() Method allows a user to find the index of the first occurrence of an existing substring."
   ]
  },
  {
   "cell_type": "markdown",
   "id": "baad5a8f",
   "metadata": {},
   "source": [
    "<b>Syntax</b>:- string_obj.index(substring, start, end)"
   ]
  },
  {
   "cell_type": "markdown",
   "id": "db2842a7",
   "metadata": {},
   "source": [
    "##### Parameters:"
   ]
  },
  {
   "cell_type": "markdown",
   "id": "40cb4612",
   "metadata": {},
   "source": [
    "* substring: The string to be searched for.\n",
    "* start (default : 0) : This function specifies the position from where the search has to be started. \n",
    "* end (default: length of string): This function specifies the position from where the search has to end."
   ]
  },
  {
   "cell_type": "code",
   "execution_count": 31,
   "id": "1520947a",
   "metadata": {},
   "outputs": [
    {
     "data": {
      "text/plain": [
       "29"
      ]
     },
     "execution_count": 31,
     "metadata": {},
     "output_type": "execute_result"
    }
   ],
   "source": [
    "x = 'Believe in yourself. You are braver than you think, more talented than you know, and capable of more than you imagine'\n",
    "\n",
    "x.index('braver')"
   ]
  },
  {
   "cell_type": "markdown",
   "id": "bf4f10df",
   "metadata": {},
   "source": [
    "<b>Note</b>:-\n",
    "\n",
    "    Raises ValueError if the argument string is not found or the index is out of range."
   ]
  },
  {
   "cell_type": "code",
   "execution_count": 36,
   "id": "1ae0ff0f",
   "metadata": {},
   "outputs": [
    {
     "ename": "ValueError",
     "evalue": "substring not found",
     "output_type": "error",
     "traceback": [
      "\u001b[1;31m---------------------------------------------------------------------------\u001b[0m",
      "\u001b[1;31mValueError\u001b[0m                                Traceback (most recent call last)",
      "Cell \u001b[1;32mIn[36], line 3\u001b[0m\n\u001b[0;32m      1\u001b[0m x \u001b[38;5;241m=\u001b[39m \u001b[38;5;124m'\u001b[39m\u001b[38;5;124mBelieve in yourself. You are braver than you think, more talented than you know, and capable of more than you imagine\u001b[39m\u001b[38;5;124m'\u001b[39m\n\u001b[1;32m----> 3\u001b[0m x\u001b[38;5;241m.\u001b[39mindex(\u001b[38;5;124m'\u001b[39m\u001b[38;5;124mdream\u001b[39m\u001b[38;5;124m'\u001b[39m)\n",
      "\u001b[1;31mValueError\u001b[0m: substring not found"
     ]
    }
   ],
   "source": [
    "x = 'Believe in yourself. You are braver than you think, more talented than you know, and capable of more than you imagine'\n",
    "\n",
    "x.index('dream')"
   ]
  },
  {
   "cell_type": "markdown",
   "id": "d1856692",
   "metadata": {},
   "source": [
    "### rindex()"
   ]
  },
  {
   "cell_type": "markdown",
   "id": "1e74fba3",
   "metadata": {},
   "source": [
    "rindex() method returns the highest index of the substring inside the string if the substring is found. Otherwise, it raises ValueError.\n"
   ]
  },
  {
   "cell_type": "markdown",
   "id": "63baee1e",
   "metadata": {},
   "source": [
    "<b>Syntax</b>:-  str.rindex(sub, start, end)"
   ]
  },
  {
   "cell_type": "markdown",
   "id": "09ccef26",
   "metadata": {},
   "source": [
    "##### Parameters:"
   ]
  },
  {
   "cell_type": "markdown",
   "id": "f70ba92e",
   "metadata": {},
   "source": [
    "* sub : It’s the substring which needs to be searched in the given string.\n",
    "* start : Starting position where sub is needs to be checked within the string.\n",
    "* end : Ending position where suffix is needs to be checked within the string."
   ]
  },
  {
   "cell_type": "code",
   "execution_count": 70,
   "id": "54c8f9e6",
   "metadata": {},
   "outputs": [
    {
     "data": {
      "text/plain": [
       "81"
      ]
     },
     "execution_count": 70,
     "metadata": {},
     "output_type": "execute_result"
    }
   ],
   "source": [
    "x = 'Believe in yourself. You are braver than you think, more talented than you know, and capable of more than you imagine'\n",
    "x.rindex('and')"
   ]
  },
  {
   "cell_type": "code",
   "execution_count": 35,
   "id": "21aa38c8",
   "metadata": {},
   "outputs": [
    {
     "data": {
      "text/plain": [
       "45"
      ]
     },
     "execution_count": 35,
     "metadata": {},
     "output_type": "execute_result"
    }
   ],
   "source": [
    "x.rindex('think')"
   ]
  },
  {
   "cell_type": "markdown",
   "id": "bc2d42e9",
   "metadata": {},
   "source": [
    "<b>Note</b>: \n",
    "\n",
    "    If start and end indexes are not provided then by default Python String rindex() Method takes 0 and length-1 as starting and ending indexes where ending indexes is not included in our search."
   ]
  },
  {
   "cell_type": "code",
   "execution_count": 71,
   "id": "5e6f39a5",
   "metadata": {},
   "outputs": [
    {
     "ename": "ValueError",
     "evalue": "substring not found",
     "output_type": "error",
     "traceback": [
      "\u001b[1;31m---------------------------------------------------------------------------\u001b[0m",
      "\u001b[1;31mValueError\u001b[0m                                Traceback (most recent call last)",
      "Cell \u001b[1;32mIn[71], line 3\u001b[0m\n\u001b[0;32m      1\u001b[0m x \u001b[38;5;241m=\u001b[39m \u001b[38;5;124m'\u001b[39m\u001b[38;5;124mBelieve in yourself. You are braver than you think, more talented than you know, and capable of more than you imagine\u001b[39m\u001b[38;5;124m'\u001b[39m\n\u001b[1;32m----> 3\u001b[0m x\u001b[38;5;241m.\u001b[39mindex(\u001b[38;5;124m'\u001b[39m\u001b[38;5;124mdream\u001b[39m\u001b[38;5;124m'\u001b[39m)\n",
      "\u001b[1;31mValueError\u001b[0m: substring not found"
     ]
    }
   ],
   "source": [
    "x = 'Believe in yourself. You are braver than you think, more talented than you know, and capable of more than you imagine'\n",
    "\n",
    "x.index('dream')"
   ]
  },
  {
   "cell_type": "markdown",
   "id": "d5ce19d7",
   "metadata": {},
   "source": [
    "### replace()"
   ]
  },
  {
   "cell_type": "markdown",
   "id": "3a55a8a1",
   "metadata": {},
   "source": [
    "replace() in Python returns a copy of the string where occurrences of a substring are replaced with another substring.\n"
   ]
  },
  {
   "cell_type": "markdown",
   "id": "e5c4bdfc",
   "metadata": {},
   "source": [
    "<b>Syntax</b>: string.replace(old, new, count)"
   ]
  },
  {
   "cell_type": "markdown",
   "id": "3b3bcedb",
   "metadata": {},
   "source": [
    "##### Parameters:"
   ]
  },
  {
   "cell_type": "markdown",
   "id": "7585ba04",
   "metadata": {},
   "source": [
    "* old – old substring you want to replace.\n",
    "* new – new substring which would replace the old substring.\n",
    "* count – (Optional ) the number of times you want to replace the old substring with the new substring. "
   ]
  },
  {
   "cell_type": "code",
   "execution_count": 72,
   "id": "1b1195ae",
   "metadata": {},
   "outputs": [
    {
     "data": {
      "text/plain": [
       "'Believe IN yourself. You are braver than you thINk, more talented than you know, and capable of more than you imagINe'"
      ]
     },
     "execution_count": 72,
     "metadata": {},
     "output_type": "execute_result"
    }
   ],
   "source": [
    "x = 'Believe in yourself. You are braver than you think, more talented than you know, and capable of more than you imagine'\n",
    "\n",
    "x.replace('in','IN')"
   ]
  },
  {
   "cell_type": "code",
   "execution_count": 73,
   "id": "1bf6e061",
   "metadata": {},
   "outputs": [
    {
     "data": {
      "text/plain": [
       "'Believe IN yourself. You are braver than you think, more talented than you know, and capable of more than you imagine'"
      ]
     },
     "execution_count": 73,
     "metadata": {},
     "output_type": "execute_result"
    }
   ],
   "source": [
    "x = 'Believe in yourself. You are braver than you think, more talented than you know, and capable of more than you imagine'\n",
    "\n",
    "x.replace('in','IN',1)"
   ]
  },
  {
   "cell_type": "markdown",
   "id": "cdc09da0",
   "metadata": {},
   "source": [
    "### split()"
   ]
  },
  {
   "cell_type": "markdown",
   "id": "d781c390",
   "metadata": {},
   "source": [
    " split() method in Python split a string into a list of strings after breaking the given string by the specified separator."
   ]
  },
  {
   "cell_type": "markdown",
   "id": "a3e142e7",
   "metadata": {},
   "source": [
    "<b>Syntax</b>:- str.split(separator, maxsplit)"
   ]
  },
  {
   "cell_type": "markdown",
   "id": "011079b3",
   "metadata": {},
   "source": [
    "##### Parameters:"
   ]
  },
  {
   "cell_type": "markdown",
   "id": "3f9a7235",
   "metadata": {},
   "source": [
    "* separator: This is a delimiter. The string splits at this specified separator. If is not provided then any white space is a separator.\n",
    "* maxsplit: It is a number, which tells us to split the string into maximum of provided number of times. If it is not provided then the default is -1 that means there is no limit."
   ]
  },
  {
   "cell_type": "code",
   "execution_count": 74,
   "id": "e5009b31",
   "metadata": {},
   "outputs": [
    {
     "data": {
      "text/plain": [
       "['Believe',\n",
       " 'in',\n",
       " 'yourself.',\n",
       " 'You',\n",
       " 'are',\n",
       " 'braver',\n",
       " 'than',\n",
       " 'you',\n",
       " 'think,',\n",
       " 'more',\n",
       " 'talented',\n",
       " 'than',\n",
       " 'you',\n",
       " 'know,',\n",
       " 'and',\n",
       " 'capable',\n",
       " 'of',\n",
       " 'more',\n",
       " 'than',\n",
       " 'you',\n",
       " 'imagine']"
      ]
     },
     "execution_count": 74,
     "metadata": {},
     "output_type": "execute_result"
    }
   ],
   "source": [
    "x = 'Believe in yourself. You are braver than you think, more talented than you know, and capable of more than you imagine'\n",
    "\n",
    "x.split()"
   ]
  },
  {
   "cell_type": "code",
   "execution_count": 75,
   "id": "31325a2b",
   "metadata": {},
   "outputs": [
    {
     "data": {
      "text/plain": [
       "['Believe',\n",
       " 'in',\n",
       " 'yourself.',\n",
       " 'You',\n",
       " 'are',\n",
       " 'braver than you think, more talented than you know, and capable of more than you imagine']"
      ]
     },
     "execution_count": 75,
     "metadata": {},
     "output_type": "execute_result"
    }
   ],
   "source": [
    "x = 'Believe in yourself. You are braver than you think, more talented than you know, and capable of more than you imagine'\n",
    "\n",
    "x.split(' ', maxsplit = 5)"
   ]
  },
  {
   "cell_type": "code",
   "execution_count": 61,
   "id": "a5584687",
   "metadata": {},
   "outputs": [
    {
     "data": {
      "text/plain": [
       "['Believe in yourself. You are braver than you think, more talented than you know, and capable of more than you imagine']"
      ]
     },
     "execution_count": 61,
     "metadata": {},
     "output_type": "execute_result"
    }
   ],
   "source": [
    "x = 'Believe in yourself. You are braver than you think, more talented than you know, and capable of more than you imagine'\n",
    "\n",
    "x.split('\\n')"
   ]
  },
  {
   "cell_type": "markdown",
   "id": "8fb4b575",
   "metadata": {},
   "source": [
    "### rsplit()"
   ]
  },
  {
   "cell_type": "markdown",
   "id": "bf31f113",
   "metadata": {},
   "source": [
    "rsplit() method returns a list of strings after breaking the given string from the right side by the specified separator."
   ]
  },
  {
   "cell_type": "markdown",
   "id": "67b1c112",
   "metadata": {},
   "source": [
    "<b>note</b>:- \n",
    "\n",
    "    We will not get any error even if we are not passing any argument."
   ]
  },
  {
   "cell_type": "markdown",
   "id": "b0b546e1",
   "metadata": {},
   "source": [
    "<b>Syntax</b>:  str.rsplit(separator, maxsplit)"
   ]
  },
  {
   "cell_type": "markdown",
   "id": "36d652ba",
   "metadata": {},
   "source": [
    "##### Parameters:"
   ]
  },
  {
   "cell_type": "markdown",
   "id": "c9944351",
   "metadata": {},
   "source": [
    "* separator: The is a delimiter. The string splits at this specified separator starting from the right side. If not provided then any white space character is a separator.\n",
    "* maxsplit: It is a number, which tells us to split the string into a maximum of provided number of times. If it is not provided then there is no limit. "
   ]
  },
  {
   "cell_type": "code",
   "execution_count": 51,
   "id": "d84d8458",
   "metadata": {},
   "outputs": [
    {
     "data": {
      "text/plain": [
       "['Believe',\n",
       " 'in',\n",
       " 'yourself.',\n",
       " 'You',\n",
       " 'are',\n",
       " 'braver',\n",
       " 'than',\n",
       " 'you',\n",
       " 'think,',\n",
       " 'more',\n",
       " 'talented',\n",
       " 'than',\n",
       " 'you',\n",
       " 'know,',\n",
       " 'and',\n",
       " 'capable',\n",
       " 'of',\n",
       " 'more',\n",
       " 'than',\n",
       " 'you',\n",
       " 'imagine']"
      ]
     },
     "execution_count": 51,
     "metadata": {},
     "output_type": "execute_result"
    }
   ],
   "source": [
    "x = 'Believe in yourself. You are braver than you think, more talented than you know, and capable of more than you imagine'\n",
    "\n",
    "x.rsplit()"
   ]
  },
  {
   "cell_type": "code",
   "execution_count": 1,
   "id": "2b607a65",
   "metadata": {},
   "outputs": [
    {
     "data": {
      "text/plain": [
       "['Believe in yourself. You are braver than you think, more talented than you know, and capable of more',\n",
       " 'than',\n",
       " 'you',\n",
       " 'imagine']"
      ]
     },
     "execution_count": 1,
     "metadata": {},
     "output_type": "execute_result"
    }
   ],
   "source": [
    "x = 'Believe in yourself. You are braver than you think, more talented than you know, and capable of more than you imagine'\n",
    "\n",
    "x.rsplit(' ',maxsplit = 3)"
   ]
  },
  {
   "cell_type": "markdown",
   "id": "97d3ae23",
   "metadata": {},
   "source": [
    "### splitlines()"
   ]
  },
  {
   "cell_type": "markdown",
   "id": "12c63261",
   "metadata": {},
   "source": [
    "splitlines() method is used to split the lines at line boundaries. The function returns a list of lines in the string, including the line break(optional)."
   ]
  },
  {
   "cell_type": "markdown",
   "id": "d78b7985",
   "metadata": {},
   "source": [
    "<b>Syntax</b>: string.splitlines([keepends])\n",
    "\n",
    "<b>Parameters</b>:\n",
    "\n",
    "* keepends (optional): When set to True line breaks are included in the resulting list. This can be a number, specifying the position of line break or, can be any Unicode characters, like “\\n”, “\\r”, “\\r\\n”, etc as boundaries for strings"
   ]
  },
  {
   "attachments": {
    "Screenshot%20%2844%29.png": {
     "image/png": "[encoded data removed]"
    }
   },
   "cell_type": "markdown",
   "id": "047080b0",
   "metadata": {},
   "source": [
    "![Screenshot%20%2844%29.png](attachment:Screenshot%20%2844%29.png)"
   ]
  },
  {
   "cell_type": "code",
   "execution_count": 129,
   "id": "dede8b41",
   "metadata": {},
   "outputs": [
    {
     "name": "stdout",
     "output_type": "stream",
     "text": [
      "Help on built-in function splitlines:\n",
      "\n",
      "splitlines(keepends=False) method of builtins.str instance\n",
      "    Return a list of the lines in the string, breaking at line boundaries.\n",
      "    \n",
      "    Line breaks are not included in the resulting list unless keepends is given and\n",
      "    true.\n",
      "\n"
     ]
    }
   ],
   "source": [
    "help(a.splitlines)"
   ]
  },
  {
   "cell_type": "code",
   "execution_count": 128,
   "id": "d2120cb9",
   "metadata": {},
   "outputs": [
    {
     "name": "stdout",
     "output_type": "stream",
     "text": [
      "['Cat', 'Bat', 'Sat', 'Mat', 'Xat', 'Eat']\n",
      "['India', 'Japan', 'USA', 'UK', 'Canada']\n"
     ]
    }
   ],
   "source": [
    "# Python code to illustrate splitlines() \n",
    "string = \"Cat\\nBat\\nSat\\nMat\\nXat\\nEat\"\n",
    "\n",
    "# No parameters has been passed \n",
    "print (string.splitlines( )) \n",
    "\n",
    "# splitlines() in one line \n",
    "print('India\\nJapan\\nUSA\\nUK\\nCanada\\n'.splitlines())\n"
   ]
  },
  {
   "cell_type": "markdown",
   "id": "2b8a7626",
   "metadata": {},
   "source": [
    "### startswith()"
   ]
  },
  {
   "cell_type": "markdown",
   "id": "12bae821",
   "metadata": {},
   "source": [
    "startswith() method returns True if a string starts with the specified prefix (string). If not, it returns False."
   ]
  },
  {
   "cell_type": "markdown",
   "id": "51d73e20",
   "metadata": {},
   "source": [
    "<b>Syntax</b>: str.startswith(prefix, start, end)\n",
    "\n",
    "<b>Parameters</b>:\n",
    "\n",
    "* prefix: prefix ix nothing but a string that needs to be checked.\n",
    "* start: Starting position where prefix is needed to be checked within the string.\n",
    "* end: Ending position where prefix is needed to be checked within the string"
   ]
  },
  {
   "cell_type": "code",
   "execution_count": 130,
   "id": "19734ebb",
   "metadata": {},
   "outputs": [],
   "source": [
    "a = \"it's time to celebrate\""
   ]
  },
  {
   "cell_type": "code",
   "execution_count": 131,
   "id": "08497237",
   "metadata": {},
   "outputs": [
    {
     "name": "stdout",
     "output_type": "stream",
     "text": [
      "Help on built-in function startswith:\n",
      "\n",
      "startswith(...) method of builtins.str instance\n",
      "    S.startswith(prefix[, start[, end]]) -> bool\n",
      "    \n",
      "    Return True if S starts with the specified prefix, False otherwise.\n",
      "    With optional start, test S beginning at that position.\n",
      "    With optional end, stop comparing S at that position.\n",
      "    prefix can also be a tuple of strings to try.\n",
      "\n"
     ]
    }
   ],
   "source": [
    "help(a.startswith)"
   ]
  },
  {
   "cell_type": "code",
   "execution_count": 132,
   "id": "16fda98d",
   "metadata": {},
   "outputs": [
    {
     "data": {
      "text/plain": [
       "True"
      ]
     },
     "execution_count": 132,
     "metadata": {},
     "output_type": "execute_result"
    }
   ],
   "source": [
    "a = \"it's time to celebrate\"\n",
    "\n",
    "a.startswith(\"it's\")"
   ]
  },
  {
   "cell_type": "code",
   "execution_count": 133,
   "id": "dc58dfcc",
   "metadata": {},
   "outputs": [
    {
     "data": {
      "text/plain": [
       "False"
      ]
     },
     "execution_count": 133,
     "metadata": {},
     "output_type": "execute_result"
    }
   ],
   "source": [
    "a = \"it's time to celebrate\"\n",
    "\n",
    "a.startswith(\"to\")"
   ]
  },
  {
   "cell_type": "markdown",
   "id": "6ad57174",
   "metadata": {},
   "source": [
    "### translate()"
   ]
  },
  {
   "cell_type": "markdown",
   "id": "37dafaaa",
   "metadata": {},
   "source": [
    "translate() returns a string that is a modified string of givens string according to given translation mappings.\n",
    "\n",
    "There are two ways to translate are:\n",
    "\n",
    "* Python String translate() with mapping as a dictionary.\n",
    "* Mapping using maketrans()."
   ]
  },
  {
   "cell_type": "markdown",
   "id": "24bf3339",
   "metadata": {},
   "source": [
    "<b>Syntax</b>:  str.translate(translation_table)"
   ]
  },
  {
   "cell_type": "code",
   "execution_count": 134,
   "id": "890db59f",
   "metadata": {},
   "outputs": [],
   "source": [
    "a = \"Hello\""
   ]
  },
  {
   "cell_type": "code",
   "execution_count": 135,
   "id": "608133e2",
   "metadata": {},
   "outputs": [
    {
     "name": "stdout",
     "output_type": "stream",
     "text": [
      "Help on built-in function translate:\n",
      "\n",
      "translate(table, /) method of builtins.str instance\n",
      "    Replace each character in the string using the given translation table.\n",
      "    \n",
      "      table\n",
      "        Translation table, which must be a mapping of Unicode ordinals to\n",
      "        Unicode ordinals, strings, or None.\n",
      "    \n",
      "    The table must implement lookup/indexing via __getitem__, for instance a\n",
      "    dictionary or list.  If this operation raises LookupError, the character is\n",
      "    left untouched.  Characters mapped to None are deleted.\n",
      "\n"
     ]
    }
   ],
   "source": [
    "help(a.translate)"
   ]
  },
  {
   "cell_type": "code",
   "execution_count": 138,
   "id": "29ca83a5",
   "metadata": {},
   "outputs": [
    {
     "data": {
      "text/plain": [
       "'Hello'"
      ]
     },
     "execution_count": 138,
     "metadata": {},
     "output_type": "execute_result"
    }
   ],
   "source": [
    "a = \"Hello\"\n",
    "x = {10:0, 11:1}\n",
    "a.translate(x)"
   ]
  },
  {
   "cell_type": "markdown",
   "id": "e95ca79c",
   "metadata": {},
   "source": [
    "### isupper()"
   ]
  },
  {
   "cell_type": "markdown",
   "id": "380c3b88",
   "metadata": {},
   "source": [
    "isupper() method returns whether all characters in a string are uppercase or not."
   ]
  },
  {
   "cell_type": "markdown",
   "id": "68f5a749",
   "metadata": {},
   "source": [
    "<b>Syntax</b>: string.isupper()\n",
    "\n",
    "<b>Returns</b>: True if all the letters in the string are in the upper case and False if even one of them is in the lower case. "
   ]
  },
  {
   "cell_type": "code",
   "execution_count": 5,
   "id": "7d0fb345",
   "metadata": {},
   "outputs": [
    {
     "data": {
      "text/plain": [
       "False"
      ]
     },
     "execution_count": 5,
     "metadata": {},
     "output_type": "execute_result"
    }
   ],
   "source": [
    "a = \"Hello\"\n",
    "a.isupper()"
   ]
  },
  {
   "cell_type": "markdown",
   "id": "a1b506ea",
   "metadata": {},
   "source": [
    "### zfill()"
   ]
  },
  {
   "cell_type": "markdown",
   "id": "38a7c5be",
   "metadata": {},
   "source": [
    "zfill() method returns a copy of the string with ‘0’ characters padded to the left side of the given string."
   ]
  },
  {
   "cell_type": "markdown",
   "id": "bdaa4c24",
   "metadata": {},
   "source": [
    "<b>Syntax</b>: str.zfill(length)\n",
    "\n",
    "<b>Parameters</b>:  length: length is the length of the returned string from zfill() with ‘0’ digits filled to the leftside."
   ]
  },
  {
   "cell_type": "code",
   "execution_count": 124,
   "id": "350ef53a",
   "metadata": {},
   "outputs": [],
   "source": [
    "a = \"Happy life with happy moments\""
   ]
  },
  {
   "cell_type": "code",
   "execution_count": 121,
   "id": "26e55984",
   "metadata": {},
   "outputs": [
    {
     "name": "stdout",
     "output_type": "stream",
     "text": [
      "Help on built-in function zfill:\n",
      "\n",
      "zfill(width, /) method of builtins.str instance\n",
      "    Pad a numeric string with zeros on the left, to fill a field of the given width.\n",
      "    \n",
      "    The string is never truncated.\n",
      "\n"
     ]
    }
   ],
   "source": [
    "help(a.zfill)"
   ]
  },
  {
   "cell_type": "code",
   "execution_count": 123,
   "id": "a86c3910",
   "metadata": {},
   "outputs": [
    {
     "data": {
      "text/plain": [
       "'00000000000Happy life with happy moments'"
      ]
     },
     "execution_count": 123,
     "metadata": {},
     "output_type": "execute_result"
    }
   ],
   "source": [
    "a = \"Happy life with happy moments\"\n",
    "\n",
    "a.zfill(40)"
   ]
  },
  {
   "cell_type": "markdown",
   "id": "45117e03",
   "metadata": {},
   "source": [
    "### maketrans()"
   ]
  },
  {
   "cell_type": "markdown",
   "id": "b2081762",
   "metadata": {},
   "source": [
    "maketrans() method is a built-in string method in Python that generates a translation table. It is primarily used in conjunction with the translate() method to perform character-by-character translations or deletions."
   ]
  },
  {
   "cell_type": "markdown",
   "id": "6431343f",
   "metadata": {},
   "source": [
    "<b>Syntax</b>: maketrans(str1, str2, str3) \n",
    "\n",
    "<b>Parameters</b>: \n",
    "\n",
    "* str1: Specifies the list of characters that need to be replaced. \n",
    "* str2: Specifies the list of characters with which the characters need to be replaced. \n",
    "* str3: Specifies the list of characters that need to be deleted.\n",
    "\n",
    "<b>Returns</b>: Returns the translation table which specifies the conversions that can be used by translate()"
   ]
  },
  {
   "cell_type": "code",
   "execution_count": 125,
   "id": "0085d893",
   "metadata": {},
   "outputs": [
    {
     "data": {
      "text/plain": [
       "{72: 69, 101: None, 108: 114, 111: 121, 79: None, 110: None}"
      ]
     },
     "execution_count": 125,
     "metadata": {},
     "output_type": "execute_result"
    }
   ],
   "source": [
    "a = \"Hello\"\n",
    "b = \"Every\"\n",
    "c = \"One\"\n",
    "d = \"Good Morning\"\n",
    "d.maketrans(a,b,c)"
   ]
  },
  {
   "cell_type": "code",
   "execution_count": 126,
   "id": "3285bec0",
   "metadata": {},
   "outputs": [
    {
     "name": "stdout",
     "output_type": "stream",
     "text": [
      "Help on built-in function maketrans:\n",
      "\n",
      "maketrans(...)\n",
      "    Return a translation table usable for str.translate().\n",
      "    \n",
      "    If there is only one argument, it must be a dictionary mapping Unicode\n",
      "    ordinals (integers) or characters to Unicode ordinals, strings or None.\n",
      "    Character keys will be then converted to ordinals.\n",
      "    If there are two arguments, they must be strings of equal length, and\n",
      "    in the resulting dictionary, each character in x will be mapped to the\n",
      "    character at the same position in y. If there is a third argument, it\n",
      "    must be a string, whose characters will be mapped to None in the result.\n",
      "\n"
     ]
    }
   ],
   "source": [
    "help(d.maketrans)"
   ]
  },
  {
   "cell_type": "code",
   "execution_count": 127,
   "id": "799e5bc5",
   "metadata": {},
   "outputs": [
    {
     "name": "stdout",
     "output_type": "stream",
     "text": [
      "Hll, wrld!\n"
     ]
    }
   ],
   "source": [
    "text = \"Hello, world!\"\n",
    "vowels = \"aeiouAEIOU\"\n",
    "table = str.maketrans(\"\", \"\", vowels)\n",
    "translated_text = text.translate(table)\n",
    " \n",
    "print(translated_text)"
   ]
  },
  {
   "cell_type": "markdown",
   "id": "ce7a8182",
   "metadata": {},
   "source": [
    "### expandtabs()"
   ]
  },
  {
   "cell_type": "markdown",
   "id": "6b6bdb20",
   "metadata": {},
   "source": [
    "expandtabs() Method specifies the amount of space to be substituted with the “\\t” symbol in the string."
   ]
  },
  {
   "cell_type": "markdown",
   "id": "fa099a10",
   "metadata": {},
   "source": [
    "<b>Syntax</b> : expandtabs(space_size)\n",
    "\n",
    "<b>Parameters</b>\n",
    "\n",
    "* tabsize : Specifies the space that is to be replaced with the “\\t” symbol in the string. By default the space is 8.\n",
    "\n",
    "<b>Return</b> : Returns the modified string with tabs replaced by the space."
   ]
  },
  {
   "cell_type": "code",
   "execution_count": 5,
   "id": "94aa1eb2",
   "metadata": {},
   "outputs": [],
   "source": [
    "a = \"Hello World!\""
   ]
  },
  {
   "cell_type": "code",
   "execution_count": 2,
   "id": "0adb3b49",
   "metadata": {},
   "outputs": [
    {
     "name": "stdout",
     "output_type": "stream",
     "text": [
      "Help on built-in function expandtabs:\n",
      "\n",
      "expandtabs(tabsize=8) method of builtins.str instance\n",
      "    Return a copy where all tab characters are expanded using spaces.\n",
      "    \n",
      "    If tabsize is not given, a tab size of 8 characters is assumed.\n",
      "\n"
     ]
    }
   ],
   "source": [
    "help(a.expandtabs)"
   ]
  },
  {
   "cell_type": "code",
   "execution_count": 4,
   "id": "2e8f92f9",
   "metadata": {},
   "outputs": [
    {
     "data": {
      "text/plain": [
       "'                Hello World!            '"
      ]
     },
     "execution_count": 4,
     "metadata": {},
     "output_type": "execute_result"
    }
   ],
   "source": [
    "a = \"\\t\\tHello World!\\t\\t\"\n",
    "\n",
    "a.expandtabs()"
   ]
  },
  {
   "cell_type": "markdown",
   "id": "6b9dbdf5",
   "metadata": {},
   "source": [
    "### partition()"
   ]
  },
  {
   "cell_type": "markdown",
   "id": "7f6829d1",
   "metadata": {},
   "source": [
    "partition() method splits the string at the first occurrence of the separator and returns a tuple containing the part before the separator, the separator, and the part after the separator."
   ]
  },
  {
   "cell_type": "markdown",
   "id": "0b442948",
   "metadata": {},
   "source": [
    "<b>Syntax</b>: string.partition(separator)"
   ]
  },
  {
   "cell_type": "markdown",
   "id": "72753a4b",
   "metadata": {},
   "source": [
    "##### Parameters:"
   ]
  },
  {
   "cell_type": "markdown",
   "id": "c5b454b3",
   "metadata": {},
   "source": [
    "* separator: a substring that separates the string"
   ]
  },
  {
   "cell_type": "code",
   "execution_count": 59,
   "id": "e71e4d96",
   "metadata": {},
   "outputs": [
    {
     "data": {
      "text/plain": [
       "('Believe in yourself. You are braver than you think, ',\n",
       " 'more talented',\n",
       " ' than you know, and capable of more than you imagine')"
      ]
     },
     "execution_count": 59,
     "metadata": {},
     "output_type": "execute_result"
    }
   ],
   "source": [
    "x = 'Believe in yourself. You are braver than you think, more talented than you know, and capable of more than you imagine'\n",
    "\n",
    "x.partition('more talented')"
   ]
  },
  {
   "cell_type": "code",
   "execution_count": 62,
   "id": "82a5f08d",
   "metadata": {},
   "outputs": [
    {
     "data": {
      "text/plain": [
       "('Believe',\n",
       " ' ',\n",
       " 'in yourself. You are braver than you think, more talented than you know, and capable of more than you imagine')"
      ]
     },
     "execution_count": 62,
     "metadata": {},
     "output_type": "execute_result"
    }
   ],
   "source": [
    "x = 'Believe in yourself. You are braver than you think, more talented than you know, and capable of more than you imagine'\n",
    "\n",
    "x.partition(' ')"
   ]
  },
  {
   "cell_type": "markdown",
   "id": "8d6da3ec",
   "metadata": {},
   "source": [
    "### rpartition()"
   ]
  },
  {
   "cell_type": "markdown",
   "id": "927f44cb",
   "metadata": {},
   "source": [
    "rpartition() Method split the given string into three parts. rpartition() starts looking for separator from the right side, till the separator is found and return a tuple which contains part of the string before separator, the separator and the part after the separator."
   ]
  },
  {
   "cell_type": "markdown",
   "id": "fd7c80b2",
   "metadata": {},
   "source": [
    "<b>Syntax</b>:-  string.rpartition(separator)"
   ]
  },
  {
   "cell_type": "markdown",
   "id": "2cab1a0a",
   "metadata": {},
   "source": [
    "##### Parameters:"
   ]
  },
  {
   "cell_type": "markdown",
   "id": "5dfc89ad",
   "metadata": {},
   "source": [
    "* separator –  separates the string at the first occurrence of it."
   ]
  },
  {
   "cell_type": "code",
   "execution_count": 63,
   "id": "8062ece1",
   "metadata": {},
   "outputs": [
    {
     "data": {
      "text/plain": [
       "('Believe in yourself. You are braver than you think, more talented than you know, and capable of more than you',\n",
       " ' ',\n",
       " 'imagine')"
      ]
     },
     "execution_count": 63,
     "metadata": {},
     "output_type": "execute_result"
    }
   ],
   "source": [
    "x = 'Believe in yourself. You are braver than you think, more talented than you know, and capable of more than you imagine'\n",
    "\n",
    "x.rpartition(' ')"
   ]
  },
  {
   "cell_type": "code",
   "execution_count": 64,
   "id": "12fd7d47",
   "metadata": {
    "scrolled": true
   },
   "outputs": [
    {
     "data": {
      "text/plain": [
       "('Believe in yourself. You are braver than you think, ',\n",
       " 'more talented than you know',\n",
       " ', and capable of more than you imagine')"
      ]
     },
     "execution_count": 64,
     "metadata": {},
     "output_type": "execute_result"
    }
   ],
   "source": [
    "x = 'Believe in yourself. You are braver than you think, more talented than you know, and capable of more than you imagine'\n",
    "\n",
    "x.rpartition('more talented than you know')"
   ]
  },
  {
   "cell_type": "code",
   "execution_count": 65,
   "id": "3992cc06",
   "metadata": {},
   "outputs": [
    {
     "data": {
      "text/plain": [
       "('',\n",
       " '',\n",
       " 'Believe in yourself. You are braver than you think, more talented than you know, and capable of more than you imagine')"
      ]
     },
     "execution_count": 65,
     "metadata": {},
     "output_type": "execute_result"
    }
   ],
   "source": [
    "x = 'Believe in yourself. You are braver than you think, more talented than you know, and capable of more than you imagine'\n",
    "\n",
    "x.rpartition('not')"
   ]
  },
  {
   "cell_type": "markdown",
   "id": "4b2b4251",
   "metadata": {},
   "source": [
    "### swapcase()"
   ]
  },
  {
   "cell_type": "markdown",
   "id": "d43d539d",
   "metadata": {},
   "source": [
    "swapcase() method converts all uppercase characters to lowercase and vice versa of the given string and returns it."
   ]
  },
  {
   "cell_type": "markdown",
   "id": "ac2c457d",
   "metadata": {},
   "source": [
    "<b>Syntax</b>: string_name.swapcase()  \n",
    "\n",
    "<b>Parameter</b>: The swapcase() method does not take any parameter.\n",
    "\n",
    "<b>Return Value</b>: The swapcase() method returns a string with all the cases changed."
   ]
  },
  {
   "cell_type": "code",
   "execution_count": 104,
   "id": "442c7cab",
   "metadata": {},
   "outputs": [],
   "source": [
    "a = \"Hello WoRlD\""
   ]
  },
  {
   "cell_type": "code",
   "execution_count": 105,
   "id": "e6f98371",
   "metadata": {},
   "outputs": [
    {
     "name": "stdout",
     "output_type": "stream",
     "text": [
      "Help on built-in function swapcase:\n",
      "\n",
      "swapcase() method of builtins.str instance\n",
      "    Convert uppercase characters to lowercase and lowercase characters to uppercase.\n",
      "\n"
     ]
    }
   ],
   "source": [
    "help(a.swapcase)"
   ]
  },
  {
   "cell_type": "code",
   "execution_count": 106,
   "id": "82a30bbd",
   "metadata": {},
   "outputs": [
    {
     "data": {
      "text/plain": [
       "'hELLO wOrLd'"
      ]
     },
     "execution_count": 106,
     "metadata": {},
     "output_type": "execute_result"
    }
   ],
   "source": [
    "a.swapcase()"
   ]
  },
  {
   "cell_type": "code",
   "execution_count": 107,
   "id": "528ce54e",
   "metadata": {},
   "outputs": [
    {
     "data": {
      "text/plain": [
       "'sTART EACH DAY WITH A POSITIVE THOUGHT AND A GRATEFUL HEART'"
      ]
     },
     "execution_count": 107,
     "metadata": {},
     "output_type": "execute_result"
    }
   ],
   "source": [
    "x = \"Start each day with a positive thought and a grateful heart\"\n",
    "\n",
    "x.swapcase()"
   ]
  }
 ],
 "metadata": {
  "kernelspec": {
   "display_name": "Python 3 (ipykernel)",
   "language": "python",
   "name": "python3"
  },
  "language_info": {
   "codemirror_mode": {
    "name": "ipython",
    "version": 3
   },
   "file_extension": ".py",
   "mimetype": "text/x-python",
   "name": "python",
   "nbconvert_exporter": "python",
   "pygments_lexer": "ipython3",
   "version": "3.11.5"
  }
 },
 "nbformat": 4,
 "nbformat_minor": 5
}
