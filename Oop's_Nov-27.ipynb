{
 "cells": [
  {
   "cell_type": "markdown",
   "id": "4d1375b8",
   "metadata": {},
   "source": [
    "# Inheritance"
   ]
  },
  {
   "cell_type": "markdown",
   "id": "a02ed6d6",
   "metadata": {},
   "source": [
    "The Process obtaining Data members , Methods and Constructors (Features ) of one class   into  another class is called Inheritance.\n",
    "* The class which is giving Data members , Methods and Constructors (Features ) is called  Super or  Base or Parent Class.\n",
    "* The Class which is taking Data members , Methods and Constructors (Features ) is called  Sub or  Derived or Child Class.\n",
    "* The Inheritance concept always follows Logical ( Virtual ) Memory Management. This Memory Management says that \" Neither we write Source Code nor Takes Physical Memory Space \"."
   ]
  },
  {
   "cell_type": "markdown",
   "id": "5b1f69f3",
   "metadata": {},
   "source": [
    "**Types of Inheritance**\n",
    "\n",
    "A Type of Inheritance is a model / Paradigm , which makes us to understand how the features are Inherited from Base Class into Derived Class.\n",
    "\n",
    "* In Python Programming, we have 5 types of Inheritances.  They  are\n",
    "\n",
    " **1. Single Inheritance**\n",
    "        \n",
    "   * Single-level inheritance enables a derived class to inherit characteristics from a single-parent class.\n",
    "               \n",
    " **2. Multi Level Inheritance**\n",
    "    \n",
    "   * Multi-level inheritance enables a derived class to inherit properties from an immediate parent class which in turn inherits properties from his parent class. \n",
    "        \n",
    " **3. Hierarchical Inheritance**\n",
    "    \n",
    "   * Hierarchical-level inheritance enables more than one derived class to inherit properties from a parent class.   \n",
    "    \n",
    " **4. Multiple Inheritance**\n",
    " \n",
    "   * Multiple-level inheritance enables one derived class to inherit properties from more than one base class.\n",
    " \n",
    " **5. Hybrid Inheritance**\n",
    " \n",
    "   * Inheritance consisting of multiple types of inheritance is called hybrid inheritance."
   ]
  },
  {
   "cell_type": "markdown",
   "id": "a05b811b",
   "metadata": {},
   "source": [
    "**Advatnages of Inheritance:**\n",
    "* When we develop any inheritance based application, we get the following advantages.\n",
    "\n",
    "\t\t1. Application Development Time is Less\n",
    "\t\t2. Application Memory Space is Less\n",
    "\t\t3. Application Execution time is Fast / Less \n",
    "\t\t4. Application Performance is enhanced (Improved )\n",
    "\t\t5. Redundency (Duplication ) of the code is minimized."
   ]
  },
  {
   "cell_type": "markdown",
   "id": "c63faed5",
   "metadata": {},
   "source": [
    "#### Single Inheritance"
   ]
  },
  {
   "cell_type": "code",
   "execution_count": 1,
   "id": "3c45f192",
   "metadata": {},
   "outputs": [],
   "source": [
    "class Parent:\n",
    "  px = 10\n",
    "  def parentMethod(self):\n",
    "    print('this is method one from Parent class')"
   ]
  },
  {
   "cell_type": "code",
   "execution_count": 2,
   "id": "8d57af99",
   "metadata": {},
   "outputs": [],
   "source": [
    "class Child(Parent):\n",
    "  def childMethod(self):\n",
    "    print('this is method one from child class')"
   ]
  },
  {
   "cell_type": "code",
   "execution_count": 3,
   "id": "a206a716",
   "metadata": {},
   "outputs": [
    {
     "name": "stdout",
     "output_type": "stream",
     "text": [
      "this is method one from Parent class\n",
      "None 10\n"
     ]
    }
   ],
   "source": [
    "p, c = Parent(), Child()\n",
    "print(c.parentMethod(), c.px)"
   ]
  },
  {
   "cell_type": "code",
   "execution_count": 4,
   "id": "15a1021b",
   "metadata": {},
   "outputs": [
    {
     "data": {
      "text/plain": [
       "10"
      ]
     },
     "execution_count": 4,
     "metadata": {},
     "output_type": "execute_result"
    }
   ],
   "source": [
    "c.px"
   ]
  },
  {
   "cell_type": "markdown",
   "id": "8d86ffbc",
   "metadata": {},
   "source": [
    "#### Multiple Inheritance"
   ]
  },
  {
   "cell_type": "code",
   "execution_count": 6,
   "id": "1134f5b8",
   "metadata": {},
   "outputs": [],
   "source": [
    "class Parent_1:\n",
    "  def parent1method(self):\n",
    "    print('this is from parent 1')\n",
    "\n",
    "class Parent_2:\n",
    "  def parent2method(self):\n",
    "    print('this is from parent 2')"
   ]
  },
  {
   "cell_type": "code",
   "execution_count": 7,
   "id": "daf1b478",
   "metadata": {},
   "outputs": [],
   "source": [
    "class Child(Parent_1, Parent_2):\n",
    "  pass"
   ]
  },
  {
   "cell_type": "code",
   "execution_count": 8,
   "id": "04d7e075",
   "metadata": {},
   "outputs": [],
   "source": [
    "child = Child()"
   ]
  },
  {
   "cell_type": "code",
   "execution_count": 10,
   "id": "b6c4373c",
   "metadata": {},
   "outputs": [
    {
     "name": "stdout",
     "output_type": "stream",
     "text": [
      "this is from parent 1\n",
      "this is from parent 2\n"
     ]
    },
    {
     "data": {
      "text/plain": [
       "(None, None)"
      ]
     },
     "execution_count": 10,
     "metadata": {},
     "output_type": "execute_result"
    }
   ],
   "source": [
    "child.parent1method(), child.parent2method()"
   ]
  },
  {
   "cell_type": "code",
   "execution_count": 19,
   "id": "58e2302e",
   "metadata": {},
   "outputs": [],
   "source": [
    "class A:\n",
    "  def __init__(self, fname, lname):\n",
    "    self.fname = fname\n",
    "    self.lname = lname\n",
    "    self.fn = self.fname + self.lname\n",
    "    self.fullname = self.fn.lower()\n",
    "    \n",
    "class B:\n",
    "  def __init__(self, fname, lname):\n",
    "    self.fname = fname\n",
    "    self.lname = lname\n",
    "    self.fn = self.fname + self.lname\n",
    "    self.fullname = self.fn.upper()\n",
    "    \n",
    "class C(A, B):\n",
    "  def __init__(self, fname, lname):\n",
    "    super().__init__(fname, lname)\n",
    "    self.email = self.fullname+'@abc.com'\n",
    "    \n"
   ]
  },
  {
   "cell_type": "code",
   "execution_count": 20,
   "id": "e9c284dc",
   "metadata": {},
   "outputs": [
    {
     "data": {
      "text/plain": [
       "'sivakumar@abc.com'"
      ]
     },
     "execution_count": 20,
     "metadata": {},
     "output_type": "execute_result"
    }
   ],
   "source": [
    "x = C('Siva', 'Kumar')\n",
    "x.email"
   ]
  },
  {
   "cell_type": "code",
   "execution_count": 21,
   "id": "990ebc7f",
   "metadata": {},
   "outputs": [],
   "source": [
    "class C(A, B):\n",
    "  def __init__(self, fname, lname):\n",
    "    B.__init__(self,fname, lname) # initiating constructor from B\n",
    "    self.email = self.fullname+'@abc.com'"
   ]
  },
  {
   "cell_type": "code",
   "execution_count": 22,
   "id": "d4e941e7",
   "metadata": {},
   "outputs": [
    {
     "data": {
      "text/plain": [
       "'SIVAKUMAR@abc.com'"
      ]
     },
     "execution_count": 22,
     "metadata": {},
     "output_type": "execute_result"
    }
   ],
   "source": [
    "x = C('Siva', 'Kumar')\n",
    "x.email"
   ]
  },
  {
   "cell_type": "markdown",
   "id": "34b1bba6",
   "metadata": {},
   "source": [
    "    "
   ]
  },
  {
   "cell_type": "markdown",
   "id": "23fda528",
   "metadata": {},
   "source": [
    "    "
   ]
  },
  {
   "cell_type": "markdown",
   "id": "e1de8a1a",
   "metadata": {},
   "source": [
    "# Polymorphism"
   ]
  },
  {
   "cell_type": "markdown",
   "id": "760f17ed",
   "metadata": {},
   "source": [
    "The Process of Representing \" One Form in multiple Forms \" is called Polymorphism. The term ‘Polymorphism’ is derived from the Greek words ‘Poly’ (meaning many) and ‘morphism’ (meaning forms). Essentially, it enables us to leverage a single interface to represent different types.\n",
    "\n",
    "**overloaading**\n",
    "\n",
    "    method overloading\n",
    "    constructor overloading\n",
    "    operator overloading\n",
    "    \n",
    "**over-riding**\n",
    "\n",
    "    method overriding\n",
    "    constructor ovrriding"
   ]
  },
  {
   "cell_type": "markdown",
   "id": "15cbbf3f",
   "metadata": {},
   "source": [
    "**method over-riding:-**\n",
    "\n",
    "The process of re-defining the original method of base class into various derived classes for performing different operations is called Method Overriding."
   ]
  },
  {
   "cell_type": "code",
   "execution_count": 2,
   "id": "c0dd0b0f",
   "metadata": {},
   "outputs": [],
   "source": [
    "# **method over-riding**\n",
    "\n",
    "class fooClass:\n",
    "    def __init__(self,a,b):\n",
    "        self.a = a\n",
    "        self.b = b\n",
    "        \n",
    "    def __init__(self,a,b,c,d):\n",
    "        self.m = a+b\n",
    "        self.n = c-d\n",
    "        \n",
    "    def foo(self):\n",
    "        print('Hello')\n",
    "        \n",
    "    def foo(self):\n",
    "        print('Good Morning')"
   ]
  },
  {
   "cell_type": "code",
   "execution_count": 3,
   "id": "ea5788bd",
   "metadata": {},
   "outputs": [],
   "source": [
    "x = fooClass(5,7,9,3)"
   ]
  },
  {
   "cell_type": "code",
   "execution_count": 4,
   "id": "18408a77",
   "metadata": {},
   "outputs": [
    {
     "name": "stdout",
     "output_type": "stream",
     "text": [
      "Good Morning\n"
     ]
    }
   ],
   "source": [
    "x.foo()"
   ]
  },
  {
   "cell_type": "code",
   "execution_count": 5,
   "id": "f482fdd9",
   "metadata": {},
   "outputs": [
    {
     "data": {
      "text/plain": [
       "6"
      ]
     },
     "execution_count": 5,
     "metadata": {},
     "output_type": "execute_result"
    }
   ],
   "source": [
    "x.n"
   ]
  },
  {
   "cell_type": "code",
   "execution_count": 6,
   "id": "ce341edc",
   "metadata": {},
   "outputs": [],
   "source": [
    "class xClass(fooClass):\n",
    "    def foo(self):\n",
    "        print('Holla!')"
   ]
  },
  {
   "cell_type": "code",
   "execution_count": 7,
   "id": "df9399b6",
   "metadata": {},
   "outputs": [],
   "source": [
    "x = xClass(5,2,7,3)"
   ]
  },
  {
   "cell_type": "code",
   "execution_count": 8,
   "id": "227fbb58",
   "metadata": {},
   "outputs": [
    {
     "name": "stdout",
     "output_type": "stream",
     "text": [
      "Holla!\n"
     ]
    }
   ],
   "source": [
    "x.foo()"
   ]
  },
  {
   "cell_type": "markdown",
   "id": "5d8b2945",
   "metadata": {},
   "source": [
    "**method overloading:-**\n",
    "\n",
    "Two or more methods have the same name but different numbers of parameters or different types of parameters, or both. These methods are called overloaded methods and this is called method overloading."
   ]
  },
  {
   "cell_type": "code",
   "execution_count": 10,
   "id": "eb4d43b8",
   "metadata": {},
   "outputs": [],
   "source": [
    "import multipledispatch\n",
    "from multipledispatch import dispatch\n",
    "\n",
    "class MyClass:\n",
    "    \n",
    "    def __init__(self, a, b):\n",
    "        self.a = a\n",
    "        self.b = b\n",
    "    \n",
    "    @dispatch(int,int)\n",
    "    def foo(self, x, y):\n",
    "        return x*y\n",
    "    \n",
    "    @dispatch(set,set)\n",
    "    def foo(self,m,n):\n",
    "        return m.union(n)\n",
    "    \n",
    "    @dispatch(str,str)\n",
    "    def foo(self,m,n):\n",
    "        return m+n\n",
    "    \n",
    "    @dispatch(int,int, int)\n",
    "    def foo(self, x, y, z):\n",
    "        return (x*y)//z"
   ]
  },
  {
   "cell_type": "code",
   "execution_count": 11,
   "id": "b90b98cb",
   "metadata": {},
   "outputs": [],
   "source": [
    "x = MyClass(5,8)"
   ]
  },
  {
   "cell_type": "code",
   "execution_count": 12,
   "id": "2467ac6e",
   "metadata": {},
   "outputs": [
    {
     "data": {
      "text/plain": [
       "40"
      ]
     },
     "execution_count": 12,
     "metadata": {},
     "output_type": "execute_result"
    }
   ],
   "source": [
    "x.foo(5,8)"
   ]
  },
  {
   "cell_type": "markdown",
   "id": "7f22d36a",
   "metadata": {},
   "source": [
    "# Abstraction"
   ]
  },
  {
   "cell_type": "markdown",
   "id": "596c1c50",
   "metadata": {},
   "source": [
    "The Process of retrieving / extracting Essential Details without considering Hidden Details is called Data Abstraction.\n",
    "\n",
    "* In Python, abstraction is achieved through the use of abstract classes and abstract methods.\n",
    "\n",
    "   * Abstract Classes:\n",
    "\n",
    "        * An abstract class is a class that cannot be instantiated on its own and is meant to be subclassed by other classes. It may contain abstract methods, concrete methods, and properties.\n",
    "        * In Python, you can create an abstract class using the ABC (Abstract Base Class) module from the abc module.\n",
    "        \n",
    "        \n",
    "   * Abstract Methods:\n",
    "\n",
    "        * Abstract methods are declared in abstract classes but do not have an implementation in the abstract class itself. Subclasses must provide concrete implementations for these methods."
   ]
  },
  {
   "cell_type": "code",
   "execution_count": 13,
   "id": "0d5714d9",
   "metadata": {},
   "outputs": [],
   "source": [
    "import abc\n",
    "from abc import abstractclassmethod, ABC"
   ]
  },
  {
   "cell_type": "code",
   "execution_count": 14,
   "id": "db130f03",
   "metadata": {},
   "outputs": [],
   "source": [
    "class Ben10(ABC):\n",
    "    \n",
    "    @abstractclassmethod\n",
    "    def omniTransformation(self):\n",
    "        '''Yo!'''\n",
    "        pass"
   ]
  },
  {
   "cell_type": "code",
   "execution_count": 15,
   "id": "6cde5d37",
   "metadata": {},
   "outputs": [],
   "source": [
    "class DiamondHead(Ben10):\n",
    "    \n",
    "    def omniTransformation(self):\n",
    "        '''DiamondHead!'''\n",
    "        print('DiamondHead Transformation Done!')"
   ]
  },
  {
   "cell_type": "code",
   "execution_count": 16,
   "id": "6c959565",
   "metadata": {},
   "outputs": [],
   "source": [
    "x = DiamondHead()"
   ]
  },
  {
   "cell_type": "code",
   "execution_count": 17,
   "id": "40a09011",
   "metadata": {},
   "outputs": [
    {
     "name": "stdout",
     "output_type": "stream",
     "text": [
      "DiamondHead Transformation Done!\n"
     ]
    }
   ],
   "source": [
    "x.omniTransformation()"
   ]
  },
  {
   "cell_type": "markdown",
   "id": "0fde45ab",
   "metadata": {},
   "source": [
    "    "
   ]
  },
  {
   "cell_type": "code",
   "execution_count": 18,
   "id": "9439a875",
   "metadata": {},
   "outputs": [],
   "source": [
    "class Duck:\n",
    "    def quack(self):\n",
    "        print('quack!')\n",
    "    def fly(self):\n",
    "        print('flap-flap')\n",
    "        \n",
    "class DogDuck:\n",
    "    def quack(self):\n",
    "        print('bowuack!')\n",
    "    def fly(self):\n",
    "        print('zoom')"
   ]
  },
  {
   "cell_type": "code",
   "execution_count": 19,
   "id": "c0cea303",
   "metadata": {},
   "outputs": [],
   "source": [
    "def foo(x:Duck):\n",
    "    x.quack()"
   ]
  },
  {
   "cell_type": "code",
   "execution_count": 20,
   "id": "972f1f4c",
   "metadata": {},
   "outputs": [],
   "source": [
    "a,b = Duck(), DogDuck()"
   ]
  },
  {
   "cell_type": "code",
   "execution_count": 21,
   "id": "d6a736ff",
   "metadata": {},
   "outputs": [
    {
     "name": "stdout",
     "output_type": "stream",
     "text": [
      "quack!\n"
     ]
    }
   ],
   "source": [
    "foo(a)"
   ]
  },
  {
   "cell_type": "code",
   "execution_count": 22,
   "id": "33d7c46a",
   "metadata": {},
   "outputs": [
    {
     "name": "stdout",
     "output_type": "stream",
     "text": [
      "bowuack!\n"
     ]
    }
   ],
   "source": [
    "foo(b)"
   ]
  }
 ],
 "metadata": {
  "kernelspec": {
   "display_name": "Python 3 (ipykernel)",
   "language": "python",
   "name": "python3"
  },
  "language_info": {
   "codemirror_mode": {
    "name": "ipython",
    "version": 3
   },
   "file_extension": ".py",
   "mimetype": "text/x-python",
   "name": "python",
   "nbconvert_exporter": "python",
   "pygments_lexer": "ipython3",
   "version": "3.11.5"
  }
 },
 "nbformat": 4,
 "nbformat_minor": 5
}
