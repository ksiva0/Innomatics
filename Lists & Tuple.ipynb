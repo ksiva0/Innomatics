{
 "cells": [
  {
   "cell_type": "markdown",
   "id": "b41dce41",
   "metadata": {},
   "source": [
    "## List methods"
   ]
  },
  {
   "cell_type": "markdown",
   "id": "4f207810",
   "metadata": {},
   "source": [
    "### sort():"
   ]
  },
  {
   "cell_type": "markdown",
   "id": "2785498f",
   "metadata": {},
   "source": [
    "sort() method is a built-in method in python that sorts the elements of a list in ascending or descending order using the default '<' comparisons operator between items.\n",
    "* <b>Syntax</b>: List_name.sort(reverse=True/False, key=myFunc)"
   ]
  },
  {
   "cell_type": "code",
   "execution_count": 3,
   "id": "2a10ec7b",
   "metadata": {},
   "outputs": [
    {
     "data": {
      "text/plain": [
       "[0, 1, 2, 5, 9, 21, 30]"
      ]
     },
     "execution_count": 3,
     "metadata": {},
     "output_type": "execute_result"
    }
   ],
   "source": [
    "x = [2, 9, 1, 0, 30, 21, 5]\n",
    "x.sort()\n",
    "x"
   ]
  },
  {
   "cell_type": "markdown",
   "id": "30c9c887",
   "metadata": {},
   "source": [
    "* sort a list in descending order by passing the 'reverse=True' parameter to the sort() method."
   ]
  },
  {
   "cell_type": "code",
   "execution_count": 2,
   "id": "dddfc6ae",
   "metadata": {},
   "outputs": [
    {
     "data": {
      "text/plain": [
       "[30, 21, 9, 5, 2, 1, 0]"
      ]
     },
     "execution_count": 2,
     "metadata": {},
     "output_type": "execute_result"
    }
   ],
   "source": [
    "x = [2, 9, 1, 0, 30, 21, 5]\n",
    "x.sort(reverse=True)\n",
    "x"
   ]
  },
  {
   "cell_type": "markdown",
   "id": "d08f2dac",
   "metadata": {},
   "source": [
    "### reverse():"
   ]
  },
  {
   "cell_type": "markdown",
   "id": "8d3bd203",
   "metadata": {},
   "source": [
    "reverse() method is a built-in method in python that reverses the order of the elements in a list.\n",
    "* <b>Syntax</b>: list_name.reverse()"
   ]
  },
  {
   "cell_type": "markdown",
   "id": "fff388c5",
   "metadata": {},
   "source": [
    "<u><b>Note</b></u>: \n",
    "* reverse methos modifies the original list in place and does not return a new list."
   ]
  },
  {
   "cell_type": "code",
   "execution_count": 4,
   "id": "8721b105",
   "metadata": {},
   "outputs": [
    {
     "data": {
      "text/plain": [
       "['maruthi', 'bmw', 'tesla', 'kia', 'tata']"
      ]
     },
     "execution_count": 4,
     "metadata": {},
     "output_type": "execute_result"
    }
   ],
   "source": [
    "cars = ['maruthi', 'bmw', 'tesla', 'kia', 'tata']\n",
    "cars"
   ]
  },
  {
   "cell_type": "code",
   "execution_count": 7,
   "id": "b42d4ed1",
   "metadata": {},
   "outputs": [
    {
     "name": "stdout",
     "output_type": "stream",
     "text": [
      "['tata', 'kia', 'tesla', 'bmw', 'maruthi']\n"
     ]
    }
   ],
   "source": [
    "cars.reverse()\n",
    "print(cars)"
   ]
  },
  {
   "cell_type": "markdown",
   "id": "620b8e34",
   "metadata": {},
   "source": [
    "### index():"
   ]
  },
  {
   "cell_type": "markdown",
   "id": "80ea857d",
   "metadata": {},
   "source": [
    "index() method is a built-in method that returns the index of the first occurrence of a specified elements in a list.\n",
    "* <b>Syntax</b>: list_name.index(element, start, end)"
   ]
  },
  {
   "cell_type": "markdown",
   "id": "f6cc83a0",
   "metadata": {},
   "source": [
    "<b>Error</b>: If any element which is not present is searched, it raises a ValueError."
   ]
  },
  {
   "cell_type": "code",
   "execution_count": 8,
   "id": "4f7edd08",
   "metadata": {},
   "outputs": [
    {
     "data": {
      "text/plain": [
       "2"
      ]
     },
     "execution_count": 8,
     "metadata": {},
     "output_type": "execute_result"
    }
   ],
   "source": [
    "x = ['cat', 'dog', 'rat', 'pig', 'horse']\n",
    "x.index('rat')"
   ]
  },
  {
   "cell_type": "code",
   "execution_count": 27,
   "id": "058ad6d4",
   "metadata": {},
   "outputs": [
    {
     "data": {
      "text/plain": [
       "3"
      ]
     },
     "execution_count": 27,
     "metadata": {},
     "output_type": "execute_result"
    }
   ],
   "source": [
    "x = [1,3,5,6,-2,45,53,64]\n",
    "x.index(6,1,5)"
   ]
  },
  {
   "cell_type": "markdown",
   "id": "a6623dc0",
   "metadata": {},
   "source": [
    "### clear():"
   ]
  },
  {
   "cell_type": "markdown",
   "id": "3e1ab0b8",
   "metadata": {},
   "source": [
    "clear() method is a built-in method that removes all the elements from a list.\n",
    "* <b>Syntax</b>: list.clear()"
   ]
  },
  {
   "cell_type": "code",
   "execution_count": 28,
   "id": "3759a2c0",
   "metadata": {},
   "outputs": [
    {
     "name": "stdout",
     "output_type": "stream",
     "text": [
      "[]\n"
     ]
    }
   ],
   "source": [
    "x = ['apple', 'banana', 'cherry']\n",
    "x.clear()\n",
    "print(x)"
   ]
  },
  {
   "cell_type": "markdown",
   "id": "7e4f4f1f",
   "metadata": {},
   "source": [
    "### copy():"
   ]
  },
  {
   "cell_type": "markdown",
   "id": "fbd80575",
   "metadata": {},
   "source": [
    "copy() method is a built-in method that returns a shallow copy of the list.\n",
    "\n",
    "* <b>Syntax</b>: list.copy()"
   ]
  },
  {
   "cell_type": "code",
   "execution_count": 43,
   "id": "95971ead",
   "metadata": {},
   "outputs": [
    {
     "name": "stdout",
     "output_type": "stream",
     "text": [
      "[1, 2, [3, 4, 5], 6, 7] 2172136163648\n"
     ]
    },
    {
     "data": {
      "text/plain": [
       "[1, 2, [3, 4, 5], 6, 7]"
      ]
     },
     "execution_count": 43,
     "metadata": {},
     "output_type": "execute_result"
    }
   ],
   "source": [
    "l = [1,2,[3,4,5],6,7]\n",
    "print(l, id(l))\n",
    "\n",
    "l.copy()"
   ]
  },
  {
   "cell_type": "markdown",
   "id": "8b8e47ac",
   "metadata": {},
   "source": [
    "<b>Shallowcopy()</b>:\n",
    "A shallow copy creates a new object which stores the reference of the original elements."
   ]
  },
  {
   "cell_type": "markdown",
   "id": "ab61dd93",
   "metadata": {},
   "source": [
    "* <b>Syntax</b>: copy.copy()"
   ]
  },
  {
   "cell_type": "code",
   "execution_count": 50,
   "id": "94d39c70",
   "metadata": {
    "scrolled": true
   },
   "outputs": [
    {
     "name": "stdout",
     "output_type": "stream",
     "text": [
      "[1, 2, [3, 4, 5], 6, 7] 0x1f9bd695980\n",
      "[1, 2, [3, 4, 5], 6, 7] 0x1f9bd696800\n"
     ]
    }
   ],
   "source": [
    "import copy \n",
    "\n",
    "l = [1,2,[3,4,5],6,7]\n",
    "print(l, hex(id(l)))\n",
    "m = copy.copy(l)\n",
    "print(m, hex(id(m)))"
   ]
  },
  {
   "cell_type": "markdown",
   "id": "ca6549a7",
   "metadata": {},
   "source": [
    "<b>Deepcopy()</b>: A deep copy creates a new object and recursively adds the copies of nested objects present in the original elements."
   ]
  },
  {
   "cell_type": "markdown",
   "id": "c7584836",
   "metadata": {},
   "source": [
    "* <b>Syntax</b>: copy.deepcopy()"
   ]
  },
  {
   "cell_type": "code",
   "execution_count": 48,
   "id": "ddd0e87a",
   "metadata": {},
   "outputs": [
    {
     "name": "stdout",
     "output_type": "stream",
     "text": [
      "[1, 2, [3, 4, 5], 6, 7] 0x1f9bd73d0c0\n",
      "[1, 2, [3, 4, 5], 6, 7] 0x1f9bd5f0100\n"
     ]
    }
   ],
   "source": [
    "import copy \n",
    "\n",
    "l = [1,2,[3,4,5],6,7]\n",
    "print(l, hex(id(l)))\n",
    "m = copy.deepcopy(l)\n",
    "print(m, hex(id(m)))"
   ]
  },
  {
   "cell_type": "markdown",
   "id": "a0885b42",
   "metadata": {},
   "source": [
    "### count():"
   ]
  },
  {
   "cell_type": "markdown",
   "id": "f9b9115b",
   "metadata": {},
   "source": [
    "count() method is a built-in method that returns the number of times a specified elements appears in a list.\n",
    "* <b>Syntax</b>: list_name.count(object) "
   ]
  },
  {
   "cell_type": "markdown",
   "id": "498344c0",
   "metadata": {},
   "source": [
    "<u><b>Exception</b></u>: \n",
    "\n",
    "<b>TypeError</b>: Raises TypeError If more than 1 parameter is passed in count() method."
   ]
  },
  {
   "cell_type": "code",
   "execution_count": 49,
   "id": "d108c1d7",
   "metadata": {},
   "outputs": [
    {
     "data": {
      "text/plain": [
       "3"
      ]
     },
     "execution_count": 49,
     "metadata": {},
     "output_type": "execute_result"
    }
   ],
   "source": [
    "a = ['a', 'a', 'a', 'b', 'b', 'a', 'c', 'b']\n",
    "a.count('b')"
   ]
  },
  {
   "cell_type": "markdown",
   "id": "ec717c08",
   "metadata": {},
   "source": [
    "# tuple()\n"
   ]
  },
  {
   "cell_type": "markdown",
   "id": "d0273a02",
   "metadata": {},
   "source": [
    "A tuple is an immutable sequence type that can store multiple items in a single variable. One of the ways of creating a tuple is by using the tuple() constructor.\n",
    "* Tuples are similar to lists in many ways, but they are immutable."
   ]
  },
  {
   "cell_type": "code",
   "execution_count": 52,
   "id": "f963ea6e",
   "metadata": {},
   "outputs": [
    {
     "data": {
      "text/plain": [
       "()"
      ]
     },
     "execution_count": 52,
     "metadata": {},
     "output_type": "execute_result"
    }
   ],
   "source": [
    "# empty tuple\n",
    "a = ()\n",
    "a"
   ]
  },
  {
   "cell_type": "code",
   "execution_count": 54,
   "id": "6c635000",
   "metadata": {},
   "outputs": [
    {
     "data": {
      "text/plain": [
       "(1, 2, 3, 4)"
      ]
     },
     "execution_count": 54,
     "metadata": {},
     "output_type": "execute_result"
    }
   ],
   "source": [
    "# having integers\n",
    "tuple = (1,2,3,4)\n",
    "tuple"
   ]
  },
  {
   "cell_type": "code",
   "execution_count": 55,
   "id": "20164a5a",
   "metadata": {},
   "outputs": [
    {
     "data": {
      "text/plain": [
       "('Hello', [3, 2, 9], (0, 1, 2))"
      ]
     },
     "execution_count": 55,
     "metadata": {},
     "output_type": "execute_result"
    }
   ],
   "source": [
    "# nested tuple\n",
    "x = ('Hello',[3,2,9],(0,1,2))\n",
    "x"
   ]
  }
 ],
 "metadata": {
  "kernelspec": {
   "display_name": "Python 3 (ipykernel)",
   "language": "python",
   "name": "python3"
  },
  "language_info": {
   "codemirror_mode": {
    "name": "ipython",
    "version": 3
   },
   "file_extension": ".py",
   "mimetype": "text/x-python",
   "name": "python",
   "nbconvert_exporter": "python",
   "pygments_lexer": "ipython3",
   "version": "3.11.5"
  }
 },
 "nbformat": 4,
 "nbformat_minor": 5
}
