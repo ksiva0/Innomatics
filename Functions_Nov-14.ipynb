{
 "cells": [
  {
   "cell_type": "markdown",
   "id": "04b1a638",
   "metadata": {},
   "source": [
    "# Recursive function"
   ]
  },
  {
   "cell_type": "markdown",
   "id": "9852de5e",
   "metadata": {},
   "source": [
    "A recursive function in Python is a function that calls itself during its execution. Recursive functions can be a powerful tool in solving problems that can be broken down into smaller, similar subproblems."
   ]
  },
  {
   "cell_type": "code",
   "execution_count": 1,
   "id": "c92cf50e",
   "metadata": {},
   "outputs": [
    {
     "data": {
      "text/plain": [
       "120"
      ]
     },
     "execution_count": 1,
     "metadata": {},
     "output_type": "execute_result"
    }
   ],
   "source": [
    "def fooRecFact(n):\n",
    "    \n",
    "    if n==1:\n",
    "        return 1\n",
    "    else:\n",
    "        return n * fooRecFact(n-1)\n",
    "    \n",
    "fooRecFact(5)"
   ]
  },
  {
   "cell_type": "markdown",
   "id": "2d689d01",
   "metadata": {},
   "source": [
    "* The base case is when n is 0 or 1, and in such cases, the function returns 1.\n",
    "* The recursive case is where the function calls itself with a smaller argument (n - 1) and multiplies the result by the current n."
   ]
  },
  {
   "cell_type": "markdown",
   "id": "89f2d189",
   "metadata": {},
   "source": [
    "# fibonacci series"
   ]
  },
  {
   "cell_type": "markdown",
   "id": "39ea7a84",
   "metadata": {},
   "source": [
    "The Fibonacci series is a sequence of numbers where each number is the sum of the two preceding ones. The sequence starts with 0 and 1."
   ]
  },
  {
   "cell_type": "code",
   "execution_count": 3,
   "id": "8c90d277",
   "metadata": {},
   "outputs": [
    {
     "name": "stdout",
     "output_type": "stream",
     "text": [
      "3\n"
     ]
    }
   ],
   "source": [
    "def fibonacci(n):\n",
    "    if n <= 0:\n",
    "        return \"Invalid input. Please enter a positive integer.\"\n",
    "    elif n == 1:\n",
    "        return 0\n",
    "    elif n == 2:\n",
    "        return 1\n",
    "    else:\n",
    "        return fibonacci(n - 1) + fibonacci(n - 2)\n",
    "\n",
    "# Example usage\n",
    "result = fibonacci(5)\n",
    "print(result)"
   ]
  },
  {
   "cell_type": "code",
   "execution_count": 5,
   "id": "b7d12736",
   "metadata": {},
   "outputs": [
    {
     "data": {
      "text/plain": [
       "3"
      ]
     },
     "execution_count": 5,
     "metadata": {},
     "output_type": "execute_result"
    }
   ],
   "source": [
    "def fooFib(n):\n",
    "    if n<=0:\n",
    "        return 0\n",
    "    elif n==1:\n",
    "        return 0\n",
    "    elif n == 2:\n",
    "        return 1\n",
    "    else:\n",
    "        return fooFib(n-1)+fooFib(n-2)\n",
    "    \n",
    "fooFib(5)\n"
   ]
  },
  {
   "cell_type": "code",
   "execution_count": 3,
   "id": "db16abc2",
   "metadata": {},
   "outputs": [
    {
     "name": "stdout",
     "output_type": "stream",
     "text": [
      "0, 1, 1, 2, 3, "
     ]
    }
   ],
   "source": [
    "for i in range(5):\n",
    "    print(fooFib(i),end=', ')"
   ]
  },
  {
   "cell_type": "markdown",
   "id": "f175e358",
   "metadata": {},
   "source": [
    "# args & kwargs"
   ]
  },
  {
   "cell_type": "markdown",
   "id": "5e783147",
   "metadata": {},
   "source": [
    "### args:-\n",
    "\n",
    "<b>'*args' (Arbitrary Arguments)</b>:\n",
    "\n",
    "* The *args syntax allows a function to accept a variable number of positional arguments.\n",
    "* When a function parameter is prefixed with an asterisk (*), it collects any extra positional arguments into a tuple."
   ]
  },
  {
   "cell_type": "code",
   "execution_count": 7,
   "id": "5c98e61e",
   "metadata": {},
   "outputs": [
    {
     "name": "stdout",
     "output_type": "stream",
     "text": [
      "1\n",
      "2\n",
      "3\n",
      "4\n",
      "5\n"
     ]
    }
   ],
   "source": [
    "def function(*args):\n",
    "    for arg in args:\n",
    "        print(arg)\n",
    "\n",
    "function(1, 2, 3, 4, 5)"
   ]
  },
  {
   "cell_type": "markdown",
   "id": "8c64fcf5",
   "metadata": {},
   "source": [
    "* use both *args and **kwargs in the same function definition if you want to accept any combination of positional and keyword arguments."
   ]
  },
  {
   "cell_type": "code",
   "execution_count": 11,
   "id": "ce79e401",
   "metadata": {},
   "outputs": [
    {
     "data": {
      "text/plain": [
       "21"
      ]
     },
     "execution_count": 11,
     "metadata": {},
     "output_type": "execute_result"
    }
   ],
   "source": [
    "def foo(a,b,c = 0, *args, **kwargs):\n",
    "    r = a+b+c\n",
    "    for arg in args:\n",
    "        r += arg\n",
    "    return r\n",
    "\n",
    "foo(1,2,3,*(4,5,6), **{'Marks':[1,2,3]})"
   ]
  },
  {
   "cell_type": "markdown",
   "id": "f07ddc7d",
   "metadata": {},
   "source": [
    "## kwargs:-\n",
    "\n",
    "<b>'**kwargs' (Arbitrary Keyword Arguments)</b>:\n",
    "\n",
    "* The **kwargs syntax allows a function to accept a variable number of keyword arguments.\n",
    "* When a function parameter is prefixed with two asterisks (**), it collects any extra keyword arguments into a dictionary."
   ]
  },
  {
   "cell_type": "code",
   "execution_count": 6,
   "id": "4dfefbf9",
   "metadata": {},
   "outputs": [],
   "source": [
    "def fooStuMarks(**kwargs):\n",
    "    for kwarg in kwargs:\n",
    "        print(f'Tatal Marks scored by {kwarg} is {sum(kwargs[kwarg])}')\n",
    "        "
   ]
  },
  {
   "cell_type": "code",
   "execution_count": 12,
   "id": "f29898fa",
   "metadata": {},
   "outputs": [
    {
     "name": "stdout",
     "output_type": "stream",
     "text": [
      "Tatal Marks scored by ram is 60\n",
      "Tatal Marks scored by rahim is 54\n",
      "Tatal Marks scored by Siva is 56\n",
      "Tatal Marks scored by ramu is 60\n",
      "Tatal Marks scored by rahima is 54\n",
      "Tatal Marks scored by Siv is 56\n"
     ]
    }
   ],
   "source": [
    "fooStuMarks(**{'ram':[10,20,30],\n",
    "              'rahim':[10,19,25],\n",
    "              'Siva':{10,18,28}},\n",
    "           **{'ramu':[10,20,30],\n",
    "              'rahima':[10,19,25],\n",
    "              'Siv':{10,18,28}})"
   ]
  },
  {
   "cell_type": "code",
   "execution_count": null,
   "id": "79c1a4bd",
   "metadata": {},
   "outputs": [],
   "source": []
  }
 ],
 "metadata": {
  "kernelspec": {
   "display_name": "Python 3 (ipykernel)",
   "language": "python",
   "name": "python3"
  },
  "language_info": {
   "codemirror_mode": {
    "name": "ipython",
    "version": 3
   },
   "file_extension": ".py",
   "mimetype": "text/x-python",
   "name": "python",
   "nbconvert_exporter": "python",
   "pygments_lexer": "ipython3",
   "version": "3.11.5"
  }
 },
 "nbformat": 4,
 "nbformat_minor": 5
}
