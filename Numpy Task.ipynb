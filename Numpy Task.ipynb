{
 "cells": [
  {
   "cell_type": "code",
   "execution_count": 46,
   "id": "ce2c491d",
   "metadata": {},
   "outputs": [],
   "source": [
    "import numpy as np"
   ]
  },
  {
   "cell_type": "code",
   "execution_count": 47,
   "id": "ca3aa33c",
   "metadata": {},
   "outputs": [],
   "source": [
    "from numpy import genfromtxt"
   ]
  },
  {
   "cell_type": "code",
   "execution_count": 48,
   "id": "042f8378",
   "metadata": {},
   "outputs": [],
   "source": [
    "fpath = r\"C:\\Users\\master\\Documents\\Numpy\\tipsf.csv\""
   ]
  },
  {
   "cell_type": "code",
   "execution_count": 49,
   "id": "e2d70b54",
   "metadata": {},
   "outputs": [
    {
     "data": {
      "text/plain": [
       "array([[  0.  ,  16.99,   1.01, ...,   1.  ,   0.  ,   2.  ],\n",
       "       [  1.  ,  10.34,   1.66, ...,   1.  ,   0.  ,   3.  ],\n",
       "       [  2.  ,  21.01,   3.5 , ...,   1.  ,   0.  ,   3.  ],\n",
       "       ...,\n",
       "       [241.  ,  22.67,   2.  , ...,   0.  ,   0.  ,   2.  ],\n",
       "       [242.  ,  17.82,   1.75, ...,   0.  ,   0.  ,   2.  ],\n",
       "       [243.  ,  18.78,   3.  , ...,   2.  ,   0.  ,   2.  ]])"
      ]
     },
     "execution_count": 49,
     "metadata": {},
     "output_type": "execute_result"
    }
   ],
   "source": [
    "data = genfromtxt(fpath, delimiter=',', skip_header = True)\n",
    "\n",
    "data"
   ]
  },
  {
   "cell_type": "markdown",
   "id": "132c2664",
   "metadata": {},
   "source": [
    "### What is the total bill ?"
   ]
  },
  {
   "cell_type": "code",
   "execution_count": 7,
   "id": "84a53c04",
   "metadata": {},
   "outputs": [
    {
     "data": {
      "text/plain": [
       "4827.77"
      ]
     },
     "execution_count": 7,
     "metadata": {},
     "output_type": "execute_result"
    }
   ],
   "source": [
    "#total bill\n",
    "np.sum(data[:,1])"
   ]
  },
  {
   "cell_type": "markdown",
   "id": "bbf6d57d",
   "metadata": {},
   "source": [
    "### What is the total tip ?"
   ]
  },
  {
   "cell_type": "code",
   "execution_count": 8,
   "id": "cb823516",
   "metadata": {},
   "outputs": [
    {
     "data": {
      "text/plain": [
       "731.5799999999999"
      ]
     },
     "execution_count": 8,
     "metadata": {},
     "output_type": "execute_result"
    }
   ],
   "source": [
    "# total tip\n",
    "np.sum(data[:,2])"
   ]
  },
  {
   "cell_type": "markdown",
   "id": "827d1c2e",
   "metadata": {},
   "source": [
    "### Count how many sun, sat, thu fri are there ?"
   ]
  },
  {
   "cell_type": "code",
   "execution_count": 15,
   "id": "70f03fde",
   "metadata": {},
   "outputs": [
    {
     "data": {
      "text/plain": [
       "(array([0., 1., 2., 3.]), array([87, 76, 62, 19], dtype=int64))"
      ]
     },
     "execution_count": 15,
     "metadata": {},
     "output_type": "execute_result"
    }
   ],
   "source": [
    "# total days by day\n",
    "np.unique(data[:,5], return_counts=True)"
   ]
  },
  {
   "cell_type": "markdown",
   "id": "ebed5dfc",
   "metadata": {},
   "source": [
    "### How many smokers are there ?"
   ]
  },
  {
   "cell_type": "code",
   "execution_count": 11,
   "id": "6024d6cb",
   "metadata": {},
   "outputs": [
    {
     "data": {
      "text/plain": [
       "93.0"
      ]
     },
     "execution_count": 11,
     "metadata": {},
     "output_type": "execute_result"
    }
   ],
   "source": [
    "np.sum(data[:,4])"
   ]
  },
  {
   "cell_type": "markdown",
   "id": "4959cdc0",
   "metadata": {},
   "source": [
    "### What is the average tip by male and female ?"
   ]
  },
  {
   "cell_type": "code",
   "execution_count": 18,
   "id": "9481fe94",
   "metadata": {},
   "outputs": [
    {
     "name": "stdout",
     "output_type": "stream",
     "text": [
      "Average tip by males: 2.8334482758620685\n",
      "Average tip by females: 3.0896178343949043\n"
     ]
    }
   ],
   "source": [
    "# average tip\n",
    "\n",
    "tip = data[:, 2]\n",
    "sex = data[:, 3]\n",
    "\n",
    "tip_male = np.mean(tip[sex == 0])\n",
    "tip_female = np.mean(tip[sex == 1])\n",
    "\n",
    "print(\"Average tip by males:\", tip_male)\n",
    "print(\"Average tip by females:\", tip_female)"
   ]
  },
  {
   "cell_type": "markdown",
   "id": "95f360e4",
   "metadata": {},
   "source": [
    "### How much amount have been spent by male and female ?"
   ]
  },
  {
   "cell_type": "code",
   "execution_count": 19,
   "id": "f61dac46",
   "metadata": {},
   "outputs": [
    {
     "name": "stdout",
     "output_type": "stream",
     "text": [
      "Amount spent by males: 1570.9499999999996\n",
      "Amount spent by females: 3256.8199999999997\n"
     ]
    }
   ],
   "source": [
    "# total bill(amount spent)\n",
    "total_bill = data[:, 1]\n",
    "sex = data[:, 3]\n",
    "\n",
    "total_bill_male = np.sum(total_bill[sex == 0])\n",
    "total_bill_female = np.sum(total_bill[sex == 1])\n",
    "\n",
    "print(\"Amount spent by males:\", total_bill_male)\n",
    "print(\"Amount spent by females:\", total_bill_female)"
   ]
  },
  {
   "cell_type": "markdown",
   "id": "43b56d4a",
   "metadata": {},
   "source": [
    "### What is the min and max tip ?"
   ]
  },
  {
   "cell_type": "code",
   "execution_count": 23,
   "id": "26cae50a",
   "metadata": {
    "scrolled": true
   },
   "outputs": [
    {
     "name": "stdout",
     "output_type": "stream",
     "text": [
      "Minimum tip :  1.0\n",
      "Maximum tip :  10.0\n"
     ]
    }
   ],
   "source": [
    "# find min and max tip\n",
    "tip = data[:, 2]\n",
    "\n",
    "print(\"Minimum tip : \",np.min(tip))\n",
    "print(\"Maximum tip : \",np.max(tip))"
   ]
  },
  {
   "cell_type": "markdown",
   "id": "3e942d2d",
   "metadata": {},
   "source": [
    "### How many male and female are going to lunch and dinner ?"
   ]
  },
  {
   "cell_type": "code",
   "execution_count": 26,
   "id": "6bae66e2",
   "metadata": {},
   "outputs": [
    {
     "name": "stdout",
     "output_type": "stream",
     "text": [
      "No of male lunch: 35\n",
      "No of female lunch: 33\n",
      "No of male Dinner: 52\n",
      "No of female Dinner: 124\n"
     ]
    }
   ],
   "source": [
    "# male and female are going to lunch and dinner\n",
    "\n",
    "sex = data[:,3]\n",
    "time = data[:,6]\n",
    "\n",
    "male_lunch = np.sum((sex == 0) & (time == 1))\n",
    "male_dinner = np.sum((sex == 0) & (time == 0))\n",
    "female_lunch = np.sum((sex == 1) & (time == 1))\n",
    "female_dinner = np.sum((sex == 1) & (time == 0))\n",
    "\n",
    "print(\"No of male lunch:\", male_lunch )\n",
    "print(\"No of female lunch:\",female_lunch)\n",
    "print(\"No of male Dinner:\", male_dinner )\n",
    "print(\"No of female Dinner:\",female_dinner)"
   ]
  },
  {
   "cell_type": "markdown",
   "id": "56b4530a",
   "metadata": {},
   "source": [
    "### find out the avg size ?"
   ]
  },
  {
   "cell_type": "code",
   "execution_count": 29,
   "id": "8d69d325",
   "metadata": {},
   "outputs": [
    {
     "data": {
      "text/plain": [
       "2.569672131147541"
      ]
     },
     "execution_count": 29,
     "metadata": {},
     "output_type": "execute_result"
    }
   ],
   "source": [
    "# Average size\n",
    "\n",
    "np.mean(data[:,7])"
   ]
  },
  {
   "cell_type": "markdown",
   "id": "5df443b6",
   "metadata": {},
   "source": [
    "### How many female and male smokers are there ?"
   ]
  },
  {
   "cell_type": "code",
   "execution_count": 58,
   "id": "31d7c55d",
   "metadata": {},
   "outputs": [
    {
     "name": "stdout",
     "output_type": "stream",
     "text": [
      "Number of male smokers :  33.0 \n",
      "Number of male smokers :  60.0\n"
     ]
    }
   ],
   "source": [
    "# male and female smokers \n",
    "sex = 3\n",
    "smoker = 4\n",
    "\n",
    "a = np.sum(data[:,4][(data[:, sex] == 0) & (data[:, smoker] == 1)])\n",
    "b = np.sum(data[:,3][(data[:, sex] == 1) & (data[:, smoker] == 1)])\n",
    "\n",
    "print(\"Number of male smokers : \",a,\"\\nNumber of male smokers : \",b)"
   ]
  },
  {
   "cell_type": "code",
   "execution_count": null,
   "id": "b00a114b",
   "metadata": {},
   "outputs": [],
   "source": []
  }
 ],
 "metadata": {
  "kernelspec": {
   "display_name": "Python 3 (ipykernel)",
   "language": "python",
   "name": "python3"
  },
  "language_info": {
   "codemirror_mode": {
    "name": "ipython",
    "version": 3
   },
   "file_extension": ".py",
   "mimetype": "text/x-python",
   "name": "python",
   "nbconvert_exporter": "python",
   "pygments_lexer": "ipython3",
   "version": "3.11.5"
  }
 },
 "nbformat": 4,
 "nbformat_minor": 5
}
