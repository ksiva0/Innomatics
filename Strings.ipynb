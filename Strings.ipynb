{
 "cells": [
  {
   "cell_type": "markdown",
   "id": "3f52c983",
   "metadata": {},
   "source": [
    "## Strings"
   ]
  },
  {
   "cell_type": "markdown",
   "id": "95134fc8",
   "metadata": {},
   "source": [
    "* Strings are char or a seq of chars, enclosed in qoutes(single , double, triple-single or triple-double quotes)\n",
    "* Triple-quotes are used as multiline string, multi comment"
   ]
  },
  {
   "cell_type": "code",
   "execution_count": 2,
   "id": "7a54d8aa",
   "metadata": {},
   "outputs": [
    {
     "name": "stdout",
     "output_type": "stream",
     "text": [
      "This is string, enclosed with single quote\n",
      "This is string, enclosed with double quote\n",
      "This is multi-string\n"
     ]
    }
   ],
   "source": [
    "s1 = 'This is string, enclosed with single quote'\n",
    "s2 = \"This is string, enclosed with double quote\"\n",
    "s3 = '''This is multi-string'''\n",
    "print(s1,s2,s3, sep=\"\\n\")"
   ]
  },
  {
   "cell_type": "markdown",
   "id": "29b3eaa2",
   "metadata": {},
   "source": [
    "### Escape Char"
   ]
  },
  {
   "cell_type": "markdown",
   "id": "82003d7a",
   "metadata": {},
   "source": [
    "To insert characters that are illegal in a string, use an escape character.\n",
    "\n",
    "An escape character is a backslash \\ followed by the character you want to insert."
   ]
  },
  {
   "cell_type": "code",
   "execution_count": 9,
   "id": "b26f8218",
   "metadata": {
    "scrolled": true
   },
   "outputs": [
    {
     "name": "stdout",
     "output_type": "stream",
     "text": [
      "That's my bag.\n",
      "python\n",
      " class\n",
      "python\\ class\n",
      "python\tclass\n",
      "python \bclass\n"
     ]
    }
   ],
   "source": [
    "str1 = 'That\\'s my bag.'  # Escape single quote\n",
    "str2 = \"python\\n class\"   # for new line\n",
    "str3 = \"python\\\\ class\"   # for single backslash\n",
    "str4 = \"python\\tclass\"    # space b/w two words\n",
    "str5 = \"python \\bclass\"   # remove space b/w two words\n",
    "print(str1)\n",
    "print(str2)\n",
    "print(str3)\n",
    "print(str4)\n",
    "print(str5)"
   ]
  },
  {
   "cell_type": "markdown",
   "id": "c9700676",
   "metadata": {},
   "source": [
    "### Raw-string & f-string"
   ]
  },
  {
   "cell_type": "markdown",
   "id": "c7d1412a",
   "metadata": {},
   "source": [
    "In Python, you can create raw strings by prefixing the string with the letter r or R. In raw strings, backslashes are treated as literal characters and not as escape characters in Python."
   ]
  },
  {
   "cell_type": "code",
   "execution_count": 4,
   "id": "4ea130eb",
   "metadata": {},
   "outputs": [
    {
     "name": "stdout",
     "output_type": "stream",
     "text": [
      "c:\u0007bc\n",
      "ewfolder\\j.png\n",
      "c:\\abc\\newfolder\\j.png\n",
      "c:\\abc\\newfolder\\j.png\n"
     ]
    }
   ],
   "source": [
    "# r-strings\n",
    "\n",
    "print('c:\\abc\\newfolder\\j.png')\n",
    "print('c:\\\\abc\\\\newfolder\\\\j.png')\n",
    "print(r'c:\\abc\\newfolder\\j.png')"
   ]
  },
  {
   "cell_type": "markdown",
   "id": "717ce314",
   "metadata": {},
   "source": [
    "Strings in Python are usually enclosed within double quotes (\"\" ) or single quotes (''). To create f-strings, you only need to add an f  or an F before the opening quotes of your string."
   ]
  },
  {
   "cell_type": "code",
   "execution_count": 8,
   "id": "998cc860",
   "metadata": {},
   "outputs": [
    {
     "name": "stdout",
     "output_type": "stream",
     "text": [
      "the volume of a cyl, whose radius is 5 whose h is 7 is 550.0\n",
      "the volume of cyl whose r and h are 5 and 7 respectivily is 550.0\n"
     ]
    }
   ],
   "source": [
    "r,h =5,7\n",
    "vol = (22/7)*(r**2)*h\n",
    "print('the volume of a cyl, whose radius is', r, 'whose h is', h, 'is', vol)\n",
    "print(f'the volume of cyl whose r and h are {r} and {h} respectivily is {vol}')"
   ]
  },
  {
   "cell_type": "code",
   "execution_count": 11,
   "id": "cfe7d5f1",
   "metadata": {},
   "outputs": [
    {
     "name": "stdout",
     "output_type": "stream",
     "text": [
      "the diameter of sphere whose r 5 and respectivily is 104.76190476190474 \n"
     ]
    }
   ],
   "source": [
    "r = 5\n",
    "a =4/3*(22/7)*(r**2)\n",
    "print(f'the diameter of sphere whose r {r} and respectivily is {a} ')"
   ]
  },
  {
   "cell_type": "markdown",
   "id": "fc3be8d2",
   "metadata": {},
   "source": [
    "### Indexing"
   ]
  },
  {
   "cell_type": "markdown",
   "id": "3c5e3cc0",
   "metadata": {},
   "source": [
    "In Python, individual characters of a String can be accessed by using the method of Indexing. Indexing allows negative address references to access characters from the back of the String."
   ]
  },
  {
   "cell_type": "code",
   "execution_count": 12,
   "id": "d32bb0e2",
   "metadata": {},
   "outputs": [
    {
     "name": "stdout",
     "output_type": "stream",
     "text": [
      "f s\n"
     ]
    }
   ],
   "source": [
    "a = 'qwdifsdf'\n",
    "print(a[4], a[-3])"
   ]
  },
  {
   "cell_type": "code",
   "execution_count": 10,
   "id": "1d6b49e5",
   "metadata": {},
   "outputs": [
    {
     "name": "stdout",
     "output_type": "stream",
     "text": [
      "Initial String: \n",
      "keep smile on your face\n",
      "\n",
      "First character of String is: \n",
      "k\n",
      "\n",
      "Last character of String is: \n",
      "e\n"
     ]
    }
   ],
   "source": [
    "String1 = \"keep smile on your face\"\n",
    "print(\"Initial String: \") \n",
    "print(String1) \n",
    "\n",
    "# Printing First character \n",
    "print(\"\\nFirst character of String is: \") \n",
    "print(String1[0]) \n",
    "\n",
    "# Printing Last character \n",
    "print(\"\\nLast character of String is: \") \n",
    "print(String1[-1]) \n"
   ]
  },
  {
   "cell_type": "markdown",
   "id": "5a1d8608",
   "metadata": {},
   "source": [
    "### Slicing"
   ]
  },
  {
   "cell_type": "markdown",
   "id": "cb554dd8",
   "metadata": {},
   "source": [
    "In Python, the String Slicing method is used to access a range of characters in the String. Slicing in a String is done by using a Slicing operator, i.e., a colon (:)."
   ]
  },
  {
   "cell_type": "markdown",
   "id": "22bc5efe",
   "metadata": {},
   "source": [
    "* syntax:\n",
    "\n",
    "      var[start_index : last_index : step_size]"
   ]
  },
  {
   "cell_type": "code",
   "execution_count": 17,
   "id": "424c4c67",
   "metadata": {
    "scrolled": true
   },
   "outputs": [
    {
     "name": "stdout",
     "output_type": "stream",
     "text": [
      "40\n",
      "I am not sure\n",
      "I am not sure what to take as an example\n",
      "Ia o uewa otk sa xml\n",
      "I am not sure what to take as an example\n",
      "what\n"
     ]
    }
   ],
   "source": [
    "x = 'I am not sure what to take as an example'\n",
    "print(len(x))\n",
    "print(x[0:13])\n",
    "print(x[0:41])\n",
    "print(x[0:41:2])\n",
    "print(x[::])\n",
    "print(x[14:18])"
   ]
  },
  {
   "cell_type": "markdown",
   "id": "03b9436f",
   "metadata": {},
   "source": [
    "### Concatenation"
   ]
  },
  {
   "cell_type": "markdown",
   "id": "a30d74a6",
   "metadata": {},
   "source": [
    "String Concatenation is the technique of combining two strings.\n",
    "\n",
    "       * + operator\n",
    "       * join() method\n",
    "       * % operator\n",
    "       * format() function"
   ]
  },
  {
   "cell_type": "code",
   "execution_count": 1,
   "id": "f9a0fc4a",
   "metadata": {},
   "outputs": [
    {
     "name": "stdout",
     "output_type": "stream",
     "text": [
      "Hello World!\n",
      "Hello  World!\n",
      "Hello  World!\n",
      "Hello  World!\n"
     ]
    }
   ],
   "source": [
    "var1 = \"Hello \"\n",
    "var2 = \"World!\"\n",
    "\n",
    "var3 = var1 + var2  # + Operator is used to combine strings\n",
    "var4 = \" \".join([var1, var2])   # join() method is used to combine the strings\n",
    "var5 = \"{} {}\".format(var1, var2)  # store the result in another variable \n",
    "\n",
    "print(var3)\n",
    "print(var4)\n",
    "print(\"% s % s\" % (var1, var2))  # % Operator is used here to combine the string\n",
    "print(var5)"
   ]
  }
 ],
 "metadata": {
  "kernelspec": {
   "display_name": "Python 3 (ipykernel)",
   "language": "python",
   "name": "python3"
  },
  "language_info": {
   "codemirror_mode": {
    "name": "ipython",
    "version": 3
   },
   "file_extension": ".py",
   "mimetype": "text/x-python",
   "name": "python",
   "nbconvert_exporter": "python",
   "pygments_lexer": "ipython3",
   "version": "3.11.5"
  }
 },
 "nbformat": 4,
 "nbformat_minor": 5
}
