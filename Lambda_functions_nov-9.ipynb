{
 "cells": [
  {
   "cell_type": "markdown",
   "id": "1c8e32d2",
   "metadata": {},
   "source": [
    "# anonymous or lambda functions"
   ]
  },
  {
   "cell_type": "markdown",
   "id": "7321da7c",
   "metadata": {},
   "source": [
    "Anonymous Functions are those which does not contain any name explicitly (Un-known).\n",
    "* The purpose of Anonymous Functions is that \" To Perform Instant Operations\".\n",
    "* Instant Operations are those which are using at that point time only and no longer interested to re-use in other part of the project / application.\n",
    "* Anonymous Functions are containing single executable statement but not multiple executable statements.\n",
    "* Anonymous Functions automatically OR Implicitly returns the Result (no need to use return statement).\n",
    "* To Define Anonymous Functions, we use a keyword called \"lambda\" and Anonymous Functions are also called Lambda Functions.\n",
    "\n",
    "<b>Syntax</b>: varname=lambda params-list : Expression \n",
    "\n",
    "<b>Explanation</b>:\n",
    "\n",
    "* varname represents an object of type <class,'fucntion'>\n",
    "* lambda  is a keyword which is used for defining  Anonymous Function\n",
    "* params-list represents list of formal params which are used for storing Values coming from Function calls.\n",
    "* Expression reprsents single executable statement which provides logic for Instant Operations. Here PVM executes single  executable statement and whose result returns Automatically / Implcitily (no need to return statement)"
   ]
  },
  {
   "cell_type": "code",
   "execution_count": 12,
   "id": "ccb5e9a1",
   "metadata": {},
   "outputs": [
    {
     "data": {
      "text/plain": [
       "25"
      ]
     },
     "execution_count": 12,
     "metadata": {},
     "output_type": "execute_result"
    }
   ],
   "source": [
    "fooAdd=lambda a,b : a+b\n",
    "\n",
    "fooAdd(10,15)"
   ]
  },
  {
   "cell_type": "code",
   "execution_count": 6,
   "id": "e9d3ac9a",
   "metadata": {},
   "outputs": [
    {
     "data": {
      "text/plain": [
       "'Even'"
      ]
     },
     "execution_count": 6,
     "metadata": {},
     "output_type": "execute_result"
    }
   ],
   "source": [
    "x = 8\n",
    "'Even' if x%2 == 0 else 'odd'"
   ]
  },
  {
   "cell_type": "code",
   "execution_count": 17,
   "id": "1305d683",
   "metadata": {},
   "outputs": [
    {
     "data": {
      "text/plain": [
       "([2, 4, 6, 8, 10], [1, 3, 5, 7, 9])"
      ]
     },
     "execution_count": 17,
     "metadata": {},
     "output_type": "execute_result"
    }
   ],
   "source": [
    "(lambda x, y: ([ele for ele in range(x, y+1) if ele%2==0], [ele for ele in range(x, y+1) if ele%2!=0]))(1,10)"
   ]
  },
  {
   "cell_type": "code",
   "execution_count": 20,
   "id": "bfaf10fb",
   "metadata": {},
   "outputs": [
    {
     "data": {
      "text/plain": [
       "[0, 2, 4, 6, 8]"
      ]
     },
     "execution_count": 20,
     "metadata": {},
     "output_type": "execute_result"
    }
   ],
   "source": [
    "x = []\n",
    "for ele in range(10):\n",
    "    if ele%2 == 0:\n",
    "        x.append(ele)\n",
    "\n",
    "x"
   ]
  },
  {
   "cell_type": "code",
   "execution_count": 19,
   "id": "d9328aea",
   "metadata": {},
   "outputs": [
    {
     "data": {
      "text/plain": [
       "81"
      ]
     },
     "execution_count": 19,
     "metadata": {},
     "output_type": "execute_result"
    }
   ],
   "source": [
    "c = lambda x,y : x**y\n",
    "\n",
    "c(3,4)"
   ]
  },
  {
   "cell_type": "markdown",
   "id": "628ebed8",
   "metadata": {},
   "source": [
    "# map()"
   ]
  },
  {
   "cell_type": "markdown",
   "id": "024efb40",
   "metadata": {},
   "source": [
    "* map() is used for obtaining new Iterable object from existing iterable object by applying old iterable elements to the function.\n",
    "* In otherwords, map() is used for obtaining new list of elements  from  existing list of elements by applying old list  elements to the function.\n",
    "\n",
    "\n",
    "<b>Syntax</b>:-      varname=map(FunctionName,Iterable_object)\n",
    "\n",
    "        * Here 'varname' is an object of type <class,map'> and we can convert into any iteratable object by using type casting functions.\n",
    "        * \"FunctionName\" represents either Normal function or anonymous functions.\n",
    "        * \"Iterable_object\" represents Sequence, List, set and dict types.\n",
    "* The execution process of map() is that \" map() sends every element of iterable object to the specified function, process it and returns the modified value (result) and new list of elements will be obtained\". This process will be continued until all elements of Iterable_object completed.\n"
   ]
  },
  {
   "cell_type": "code",
   "execution_count": 31,
   "id": "ae7d9972",
   "metadata": {},
   "outputs": [
    {
     "name": "stdout",
     "output_type": "stream",
     "text": [
      "<map object at 0x000001EB4448E3B0> [1, 4, 9]\n"
     ]
    }
   ],
   "source": [
    "a = map(lambda x: x**2, [1,2,3])\n",
    "\n",
    "print(a,  list(a))"
   ]
  },
  {
   "cell_type": "code",
   "execution_count": 34,
   "id": "8921f85c",
   "metadata": {},
   "outputs": [
    {
     "data": {
      "text/plain": [
       "[100, 101, 102]"
      ]
     },
     "execution_count": 34,
     "metadata": {},
     "output_type": "execute_result"
    }
   ],
   "source": [
    "a = map(ord, 'def')\n",
    "list(a)"
   ]
  },
  {
   "cell_type": "code",
   "execution_count": 36,
   "id": "90208851",
   "metadata": {},
   "outputs": [
    {
     "data": {
      "text/plain": [
       "<map at 0x1eb4448de70>"
      ]
     },
     "execution_count": 36,
     "metadata": {},
     "output_type": "execute_result"
    }
   ],
   "source": [
    "map(lambda x: x/0, [11,22,33])"
   ]
  },
  {
   "cell_type": "code",
   "execution_count": 38,
   "id": "8031ef88",
   "metadata": {},
   "outputs": [
    {
     "data": {
      "text/plain": [
       "[12, 14, 16]"
      ]
     },
     "execution_count": 38,
     "metadata": {},
     "output_type": "execute_result"
    }
   ],
   "source": [
    "list(map(lambda x, y: x+y, [1,2,3], [11,12,13]))"
   ]
  },
  {
   "cell_type": "code",
   "execution_count": 47,
   "id": "13846288",
   "metadata": {},
   "outputs": [
    {
     "data": {
      "text/plain": [
       "[3125]"
      ]
     },
     "execution_count": 47,
     "metadata": {},
     "output_type": "execute_result"
    }
   ],
   "source": [
    "list(map(lambda x,y: x**y, [5],[5]))"
   ]
  },
  {
   "cell_type": "code",
   "execution_count": 43,
   "id": "afb20056",
   "metadata": {},
   "outputs": [
    {
     "data": {
      "text/plain": [
       "[1, 4, 27, 256, 3125]"
      ]
     },
     "execution_count": 43,
     "metadata": {},
     "output_type": "execute_result"
    }
   ],
   "source": [
    "list(map(lambda x: x**x, [1,2,3,4,5]))"
   ]
  },
  {
   "cell_type": "markdown",
   "id": "d479fb0a",
   "metadata": {},
   "source": [
    "# filter()"
   ]
  },
  {
   "cell_type": "markdown",
   "id": "82e44ea2",
   "metadata": {},
   "source": [
    "* filter() is used for  \"Filtering out some elements from list of elements by applying to function\".\n",
    "\n",
    "<b>Syntax:-</b>        varname=filter(FunctionName, Iterable_object)\n",
    "\n",
    "<b>Explanation:</b>\n",
    "\n",
    "    * here 'varname' is an object of type <class,'filter'> and we can convert into any iteratable object by using type casting functions.\n",
    "    * \"FunctionName\" represents either Normal function or anonymous functions.\n",
    "    * \"Iterable_object\" represents Sequence, List, set and dict types.\n",
    "* The execution process of filter() is that  \" Each Value of Iterable object sends to Function Name. If the function return True then the element will be filtered. if the Function returns False then that element will be neglected/not filtered \". This process will be continued until all elements of Iterable object completed."
   ]
  },
  {
   "cell_type": "code",
   "execution_count": 46,
   "id": "5c820d40",
   "metadata": {},
   "outputs": [
    {
     "data": {
      "text/plain": [
       "[2, 4]"
      ]
     },
     "execution_count": 46,
     "metadata": {},
     "output_type": "execute_result"
    }
   ],
   "source": [
    "### filter\n",
    "\n",
    "list(filter(lambda x: True if x%2 == 0 else False, [1,2,3,4,5]))"
   ]
  },
  {
   "cell_type": "code",
   "execution_count": 51,
   "id": "b482732c",
   "metadata": {},
   "outputs": [
    {
     "data": {
      "text/plain": [
       "['I', 'E']"
      ]
     },
     "execution_count": 51,
     "metadata": {},
     "output_type": "execute_result"
    }
   ],
   "source": [
    "list(filter(lambda x: True if x in 'aeiouAEIOU' else False, 'KILLER'))"
   ]
  },
  {
   "cell_type": "code",
   "execution_count": 57,
   "id": "25ae5588",
   "metadata": {},
   "outputs": [
    {
     "data": {
      "text/plain": [
       "['1', '2', 'a', 'n', 'd', 'f', 'd', '6', '7', '3', '4', '2', '6', '5', '8']"
      ]
     },
     "execution_count": 57,
     "metadata": {},
     "output_type": "execute_result"
    }
   ],
   "source": [
    "list(filter(lambda x: True if x.isalnum() else False, '12andfd67@3426#58'))"
   ]
  },
  {
   "cell_type": "code",
   "execution_count": 58,
   "id": "4fb11ac0",
   "metadata": {},
   "outputs": [
    {
     "data": {
      "text/plain": [
       "['@', '#']"
      ]
     },
     "execution_count": 58,
     "metadata": {},
     "output_type": "execute_result"
    }
   ],
   "source": [
    "list(filter(lambda x: True if x.isalnum() is False else False, '12andfd67@3426#58'))"
   ]
  },
  {
   "cell_type": "markdown",
   "id": "0935dd0f",
   "metadata": {},
   "source": [
    "# reduce()"
   ]
  },
  {
   "cell_type": "markdown",
   "id": "349b31e7",
   "metadata": {},
   "source": [
    "reduce() is used for obtaining a single element / result from given iterable object by applying to a function.\n",
    "\n",
    "<b>Syntax:-</b>\n",
    "\t\tvarname=reduce(function-name,iterable-object)\n",
    "\n",
    "        * here varname is an object of int, float,bool,complex,str only\n",
    "        * The reduce() belongs to a pre-defined module called\" functools\".\n",
    "\n",
    "<b>Internal Flow of reduce()</b>\n",
    "\n",
    "* step-1:- Initially, reduce() selects  First Two values of Iterable object and place them in First var and Second var .\n",
    "* step-2:- The function-name(lambda or normal function) utilizes the values of First var and Second var and applied to the specified logic and obtains the result.\n",
    "* Step-3:- reduce () places the result of function-name in First variable and reduce() selects the succeeding element of Iterable object and places in second variable.\n",
    "* Step-4: Repeat  Step-2 and Step-3 until all elements completed in Iterable object and returns the result of First Variable."
   ]
  },
  {
   "cell_type": "code",
   "execution_count": 1,
   "id": "9a670d73",
   "metadata": {},
   "outputs": [
    {
     "data": {
      "text/plain": [
       "59"
      ]
     },
     "execution_count": 1,
     "metadata": {},
     "output_type": "execute_result"
    }
   ],
   "source": [
    "import functools\n",
    "res = functools.reduce(lambda x, y : x+y, [3,5,7,11,15,18])\n",
    "res"
   ]
  },
  {
   "cell_type": "code",
   "execution_count": 3,
   "id": "081778c3",
   "metadata": {},
   "outputs": [
    {
     "data": {
      "text/plain": [
       "'S i v a   S a n k a r'"
      ]
     },
     "execution_count": 3,
     "metadata": {},
     "output_type": "execute_result"
    }
   ],
   "source": [
    "x = functools.reduce(lambda x, y : x+' '+y, 'Siva Sankar')\n",
    "x"
   ]
  }
 ],
 "metadata": {
  "kernelspec": {
   "display_name": "Python 3 (ipykernel)",
   "language": "python",
   "name": "python3"
  },
  "language_info": {
   "codemirror_mode": {
    "name": "ipython",
    "version": 3
   },
   "file_extension": ".py",
   "mimetype": "text/x-python",
   "name": "python",
   "nbconvert_exporter": "python",
   "pygments_lexer": "ipython3",
   "version": "3.11.5"
  }
 },
 "nbformat": 4,
 "nbformat_minor": 5
}
