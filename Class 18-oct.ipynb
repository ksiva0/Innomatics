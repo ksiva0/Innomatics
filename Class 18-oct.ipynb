{
 "cells": [
  {
   "cell_type": "markdown",
   "id": "665facdd",
   "metadata": {},
   "source": [
    "### ascii values"
   ]
  },
  {
   "cell_type": "markdown",
   "id": "ac4a0fe2",
   "metadata": {},
   "source": [
    "Here values for each and every character called \"ascii\", that can be in the form of upper function and lower function alphabets"
   ]
  },
  {
   "cell_type": "markdown",
   "id": "c063e2bb",
   "metadata": {},
   "source": [
    "Example:\n",
    "    \n",
    "    ord('a')\n",
    "   \n",
    "  out: 97"
   ]
  },
  {
   "cell_type": "code",
   "execution_count": 2,
   "id": "ba3f9586",
   "metadata": {},
   "outputs": [
    {
     "data": {
      "text/plain": [
       "66"
      ]
     },
     "execution_count": 2,
     "metadata": {},
     "output_type": "execute_result"
    }
   ],
   "source": [
    "ord('B')"
   ]
  },
  {
   "cell_type": "code",
   "execution_count": 1,
   "id": "9dde52c8",
   "metadata": {},
   "outputs": [
    {
     "data": {
      "text/plain": [
       "97"
      ]
     },
     "execution_count": 1,
     "metadata": {},
     "output_type": "execute_result"
    }
   ],
   "source": [
    "ord('a')"
   ]
  },
  {
   "cell_type": "markdown",
   "id": "5d47c597",
   "metadata": {},
   "source": [
    "### String Methods"
   ]
  },
  {
   "cell_type": "code",
   "execution_count": 6,
   "id": "564b63f8",
   "metadata": {},
   "outputs": [
    {
     "name": "stdout",
     "output_type": "stream",
     "text": [
      "MANGO\n"
     ]
    },
    {
     "data": {
      "text/plain": [
       "'mango'"
      ]
     },
     "execution_count": 6,
     "metadata": {},
     "output_type": "execute_result"
    }
   ],
   "source": [
    "z = 'MANGO'\n",
    "print(z)\n",
    "z.lower()"
   ]
  },
  {
   "cell_type": "code",
   "execution_count": 7,
   "id": "3d44eb83",
   "metadata": {},
   "outputs": [
    {
     "name": "stdout",
     "output_type": "stream",
     "text": [
      "I scream, you scream, we all scream for ice cream\n"
     ]
    }
   ],
   "source": [
    "x ='I scream, you scream, we all scream for ice cream'\n",
    "print(x)\n"
   ]
  },
  {
   "cell_type": "markdown",
   "id": "b6e32f71",
   "metadata": {},
   "source": [
    "#### upper()"
   ]
  },
  {
   "cell_type": "code",
   "execution_count": 8,
   "id": "c8a8a3f0",
   "metadata": {},
   "outputs": [
    {
     "name": "stdout",
     "output_type": "stream",
     "text": [
      "I scream, you scream, we all scream for ice cream\n"
     ]
    },
    {
     "data": {
      "text/plain": [
       "'I SCREAM, YOU SCREAM, WE ALL SCREAM FOR ICE CREAM'"
      ]
     },
     "execution_count": 8,
     "metadata": {},
     "output_type": "execute_result"
    }
   ],
   "source": [
    "print(x)\n",
    "x.upper()"
   ]
  },
  {
   "cell_type": "code",
   "execution_count": 9,
   "id": "f59d0c6b",
   "metadata": {},
   "outputs": [
    {
     "data": {
      "text/plain": [
       "2370766084496"
      ]
     },
     "execution_count": 9,
     "metadata": {},
     "output_type": "execute_result"
    }
   ],
   "source": [
    "id(x)"
   ]
  },
  {
   "cell_type": "code",
   "execution_count": 11,
   "id": "833f0481",
   "metadata": {},
   "outputs": [
    {
     "data": {
      "text/plain": [
       "'I SCREAM, YOU SCREAM, WE ALL SCREAM FOR ICE CREAM'"
      ]
     },
     "execution_count": 11,
     "metadata": {},
     "output_type": "execute_result"
    }
   ],
   "source": [
    "xu = x.upper()\n",
    "xu"
   ]
  },
  {
   "cell_type": "code",
   "execution_count": 12,
   "id": "062ae52f",
   "metadata": {},
   "outputs": [
    {
     "data": {
      "text/plain": [
       "2370766085280"
      ]
     },
     "execution_count": 12,
     "metadata": {},
     "output_type": "execute_result"
    }
   ],
   "source": [
    "id(xu)"
   ]
  },
  {
   "cell_type": "markdown",
   "id": "16cdafde",
   "metadata": {},
   "source": [
    "* Strings are <b><u>immutable</u></b>, the resulting strings from string methods have a new memory location\n",
    "* <u>*In order to use these strings, we need reassign it to* a var</u>"
   ]
  },
  {
   "cell_type": "markdown",
   "id": "36c7b2c1",
   "metadata": {},
   "source": [
    "### lower()"
   ]
  },
  {
   "cell_type": "code",
   "execution_count": 13,
   "id": "0d7d8a1f",
   "metadata": {},
   "outputs": [
    {
     "data": {
      "text/plain": [
       "'i scream, you scream, we all scream for ice cream'"
      ]
     },
     "execution_count": 13,
     "metadata": {},
     "output_type": "execute_result"
    }
   ],
   "source": [
    "xu.lower()"
   ]
  },
  {
   "cell_type": "markdown",
   "id": "682e0dce",
   "metadata": {},
   "source": [
    "### capitalize()"
   ]
  },
  {
   "cell_type": "code",
   "execution_count": 15,
   "id": "b2b47e55",
   "metadata": {},
   "outputs": [
    {
     "data": {
      "text/plain": [
       "'I scream, you scream, we all scream for ice cream'"
      ]
     },
     "execution_count": 15,
     "metadata": {},
     "output_type": "execute_result"
    }
   ],
   "source": [
    "xu.capitalize()"
   ]
  },
  {
   "cell_type": "markdown",
   "id": "6720c0ef",
   "metadata": {},
   "source": [
    "### title()"
   ]
  },
  {
   "cell_type": "markdown",
   "id": "aa8c1f8b",
   "metadata": {},
   "source": [
    "the first alphabet of word converts into capital"
   ]
  },
  {
   "cell_type": "code",
   "execution_count": 16,
   "id": "5d3c3591",
   "metadata": {},
   "outputs": [
    {
     "data": {
      "text/plain": [
       "'I Scream, You Scream, We All Scream For Ice Cream'"
      ]
     },
     "execution_count": 16,
     "metadata": {},
     "output_type": "execute_result"
    }
   ],
   "source": [
    "xu.title()"
   ]
  },
  {
   "cell_type": "code",
   "execution_count": 17,
   "id": "966cf371",
   "metadata": {},
   "outputs": [
    {
     "data": {
      "text/plain": [
       "'890Abed @Hdjkah 87Ejahdj'"
      ]
     },
     "execution_count": 17,
     "metadata": {},
     "output_type": "execute_result"
    }
   ],
   "source": [
    "'890abed @hdjkah 87ejahdj'.title()"
   ]
  },
  {
   "cell_type": "markdown",
   "id": "0d6e3c1f",
   "metadata": {},
   "source": [
    "### swapcase()"
   ]
  },
  {
   "cell_type": "markdown",
   "id": "7f00032a",
   "metadata": {},
   "source": [
    "converts lower to upper & upper to lower"
   ]
  },
  {
   "cell_type": "code",
   "execution_count": 20,
   "id": "67f7f9db",
   "metadata": {},
   "outputs": [
    {
     "data": {
      "text/plain": [
       "'i sCREAM, yOU sCREAM, wE aLL sCREAM fOR iCE cREAM'"
      ]
     },
     "execution_count": 20,
     "metadata": {},
     "output_type": "execute_result"
    }
   ],
   "source": [
    "xu = 'I Scream, You Scream, We All Scream For Ice Cream'\n",
    "\n",
    "xu.swapcase()"
   ]
  },
  {
   "cell_type": "markdown",
   "id": "097a8716",
   "metadata": {},
   "source": [
    "### casefold()"
   ]
  },
  {
   "cell_type": "markdown",
   "id": "9bbd7b2b",
   "metadata": {},
   "source": [
    "convert string to lowercase"
   ]
  },
  {
   "cell_type": "code",
   "execution_count": 22,
   "id": "9ab9736c",
   "metadata": {},
   "outputs": [
    {
     "data": {
      "text/plain": [
       "'german ss is starsse'"
      ]
     },
     "execution_count": 22,
     "metadata": {},
     "output_type": "execute_result"
    }
   ],
   "source": [
    "'German ss is Starße'.casefold()"
   ]
  }
 ],
 "metadata": {
  "kernelspec": {
   "display_name": "Python 3 (ipykernel)",
   "language": "python",
   "name": "python3"
  },
  "language_info": {
   "codemirror_mode": {
    "name": "ipython",
    "version": 3
   },
   "file_extension": ".py",
   "mimetype": "text/x-python",
   "name": "python",
   "nbconvert_exporter": "python",
   "pygments_lexer": "ipython3",
   "version": "3.11.5"
  }
 },
 "nbformat": 4,
 "nbformat_minor": 5
}
