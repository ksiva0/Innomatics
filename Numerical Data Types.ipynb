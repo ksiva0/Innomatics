{
 "cells": [
  {
   "cell_type": "markdown",
   "id": "750888f8",
   "metadata": {},
   "source": [
    "## Numerical Data Types\n"
   ]
  },
  {
   "cell_type": "markdown",
   "id": "30c4d97d",
   "metadata": {},
   "source": [
    "* Integers\n",
    "* Float\n",
    "* Complex"
   ]
  },
  {
   "cell_type": "code",
   "execution_count": 1,
   "id": "b9b8cfde",
   "metadata": {},
   "outputs": [
    {
     "name": "stdout",
     "output_type": "stream",
     "text": [
      "123 45.56 (5+6j)\n",
      "<class 'int'> <class 'float'> <class 'complex'>\n"
     ]
    }
   ],
   "source": [
    "x,y,z=123,45.56,5+6j\n",
    "print(x,y,z)\n",
    "print(type(x),type(y),type(z))"
   ]
  },
  {
   "cell_type": "code",
   "execution_count": 2,
   "id": "03f5f0bb",
   "metadata": {},
   "outputs": [
    {
     "name": "stdout",
     "output_type": "stream",
     "text": [
      "5 140730805425064\n",
      "10 140730805425224\n"
     ]
    }
   ],
   "source": [
    "x=5\n",
    "print(x,id(x))\n",
    "\n",
    "x=10\n",
    "print(x,id(x))"
   ]
  },
  {
   "cell_type": "markdown",
   "id": "e9e4dae2",
   "metadata": {},
   "source": [
    "### int()"
   ]
  },
  {
   "cell_type": "markdown",
   "id": "8d94fd21",
   "metadata": {},
   "source": [
    "* Base value for binary : minimum is 2, maximum is 36"
   ]
  },
  {
   "cell_type": "code",
   "execution_count": 3,
   "id": "5fef4c51",
   "metadata": {},
   "outputs": [
    {
     "data": {
      "text/plain": [
       "10"
      ]
     },
     "execution_count": 3,
     "metadata": {},
     "output_type": "execute_result"
    }
   ],
   "source": [
    "int('10')"
   ]
  },
  {
   "cell_type": "code",
   "execution_count": 4,
   "id": "1055892e",
   "metadata": {},
   "outputs": [
    {
     "name": "stdout",
     "output_type": "stream",
     "text": [
      "10\n",
      "5\n"
     ]
    }
   ],
   "source": [
    "print(int('10'))\n",
    "print(int('0101',2)) #binary base"
   ]
  },
  {
   "cell_type": "code",
   "execution_count": 11,
   "id": "8690f07a",
   "metadata": {},
   "outputs": [
    {
     "name": "stdout",
     "output_type": "stream",
     "text": [
      "10\n",
      "513\n",
      "46692\n",
      "5\n"
     ]
    }
   ],
   "source": [
    "print(int('10',10)) #default binary base is 10\n",
    "print(int('1001',8))\n",
    "print(int('1010',36))\n",
    "print(int(5.5))"
   ]
  },
  {
   "cell_type": "code",
   "execution_count": 12,
   "id": "5153956f",
   "metadata": {},
   "outputs": [
    {
     "data": {
      "text/plain": [
       "('0o11', '0x11')"
      ]
     },
     "execution_count": 12,
     "metadata": {},
     "output_type": "execute_result"
    }
   ],
   "source": [
    "oct(9),hex(17)"
   ]
  },
  {
   "cell_type": "markdown",
   "id": "88cc446d",
   "metadata": {},
   "source": [
    "### Float()"
   ]
  },
  {
   "cell_type": "code",
   "execution_count": 15,
   "id": "d7824217",
   "metadata": {},
   "outputs": [
    {
     "data": {
      "text/plain": [
       "5.0"
      ]
     },
     "execution_count": 15,
     "metadata": {},
     "output_type": "execute_result"
    }
   ],
   "source": [
    "float(5)"
   ]
  },
  {
   "cell_type": "markdown",
   "id": "ebd31dd3",
   "metadata": {},
   "source": [
    "### Complex()"
   ]
  },
  {
   "cell_type": "code",
   "execution_count": 18,
   "id": "deebe7b2",
   "metadata": {},
   "outputs": [
    {
     "name": "stdout",
     "output_type": "stream",
     "text": [
      "(5+6j) <class 'complex'>\n",
      "5.0 6.0\n"
     ]
    }
   ],
   "source": [
    "x=5+6j\n",
    "print(x,type(x))\n",
    "print(x.real, x.imag) #imaginary & real values"
   ]
  },
  {
   "cell_type": "markdown",
   "id": "4262d5d5",
   "metadata": {},
   "source": [
    "### Abs()"
   ]
  },
  {
   "cell_type": "code",
   "execution_count": 20,
   "id": "7623600d",
   "metadata": {},
   "outputs": [
    {
     "data": {
      "text/plain": [
       "(10, 10.1, 5.830951894845301)"
      ]
     },
     "execution_count": 20,
     "metadata": {},
     "output_type": "execute_result"
    }
   ],
   "source": [
    "x=-10\n",
    "abs(-10),abs(-10.10),abs(-5-3j)"
   ]
  },
  {
   "cell_type": "code",
   "execution_count": 21,
   "id": "1b82b0b2",
   "metadata": {},
   "outputs": [],
   "source": [
    "import math\n",
    "from math import ceil, floor"
   ]
  },
  {
   "cell_type": "code",
   "execution_count": 22,
   "id": "90ad767d",
   "metadata": {},
   "outputs": [
    {
     "data": {
      "text/plain": [
       "(5, 6)"
      ]
     },
     "execution_count": 22,
     "metadata": {},
     "output_type": "execute_result"
    }
   ],
   "source": [
    "floor(5.345), ceil(5.688)"
   ]
  },
  {
   "cell_type": "markdown",
   "id": "5231bc10",
   "metadata": {},
   "source": [
    "### Scientific Notations"
   ]
  },
  {
   "cell_type": "code",
   "execution_count": 23,
   "id": "69d992db",
   "metadata": {},
   "outputs": [
    {
     "data": {
      "text/plain": [
       "320.0"
      ]
     },
     "execution_count": 23,
     "metadata": {},
     "output_type": "execute_result"
    }
   ],
   "source": [
    "3.2e+2"
   ]
  },
  {
   "cell_type": "code",
   "execution_count": 24,
   "id": "ddce875b",
   "metadata": {},
   "outputs": [
    {
     "data": {
      "text/plain": [
       "55400000.0"
      ]
     },
     "execution_count": 24,
     "metadata": {},
     "output_type": "execute_result"
    }
   ],
   "source": [
    "5.54e+7"
   ]
  },
  {
   "cell_type": "code",
   "execution_count": 27,
   "id": "f8e54f5c",
   "metadata": {},
   "outputs": [
    {
     "data": {
      "text/plain": [
       "0.032"
      ]
     },
     "execution_count": 27,
     "metadata": {},
     "output_type": "execute_result"
    }
   ],
   "source": [
    "3.2e-2\n"
   ]
  },
  {
   "cell_type": "code",
   "execution_count": 28,
   "id": "076d3b75",
   "metadata": {},
   "outputs": [
    {
     "data": {
      "text/plain": [
       "2320000000.0"
      ]
     },
     "execution_count": 28,
     "metadata": {},
     "output_type": "execute_result"
    }
   ],
   "source": [
    "23.2e8"
   ]
  },
  {
   "cell_type": "markdown",
   "id": "dc15da5f",
   "metadata": {},
   "source": [
    "## Operators"
   ]
  },
  {
   "cell_type": "markdown",
   "id": "f432eb18",
   "metadata": {},
   "source": [
    "### Arithmatic"
   ]
  },
  {
   "cell_type": "code",
   "execution_count": 31,
   "id": "cd7702e5",
   "metadata": {},
   "outputs": [
    {
     "name": "stdout",
     "output_type": "stream",
     "text": [
      "8\n",
      "-2\n",
      "15\n",
      "0.6\n",
      "3\n",
      "243\n",
      "0\n"
     ]
    }
   ],
   "source": [
    "x,y=3,5\n",
    "print(x+y)\n",
    "print(x-y)\n",
    "print(x*y)\n",
    "print(x/y)\n",
    "print(x%y)\n",
    "print(x**y) #Exponential \n",
    "print(x//y) #floor division"
   ]
  },
  {
   "cell_type": "code",
   "execution_count": 33,
   "id": "9121dc28",
   "metadata": {},
   "outputs": [
    {
     "name": "stdout",
     "output_type": "stream",
     "text": [
      "42\n"
     ]
    }
   ],
   "source": [
    "# my sides 5,10,11,16 find the perimeter\n",
    "\n",
    "a=5\n",
    "b=10\n",
    "c=11\n",
    "d=16\n",
    "print(a+b+c+d)"
   ]
  },
  {
   "cell_type": "code",
   "execution_count": 36,
   "id": "f85e90c6",
   "metadata": {},
   "outputs": [
    {
     "data": {
      "text/plain": [
       "(78.57142857142857, 31.428571428571427)"
      ]
     },
     "execution_count": 36,
     "metadata": {},
     "output_type": "execute_result"
    }
   ],
   "source": [
    "# area of circle\n",
    "\n",
    "r=5\n",
    "pi=22/7\n",
    "a,c=pi*(r**2),2*pi*r\n",
    "a,c"
   ]
  },
  {
   "cell_type": "code",
   "execution_count": 38,
   "id": "0d9926ae",
   "metadata": {},
   "outputs": [
    {
     "data": {
      "text/plain": [
       "550.0"
      ]
     },
     "execution_count": 38,
     "metadata": {},
     "output_type": "execute_result"
    }
   ],
   "source": [
    "# volume of cylinder\n",
    "\n",
    "h=7\n",
    "r=5\n",
    "pi=22/7\n",
    "a=pi*5**2*7\n",
    "a"
   ]
  },
  {
   "cell_type": "code",
   "execution_count": 40,
   "id": "3903b904",
   "metadata": {},
   "outputs": [
    {
     "data": {
      "text/plain": [
       "1237.5"
      ]
     },
     "execution_count": 40,
     "metadata": {},
     "output_type": "execute_result"
    }
   ],
   "source": [
    "d=15\n",
    "h=7\n",
    "r=d/2\n",
    "v=pi*r*r*7\n",
    "v"
   ]
  },
  {
   "cell_type": "markdown",
   "id": "c4ad0643",
   "metadata": {},
   "source": [
    "### Comparission Operators"
   ]
  },
  {
   "cell_type": "markdown",
   "id": "7e7e0aca",
   "metadata": {},
   "source": [
    "#### Relation Operator"
   ]
  },
  {
   "cell_type": "code",
   "execution_count": 46,
   "id": "3d70c0cf",
   "metadata": {},
   "outputs": [
    {
     "name": "stdout",
     "output_type": "stream",
     "text": [
      "False True True False\n",
      "False\n",
      "True\n"
     ]
    }
   ],
   "source": [
    "x,y=10,20\n",
    "print(x>y,x<y,x<=y, x>=y)\n",
    "print(x==y)\n",
    "print(x!=y)"
   ]
  },
  {
   "cell_type": "code",
   "execution_count": 47,
   "id": "135478d0",
   "metadata": {},
   "outputs": [
    {
     "data": {
      "text/plain": [
       "(True, True)"
      ]
     },
     "execution_count": 47,
     "metadata": {},
     "output_type": "execute_result"
    }
   ],
   "source": [
    "a,b,c = [1,2,3], [1,2,3], [4,5]\n",
    "\n",
    "a==b,a!=c"
   ]
  },
  {
   "cell_type": "markdown",
   "id": "311fce83",
   "metadata": {},
   "source": [
    "#### Logical Operators"
   ]
  },
  {
   "cell_type": "markdown",
   "id": "eb47fa39",
   "metadata": {},
   "source": [
    "* and,or,not"
   ]
  },
  {
   "cell_type": "code",
   "execution_count": 51,
   "id": "1c853237",
   "metadata": {},
   "outputs": [
    {
     "name": "stdout",
     "output_type": "stream",
     "text": [
      "False True\n",
      "True True False\n",
      "False\n"
     ]
    }
   ],
   "source": [
    "x, y, z = True, False, True\n",
    "print(x and y, x and z)\n",
    "print(x or y, x or z, y or y)\n",
    "print(not x)"
   ]
  },
  {
   "cell_type": "markdown",
   "id": "1750d7e0",
   "metadata": {},
   "source": [
    "### Identity Operators"
   ]
  },
  {
   "cell_type": "markdown",
   "id": "c5e94af8",
   "metadata": {},
   "source": [
    "* is\n",
    "* is not"
   ]
  },
  {
   "cell_type": "code",
   "execution_count": 55,
   "id": "931271de",
   "metadata": {},
   "outputs": [
    {
     "data": {
      "text/plain": [
       "(True, False, True)"
      ]
     },
     "execution_count": 55,
     "metadata": {},
     "output_type": "execute_result"
    }
   ],
   "source": [
    "inta, intb= 250, 250\n",
    "lista, listb= [1,2,3], [1,2,3]\n",
    "listc = lista\n",
    "stra, strb='string', 'string'\n",
    "strc=stra\n",
    "\n",
    "lista == listb, lista is listb, lista is listc\n"
   ]
  },
  {
   "cell_type": "code",
   "execution_count": 56,
   "id": "8f32f8d8",
   "metadata": {},
   "outputs": [
    {
     "data": {
      "text/plain": [
       "True"
      ]
     },
     "execution_count": 56,
     "metadata": {},
     "output_type": "execute_result"
    }
   ],
   "source": [
    "stra is strb"
   ]
  },
  {
   "cell_type": "code",
   "execution_count": 57,
   "id": "b727b0c0",
   "metadata": {},
   "outputs": [
    {
     "data": {
      "text/plain": [
       "(3143420266752, 3143419568896, 3143420266752)"
      ]
     },
     "execution_count": 57,
     "metadata": {},
     "output_type": "execute_result"
    }
   ],
   "source": [
    "id(lista), id(listb), id(listc)"
   ]
  },
  {
   "cell_type": "code",
   "execution_count": 58,
   "id": "522e57f5",
   "metadata": {},
   "outputs": [
    {
     "data": {
      "text/plain": [
       "True"
      ]
     },
     "execution_count": 58,
     "metadata": {},
     "output_type": "execute_result"
    }
   ],
   "source": [
    "strc is stra"
   ]
  },
  {
   "cell_type": "markdown",
   "id": "6092a784",
   "metadata": {},
   "source": [
    "### Membership Operator"
   ]
  },
  {
   "cell_type": "markdown",
   "id": "351efeb1",
   "metadata": {},
   "source": [
    "* in\n",
    "* not in"
   ]
  },
  {
   "cell_type": "code",
   "execution_count": 59,
   "id": "779053fa",
   "metadata": {},
   "outputs": [
    {
     "data": {
      "text/plain": [
       "(True, True)"
      ]
     },
     "execution_count": 59,
     "metadata": {},
     "output_type": "execute_result"
    }
   ],
   "source": [
    "x, y= [10,11,15], 'string'\n",
    "11 in x,'z' not in y"
   ]
  }
 ],
 "metadata": {
  "kernelspec": {
   "display_name": "Python 3 (ipykernel)",
   "language": "python",
   "name": "python3"
  },
  "language_info": {
   "codemirror_mode": {
    "name": "ipython",
    "version": 3
   },
   "file_extension": ".py",
   "mimetype": "text/x-python",
   "name": "python",
   "nbconvert_exporter": "python",
   "pygments_lexer": "ipython3",
   "version": "3.11.5"
  }
 },
 "nbformat": 4,
 "nbformat_minor": 5
}
