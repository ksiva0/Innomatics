{
 "cells": [
  {
   "cell_type": "markdown",
   "id": "e624350d",
   "metadata": {},
   "source": [
    "1. Write a Python program that asks the user for their age and prints \"You are an adult\" if the age is 18 or older, otherwise prints \"You are a minor'."
   ]
  },
  {
   "cell_type": "code",
   "execution_count": 3,
   "id": "7943b843",
   "metadata": {},
   "outputs": [
    {
     "name": "stdout",
     "output_type": "stream",
     "text": [
      "Enter age: 20\n",
      "You are an adult\n"
     ]
    }
   ],
   "source": [
    "age = int(input('Enter age: ')) # take age from user\n",
    "\n",
    "if age >=18:  # condition of the age is greater than or equal to eighteen\n",
    "    print('You are an adult')\n",
    "else:\n",
    "    print('you are minor')"
   ]
  },
  {
   "cell_type": "code",
   "execution_count": 4,
   "id": "b3e9e519",
   "metadata": {},
   "outputs": [
    {
     "name": "stdout",
     "output_type": "stream",
     "text": [
      "Enter age: 12\n",
      "you are minor\n"
     ]
    }
   ],
   "source": [
    "age = int(input('Enter age: '))  # take age from user\n",
    "\n",
    "if age >=18:  # condition of the age is greater than or equal to eighteen\n",
    "    print('You are an adult')\n",
    "else:\n",
    "    print('you are minor')"
   ]
  },
  {
   "cell_type": "markdown",
   "id": "231e0b7b",
   "metadata": {},
   "source": [
    "2. Write a program that takes a numerical grade (out of 100) as input and prints the corresponding letter grade according to the following scale:\n",
    " * 90-100: A\n",
    " * 80-89: B\n",
    " * 70-79: C\n",
    " * 60-69: D\n",
    " * Below 60: F\n"
   ]
  },
  {
   "cell_type": "code",
   "execution_count": 9,
   "id": "87d626ce",
   "metadata": {},
   "outputs": [
    {
     "name": "stdout",
     "output_type": "stream",
     "text": [
      "Enter numerical grade: 85\n",
      "B\n"
     ]
    }
   ],
   "source": [
    "grade = int(input('Enter numerical grade: ')) # take grade from user\n",
    "\n",
    "# determine the corresponding letter grade\n",
    "if grade in range(90, 100):  \n",
    "    print('A')\n",
    "elif grade in range(80, 89): \n",
    "    print('B')\n",
    "elif grade in range(70, 79): \n",
    "    print('C')\n",
    "elif grade in range(60, 69): \n",
    "    print('D')\n",
    "else:               \n",
    "    print('F')"
   ]
  },
  {
   "cell_type": "code",
   "execution_count": 10,
   "id": "c2fadc45",
   "metadata": {},
   "outputs": [
    {
     "name": "stdout",
     "output_type": "stream",
     "text": [
      "Enter numerical grade: 40\n",
      "F\n"
     ]
    }
   ],
   "source": [
    "grade = int(input('Enter numerical grade: '))\n",
    "\n",
    "if grade in range(90, 100):\n",
    "    print('A')\n",
    "elif grade in range(80, 89):\n",
    "    print('B')\n",
    "elif grade in range(70, 79):\n",
    "    print('C')\n",
    "elif grade in range(60, 69):\n",
    "    print('D')\n",
    "else:\n",
    "    print('F')"
   ]
  },
  {
   "cell_type": "markdown",
   "id": "782f3f13",
   "metadata": {},
   "source": [
    "3. Write a program that calculates the Body Mass Index (BMI) of a person. The user should input their weight in kilograms and height in meters. The program should then print whether the person is underweight, normal weight, overweight, or obese\n"
   ]
  },
  {
   "cell_type": "code",
   "execution_count": 7,
   "id": "abca30a7",
   "metadata": {},
   "outputs": [
    {
     "name": "stdout",
     "output_type": "stream",
     "text": [
      "Enter weight: 55\n",
      "Enter height: 1.5\n",
      "Your bmi is: 24.44\n",
      "Normal weight\n"
     ]
    }
   ],
   "source": [
    "weight = int(input('Enter weight: '))  # weight taken from user\n",
    "height = float(input('Enter height: '))  # height taken from user\n",
    "\n",
    "# calculate BMI\n",
    "bmi = weight/(height**2)   \n",
    "print(\"Your bmi is:\", round(bmi, 2))\n",
    "\n",
    "# classify the BMI and print the result\n",
    "if bmi < 20:\n",
    "    print('Under weight')\n",
    "elif bmi < 25:\n",
    "    print('Normal weight')\n",
    "elif bmi < 30:\n",
    "    print('Over weight')\n",
    "else:\n",
    "    print('obese')"
   ]
  },
  {
   "cell_type": "markdown",
   "id": "b2d0922b",
   "metadata": {},
   "source": [
    "4. Write a program that asks the user for three numbers and prints the maximum of the three."
   ]
  },
  {
   "cell_type": "code",
   "execution_count": 2,
   "id": "433ca721",
   "metadata": {},
   "outputs": [
    {
     "name": "stdout",
     "output_type": "stream",
     "text": [
      "Enter value1: 54\n",
      "Enter value2: 47\n",
      "Enter value3: 34\n",
      "54\n"
     ]
    }
   ],
   "source": [
    "# get input from user\n",
    "v1 = int(input('Enter value1: '))\n",
    "v2 = int(input('Enter value2: '))\n",
    "v3 = int(input('Enter value3: '))\n",
    "\n",
    "# Find and print the maximum of the three numbers\n",
    "if v1>=v2 and v1>=v3:\n",
    "    print(v1)\n",
    "elif v2>=v1 and v2>=v3:\n",
    "    print(v2)\n",
    "else:\n",
    "    print(v3)"
   ]
  },
  {
   "cell_type": "markdown",
   "id": "624cbd8f",
   "metadata": {},
   "source": [
    "5. Write a program that asks the user for a temperature (in Celsius) and prints \"It's freezing\" if the temperature is below 0, \"It's cool\" if it's between 0 and 10, \"It's warm\" if it's between 10 and 20, and \"It's hot\" if it's above 20\n"
   ]
  },
  {
   "cell_type": "code",
   "execution_count": 11,
   "id": "c7aa054e",
   "metadata": {},
   "outputs": [
    {
     "name": "stdout",
     "output_type": "stream",
     "text": [
      "Enter temparature(in Celsius): 22\n",
      "It's hot\n"
     ]
    }
   ],
   "source": [
    "temp = int(input('Enter temparature(in Celsius): '))  # get input from user\n",
    "\n",
    "# Check the temperature\n",
    "if temp <= 0:\n",
    "    print(\"It's freezing\")\n",
    "elif temp in range(0, 10):\n",
    "    print(\"It's cool\")\n",
    "elif temp in range(10, 20):\n",
    "    print(\"It's warm\")\n",
    "else:\n",
    "    print(\"It's hot\")"
   ]
  },
  {
   "cell_type": "code",
   "execution_count": 10,
   "id": "297b9b72",
   "metadata": {},
   "outputs": [
    {
     "name": "stdout",
     "output_type": "stream",
     "text": [
      "Enter temparature(in Celsius): 8\n",
      "It's cool\n"
     ]
    }
   ],
   "source": [
    "temp = int(input('Enter temparature(in Celsius): '))  # get input from user\n",
    "\n",
    "# Check the temperature\n",
    "if temp <= 0:\n",
    "    print(\"It's freezing\")\n",
    "elif temp in range(0, 10):\n",
    "    print(\"It's cool\")\n",
    "elif temp in range(10, 20):\n",
    "    print(\"It's warm\")\n",
    "else:\n",
    "    print(\"It's hot\")"
   ]
  },
  {
   "cell_type": "markdown",
   "id": "275b76b5",
   "metadata": {},
   "source": [
    "6. Write a program that asks the user for a number (1-7) and prints the corresponding day of the week."
   ]
  },
  {
   "cell_type": "code",
   "execution_count": 26,
   "id": "5e15764d",
   "metadata": {},
   "outputs": [
    {
     "name": "stdout",
     "output_type": "stream",
     "text": [
      "Enter a number(1-7): 5\n",
      "Friday\n"
     ]
    }
   ],
   "source": [
    "num = int(input('Enter a number(1-7): '))  # get the input from user\n",
    "\n",
    "# Check the number and print the corresponding day of the week\n",
    "if num==1:\n",
    "    print('Monday')\n",
    "elif num==2:\n",
    "    print('Tuesday')\n",
    "elif num==3:\n",
    "    print('Wednesday')\n",
    "elif num==4:\n",
    "    print('Thursday')\n",
    "elif num==5:\n",
    "    print('Friday')\n",
    "elif num==6:\n",
    "    print('Saturday')\n",
    "elif num==7:\n",
    "    print('Sunday')\n",
    "else:\n",
    "    print('invalid number')"
   ]
  },
  {
   "cell_type": "markdown",
   "id": "f2d047f7",
   "metadata": {},
   "source": [
    "7. Write a program that asks the user for a number and prints \"In range\" if the number is between 10 and 20 (inclusive), and \"Out of range\" otherwise."
   ]
  },
  {
   "cell_type": "code",
   "execution_count": 2,
   "id": "d5c37599",
   "metadata": {},
   "outputs": [
    {
     "name": "stdout",
     "output_type": "stream",
     "text": [
      "Enter number: 11\n",
      "In range\n"
     ]
    }
   ],
   "source": [
    "num = int(input('Enter number: '))  # get input from user\n",
    "\n",
    "# Check if the number is in the specified range\n",
    "if num in range(10, 20):\n",
    "    print(\"In range\")\n",
    "else:\n",
    "    print(\"Out of range\")"
   ]
  },
  {
   "cell_type": "markdown",
   "id": "77392c06",
   "metadata": {},
   "source": [
    "8. Write a program that asks the user for an integer and prints whether it's even or odd."
   ]
  },
  {
   "cell_type": "code",
   "execution_count": 4,
   "id": "e9383405",
   "metadata": {},
   "outputs": [
    {
     "name": "stdout",
     "output_type": "stream",
     "text": [
      "Enter number: 6\n",
      "Even\n"
     ]
    }
   ],
   "source": [
    "num = int(input('Enter number: '))  # get input from user\n",
    "\n",
    "# Check if the number is even or odd\n",
    "if num%2 == 0:\n",
    "    print('Even')\n",
    "else:\n",
    "    print('Odd')"
   ]
  },
  {
   "cell_type": "markdown",
   "id": "69fc3e0b",
   "metadata": {},
   "source": [
    "9. Write a program to check whether a person is eligible for voting or not  (voting age>=18)."
   ]
  },
  {
   "cell_type": "code",
   "execution_count": 7,
   "id": "a4627a48",
   "metadata": {},
   "outputs": [
    {
     "name": "stdout",
     "output_type": "stream",
     "text": [
      "Enter value: 23\n",
      "Eligible for voting\n"
     ]
    }
   ],
   "source": [
    "age = int(input('Enter value: '))   # get input from user\n",
    "\n",
    "if age >= 18:  # Check if the person is eligible to vote\n",
    "    print('Eligible for voting')\n",
    "else:\n",
    "    print('Not eligible')"
   ]
  },
  {
   "cell_type": "markdown",
   "id": "9a71194a",
   "metadata": {},
   "source": [
    "10. Create rock-paper-scissors by using the if condition"
   ]
  },
  {
   "cell_type": "code",
   "execution_count": 4,
   "id": "170af32f",
   "metadata": {},
   "outputs": [
    {
     "name": "stdout",
     "output_type": "stream",
     "text": [
      "player - 1: r\n",
      "tie\n"
     ]
    }
   ],
   "source": [
    "# Generate a random choice for the computer\n",
    "\n",
    "import random\n",
    "b = list('rps')\n",
    "random.shuffle(b)\n",
    "b = b[0]\n",
    "a = input('player - 1: ').lower()\n",
    "if (a == 'p' and b =='r') or (a == 's' and b == 'p') or (a == 'r' and b == 's'): # Determine the winner using if conditions\n",
    "    print('a win')\n",
    "elif a == b:\n",
    "    print('tie')\n",
    "else:\n",
    "    print('b')"
   ]
  },
  {
   "cell_type": "markdown",
   "id": "1168a523",
   "metadata": {},
   "source": [
    "11. Create a dynamic calculator which asks for numbers and operator and return the answers,\n",
    "  * Example\n",
    "    Input: Type first number: 10\",\n",
    "    Type any of this (+, -, *, /, %, **): ,*\n",
    "    Assignment-2 ,\n",
    "   Type second number: 19,\n",
    "    Output:Answer is 190\n"
   ]
  },
  {
   "cell_type": "code",
   "execution_count": 14,
   "id": "79966f9e",
   "metadata": {},
   "outputs": [
    {
     "name": "stdout",
     "output_type": "stream",
     "text": [
      "Enter value: 4\n",
      "Enter value: 5\n",
      "Enter operator (+, -, *, /, %): +\n",
      "9\n"
     ]
    }
   ],
   "source": [
    "# get input from user\n",
    "a = int(input(\"Enter value: \"))\n",
    "b = int(input(\"Enter value: \"))\n",
    "\n",
    "cal = input(\"Enter operator (+, -, *, /, %): \")\n",
    "\n",
    "# check if calculater performs operations\n",
    "if cal == '+':\n",
    "    print(a + b)\n",
    "elif cal == '-':\n",
    "    print(a - b)\n",
    "elif cal == '':\n",
    "    print(a * b)\n",
    "elif cal == '/':\n",
    "    if b == 0:\n",
    "        print(\"Error: Division by zero\")\n",
    "    else:\n",
    "        print(a / b)\n",
    "elif cal == '%':\n",
    "    if b == 0:\n",
    "        print(\"Error: Modulo by zero\")\n",
    "    else:\n",
    "        print(a % b)\n",
    "else:\n",
    "    print(\"Error: Invalid operator\")\n"
   ]
  },
  {
   "cell_type": "markdown",
   "id": "3dd2aa5d",
   "metadata": {},
   "source": [
    "12. Write a Python program to add 'ing' at the end of a given string (string length should be equal to or more than 3). If the given string already ends with 'ing' then add 'ly' instead.If the string length of the given string is less than 3, leave it unchanged\n"
   ]
  },
  {
   "cell_type": "code",
   "execution_count": 37,
   "id": "e3b504ca",
   "metadata": {},
   "outputs": [
    {
     "name": "stdout",
     "output_type": "stream",
     "text": [
      "enter a  word:string\n",
      "strly\n"
     ]
    }
   ],
   "source": [
    "# get input from user\n",
    "str=input('enter a  word:')\n",
    "\n",
    "# check if string ends with ing and replace with ly\n",
    "if len(str)==2:\n",
    "    print(\"str\")\n",
    "elif str.endswith('ing'):\n",
    "    print((str).replace('ing','ly'))\n",
    "else:\n",
    "    print((str)+('ing'))"
   ]
  },
  {
   "cell_type": "markdown",
   "id": "d1cd8bd5",
   "metadata": {},
   "source": [
    "13. Manoj Kumar has family and friends. Help him remind them who is who. Given a string with a name, return the relation of that person to Manoj Kumar.,\n",
    " Person Relation,\n",
    " Shiva father ,Letha mother, Tarun brother,Kavitha sister ,,Strange Coder.\n"
   ]
  },
  {
   "cell_type": "code",
   "execution_count": 27,
   "id": "08f01ffe",
   "metadata": {},
   "outputs": [
    {
     "name": "stdout",
     "output_type": "stream",
     "text": [
      "Enter name: Shiva\n",
      "Shiva is Manoj Kumar's father.\n"
     ]
    }
   ],
   "source": [
    "Name = input(\"Enter name: \")\n",
    "\n",
    "relation = { 'Shiva':'father',      # define the relations in a dictionary\n",
    "           'Latha':'mother',\n",
    "           'Tarun':'brother',\n",
    "           'Kavitha':'sister',\n",
    "           'strange Coder':'friend'}\n",
    "\n",
    "# check the name is in the relations dictionary\n",
    "if Name in relation:\n",
    "    relation = relation[Name]\n",
    "    print(f\"{Name} is Manoj Kumar's {relation}.\")\n",
    "else:\n",
    "    print('Name not found')"
   ]
  },
  {
   "cell_type": "markdown",
   "id": "0f4bbe7b",
   "metadata": {},
   "source": [
    "14. Write a python program that takes in a word and determines whether or not it is plural. A plural word is one that ends with “s”\n"
   ]
  },
  {
   "cell_type": "code",
   "execution_count": 31,
   "id": "aa473c36",
   "metadata": {},
   "outputs": [
    {
     "name": "stdout",
     "output_type": "stream",
     "text": [
      "Enter word: Books\n",
      "is a plural\n"
     ]
    }
   ],
   "source": [
    "# get input from user\n",
    "word = input('Enter word: ')\n",
    "\n",
    "# check the word if it ends with \"s\"\n",
    "if word.endswith(\"s\"):\n",
    "    print(\"is a plural\")\n",
    "else:\n",
    "    print(\"is not plural\")"
   ]
  },
  {
   "cell_type": "markdown",
   "id": "edba99c2",
   "metadata": {},
   "source": [
    "15. A company decided to give a bonus of 5% to employees if his/her year of service is more than 5 years.Ask user for their salary and year of service and print the net bonus amount."
   ]
  },
  {
   "cell_type": "code",
   "execution_count": 3,
   "id": "726c7902",
   "metadata": {},
   "outputs": [
    {
     "name": "stdout",
     "output_type": "stream",
     "text": [
      "Enter salary: 600000\n",
      "Enter employee service: 6\n",
      "Your bonus is: 30000.0\n"
     ]
    }
   ],
   "source": [
    "# get input from user\n",
    "salary = int(input(\"Enter salary: \"))\n",
    "service = int(input(\"Enter employee service: \"))\n",
    "\n",
    "# calculate employee service\n",
    "if service > 5:\n",
    "    bonus = 0.05*salary  # 5% bonus\n",
    "    print(\"Your bonus is:\", bonus)\n",
    "else:\n",
    "    print(\"Not eligible for bonus\")"
   ]
  },
  {
   "cell_type": "markdown",
   "id": "b82e629b",
   "metadata": {},
   "source": [
    "Take values of length and breadth of a rectangle from the user and check if it is square or not."
   ]
  },
  {
   "cell_type": "code",
   "execution_count": 36,
   "id": "d0d7248f",
   "metadata": {},
   "outputs": [
    {
     "name": "stdout",
     "output_type": "stream",
     "text": [
      "Enter rectangle length: 20\n",
      "Enter rectangle breadth: 20\n",
      "is square\n"
     ]
    }
   ],
   "source": [
    "# get input from user\n",
    "length = int(input(\"Enter rectangle length: \"))\n",
    "breadth = int(input(\"Enter rectangle breadth: \"))\n",
    "\n",
    "# check if it's a square or not\n",
    "if length == breadth:\n",
    "    print(\"is square\")\n",
    "else:\n",
    "    print(\"is not square\")"
   ]
  },
  {
   "cell_type": "markdown",
   "id": "f54079f0",
   "metadata": {},
   "source": [
    "17. Accept any city from the user and display the momentum of the city \n",
    "* Hyderabad  : “charminar”\n",
    "* “Delhi”         : “red fort\n",
    "* “Agra           : Taj mahal\n",
    "* If the city name is not given correctly, give him a warning message.\n"
   ]
  },
  {
   "cell_type": "code",
   "execution_count": 15,
   "id": "315b5e2d",
   "metadata": {
    "scrolled": true
   },
   "outputs": [
    {
     "name": "stdout",
     "output_type": "stream",
     "text": [
      "City name: Delhi\n",
      "Red Fort\n"
     ]
    }
   ],
   "source": [
    "# get input from user\n",
    "city = str(input((\"City name: \")))\n",
    "\n",
    "# check if city having momentum\n",
    "if city == \"Hyderabad\": \n",
    "    print(\"Charminar\")\n",
    "elif city == \"Delhi\": \n",
    "    print(\"Red Fort\")\n",
    "elif city == \"Agra\":\n",
    "    print(\"Taj Mahal\")\n",
    "else: # it gives the warning mesage\n",
    "    print(\"Warning: sorry city not found\")"
   ]
  },
  {
   "cell_type": "markdown",
   "id": "9196bafd",
   "metadata": {},
   "source": [
    "18. Accept three sides of the triangle and check whether the triangle is possible or not.(Triangle is possible only when the sum of any two sides is greater than 3 rd side)."
   ]
  },
  {
   "cell_type": "code",
   "execution_count": 6,
   "id": "40d2c982",
   "metadata": {},
   "outputs": [
    {
     "name": "stdout",
     "output_type": "stream",
     "text": [
      "Enter value of side1: 3\n",
      "Enter value of side2: 4\n",
      "Enter value of side3: 4\n",
      "It's a triangle\n"
     ]
    }
   ],
   "source": [
    "# get input from user\n",
    "side1 = int(input(\"Enter value of side1: \"))\n",
    "side2 = int(input(\"Enter value of side2: \"))\n",
    "side3 = int(input(\"Enter value of side3: \"))\n",
    "\n",
    "# check if it's a triangle or not\n",
    "if side1+side2>side3 and side2+side3>side1 and side3+side1>side2:\n",
    "    print(\"It's a triangle\")\n",
    "else:\n",
    "    print(\"It's not triangle\")"
   ]
  }
 ],
 "metadata": {
  "kernelspec": {
   "display_name": "Python 3 (ipykernel)",
   "language": "python",
   "name": "python3"
  },
  "language_info": {
   "codemirror_mode": {
    "name": "ipython",
    "version": 3
   },
   "file_extension": ".py",
   "mimetype": "text/x-python",
   "name": "python",
   "nbconvert_exporter": "python",
   "pygments_lexer": "ipython3",
   "version": "3.11.5"
  }
 },
 "nbformat": 4,
 "nbformat_minor": 5
}
