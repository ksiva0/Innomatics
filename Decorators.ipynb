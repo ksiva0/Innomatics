{
 "cells": [
  {
   "cell_type": "markdown",
   "id": "59c1fb1b",
   "metadata": {},
   "source": [
    "# Decorators"
   ]
  },
  {
   "cell_type": "markdown",
   "id": "cfebd0cf",
   "metadata": {},
   "source": [
    "A decorator is a callable that takes another function as argument (the decorated function).2 The decorator may perform some processing with the decorated function, and returns it or replaces it with another function or callable object.\n",
    "\n",
    "**Syntax:-**\n",
    "\n",
    "\tdef functionname1( functionname ):  # Decorator \n",
    "        def  innerfunctionname():  # Inner Function name\n",
    "            val=functionname()    #do the operation on ' val '\n",
    "\t\t\t  \n",
    "\t\t\treturn result   #   Inner Funtion must return modified value\n",
    "\t\t return   innerfunctionname   # Decorator returns inner function name\n",
    "\n",
    "\n",
    "    * here  functionname1 is called Decorator function\n",
    "    * here Functionname as a formal parameter . Every decorator function must take normal function as parameter."
   ]
  },
  {
   "cell_type": "code",
   "execution_count": 1,
   "id": "ac568275",
   "metadata": {},
   "outputs": [
    {
     "name": "stdout",
     "output_type": "stream",
     "text": [
      "Hello\n",
      "Everyone\n"
     ]
    }
   ],
   "source": [
    "def decorate(f):\n",
    "    print('Hello')\n",
    "    f()\n",
    "    \n",
    "def target():\n",
    "    print('Everyone')\n",
    "    \n",
    "decorate(target)"
   ]
  },
  {
   "cell_type": "markdown",
   "id": "909855a0",
   "metadata": {},
   "source": [
    "    * The end result is the same: at the end of either of these snippets, the target name doesnot necessarily refer to the original target function, but to whatever function is returned by decorate(target)."
   ]
  },
  {
   "cell_type": "markdown",
   "id": "dd77114c",
   "metadata": {},
   "source": [
    " A decorator usually replaces a function with a different one"
   ]
  },
  {
   "cell_type": "code",
   "execution_count": 2,
   "id": "64684a8a",
   "metadata": {},
   "outputs": [],
   "source": [
    "def fooOuter(f):\n",
    "    def fooInner():\n",
    "        print('*'*5)\n",
    "        f()\n",
    "        print('*'*5)\n",
    "    return fooInner()"
   ]
  },
  {
   "cell_type": "code",
   "execution_count": 3,
   "id": "89aa8da8",
   "metadata": {},
   "outputs": [
    {
     "name": "stdout",
     "output_type": "stream",
     "text": [
      "*****\n",
      "12345\n",
      "*****\n"
     ]
    }
   ],
   "source": [
    "@fooOuter   #decorator\n",
    "def abc():\n",
    "    print(12345)"
   ]
  },
  {
   "cell_type": "markdown",
   "id": "ab062649",
   "metadata": {},
   "source": [
    "**Process**\n",
    "* fooOuter returns its inner function object.\n",
    "* fooInner is decorated by deco.\n",
    "* Invoking the decorated fooInner actually runs inner.\n",
    "* Inspection reveals that fooInner is a now a reference to inner"
   ]
  },
  {
   "cell_type": "markdown",
   "id": "5a3897d1",
   "metadata": {},
   "source": [
    "The first crucial fact about decorators is that they have the power to replace the decorated function with a different one. The second crucial fact is that they are executed immediately when a module is loaded."
   ]
  },
  {
   "cell_type": "markdown",
   "id": "10c24bfb",
   "metadata": {},
   "source": [
    "## Python Executes Decorators"
   ]
  },
  {
   "cell_type": "markdown",
   "id": "518adb89",
   "metadata": {},
   "source": [
    "A key feature of decorators is that they run right after the decorated function is defined. That is usually at import time (i.e., when a module is loaded by Python). "
   ]
  },
  {
   "cell_type": "code",
   "execution_count": 4,
   "id": "c84e5c7b",
   "metadata": {},
   "outputs": [
    {
     "name": "stdout",
     "output_type": "stream",
     "text": [
      "running register(<function f1 at 0x0000022DD9FAA980>)\n",
      "running register(<function f2 at 0x0000022DD9FAAA20>)\n",
      "running main()\n",
      "registry -> [<function f1 at 0x0000022DD9FAA980>, <function f2 at 0x0000022DD9FAAA20>]\n",
      "running f1()\n",
      "running f2()\n",
      "running f3()\n"
     ]
    }
   ],
   "source": [
    "registry = [] \n",
    "def register(func): \n",
    "    print('running register(%s)' % func) \n",
    "    registry.append(func) \n",
    "    return func\n",
    "\n",
    "@register \n",
    "def f1():\n",
    "    print('running f1()')\n",
    "    \n",
    "@register\n",
    "def f2():\n",
    "    print('running f2()')\n",
    "def f3(): \n",
    "    print('running f3()')\n",
    "def main():\n",
    "    print('running main()')\n",
    "    print('registry ->', registry)\n",
    "    f1()\n",
    "    f2()\n",
    "    f3()\n",
    "    \n",
    "if __name__=='__main__':\n",
    "    main()"
   ]
  },
  {
   "cell_type": "markdown",
   "id": "eb97e71d",
   "metadata": {},
   "source": [
    "**Process**\n",
    "* registry will hold references to functions decorated by @register.\n",
    "* register takes a function as argument.\n",
    "* Display what function is being decorated, for demonstration.\n",
    "* Include func in registry.\n",
    "* Return func: we must return a function; here we return the same received as argument.\n",
    "* f1 and f2 are decorated by @register.\n",
    "* f3 is not decorated.\n",
    "* main displays the registry, then calls f1(), f2(), and f3().\n",
    "* main() is only invoked if registration.py runs as a script."
   ]
  },
  {
   "cell_type": "code",
   "execution_count": 5,
   "id": "354bfa76",
   "metadata": {},
   "outputs": [],
   "source": [
    "def fooOuter(f):\n",
    "    def fooInner():\n",
    "        print('*'*5)\n",
    "        f()\n",
    "        print('*'*5)\n",
    "    return fooInner()\n"
   ]
  },
  {
   "cell_type": "code",
   "execution_count": 6,
   "id": "e0ae193a",
   "metadata": {},
   "outputs": [
    {
     "name": "stdout",
     "output_type": "stream",
     "text": [
      "*****\n",
      "12345\n",
      "*****\n"
     ]
    }
   ],
   "source": [
    "@fooOuter   #decorator\n",
    "def abc():\n",
    "    ''' abc func call'''\n",
    "    print('12345')"
   ]
  },
  {
   "cell_type": "code",
   "execution_count": 7,
   "id": "6b602ee9",
   "metadata": {},
   "outputs": [],
   "source": [
    "def fooOuter(f, *args, **kwargs):\n",
    "    ''' outer '''\n",
    "    @wraps(f)\n",
    "    def fooInner(*args, **kwargs):\n",
    "        ''' Inner '''\n",
    "        print('*'*5)\n",
    "        f(*args, **kwargs)\n",
    "        print('*'*5)\n",
    "    return fooInner"
   ]
  },
  {
   "cell_type": "code",
   "execution_count": null,
   "id": "d40dc555",
   "metadata": {},
   "outputs": [],
   "source": [
    "@fooOuter \n",
    "def abc(a, b, c):\n",
    "    ''' abc func call '''\n",
    "    print(a+b+c)"
   ]
  },
  {
   "cell_type": "code",
   "execution_count": null,
   "id": "752dfc34",
   "metadata": {},
   "outputs": [],
   "source": [
    "abc(1,2,3)\n",
    "#abc()"
   ]
  },
  {
   "cell_type": "code",
   "execution_count": null,
   "id": "ce2d6cf3",
   "metadata": {},
   "outputs": [],
   "source": [
    "abc.__doc__ , abc.__name__"
   ]
  },
  {
   "cell_type": "code",
   "execution_count": null,
   "id": "f4f272a8",
   "metadata": {},
   "outputs": [],
   "source": []
  }
 ],
 "metadata": {
  "kernelspec": {
   "display_name": "Python 3 (ipykernel)",
   "language": "python",
   "name": "python3"
  },
  "language_info": {
   "codemirror_mode": {
    "name": "ipython",
    "version": 3
   },
   "file_extension": ".py",
   "mimetype": "text/x-python",
   "name": "python",
   "nbconvert_exporter": "python",
   "pygments_lexer": "ipython3",
   "version": "3.11.5"
  }
 },
 "nbformat": 4,
 "nbformat_minor": 5
}
