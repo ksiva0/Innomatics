{
 "cells": [
  {
   "cell_type": "markdown",
   "id": "a0f31529",
   "metadata": {},
   "source": [
    "# Dictionaries"
   ]
  },
  {
   "cell_type": "markdown",
   "id": "c5ed53aa",
   "metadata": {},
   "source": [
    "* A dictionary is a collection of key-value pairs. \n",
    "* Each key-value pair maps the key to its associated value. * Dictionaries are unordered, changeable, and do not allow duplicates. \n",
    "* You can define a dictionary by enclosing a comma-separated list of key-value pairs in curly braces { }. "
   ]
  },
  {
   "cell_type": "code",
   "execution_count": 65,
   "id": "e3d810c2",
   "metadata": {},
   "outputs": [
    {
     "name": "stdout",
     "output_type": "stream",
     "text": [
      "{} <class 'dict'>\n"
     ]
    }
   ],
   "source": [
    "x=dict()\n",
    "print(x,type(x))"
   ]
  },
  {
   "cell_type": "code",
   "execution_count": 63,
   "id": "0f8b166c",
   "metadata": {},
   "outputs": [
    {
     "data": {
      "text/plain": [
       "{1: [1, 2, 3], 'hello': ['hi']}"
      ]
     },
     "execution_count": 63,
     "metadata": {},
     "output_type": "execute_result"
    }
   ],
   "source": [
    "x = {1:[1,2,3],\n",
    "    'hello':(4,5,6),\n",
    "    'hello':['hi']}\n",
    "\n",
    "x"
   ]
  },
  {
   "cell_type": "code",
   "execution_count": 64,
   "id": "85e5d46a",
   "metadata": {},
   "outputs": [
    {
     "data": {
      "text/plain": [
       "'i'"
      ]
     },
     "execution_count": 64,
     "metadata": {},
     "output_type": "execute_result"
    }
   ],
   "source": [
    "x['hello'][0][1]"
   ]
  },
  {
   "cell_type": "code",
   "execution_count": 14,
   "id": "d3429ab4",
   "metadata": {},
   "outputs": [
    {
     "name": "stdout",
     "output_type": "stream",
     "text": [
      "['hi']\n"
     ]
    }
   ],
   "source": [
    "x = {1:[1,2,3],\n",
    "    'hello':(4,5,6),\n",
    "    'hello':['hi']}\n",
    "\n",
    "print(x['hello'])"
   ]
  },
  {
   "cell_type": "code",
   "execution_count": 1,
   "id": "14a88678",
   "metadata": {},
   "outputs": [
    {
     "data": {
      "text/plain": [
       "['__class__',\n",
       " '__class_getitem__',\n",
       " '__contains__',\n",
       " '__delattr__',\n",
       " '__delitem__',\n",
       " '__dir__',\n",
       " '__doc__',\n",
       " '__eq__',\n",
       " '__format__',\n",
       " '__ge__',\n",
       " '__getattribute__',\n",
       " '__getitem__',\n",
       " '__getstate__',\n",
       " '__gt__',\n",
       " '__hash__',\n",
       " '__init__',\n",
       " '__init_subclass__',\n",
       " '__ior__',\n",
       " '__iter__',\n",
       " '__le__',\n",
       " '__len__',\n",
       " '__lt__',\n",
       " '__ne__',\n",
       " '__new__',\n",
       " '__or__',\n",
       " '__reduce__',\n",
       " '__reduce_ex__',\n",
       " '__repr__',\n",
       " '__reversed__',\n",
       " '__ror__',\n",
       " '__setattr__',\n",
       " '__setitem__',\n",
       " '__sizeof__',\n",
       " '__str__',\n",
       " '__subclasshook__',\n",
       " 'clear',\n",
       " 'copy',\n",
       " 'fromkeys',\n",
       " 'get',\n",
       " 'items',\n",
       " 'keys',\n",
       " 'pop',\n",
       " 'popitem',\n",
       " 'setdefault',\n",
       " 'update',\n",
       " 'values']"
      ]
     },
     "execution_count": 1,
     "metadata": {},
     "output_type": "execute_result"
    }
   ],
   "source": [
    "dir(dict)"
   ]
  },
  {
   "cell_type": "markdown",
   "id": "5775e02f",
   "metadata": {},
   "source": [
    "### clear()"
   ]
  },
  {
   "cell_type": "markdown",
   "id": "d576f961",
   "metadata": {},
   "source": [
    "clear() method is a built-in method that removes all the items from a dictionary.\n",
    "* <b>Syntax</b>: dictionary.clear()"
   ]
  },
  {
   "cell_type": "code",
   "execution_count": 2,
   "id": "0a6634d2",
   "metadata": {},
   "outputs": [
    {
     "data": {
      "text/plain": [
       "{'name': 'Siva', 'age': 23, 'city': 'Hyd'}"
      ]
     },
     "execution_count": 2,
     "metadata": {},
     "output_type": "execute_result"
    }
   ],
   "source": [
    "a = {'name': 'Siva', 'age': 23, 'city': 'Hyd'}\n",
    "a"
   ]
  },
  {
   "cell_type": "code",
   "execution_count": 4,
   "id": "fd6cc55d",
   "metadata": {},
   "outputs": [
    {
     "data": {
      "text/plain": [
       "{}"
      ]
     },
     "execution_count": 4,
     "metadata": {},
     "output_type": "execute_result"
    }
   ],
   "source": [
    "a.clear()\n",
    "a"
   ]
  },
  {
   "cell_type": "markdown",
   "id": "6a5aa2ea",
   "metadata": {},
   "source": [
    "### copy()"
   ]
  },
  {
   "cell_type": "markdown",
   "id": "7fcb0c60",
   "metadata": {},
   "source": [
    "copy() method is a built-in method that returns a shallow copy of the dictionary.\n",
    "* <b>Syntax</b>: new_dict = dictionary.copy()"
   ]
  },
  {
   "cell_type": "code",
   "execution_count": 10,
   "id": "2eb9bbce",
   "metadata": {},
   "outputs": [
    {
     "name": "stdout",
     "output_type": "stream",
     "text": [
      "{'name': 'Siva', 'age': 23, 'city': 'Hyd'}\n",
      "<class 'dict'>\n",
      "0x24ffaac9380\n",
      "{'name': 'Siva', 'age': 23, 'city': 'Hyd'}\n",
      "<class 'dict'>\n",
      "0x24ffaac9640\n"
     ]
    }
   ],
   "source": [
    "a = {'name': 'Siva', 'age': 23, 'city': 'Hyd'}\n",
    "b = a.copy()\n",
    "print(a, type(a), hex(id(a)), sep='\\n')\n",
    "print(b, type(b), hex(id(b)), sep='\\n')"
   ]
  },
  {
   "cell_type": "markdown",
   "id": "82ce438a",
   "metadata": {},
   "source": [
    "### pop()"
   ]
  },
  {
   "cell_type": "markdown",
   "id": "dfb6baa4",
   "metadata": {},
   "source": [
    "The pop() method removes the specified item from the dictionary.\n",
    "* <b>Syntax</b>: dictionary.pop(keyname, defaultvalue)"
   ]
  },
  {
   "cell_type": "code",
   "execution_count": 11,
   "id": "31f9bbe5",
   "metadata": {},
   "outputs": [
    {
     "name": "stdout",
     "output_type": "stream",
     "text": [
      "{'brand': 'Ford', 'year': 1964}\n"
     ]
    }
   ],
   "source": [
    "car = {\n",
    "  \"brand\": \"Ford\",\n",
    "  \"model\": \"Mustang\",\n",
    "  \"year\": 1964}\n",
    "\n",
    "car.pop(\"model\")\n",
    "\n",
    "print(car)"
   ]
  },
  {
   "cell_type": "code",
   "execution_count": 20,
   "id": "cf22c738",
   "metadata": {},
   "outputs": [
    {
     "name": "stdout",
     "output_type": "stream",
     "text": [
      "{'brand': 'Ford', 'model': 'Mustang'}\n"
     ]
    }
   ],
   "source": [
    "car = {\n",
    "  \"brand\": \"Ford\",\n",
    "  \"model\": \"Mustang\",\n",
    "  \"year\": 1964}\n",
    "\n",
    "car.pop(\"year\")\n",
    "\n",
    "print(car)"
   ]
  },
  {
   "cell_type": "code",
   "execution_count": 2,
   "id": "6a4393d6",
   "metadata": {},
   "outputs": [
    {
     "data": {
      "text/plain": [
       "{1: 11, 2: 22}"
      ]
     },
     "execution_count": 2,
     "metadata": {},
     "output_type": "execute_result"
    }
   ],
   "source": [
    "# unpacked dict\n",
    "x = dict(((1,11),\n",
    "         (2,22)))\n",
    "\n",
    "x"
   ]
  },
  {
   "cell_type": "markdown",
   "id": "b9721ef1",
   "metadata": {},
   "source": [
    "### get()"
   ]
  },
  {
   "cell_type": "markdown",
   "id": "bd28bb29",
   "metadata": {},
   "source": [
    "get() is a method in Python dictionaries that returns the value of a specified key. If the key is not found, it returns None by default.\n",
    "* <b>Syntax</b>: dictionary.get(key, default=None)"
   ]
  },
  {
   "cell_type": "code",
   "execution_count": 4,
   "id": "b318ecea",
   "metadata": {},
   "outputs": [
    {
     "data": {
      "text/plain": [
       "{'k1': 1, 'k2': 2, 'k3': 3}"
      ]
     },
     "execution_count": 4,
     "metadata": {},
     "output_type": "execute_result"
    }
   ],
   "source": [
    "x = {'k1':1,\n",
    "    'k2':2,\n",
    "    'k3':3}\n",
    "\n",
    "x"
   ]
  },
  {
   "cell_type": "code",
   "execution_count": 5,
   "id": "5e5bbd01",
   "metadata": {},
   "outputs": [
    {
     "data": {
      "text/plain": [
       "2"
      ]
     },
     "execution_count": 5,
     "metadata": {},
     "output_type": "execute_result"
    }
   ],
   "source": [
    "x['k2']"
   ]
  },
  {
   "cell_type": "code",
   "execution_count": 7,
   "id": "f725f55a",
   "metadata": {},
   "outputs": [
    {
     "data": {
      "text/plain": [
       "2"
      ]
     },
     "execution_count": 7,
     "metadata": {},
     "output_type": "execute_result"
    }
   ],
   "source": [
    "x.get('k2')"
   ]
  },
  {
   "cell_type": "markdown",
   "id": "dd506482",
   "metadata": {},
   "source": [
    "### update()"
   ]
  },
  {
   "cell_type": "markdown",
   "id": "ba1a9a25",
   "metadata": {},
   "source": [
    "update() is a method in Python dictionaries that updates the dictionary with the key-value pairs from another dictionary or an iterable of key-value pairs.\n",
    "* <b>Syntax</b>: \n",
    "   *  dictionary.update(other_dictionary)\n",
    "   *  dictionary.update(iterable_of_key_value_pairs)"
   ]
  },
  {
   "cell_type": "code",
   "execution_count": 8,
   "id": "2d030023",
   "metadata": {},
   "outputs": [
    {
     "data": {
      "text/plain": [
       "{'k1': 1, 'k2': 2, 'k3': 3}"
      ]
     },
     "execution_count": 8,
     "metadata": {},
     "output_type": "execute_result"
    }
   ],
   "source": [
    "x = {'k1':1,\n",
    "    'k2':2,\n",
    "    'k3':3}\n",
    "\n",
    "x"
   ]
  },
  {
   "cell_type": "code",
   "execution_count": 9,
   "id": "5e28e037",
   "metadata": {},
   "outputs": [
    {
     "data": {
      "text/plain": [
       "{'k1': 111, 'k2': 2, 'k3': 3}"
      ]
     },
     "execution_count": 9,
     "metadata": {},
     "output_type": "execute_result"
    }
   ],
   "source": [
    "x['k1'] = 111\n",
    "x"
   ]
  },
  {
   "cell_type": "code",
   "execution_count": 11,
   "id": "6972e1aa",
   "metadata": {},
   "outputs": [
    {
     "data": {
      "text/plain": [
       "{'k1': 111, 'k2': 2, 'k3': 3, 'k4': 4, 'k5': 5}"
      ]
     },
     "execution_count": 11,
     "metadata": {},
     "output_type": "execute_result"
    }
   ],
   "source": [
    "x.update([('k4',4),\n",
    "          ('k5',5)])\n",
    "\n",
    "x"
   ]
  },
  {
   "cell_type": "code",
   "execution_count": 12,
   "id": "05cb001b",
   "metadata": {},
   "outputs": [
    {
     "data": {
      "text/plain": [
       "{'k1': 111, 'k2': 2, 'k3': 3, 'k4': 4, 'k5': 5, 'k6': 6, 'k7': 7}"
      ]
     },
     "execution_count": 12,
     "metadata": {},
     "output_type": "execute_result"
    }
   ],
   "source": [
    "x.update({'k6':6,\n",
    "         'k7':7})\n",
    "x"
   ]
  },
  {
   "cell_type": "code",
   "execution_count": 13,
   "id": "92d56a8a",
   "metadata": {},
   "outputs": [
    {
     "name": "stdout",
     "output_type": "stream",
     "text": [
      "{}\n",
      "<class 'dict'>\n",
      "0x199291a7100\n",
      "{'k1': 111, 'k2': 2, 'k3': 3, 'k4': 4, 'k5': 5, 'k6': 6, 'k7': 7}\n",
      "<class 'dict'>\n",
      "0x199291a7100\n"
     ]
    }
   ],
   "source": [
    "a = {}\n",
    "print(a, type(a), hex(id(a)), sep='\\n')\n",
    "\n",
    "a.update(x)\n",
    "print(a, type(a), hex(id(a)), sep='\\n')"
   ]
  },
  {
   "cell_type": "markdown",
   "id": "f42e7c34",
   "metadata": {},
   "source": [
    "### keys()"
   ]
  },
  {
   "cell_type": "markdown",
   "id": "33f76c5e",
   "metadata": {},
   "source": [
    "keys() is a method in Python dictionaries that returns a view object containing all the keys in the dictionary.\n",
    "* <b>Syntax</b>: dictionary.keys()"
   ]
  },
  {
   "cell_type": "code",
   "execution_count": 14,
   "id": "cd6848ba",
   "metadata": {},
   "outputs": [
    {
     "data": {
      "text/plain": [
       "{'k1': 111, 'k2': 2, 'k3': 3, 'k4': 4, 'k5': 5, 'k6': 6, 'k7': 7}"
      ]
     },
     "execution_count": 14,
     "metadata": {},
     "output_type": "execute_result"
    }
   ],
   "source": [
    "a"
   ]
  },
  {
   "cell_type": "code",
   "execution_count": 15,
   "id": "b29436c6",
   "metadata": {},
   "outputs": [
    {
     "name": "stdout",
     "output_type": "stream",
     "text": [
      "dict_keys(['k1', 'k2', 'k3', 'k4', 'k5', 'k6', 'k7'])\n",
      "<class 'dict_keys'>\n",
      "7\n",
      "\n",
      "['k1', 'k2', 'k3', 'k4', 'k5', 'k6', 'k7']\n",
      "<class 'list'>\n",
      "7\n"
     ]
    }
   ],
   "source": [
    "aKeys = a.keys()\n",
    "print(aKeys, type(aKeys), len(aKeys), sep='\\n')\n",
    "print()\n",
    "aKeys = list(aKeys)\n",
    "print(aKeys, type(aKeys), len(aKeys), sep='\\n')"
   ]
  },
  {
   "cell_type": "markdown",
   "id": "7c4d0bb7",
   "metadata": {},
   "source": [
    "### values()"
   ]
  },
  {
   "cell_type": "markdown",
   "id": "3b278b27",
   "metadata": {},
   "source": [
    "values() is a method in Python dictionaries that returns a view object containing all the values in the dictionary.\n",
    "* <b>Syntax</b>: dictionary.values()"
   ]
  },
  {
   "cell_type": "code",
   "execution_count": 16,
   "id": "a6e31ddf",
   "metadata": {},
   "outputs": [
    {
     "name": "stdout",
     "output_type": "stream",
     "text": [
      "dict_values([111, 2, 3, 4, 5, 6, 7])\n",
      "<class 'dict_values'>\n",
      "7\n",
      "\n",
      "[111, 2, 3, 4, 5, 6, 7]\n",
      "<class 'list'>\n",
      "7\n"
     ]
    }
   ],
   "source": [
    "aValues = a.values()\n",
    "print(aValues, type(aValues), len(aValues), sep='\\n')\n",
    "print()\n",
    "aValues = list(aValues)\n",
    "print(aValues, type(aValues), len(aValues), sep='\\n')"
   ]
  },
  {
   "cell_type": "markdown",
   "id": "6fdd2a91",
   "metadata": {},
   "source": [
    "### items()"
   ]
  },
  {
   "cell_type": "markdown",
   "id": "fff01ab4",
   "metadata": {},
   "source": [
    "items() is a method in Python dictionaries that returns a view object containing all the key-value pairs in the dictionary.\n",
    "* <b>Syntax</b>: dictionary.items()"
   ]
  },
  {
   "cell_type": "code",
   "execution_count": 17,
   "id": "205ab2ac",
   "metadata": {},
   "outputs": [
    {
     "data": {
      "text/plain": [
       "{'k1': 111, 'k2': 2, 'k3': 3, 'k4': 4, 'k5': 5, 'k6': 6, 'k7': 7}"
      ]
     },
     "execution_count": 17,
     "metadata": {},
     "output_type": "execute_result"
    }
   ],
   "source": [
    "a"
   ]
  },
  {
   "cell_type": "code",
   "execution_count": 18,
   "id": "4f7cf276",
   "metadata": {},
   "outputs": [
    {
     "data": {
      "text/plain": [
       "dict_items([('k1', 111), ('k2', 2), ('k3', 3), ('k4', 4), ('k5', 5), ('k6', 6), ('k7', 7)])"
      ]
     },
     "execution_count": 18,
     "metadata": {},
     "output_type": "execute_result"
    }
   ],
   "source": [
    "a.items()"
   ]
  },
  {
   "cell_type": "markdown",
   "id": "248a71a6",
   "metadata": {},
   "source": [
    "### popitem()"
   ]
  },
  {
   "cell_type": "markdown",
   "id": "f5a6e1e9",
   "metadata": {},
   "source": [
    "popitem() is a method in Python dictionaries that removes and returns the last inserted key-value pair from the dictionary as a tuple.\n",
    "* <b>Syntax</b>: dictionary.popitem()"
   ]
  },
  {
   "cell_type": "code",
   "execution_count": 21,
   "id": "2de4efc7",
   "metadata": {},
   "outputs": [
    {
     "data": {
      "text/plain": [
       "{'k1': 111, 'k2': 2, 'k3': 3, 'k4': 4, 'k5': 5, 'k6': 6, 'k7': 7}"
      ]
     },
     "execution_count": 21,
     "metadata": {},
     "output_type": "execute_result"
    }
   ],
   "source": [
    "a"
   ]
  },
  {
   "cell_type": "code",
   "execution_count": 22,
   "id": "011b5dbf",
   "metadata": {},
   "outputs": [
    {
     "data": {
      "text/plain": [
       "('k7', 7)"
      ]
     },
     "execution_count": 22,
     "metadata": {},
     "output_type": "execute_result"
    }
   ],
   "source": [
    "a.popitem()"
   ]
  },
  {
   "cell_type": "code",
   "execution_count": 23,
   "id": "38d36baf",
   "metadata": {},
   "outputs": [
    {
     "data": {
      "text/plain": [
       "{'k1': 111, 'k2': 2, 'k3': 3, 'k4': 4, 'k5': 5, 'k6': 6}"
      ]
     },
     "execution_count": 23,
     "metadata": {},
     "output_type": "execute_result"
    }
   ],
   "source": [
    "a"
   ]
  },
  {
   "cell_type": "markdown",
   "id": "f27e4613",
   "metadata": {},
   "source": [
    "### fromkeys()"
   ]
  },
  {
   "cell_type": "markdown",
   "id": "2310d152",
   "metadata": {},
   "source": [
    "fromkeys() is a method in Python dictionaries that returns a new dictionary with keys from a given sequence and values set to a specified value.\n",
    "* <b>Syntax</b>: dictionary.fromkeys(sequence, value=None)\n",
    "    *  Parameters :\n",
    "       * seq : The sequence to be transformed into a dictionary.\n",
    "       * val : Initial values that need to be assigned to the generated keys. Defaults to None."
   ]
  },
  {
   "cell_type": "code",
   "execution_count": 24,
   "id": "3cd45d84",
   "metadata": {},
   "outputs": [
    {
     "data": {
      "text/plain": [
       "{'k1': 111, 'k2': 2, 'k3': 3, 'k4': 4, 'k5': 5, 'k6': 6}"
      ]
     },
     "execution_count": 24,
     "metadata": {},
     "output_type": "execute_result"
    }
   ],
   "source": [
    "a"
   ]
  },
  {
   "cell_type": "code",
   "execution_count": 25,
   "id": "e5f363b7",
   "metadata": {},
   "outputs": [
    {
     "data": {
      "text/plain": [
       "{'k1': None, 'k2': None, 'k3': None, 'k4': None, 'k5': None, 'k6': None}"
      ]
     },
     "execution_count": 25,
     "metadata": {},
     "output_type": "execute_result"
    }
   ],
   "source": [
    "b = dict.fromkeys(a)\n",
    "b\n"
   ]
  },
  {
   "cell_type": "code",
   "execution_count": 26,
   "id": "8ea0fa16",
   "metadata": {},
   "outputs": [
    {
     "ename": "TypeError",
     "evalue": "fromkeys expected at least 1 argument, got 0",
     "output_type": "error",
     "traceback": [
      "\u001b[1;31m---------------------------------------------------------------------------\u001b[0m",
      "\u001b[1;31mTypeError\u001b[0m                                 Traceback (most recent call last)",
      "Cell \u001b[1;32mIn[26], line 1\u001b[0m\n\u001b[1;32m----> 1\u001b[0m b\u001b[38;5;241m.\u001b[39mfromkeys()\n",
      "\u001b[1;31mTypeError\u001b[0m: fromkeys expected at least 1 argument, got 0"
     ]
    }
   ],
   "source": [
    "b.fromkeys()"
   ]
  },
  {
   "cell_type": "markdown",
   "id": "1da9ae93",
   "metadata": {},
   "source": [
    "### setdefault()"
   ]
  },
  {
   "cell_type": "markdown",
   "id": "3adfc6de",
   "metadata": {},
   "source": [
    "setdefault() is a method in Python dictionaries that returns the value of a specified key in the dictionary. If the key is not found, then it adds the key with the specified default value.\n",
    "* <b>Syntax</b>: dictionary.setdefault(key, default_value=None)\n",
    "    *  Parameters: It takes two parameters: \n",
    "       *  key – Key to be searched in the dictionary. \n",
    "       *  default_value (optional) – Key with a value default_value is inserted to the dictionary if key is not in the dictionary. If not provided, the default_value will be None."
   ]
  },
  {
   "cell_type": "code",
   "execution_count": 1,
   "id": "ef15148f",
   "metadata": {},
   "outputs": [
    {
     "name": "stdout",
     "output_type": "stream",
     "text": [
      "{'a': 97, 'b': 98, 'c': 99, 'd': 100, ' ': 20}\n"
     ]
    }
   ],
   "source": [
    "d = {'a': 97, 'b': 98, 'c': 99, 'd': 100} \n",
    "d.setdefault(' ', 20)\n",
    "\n",
    "print(d)"
   ]
  },
  {
   "cell_type": "code",
   "execution_count": 2,
   "id": "c801107a",
   "metadata": {},
   "outputs": [
    {
     "name": "stdout",
     "output_type": "stream",
     "text": [
      "Mustang\n"
     ]
    }
   ],
   "source": [
    "car = {\n",
    "  \"brand\": \"Ford\",\n",
    "  \"model\": \"Mustang\",\n",
    "  \"year\": 1964\n",
    "}\n",
    "\n",
    "x = car.setdefault(\"model\", \"Bronco\")\n",
    "\n",
    "print(x)"
   ]
  },
  {
   "cell_type": "markdown",
   "id": "e33ff0d1",
   "metadata": {},
   "source": [
    "  "
   ]
  },
  {
   "cell_type": "markdown",
   "id": "dbb78bdd",
   "metadata": {},
   "source": [
    "  "
   ]
  },
  {
   "cell_type": "markdown",
   "id": "05dcea51",
   "metadata": {},
   "source": [
    "# Conditional statements"
   ]
  },
  {
   "cell_type": "code",
   "execution_count": 7,
   "id": "eba1dd11",
   "metadata": {},
   "outputs": [
    {
     "name": "stdout",
     "output_type": "stream",
     "text": [
      "Marks scored:85\n",
      "Screening round\n"
     ]
    }
   ],
   "source": [
    "SivaMarks = int(input('Marks scored:'))\n",
    "\n",
    "SivaMarks = 85\n",
    "\n",
    "if SivaMarks >= 60:\n",
    "    print(\"Screening round\")\n",
    "elif SivaMarks >= 75:\n",
    "    print(\"First round\")\n",
    "elif SivaMarks >= 90:\n",
    "    print(\"second round\")\n",
    "else:\n",
    "    print(\"Go to home\")"
   ]
  }
 ],
 "metadata": {
  "kernelspec": {
   "display_name": "Python 3 (ipykernel)",
   "language": "python",
   "name": "python3"
  },
  "language_info": {
   "codemirror_mode": {
    "name": "ipython",
    "version": 3
   },
   "file_extension": ".py",
   "mimetype": "text/x-python",
   "name": "python",
   "nbconvert_exporter": "python",
   "pygments_lexer": "ipython3",
   "version": "3.11.5"
  }
 },
 "nbformat": 4,
 "nbformat_minor": 5
}
